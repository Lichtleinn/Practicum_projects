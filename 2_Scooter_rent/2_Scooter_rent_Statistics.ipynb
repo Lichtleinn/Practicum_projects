{
 "cells": [
  {
   "cell_type": "markdown",
   "id": "818203bf",
   "metadata": {},
   "source": [
    "# Название проекта:\n",
    "\n",
    "# Cервис аренды самокатов"
   ]
  },
  {
   "cell_type": "markdown",
   "id": "a8e2f469",
   "metadata": {},
   "source": [
    "**Цель проекта:**\n",
    "**Проверка гипотез о взаимосвязи между наличием или отсутствием подписки на сервис и группой заданных факторов.** "
   ]
  },
  {
   "cell_type": "markdown",
   "id": "724e133a",
   "metadata": {},
   "source": [
    "Описание проекта."
   ]
  },
  {
   "cell_type": "markdown",
   "id": "ff677fb3",
   "metadata": {},
   "source": [
    "Шаг 1. Загрузка данных\n",
    "\n",
    "Получены данные о пользователях, поездках и типах подписки."
   ]
  },
  {
   "cell_type": "markdown",
   "id": "1eae67e6",
   "metadata": {},
   "source": [
    "Шаг 2. Предобработка данных\n",
    "\n",
    "Рассмотрена общая информация о каждом из трех наброов данных. \n",
    "Проверено наличие пропусков и дубликатов. В файле о пользователях удален 31 полный дубликат. Пропусков не обнаружено.\n",
    "\n",
    "В данных о поездках колонка date приведедна к типу данных datetime.\n",
    "В данных о пользователях и типах подписки колонка subscription_type приведена к типу category.\n",
    "В даннх о поездках добалена колонка с нмоером месяца, на основе date."
   ]
  },
  {
   "cell_type": "markdown",
   "id": "dcb05ab2",
   "metadata": {},
   "source": [
    "Шаг 3. Исследовательский анализ данных\n",
    "\n",
    "Выполнен краткий анализ данных с визуализайией информации:\n",
    "* 3.1 частота встречаемости городов;\n",
    "* 3.2 соотношение пользователей с подпиской и без подписки;\n",
    "* 3.3 возраст пользователей;\n",
    "* 3.4 расстояние, которое пользователь преодолел за одну поездку;\n",
    "* 3.5 продолжительность поездок.\n",
    "\n",
    "Построены диаграммы размаха и определены нормлаьные границы данных по определенным параметрам.\n",
    "Выборка скорректирована путем удаления аномальных значений и выбросов."
   ]
  },
  {
   "cell_type": "markdown",
   "id": "d647d67f",
   "metadata": {},
   "source": [
    "Шаг 4. Объединение данных\n",
    "\n",
    "Данные о пользователях, поездках и подписках в один датафрейм методом .merge().\n",
    "На базе полученного файла созданы два датафрейма по параметру наличие или отсутствие подписки:\n",
    "c данными о пользователях без подписки;\n",
    "с данными о пользователях с подпиской."
   ]
  },
  {
   "cell_type": "markdown",
   "id": "cc0f0aad",
   "metadata": {},
   "source": [
    "Шаг 5. Подсчёт выручки\n",
    "\n",
    "На основе объединенного датафрейма созан файл с агрегированными данными о поездках: определено суммарное расстояние, количество поездок и суммарное время для каждого пользователя за каждый месяц.\n",
    "Добавлен столбец с помесячной выручкой, которую принёс каждый пользователь. Продолжительность каждой поездки для подсчёта стоимости округляется до следующего целого числа."
   ]
  },
  {
   "cell_type": "markdown",
   "id": "d807f931",
   "metadata": {},
   "source": [
    "Шаг 6. Проверка гипотез\n",
    "\n",
    "Проверены гипотезы:\n",
    "* 6.1 Тратят ли пользователи с подпиской больше времени на поездки.\n",
    "* 6.2 Не превышает ли среднее расстояние, которое проезжают пользователи с подпиской за одну поездку, 3130 метров.\n",
    "* 6.3 Приносят ли по месяцам пользователи с подпиской выручку большую, чем пользователи без подписки. \n",
    "* 6.4 Определено, какой тест понадобитс для проверки гипотезы при условии измерения выборки До и После некоторых изменений.\n"
   ]
  },
  {
   "cell_type": "markdown",
   "id": "e2b5c5b5",
   "metadata": {},
   "source": [
    "Шаг 7. Распределения (тут сделана некоторая попытка выполнить задание, но времени катострофически не хватает, а не понятно, почему не работает, поэтому, пожалуйста, напишите комментарии, и во 2м подходе, постараюсь сделать более удобоваримую версию)."
   ]
  },
  {
   "cell_type": "markdown",
   "id": "62bd57d2",
   "metadata": {},
   "source": [
    "Сделаем несколько предварительных шагов."
   ]
  },
  {
   "cell_type": "code",
   "execution_count": 79,
   "id": "a8f0e1e4",
   "metadata": {},
   "outputs": [],
   "source": [
    "# Импортируем в одном поле все, что нужно\n",
    "\n",
    "import pandas as pd\n",
    "import numpy as np\n",
    "import matplotlib.pyplot as plt\n",
    "import math\n",
    "import scipy\n",
    "\n",
    "from math import sqrt\n",
    "from math import factorial\n",
    "from scipy import stats as st\n",
    "from scipy.stats import binom, norm"
   ]
  },
  {
   "cell_type": "code",
   "execution_count": 80,
   "id": "fcee4cd5",
   "metadata": {},
   "outputs": [],
   "source": [
    "# Зададим отображение всех колонок\n",
    "\n",
    "pd.set_option(\"display.max.columns\", None)"
   ]
  },
  {
   "cell_type": "code",
   "execution_count": 81,
   "id": "f41da797",
   "metadata": {},
   "outputs": [],
   "source": [
    "# Отображение 2-х десятичных знаков\n",
    "\n",
    "pd.options.display.float_format = '{:.2f}'.format"
   ]
  },
  {
   "cell_type": "markdown",
   "id": "370c2910",
   "metadata": {},
   "source": [
    "#### Шаг 1. Загрузка данных"
   ]
  },
  {
   "cell_type": "markdown",
   "id": "fbff5e76",
   "metadata": {},
   "source": [
    "Загрузим поочередно 3 базы данных: пользователей (users), поездки (rides) и подписки (subscriptions).\n",
    "Выведем для каждой базы первые 5 строк, чтобы посмотреть, корректно ли прочитан файл."
   ]
  },
  {
   "cell_type": "code",
   "execution_count": 82,
   "id": "671bda5a",
   "metadata": {
    "scrolled": true
   },
   "outputs": [
    {
     "data": {
      "text/html": [
       "<div>\n",
       "<style scoped>\n",
       "    .dataframe tbody tr th:only-of-type {\n",
       "        vertical-align: middle;\n",
       "    }\n",
       "\n",
       "    .dataframe tbody tr th {\n",
       "        vertical-align: top;\n",
       "    }\n",
       "\n",
       "    .dataframe thead th {\n",
       "        text-align: right;\n",
       "    }\n",
       "</style>\n",
       "<table border=\"1\" class=\"dataframe\">\n",
       "  <thead>\n",
       "    <tr style=\"text-align: right;\">\n",
       "      <th></th>\n",
       "      <th>user_id</th>\n",
       "      <th>name</th>\n",
       "      <th>age</th>\n",
       "      <th>city</th>\n",
       "      <th>subscription_type</th>\n",
       "    </tr>\n",
       "  </thead>\n",
       "  <tbody>\n",
       "    <tr>\n",
       "      <th>0</th>\n",
       "      <td>1</td>\n",
       "      <td>Кира</td>\n",
       "      <td>22</td>\n",
       "      <td>Тюмень</td>\n",
       "      <td>ultra</td>\n",
       "    </tr>\n",
       "    <tr>\n",
       "      <th>1</th>\n",
       "      <td>2</td>\n",
       "      <td>Станислав</td>\n",
       "      <td>31</td>\n",
       "      <td>Омск</td>\n",
       "      <td>ultra</td>\n",
       "    </tr>\n",
       "    <tr>\n",
       "      <th>2</th>\n",
       "      <td>3</td>\n",
       "      <td>Алексей</td>\n",
       "      <td>20</td>\n",
       "      <td>Москва</td>\n",
       "      <td>ultra</td>\n",
       "    </tr>\n",
       "    <tr>\n",
       "      <th>3</th>\n",
       "      <td>4</td>\n",
       "      <td>Константин</td>\n",
       "      <td>26</td>\n",
       "      <td>Ростов-на-Дону</td>\n",
       "      <td>ultra</td>\n",
       "    </tr>\n",
       "    <tr>\n",
       "      <th>4</th>\n",
       "      <td>5</td>\n",
       "      <td>Адель</td>\n",
       "      <td>28</td>\n",
       "      <td>Омск</td>\n",
       "      <td>ultra</td>\n",
       "    </tr>\n",
       "  </tbody>\n",
       "</table>\n",
       "</div>"
      ],
      "text/plain": [
       "   user_id        name  age            city subscription_type\n",
       "0        1        Кира   22          Тюмень             ultra\n",
       "1        2   Станислав   31            Омск             ultra\n",
       "2        3     Алексей   20          Москва             ultra\n",
       "3        4  Константин   26  Ростов-на-Дону             ultra\n",
       "4        5       Адель   28            Омск             ultra"
      ]
     },
     "execution_count": 82,
     "metadata": {},
     "output_type": "execute_result"
    }
   ],
   "source": [
    "# База данных о пользователях\n",
    "\n",
    "users = pd.read_csv(# путь к файлу)\n",
    "users.head()"
   ]
  },
  {
   "cell_type": "code",
   "execution_count": 83,
   "id": "539b0f4d",
   "metadata": {
    "scrolled": true
   },
   "outputs": [
    {
     "data": {
      "text/html": [
       "<div>\n",
       "<style scoped>\n",
       "    .dataframe tbody tr th:only-of-type {\n",
       "        vertical-align: middle;\n",
       "    }\n",
       "\n",
       "    .dataframe tbody tr th {\n",
       "        vertical-align: top;\n",
       "    }\n",
       "\n",
       "    .dataframe thead th {\n",
       "        text-align: right;\n",
       "    }\n",
       "</style>\n",
       "<table border=\"1\" class=\"dataframe\">\n",
       "  <thead>\n",
       "    <tr style=\"text-align: right;\">\n",
       "      <th></th>\n",
       "      <th>user_id</th>\n",
       "      <th>distance</th>\n",
       "      <th>duration</th>\n",
       "      <th>date</th>\n",
       "    </tr>\n",
       "  </thead>\n",
       "  <tbody>\n",
       "    <tr>\n",
       "      <th>0</th>\n",
       "      <td>1</td>\n",
       "      <td>4409.92</td>\n",
       "      <td>25.60</td>\n",
       "      <td>2021-01-01</td>\n",
       "    </tr>\n",
       "    <tr>\n",
       "      <th>1</th>\n",
       "      <td>1</td>\n",
       "      <td>2617.59</td>\n",
       "      <td>15.82</td>\n",
       "      <td>2021-01-18</td>\n",
       "    </tr>\n",
       "    <tr>\n",
       "      <th>2</th>\n",
       "      <td>1</td>\n",
       "      <td>754.16</td>\n",
       "      <td>6.23</td>\n",
       "      <td>2021-04-20</td>\n",
       "    </tr>\n",
       "    <tr>\n",
       "      <th>3</th>\n",
       "      <td>1</td>\n",
       "      <td>2694.78</td>\n",
       "      <td>18.51</td>\n",
       "      <td>2021-08-11</td>\n",
       "    </tr>\n",
       "    <tr>\n",
       "      <th>4</th>\n",
       "      <td>1</td>\n",
       "      <td>4028.69</td>\n",
       "      <td>26.27</td>\n",
       "      <td>2021-08-28</td>\n",
       "    </tr>\n",
       "  </tbody>\n",
       "</table>\n",
       "</div>"
      ],
      "text/plain": [
       "   user_id  distance  duration        date\n",
       "0        1   4409.92     25.60  2021-01-01\n",
       "1        1   2617.59     15.82  2021-01-18\n",
       "2        1    754.16      6.23  2021-04-20\n",
       "3        1   2694.78     18.51  2021-08-11\n",
       "4        1   4028.69     26.27  2021-08-28"
      ]
     },
     "execution_count": 83,
     "metadata": {},
     "output_type": "execute_result"
    }
   ],
   "source": [
    "# База данных о поездках\n",
    "\n",
    "rides = pd.read_csv(# путь к файлу)\n",
    "rides.head()"
   ]
  },
  {
   "cell_type": "code",
   "execution_count": 84,
   "id": "d2febb31",
   "metadata": {
    "scrolled": true
   },
   "outputs": [
    {
     "data": {
      "text/html": [
       "<div>\n",
       "<style scoped>\n",
       "    .dataframe tbody tr th:only-of-type {\n",
       "        vertical-align: middle;\n",
       "    }\n",
       "\n",
       "    .dataframe tbody tr th {\n",
       "        vertical-align: top;\n",
       "    }\n",
       "\n",
       "    .dataframe thead th {\n",
       "        text-align: right;\n",
       "    }\n",
       "</style>\n",
       "<table border=\"1\" class=\"dataframe\">\n",
       "  <thead>\n",
       "    <tr style=\"text-align: right;\">\n",
       "      <th></th>\n",
       "      <th>subscription_type</th>\n",
       "      <th>minute_price</th>\n",
       "      <th>start_ride_price</th>\n",
       "      <th>subscription_fee</th>\n",
       "    </tr>\n",
       "  </thead>\n",
       "  <tbody>\n",
       "    <tr>\n",
       "      <th>0</th>\n",
       "      <td>free</td>\n",
       "      <td>8</td>\n",
       "      <td>50</td>\n",
       "      <td>0</td>\n",
       "    </tr>\n",
       "    <tr>\n",
       "      <th>1</th>\n",
       "      <td>ultra</td>\n",
       "      <td>6</td>\n",
       "      <td>0</td>\n",
       "      <td>199</td>\n",
       "    </tr>\n",
       "  </tbody>\n",
       "</table>\n",
       "</div>"
      ],
      "text/plain": [
       "  subscription_type  minute_price  start_ride_price  subscription_fee\n",
       "0              free             8                50                 0\n",
       "1             ultra             6                 0               199"
      ]
     },
     "execution_count": 84,
     "metadata": {},
     "output_type": "execute_result"
    }
   ],
   "source": [
    "# База данных о типах подписки\n",
    "\n",
    "subscriptions = pd.read_csv(# путь к файлу)\n",
    "subscriptions.head()"
   ]
  },
  {
   "cell_type": "markdown",
   "id": "4a9efe9f",
   "metadata": {},
   "source": [
    "#### Шаг 2. Предобработка данных"
   ]
  },
  {
   "cell_type": "markdown",
   "id": "3a8872b2",
   "metadata": {},
   "source": [
    "Создадим функцию, которая удалит все явные дубликаты, выведет общую информацию и число пропусков в базе."
   ]
  },
  {
   "cell_type": "code",
   "execution_count": 85,
   "id": "282836ee",
   "metadata": {},
   "outputs": [],
   "source": [
    "def data_info(name):\n",
    "    \n",
    "    d_count = f'Число явных дубликатов до удаления: {name.duplicated().sum()}'\n",
    "    name = name.drop_duplicates()\n",
    "    \n",
    "    info = name.info()\n",
    "    na = name.isna().sum()\n",
    "    \n",
    "    return info, na, d_count"
   ]
  },
  {
   "cell_type": "markdown",
   "id": "3be83f08",
   "metadata": {},
   "source": [
    "Рассмотрим последовательно наши базы данных."
   ]
  },
  {
   "cell_type": "code",
   "execution_count": 86,
   "id": "8b8b48db",
   "metadata": {
    "scrolled": true
   },
   "outputs": [
    {
     "name": "stdout",
     "output_type": "stream",
     "text": [
      "<class 'pandas.core.frame.DataFrame'>\n",
      "Int64Index: 1534 entries, 0 to 1533\n",
      "Data columns (total 5 columns):\n",
      " #   Column             Non-Null Count  Dtype \n",
      "---  ------             --------------  ----- \n",
      " 0   user_id            1534 non-null   int64 \n",
      " 1   name               1534 non-null   object\n",
      " 2   age                1534 non-null   int64 \n",
      " 3   city               1534 non-null   object\n",
      " 4   subscription_type  1534 non-null   object\n",
      "dtypes: int64(2), object(3)\n",
      "memory usage: 71.9+ KB\n"
     ]
    },
    {
     "data": {
      "text/plain": [
       "(None,\n",
       " user_id              0\n",
       " name                 0\n",
       " age                  0\n",
       " city                 0\n",
       " subscription_type    0\n",
       " dtype: int64,\n",
       " 'Число явных дубликатов до удаления: 31')"
      ]
     },
     "execution_count": 86,
     "metadata": {},
     "output_type": "execute_result"
    }
   ],
   "source": [
    "# Информация и число пропусков в базе users\n",
    "\n",
    "data_info(users)"
   ]
  },
  {
   "cell_type": "markdown",
   "id": "0ef2818f",
   "metadata": {},
   "source": [
    "Удалены 31 явный дубликат. Пропусков нет. В колонке subscription_type поменяем формат с object на category (это будет занимать меньше памяти)."
   ]
  },
  {
   "cell_type": "code",
   "execution_count": 87,
   "id": "5b4ae8b5",
   "metadata": {},
   "outputs": [],
   "source": [
    "users['subscription_type'] = users['subscription_type'].astype('category')"
   ]
  },
  {
   "cell_type": "code",
   "execution_count": 88,
   "id": "85b7590a",
   "metadata": {
    "scrolled": true
   },
   "outputs": [
    {
     "name": "stdout",
     "output_type": "stream",
     "text": [
      "<class 'pandas.core.frame.DataFrame'>\n",
      "Int64Index: 18068 entries, 0 to 18067\n",
      "Data columns (total 4 columns):\n",
      " #   Column    Non-Null Count  Dtype  \n",
      "---  ------    --------------  -----  \n",
      " 0   user_id   18068 non-null  int64  \n",
      " 1   distance  18068 non-null  float64\n",
      " 2   duration  18068 non-null  float64\n",
      " 3   date      18068 non-null  object \n",
      "dtypes: float64(2), int64(1), object(1)\n",
      "memory usage: 705.8+ KB\n"
     ]
    },
    {
     "data": {
      "text/plain": [
       "(None,\n",
       " user_id     0\n",
       " distance    0\n",
       " duration    0\n",
       " date        0\n",
       " dtype: int64,\n",
       " 'Число явных дубликатов до удаления: 0')"
      ]
     },
     "execution_count": 88,
     "metadata": {},
     "output_type": "execute_result"
    }
   ],
   "source": [
    "# Информация и число пропусков в базе rides\n",
    "\n",
    "data_info(rides)"
   ]
  },
  {
   "cell_type": "markdown",
   "id": "1a65c8a3",
   "metadata": {},
   "source": [
    "Дубликатов и пропусков не было. В колонке date поменяем тип данных с object на datetime."
   ]
  },
  {
   "cell_type": "code",
   "execution_count": 89,
   "id": "dd4074c6",
   "metadata": {},
   "outputs": [],
   "source": [
    "rides['date'] = pd.to_datetime(rides['date'], format='%Y-%m-%d')"
   ]
  },
  {
   "cell_type": "markdown",
   "id": "6386c574",
   "metadata": {},
   "source": [
    "Добавим новый столбец с номером месяца."
   ]
  },
  {
   "cell_type": "code",
   "execution_count": 90,
   "id": "7cde1de0",
   "metadata": {},
   "outputs": [],
   "source": [
    "rides['month_num'] = rides['date'].dt.month"
   ]
  },
  {
   "cell_type": "code",
   "execution_count": 91,
   "id": "1cc8fbb7",
   "metadata": {},
   "outputs": [
    {
     "data": {
      "text/plain": [
       "(Timestamp('2021-01-01 00:00:00'), Timestamp('2021-12-30 00:00:00'))"
      ]
     },
     "execution_count": 91,
     "metadata": {},
     "output_type": "execute_result"
    }
   ],
   "source": [
    "# Проверим какой период охватывают данные, если несколько лет, добавим год.\n",
    "\n",
    "rides['date'].min(), rides['date'].max()"
   ]
  },
  {
   "cell_type": "code",
   "execution_count": 92,
   "id": "89898ccd",
   "metadata": {
    "scrolled": false
   },
   "outputs": [
    {
     "name": "stdout",
     "output_type": "stream",
     "text": [
      "<class 'pandas.core.frame.DataFrame'>\n",
      "Int64Index: 2 entries, 0 to 1\n",
      "Data columns (total 4 columns):\n",
      " #   Column             Non-Null Count  Dtype \n",
      "---  ------             --------------  ----- \n",
      " 0   subscription_type  2 non-null      object\n",
      " 1   minute_price       2 non-null      int64 \n",
      " 2   start_ride_price   2 non-null      int64 \n",
      " 3   subscription_fee   2 non-null      int64 \n",
      "dtypes: int64(3), object(1)\n",
      "memory usage: 80.0+ bytes\n"
     ]
    },
    {
     "data": {
      "text/plain": [
       "(None,\n",
       " subscription_type    0\n",
       " minute_price         0\n",
       " start_ride_price     0\n",
       " subscription_fee     0\n",
       " dtype: int64,\n",
       " 'Число явных дубликатов до удаления: 0')"
      ]
     },
     "execution_count": 92,
     "metadata": {},
     "output_type": "execute_result"
    }
   ],
   "source": [
    "# Информация и число пропусков в базе subscriptions\n",
    "\n",
    "data_info(subscriptions)"
   ]
  },
  {
   "cell_type": "markdown",
   "id": "3693c4a7",
   "metadata": {},
   "source": [
    "Дубликатов и пропусков не было. В колонке subscription_type поменяем формат с object на category."
   ]
  },
  {
   "cell_type": "code",
   "execution_count": 93,
   "id": "c7d1a13f",
   "metadata": {},
   "outputs": [],
   "source": [
    "subscriptions['subscription_type'] = subscriptions['subscription_type'].astype('category')"
   ]
  },
  {
   "cell_type": "markdown",
   "id": "6b01b402",
   "metadata": {},
   "source": [
    "#### Шаг 3. Исследовательский анализ данных"
   ]
  },
  {
   "cell_type": "markdown",
   "id": "6d04506c",
   "metadata": {},
   "source": [
    "Рассмотрим частоту встречаемости городов в данных о пользователях."
   ]
  },
  {
   "cell_type": "code",
   "execution_count": 94,
   "id": "f3b6d7e5",
   "metadata": {
    "scrolled": true
   },
   "outputs": [
    {
     "data": {
      "image/png": "[encoded data removed]",
      "text/plain": [
       "<Figure size 504x504 with 1 Axes>"
      ]
     },
     "metadata": {},
     "output_type": "display_data"
    }
   ],
   "source": [
    "users['city'].value_counts(\n",
    ").to_frame(\n",
    ").plot(\n",
    "    title=\"Распределение пользователей по городам\",\n",
    "    kind = 'pie',\n",
    "    y='city',\n",
    "    figsize = (7,7),\n",
    "    rot = 0,\n",
    "    legend = False,\n",
    "    fontsize = 14,\n",
    "    autopct='%1.1f%%'\n",
    ");"
   ]
  },
  {
   "cell_type": "markdown",
   "id": "822137c6",
   "metadata": {},
   "source": [
    "В целом, довольно схожие показатели по городам."
   ]
  },
  {
   "cell_type": "code",
   "execution_count": 95,
   "id": "789b30fa",
   "metadata": {
    "scrolled": false
   },
   "outputs": [
    {
     "data": {
      "image/png": "[encoded data removed]",
      "text/plain": [
       "<Figure size 1080x216 with 1 Axes>"
      ]
     },
     "metadata": {
      "needs_background": "light"
     },
     "output_type": "display_data"
    }
   ],
   "source": [
    "# Посмотрим на графике другого типа, так лучше видна разница городов\n",
    "\n",
    "ax = users['city'].value_counts(\n",
    ").to_frame(\n",
    ").plot(\n",
    "    kind = 'barh',\n",
    "    figsize = (15,3),\n",
    "    rot = 0,\n",
    "    legend = False,\n",
    "    fontsize = 14,\n",
    "    tick_label = 'city_count'   \n",
    ")\n",
    "\n",
    "plt.title('Частота встречаемости городов' + \"\\n\", fontsize=14, color='Black');\n",
    "\n",
    "for p in ax.patches:\n",
    "    ax.annotate(\n",
    "        str(p.get_width()),\n",
    "        (p.get_x() + p.get_width() * 0.5, p.get_y() + p.get_height() * 0.5),\n",
    "        ha='center', va='center', color='red', fontweight='bold'\n",
    "    );\n"
   ]
  },
  {
   "cell_type": "markdown",
   "id": "bcfe4206",
   "metadata": {},
   "source": [
    "Чаще всего встречается Пятигорск, реже всего Москва."
   ]
  },
  {
   "cell_type": "code",
   "execution_count": 96,
   "id": "a4f4373f",
   "metadata": {
    "scrolled": true
   },
   "outputs": [
    {
     "data": {
      "image/png": "[encoded data removed]",
      "text/plain": [
       "<Figure size 360x360 with 1 Axes>"
      ]
     },
     "metadata": {},
     "output_type": "display_data"
    }
   ],
   "source": [
    "# Визуализируем число пользователей с подпиской и без\n",
    "\n",
    "users['subscription_type'].value_counts(\n",
    ").to_frame(\n",
    ").plot(\n",
    "    title=\"Доля пользователей с подпиской и без подписки\",\n",
    "    y='subscription_type',\n",
    "    kind = 'pie',\n",
    "    fontsize = 14,\n",
    "    autopct='%1.1f%%',\n",
    "    figsize=(5,5)\n",
    ");"
   ]
  },
  {
   "cell_type": "markdown",
   "id": "47d9be9e",
   "metadata": {},
   "source": [
    "Пользователей без подписки немногим больше, чем с подпиской."
   ]
  },
  {
   "cell_type": "code",
   "execution_count": 97,
   "id": "c1faa99e",
   "metadata": {},
   "outputs": [
    {
     "data": {
      "image/png": "[encoded data removed]",
      "text/plain": [
       "<Figure size 1080x288 with 1 Axes>"
      ]
     },
     "metadata": {
      "needs_background": "light"
     },
     "output_type": "display_data"
    }
   ],
   "source": [
    "# Распределение пользователей по возрастам\n",
    "\n",
    "users['age'].hist(bins=30, figsize=(15,4)).set_title(label=\"Распределенеие пользователей по возрастам\", size=14);\n"
   ]
  },
  {
   "cell_type": "code",
   "execution_count": 98,
   "id": "a70b971e",
   "metadata": {
    "scrolled": false
   },
   "outputs": [
    {
     "data": {
      "text/html": [
       "<div>\n",
       "<style scoped>\n",
       "    .dataframe tbody tr th:only-of-type {\n",
       "        vertical-align: middle;\n",
       "    }\n",
       "\n",
       "    .dataframe tbody tr th {\n",
       "        vertical-align: top;\n",
       "    }\n",
       "\n",
       "    .dataframe thead th {\n",
       "        text-align: right;\n",
       "    }\n",
       "</style>\n",
       "<table border=\"1\" class=\"dataframe\">\n",
       "  <thead>\n",
       "    <tr style=\"text-align: right;\">\n",
       "      <th></th>\n",
       "      <th>count</th>\n",
       "      <th>mean</th>\n",
       "      <th>std</th>\n",
       "      <th>min</th>\n",
       "      <th>25%</th>\n",
       "      <th>50%</th>\n",
       "      <th>75%</th>\n",
       "      <th>max</th>\n",
       "    </tr>\n",
       "  </thead>\n",
       "  <tbody>\n",
       "    <tr>\n",
       "      <th>age</th>\n",
       "      <td>1565.00</td>\n",
       "      <td>24.92</td>\n",
       "      <td>4.55</td>\n",
       "      <td>12.00</td>\n",
       "      <td>22.00</td>\n",
       "      <td>25.00</td>\n",
       "      <td>28.00</td>\n",
       "      <td>43.00</td>\n",
       "    </tr>\n",
       "  </tbody>\n",
       "</table>\n",
       "</div>"
      ],
      "text/plain": [
       "      count  mean  std   min   25%   50%   75%   max\n",
       "age 1565.00 24.92 4.55 12.00 22.00 25.00 28.00 43.00"
      ]
     },
     "execution_count": 98,
     "metadata": {},
     "output_type": "execute_result"
    }
   ],
   "source": [
    "# UPD\n",
    "\n",
    "# Определим основные числовые характеристики таблицы с пользователями\n",
    "\n",
    "users['age'].describe().to_frame().T"
   ]
  },
  {
   "cell_type": "markdown",
   "id": "b3d02dc9",
   "metadata": {},
   "source": [
    "UPD:\n",
    "Минимальный возраст пользователей 12 лет, максимальный - 43 года. Медианное значение составляет 25 лет (среднее близко к этому = 24,92). 25 % пользователей до 22 лет, 75% пользователей до 28. Можно отметить, что основная группа пользователей от 20 до 30 лет."
   ]
  },
  {
   "cell_type": "code",
   "execution_count": 99,
   "id": "924fde46",
   "metadata": {},
   "outputs": [
    {
     "data": {
      "image/png": "[encoded data removed]",
      "text/plain": [
       "<Figure size 1080x144 with 1 Axes>"
      ]
     },
     "metadata": {
      "needs_background": "light"
     },
     "output_type": "display_data"
    }
   ],
   "source": [
    "# Построим диаграмму размаха для возраста пользователей\n",
    "\n",
    "fig, ax = plt.subplots(figsize = (15,2))\n",
    "ax = users[['age']].boxplot(vert = False, ax =ax)\n",
    "ax.set_title('Диаграмма размаха Возраста пользователей', size = 14)\n",
    "ax.set_xlim(7,50);"
   ]
  },
  {
   "cell_type": "markdown",
   "id": "eed63ee9",
   "metadata": {},
   "source": [
    "С точки зрения распределения возрастов, нормальные значения от 14 до 36 лет. Остальные данные (но не пользователи )) ) выглядят, как выбросы."
   ]
  },
  {
   "cell_type": "code",
   "execution_count": 100,
   "id": "3dbe4903",
   "metadata": {
    "scrolled": true
   },
   "outputs": [
    {
     "data": {
      "text/plain": [
       "0.7028753993610224"
      ]
     },
     "execution_count": 100,
     "metadata": {},
     "output_type": "execute_result"
    }
   ],
   "source": [
    "# Узнаем долю этих записей в общем объеме базы пользователей\n",
    "\n",
    "(users.query('age >= 37 or age < 13')['age'].count() / users.shape[0])*100"
   ]
  },
  {
   "cell_type": "code",
   "execution_count": 101,
   "id": "f77a9268",
   "metadata": {
    "scrolled": false
   },
   "outputs": [
    {
     "data": {
      "image/png": "[encoded data removed]",
      "text/plain": [
       "<Figure size 1080x288 with 1 Axes>"
      ]
     },
     "metadata": {
      "needs_background": "light"
     },
     "output_type": "display_data"
    }
   ],
   "source": [
    "# Посмотрим на расстояние\n",
    "\n",
    "rides['distance'].hist(bins=200, figsize=(15,4)).set_title(label=\"Расстояние за одну поездку, м.\", size=14);"
   ]
  },
  {
   "cell_type": "markdown",
   "id": "dcdc5c92",
   "metadata": {},
   "source": [
    "Тут получается 2 группы поездок - на короткие и длинные дистанции. Слишком короткие поездки (до 1-2 минут), может и стоит отбросить, но в целом этот пик на 800 м. может быть отдельной категорией поездок."
   ]
  },
  {
   "cell_type": "code",
   "execution_count": 102,
   "id": "e7a802ec",
   "metadata": {
    "scrolled": true
   },
   "outputs": [
    {
     "data": {
      "text/plain": [
       "''"
      ]
     },
     "execution_count": 102,
     "metadata": {},
     "output_type": "execute_result"
    },
    {
     "data": {
      "image/png": "[encoded data removed]",
      "text/plain": [
       "<Figure size 1080x288 with 1 Axes>"
      ]
     },
     "metadata": {
      "needs_background": "light"
     },
     "output_type": "display_data"
    }
   ],
   "source": [
    "# Посмотрим как распределяются короткие поездки\n",
    "\n",
    "rides['distance'].hist(bins=150, figsize=(15,4), range=(0, 1500)).set_title(label=\"Расстояние за одну поездку до 1 500 м.\", size=14);\n",
    ";"
   ]
  },
  {
   "cell_type": "code",
   "execution_count": 103,
   "id": "d175df5a",
   "metadata": {
    "scrolled": true
   },
   "outputs": [
    {
     "data": {
      "text/plain": [
       "1796"
      ]
     },
     "execution_count": 103,
     "metadata": {},
     "output_type": "execute_result"
    }
   ],
   "source": [
    "# Их количество:\n",
    "\n",
    "rides.query('distance <= 1500')['distance'].count()"
   ]
  },
  {
   "cell_type": "code",
   "execution_count": 104,
   "id": "f8092162",
   "metadata": {},
   "outputs": [
    {
     "data": {
      "text/plain": [
       "9.940225813593093"
      ]
     },
     "execution_count": 104,
     "metadata": {},
     "output_type": "execute_result"
    }
   ],
   "source": [
    "# И процент от общего числа записей в базе поездок:\n",
    "\n",
    "(rides.query('distance <= 1500')['distance'].count() / rides.shape[0])*100"
   ]
  },
  {
   "cell_type": "markdown",
   "id": "12e4de11",
   "metadata": {},
   "source": [
    "UPD: Процент довольно большой. \n",
    "Возможно, действительно, неправильно указаны единицы измерения - вместо км - метры, например.\n",
    "Стоит отметить это в БАГ-репорте."
   ]
  },
  {
   "cell_type": "code",
   "execution_count": 105,
   "id": "8d4a7e46",
   "metadata": {
    "scrolled": true
   },
   "outputs": [
    {
     "data": {
      "image/png": "[encoded data removed]",
      "text/plain": [
       "<Figure size 1080x144 with 1 Axes>"
      ]
     },
     "metadata": {
      "needs_background": "light"
     },
     "output_type": "display_data"
    }
   ],
   "source": [
    "# Построим диаграмму размаха\n",
    "\n",
    "fig, ax = plt.subplots(figsize = (15,2))\n",
    "ax = rides[['distance']].boxplot(vert = False, ax = ax)\n",
    "ax.set_title('Диаграмма размаха Расстояния за одну поездку', size = 14)\n",
    "ax.set_xlim(0,7500);"
   ]
  },
  {
   "cell_type": "markdown",
   "id": "896f085b",
   "metadata": {},
   "source": [
    "Согласно диаграмме размаха, нормальные значения расположены от 750 до 5700 м."
   ]
  },
  {
   "cell_type": "code",
   "execution_count": 106,
   "id": "8046f23a",
   "metadata": {},
   "outputs": [
    {
     "data": {
      "text/html": [
       "<div>\n",
       "<style scoped>\n",
       "    .dataframe tbody tr th:only-of-type {\n",
       "        vertical-align: middle;\n",
       "    }\n",
       "\n",
       "    .dataframe tbody tr th {\n",
       "        vertical-align: top;\n",
       "    }\n",
       "\n",
       "    .dataframe thead th {\n",
       "        text-align: right;\n",
       "    }\n",
       "</style>\n",
       "<table border=\"1\" class=\"dataframe\">\n",
       "  <thead>\n",
       "    <tr style=\"text-align: right;\">\n",
       "      <th></th>\n",
       "      <th>distance</th>\n",
       "      <th>duration</th>\n",
       "    </tr>\n",
       "  </thead>\n",
       "  <tbody>\n",
       "    <tr>\n",
       "      <th>count</th>\n",
       "      <td>18068.00</td>\n",
       "      <td>18068.00</td>\n",
       "    </tr>\n",
       "    <tr>\n",
       "      <th>mean</th>\n",
       "      <td>3070.66</td>\n",
       "      <td>17.81</td>\n",
       "    </tr>\n",
       "    <tr>\n",
       "      <th>std</th>\n",
       "      <td>1116.83</td>\n",
       "      <td>6.09</td>\n",
       "    </tr>\n",
       "    <tr>\n",
       "      <th>min</th>\n",
       "      <td>0.86</td>\n",
       "      <td>0.50</td>\n",
       "    </tr>\n",
       "    <tr>\n",
       "      <th>25%</th>\n",
       "      <td>2543.23</td>\n",
       "      <td>13.60</td>\n",
       "    </tr>\n",
       "    <tr>\n",
       "      <th>50%</th>\n",
       "      <td>3133.61</td>\n",
       "      <td>17.68</td>\n",
       "    </tr>\n",
       "    <tr>\n",
       "      <th>75%</th>\n",
       "      <td>3776.22</td>\n",
       "      <td>21.72</td>\n",
       "    </tr>\n",
       "    <tr>\n",
       "      <th>max</th>\n",
       "      <td>7211.01</td>\n",
       "      <td>40.82</td>\n",
       "    </tr>\n",
       "  </tbody>\n",
       "</table>\n",
       "</div>"
      ],
      "text/plain": [
       "       distance  duration\n",
       "count  18068.00  18068.00\n",
       "mean    3070.66     17.81\n",
       "std     1116.83      6.09\n",
       "min        0.86      0.50\n",
       "25%     2543.23     13.60\n",
       "50%     3133.61     17.68\n",
       "75%     3776.22     21.72\n",
       "max     7211.01     40.82"
      ]
     },
     "execution_count": 106,
     "metadata": {},
     "output_type": "execute_result"
    }
   ],
   "source": [
    "# UPD\n",
    "\n",
    "# Определим основные числовые характеристики таблицы с поездками\n",
    "\n",
    "rides[['distance', 'duration']].describe()"
   ]
  },
  {
   "cell_type": "markdown",
   "id": "5af38ee7",
   "metadata": {},
   "source": [
    "Минимальное занчение дистанции составляет 0,86 м. и продолжительность поездки 0,5 мин. Если, допустим, тут ошибка в единицах измерения, то это будет вполне приемлемое значение 860 метров. Также - информация для БАГ-репорта.\n",
    "(спасибо за подсказку!)"
   ]
  },
  {
   "cell_type": "markdown",
   "id": "470febb4",
   "metadata": {},
   "source": [
    "Медианные значения составляют 3 133 метра и 17,68 минут. 25% пользователей совершают поездки до 2 543 метров за 13,6 минут. 75% пользователей преодолевают 3 776 метров до 21,7 минут.\n",
    "\n",
    "Можно отметить, что основная часть пользователей проезжает расстояние от 2,5 до 3,8 км, продолжительностью от 13 до 22 минут."
   ]
  },
  {
   "cell_type": "markdown",
   "id": "ab428649",
   "metadata": {},
   "source": [
    "#Оставим в выборке значение без выбросов\n",
    "\n",
    "#rides = rides.query('distance >= 750 and distance <= 5700')"
   ]
  },
  {
   "cell_type": "markdown",
   "id": "4bc7a3e3",
   "metadata": {},
   "source": [
    "#rides['distance'].hist(bins=200, figsize=(15,4)).set_title(label=\"Расстояние за одну поездку, м.\", size=14);"
   ]
  },
  {
   "cell_type": "code",
   "execution_count": 107,
   "id": "b509f146",
   "metadata": {
    "scrolled": true
   },
   "outputs": [
    {
     "data": {
      "image/png": "[encoded data removed]",
      "text/plain": [
       "<Figure size 1080x288 with 1 Axes>"
      ]
     },
     "metadata": {
      "needs_background": "light"
     },
     "output_type": "display_data"
    }
   ],
   "source": [
    "# Посмотрим на распределение продолжительности поездок.\n",
    "\n",
    "rides['duration'].hist(bins=200, figsize=(15,4)).set_title(label=\"Продолжительность одной поездки, мин.\", size=14);"
   ]
  },
  {
   "cell_type": "code",
   "execution_count": 108,
   "id": "9a75ee3b",
   "metadata": {
    "scrolled": true
   },
   "outputs": [
    {
     "data": {
      "text/plain": [
       "95"
      ]
     },
     "execution_count": 108,
     "metadata": {},
     "output_type": "execute_result"
    }
   ],
   "source": [
    "# Поездки до 2 минут:\n",
    "\n",
    "rides.query('duration <= 2')['duration'].count()"
   ]
  },
  {
   "cell_type": "markdown",
   "id": "b66fa906",
   "metadata": {},
   "source": [
    "Тут явная ошибка данных, с продолжительностью поездки в 1 минуту. Или сбой приложения, например."
   ]
  },
  {
   "cell_type": "code",
   "execution_count": 109,
   "id": "f43d9fda",
   "metadata": {
    "scrolled": true
   },
   "outputs": [
    {
     "data": {
      "image/png": "[encoded data removed]",
      "text/plain": [
       "<Figure size 1080x144 with 1 Axes>"
      ]
     },
     "metadata": {
      "needs_background": "light"
     },
     "output_type": "display_data"
    }
   ],
   "source": [
    "# Построим диаграмму размаха\n",
    "\n",
    "fig, ax = plt.subplots(figsize = (15,2))\n",
    "ax = rides[['duration']].boxplot(vert = False, ax = ax)\n",
    "ax.set_title('Диаграмма размаха Продолжительности поездки', size = 14)\n",
    "ax.set_xlim(0,45);"
   ]
  },
  {
   "cell_type": "markdown",
   "id": "f6289d81",
   "metadata": {},
   "source": [
    "Здесь нормальные значения от 4 до 34 минут. \n",
    "В принципе, при скорости самоката 30 км/ч за 3 минуты можно проехать 1,5 км."
   ]
  },
  {
   "cell_type": "code",
   "execution_count": 110,
   "id": "31d9de6e",
   "metadata": {},
   "outputs": [
    {
     "data": {
      "text/plain": [
       "1.1235333185742749"
      ]
     },
     "execution_count": 110,
     "metadata": {},
     "output_type": "execute_result"
    }
   ],
   "source": [
    "# Доля поездок с нетипичной продолжительностью от общего объема базы поездок:\n",
    "\n",
    "(rides.query('duration <= 3 or duration >= 34')['duration'].count() / rides.shape[0])*100"
   ]
  },
  {
   "cell_type": "markdown",
   "id": "c73d5370",
   "metadata": {},
   "source": [
    "#### Шаг 4. Объединение данных"
   ]
  },
  {
   "cell_type": "markdown",
   "id": "6fac6562",
   "metadata": {},
   "source": [
    "Объединим все три таблицы в одну методом .merge() по колонке user_id и subscription_type.\n",
    "\n",
    "UPD:\n",
    "Воспользуемся параметром outer, чтобы получить максимально полные данные."
   ]
  },
  {
   "cell_type": "code",
   "execution_count": 111,
   "id": "67d391f5",
   "metadata": {},
   "outputs": [],
   "source": [
    "data = users.merge(rides, on='user_id', how='outer').merge(subscriptions, on='subscription_type', how='outer')"
   ]
  },
  {
   "cell_type": "code",
   "execution_count": 112,
   "id": "3647471e",
   "metadata": {},
   "outputs": [
    {
     "data": {
      "text/html": [
       "<div>\n",
       "<style scoped>\n",
       "    .dataframe tbody tr th:only-of-type {\n",
       "        vertical-align: middle;\n",
       "    }\n",
       "\n",
       "    .dataframe tbody tr th {\n",
       "        vertical-align: top;\n",
       "    }\n",
       "\n",
       "    .dataframe thead th {\n",
       "        text-align: right;\n",
       "    }\n",
       "</style>\n",
       "<table border=\"1\" class=\"dataframe\">\n",
       "  <thead>\n",
       "    <tr style=\"text-align: right;\">\n",
       "      <th></th>\n",
       "      <th>user_id</th>\n",
       "      <th>name</th>\n",
       "      <th>age</th>\n",
       "      <th>city</th>\n",
       "      <th>subscription_type</th>\n",
       "      <th>distance</th>\n",
       "      <th>duration</th>\n",
       "      <th>date</th>\n",
       "      <th>month_num</th>\n",
       "      <th>minute_price</th>\n",
       "      <th>start_ride_price</th>\n",
       "      <th>subscription_fee</th>\n",
       "    </tr>\n",
       "  </thead>\n",
       "  <tbody>\n",
       "    <tr>\n",
       "      <th>0</th>\n",
       "      <td>1</td>\n",
       "      <td>Кира</td>\n",
       "      <td>22</td>\n",
       "      <td>Тюмень</td>\n",
       "      <td>ultra</td>\n",
       "      <td>4409.92</td>\n",
       "      <td>25.60</td>\n",
       "      <td>2021-01-01</td>\n",
       "      <td>1</td>\n",
       "      <td>6</td>\n",
       "      <td>0</td>\n",
       "      <td>199</td>\n",
       "    </tr>\n",
       "    <tr>\n",
       "      <th>1</th>\n",
       "      <td>1</td>\n",
       "      <td>Кира</td>\n",
       "      <td>22</td>\n",
       "      <td>Тюмень</td>\n",
       "      <td>ultra</td>\n",
       "      <td>2617.59</td>\n",
       "      <td>15.82</td>\n",
       "      <td>2021-01-18</td>\n",
       "      <td>1</td>\n",
       "      <td>6</td>\n",
       "      <td>0</td>\n",
       "      <td>199</td>\n",
       "    </tr>\n",
       "    <tr>\n",
       "      <th>2</th>\n",
       "      <td>1</td>\n",
       "      <td>Кира</td>\n",
       "      <td>22</td>\n",
       "      <td>Тюмень</td>\n",
       "      <td>ultra</td>\n",
       "      <td>754.16</td>\n",
       "      <td>6.23</td>\n",
       "      <td>2021-04-20</td>\n",
       "      <td>4</td>\n",
       "      <td>6</td>\n",
       "      <td>0</td>\n",
       "      <td>199</td>\n",
       "    </tr>\n",
       "    <tr>\n",
       "      <th>3</th>\n",
       "      <td>1</td>\n",
       "      <td>Кира</td>\n",
       "      <td>22</td>\n",
       "      <td>Тюмень</td>\n",
       "      <td>ultra</td>\n",
       "      <td>2694.78</td>\n",
       "      <td>18.51</td>\n",
       "      <td>2021-08-11</td>\n",
       "      <td>8</td>\n",
       "      <td>6</td>\n",
       "      <td>0</td>\n",
       "      <td>199</td>\n",
       "    </tr>\n",
       "    <tr>\n",
       "      <th>4</th>\n",
       "      <td>1</td>\n",
       "      <td>Кира</td>\n",
       "      <td>22</td>\n",
       "      <td>Тюмень</td>\n",
       "      <td>ultra</td>\n",
       "      <td>4028.69</td>\n",
       "      <td>26.27</td>\n",
       "      <td>2021-08-28</td>\n",
       "      <td>8</td>\n",
       "      <td>6</td>\n",
       "      <td>0</td>\n",
       "      <td>199</td>\n",
       "    </tr>\n",
       "  </tbody>\n",
       "</table>\n",
       "</div>"
      ],
      "text/plain": [
       "   user_id  name  age    city subscription_type  distance  duration  \\\n",
       "0        1  Кира   22  Тюмень             ultra   4409.92     25.60   \n",
       "1        1  Кира   22  Тюмень             ultra   2617.59     15.82   \n",
       "2        1  Кира   22  Тюмень             ultra    754.16      6.23   \n",
       "3        1  Кира   22  Тюмень             ultra   2694.78     18.51   \n",
       "4        1  Кира   22  Тюмень             ultra   4028.69     26.27   \n",
       "\n",
       "        date  month_num  minute_price  start_ride_price  subscription_fee  \n",
       "0 2021-01-01          1             6                 0               199  \n",
       "1 2021-01-18          1             6                 0               199  \n",
       "2 2021-04-20          4             6                 0               199  \n",
       "3 2021-08-11          8             6                 0               199  \n",
       "4 2021-08-28          8             6                 0               199  "
      ]
     },
     "execution_count": 112,
     "metadata": {},
     "output_type": "execute_result"
    }
   ],
   "source": [
    "# UPD\n",
    "\n",
    "# Выведем первые 5 строк таблицы\n",
    "\n",
    "data.head()"
   ]
  },
  {
   "cell_type": "code",
   "execution_count": 113,
   "id": "b6f05c52",
   "metadata": {},
   "outputs": [
    {
     "name": "stdout",
     "output_type": "stream",
     "text": [
      "<class 'pandas.core.frame.DataFrame'>\n",
      "Int64Index: 18388 entries, 0 to 18387\n",
      "Data columns (total 12 columns):\n",
      " #   Column             Non-Null Count  Dtype         \n",
      "---  ------             --------------  -----         \n",
      " 0   user_id            18388 non-null  int64         \n",
      " 1   name               18388 non-null  object        \n",
      " 2   age                18388 non-null  int64         \n",
      " 3   city               18388 non-null  object        \n",
      " 4   subscription_type  18388 non-null  category      \n",
      " 5   distance           18388 non-null  float64       \n",
      " 6   duration           18388 non-null  float64       \n",
      " 7   date               18388 non-null  datetime64[ns]\n",
      " 8   month_num          18388 non-null  int64         \n",
      " 9   minute_price       18388 non-null  int64         \n",
      " 10  start_ride_price   18388 non-null  int64         \n",
      " 11  subscription_fee   18388 non-null  int64         \n",
      "dtypes: category(1), datetime64[ns](1), float64(2), int64(6), object(2)\n",
      "memory usage: 1.7+ MB\n"
     ]
    }
   ],
   "source": [
    "# UPD \n",
    "\n",
    "# Выведем информацию о файле\n",
    "\n",
    "data.info()"
   ]
  },
  {
   "cell_type": "markdown",
   "id": "f04c2b99",
   "metadata": {},
   "source": [
    "Строки с пропусками не появились"
   ]
  },
  {
   "cell_type": "code",
   "execution_count": 114,
   "id": "34ed1e4e",
   "metadata": {},
   "outputs": [
    {
     "data": {
      "text/plain": [
       "False    18068\n",
       "True       320\n",
       "dtype: int64"
      ]
     },
     "execution_count": 114,
     "metadata": {},
     "output_type": "execute_result"
    }
   ],
   "source": [
    "# UPD \n",
    "\n",
    "# Посмотрим, не появились ли полные дубликаты строк\n",
    "\n",
    "data.duplicated().value_counts()"
   ]
  },
  {
   "cell_type": "markdown",
   "id": "76badb44",
   "metadata": {},
   "source": [
    "В новой таблице 18 068 строк (как и в таблице с поездками), плюс 320 дубликатов. \n",
    "Посмотрим, какие данные дублируются."
   ]
  },
  {
   "cell_type": "code",
   "execution_count": 115,
   "id": "aab37f7c",
   "metadata": {},
   "outputs": [
    {
     "data": {
      "text/html": [
       "<div>\n",
       "<style scoped>\n",
       "    .dataframe tbody tr th:only-of-type {\n",
       "        vertical-align: middle;\n",
       "    }\n",
       "\n",
       "    .dataframe tbody tr th {\n",
       "        vertical-align: top;\n",
       "    }\n",
       "\n",
       "    .dataframe thead th {\n",
       "        text-align: right;\n",
       "    }\n",
       "</style>\n",
       "<table border=\"1\" class=\"dataframe\">\n",
       "  <thead>\n",
       "    <tr style=\"text-align: right;\">\n",
       "      <th></th>\n",
       "      <th>user_id</th>\n",
       "      <th>name</th>\n",
       "      <th>age</th>\n",
       "      <th>city</th>\n",
       "      <th>subscription_type</th>\n",
       "      <th>distance</th>\n",
       "      <th>duration</th>\n",
       "      <th>date</th>\n",
       "      <th>month_num</th>\n",
       "      <th>minute_price</th>\n",
       "      <th>start_ride_price</th>\n",
       "      <th>subscription_fee</th>\n",
       "    </tr>\n",
       "  </thead>\n",
       "  <tbody>\n",
       "    <tr>\n",
       "      <th>166</th>\n",
       "      <td>16</td>\n",
       "      <td>Амалия</td>\n",
       "      <td>27</td>\n",
       "      <td>Краснодар</td>\n",
       "      <td>ultra</td>\n",
       "      <td>850.32</td>\n",
       "      <td>13.13</td>\n",
       "      <td>2021-02-18</td>\n",
       "      <td>2</td>\n",
       "      <td>6</td>\n",
       "      <td>0</td>\n",
       "      <td>199</td>\n",
       "    </tr>\n",
       "    <tr>\n",
       "      <th>167</th>\n",
       "      <td>16</td>\n",
       "      <td>Амалия</td>\n",
       "      <td>27</td>\n",
       "      <td>Краснодар</td>\n",
       "      <td>ultra</td>\n",
       "      <td>2669.70</td>\n",
       "      <td>9.16</td>\n",
       "      <td>2021-03-03</td>\n",
       "      <td>3</td>\n",
       "      <td>6</td>\n",
       "      <td>0</td>\n",
       "      <td>199</td>\n",
       "    </tr>\n",
       "    <tr>\n",
       "      <th>168</th>\n",
       "      <td>16</td>\n",
       "      <td>Амалия</td>\n",
       "      <td>27</td>\n",
       "      <td>Краснодар</td>\n",
       "      <td>ultra</td>\n",
       "      <td>3073.75</td>\n",
       "      <td>25.44</td>\n",
       "      <td>2021-03-06</td>\n",
       "      <td>3</td>\n",
       "      <td>6</td>\n",
       "      <td>0</td>\n",
       "      <td>199</td>\n",
       "    </tr>\n",
       "    <tr>\n",
       "      <th>169</th>\n",
       "      <td>16</td>\n",
       "      <td>Амалия</td>\n",
       "      <td>27</td>\n",
       "      <td>Краснодар</td>\n",
       "      <td>ultra</td>\n",
       "      <td>4234.24</td>\n",
       "      <td>17.11</td>\n",
       "      <td>2021-04-02</td>\n",
       "      <td>4</td>\n",
       "      <td>6</td>\n",
       "      <td>0</td>\n",
       "      <td>199</td>\n",
       "    </tr>\n",
       "    <tr>\n",
       "      <th>170</th>\n",
       "      <td>16</td>\n",
       "      <td>Амалия</td>\n",
       "      <td>27</td>\n",
       "      <td>Краснодар</td>\n",
       "      <td>ultra</td>\n",
       "      <td>2967.37</td>\n",
       "      <td>18.70</td>\n",
       "      <td>2021-04-16</td>\n",
       "      <td>4</td>\n",
       "      <td>6</td>\n",
       "      <td>0</td>\n",
       "      <td>199</td>\n",
       "    </tr>\n",
       "    <tr>\n",
       "      <th>...</th>\n",
       "      <td>...</td>\n",
       "      <td>...</td>\n",
       "      <td>...</td>\n",
       "      <td>...</td>\n",
       "      <td>...</td>\n",
       "      <td>...</td>\n",
       "      <td>...</td>\n",
       "      <td>...</td>\n",
       "      <td>...</td>\n",
       "      <td>...</td>\n",
       "      <td>...</td>\n",
       "      <td>...</td>\n",
       "    </tr>\n",
       "    <tr>\n",
       "      <th>14326</th>\n",
       "      <td>1245</td>\n",
       "      <td>Регина</td>\n",
       "      <td>27</td>\n",
       "      <td>Пятигорск</td>\n",
       "      <td>free</td>\n",
       "      <td>3084.30</td>\n",
       "      <td>30.82</td>\n",
       "      <td>2021-11-08</td>\n",
       "      <td>11</td>\n",
       "      <td>8</td>\n",
       "      <td>50</td>\n",
       "      <td>0</td>\n",
       "    </tr>\n",
       "    <tr>\n",
       "      <th>14327</th>\n",
       "      <td>1245</td>\n",
       "      <td>Регина</td>\n",
       "      <td>27</td>\n",
       "      <td>Пятигорск</td>\n",
       "      <td>free</td>\n",
       "      <td>2581.11</td>\n",
       "      <td>22.32</td>\n",
       "      <td>2021-11-12</td>\n",
       "      <td>11</td>\n",
       "      <td>8</td>\n",
       "      <td>50</td>\n",
       "      <td>0</td>\n",
       "    </tr>\n",
       "    <tr>\n",
       "      <th>14328</th>\n",
       "      <td>1245</td>\n",
       "      <td>Регина</td>\n",
       "      <td>27</td>\n",
       "      <td>Пятигорск</td>\n",
       "      <td>free</td>\n",
       "      <td>3401.50</td>\n",
       "      <td>17.85</td>\n",
       "      <td>2021-11-27</td>\n",
       "      <td>11</td>\n",
       "      <td>8</td>\n",
       "      <td>50</td>\n",
       "      <td>0</td>\n",
       "    </tr>\n",
       "    <tr>\n",
       "      <th>14329</th>\n",
       "      <td>1245</td>\n",
       "      <td>Регина</td>\n",
       "      <td>27</td>\n",
       "      <td>Пятигорск</td>\n",
       "      <td>free</td>\n",
       "      <td>2868.39</td>\n",
       "      <td>18.82</td>\n",
       "      <td>2021-12-08</td>\n",
       "      <td>12</td>\n",
       "      <td>8</td>\n",
       "      <td>50</td>\n",
       "      <td>0</td>\n",
       "    </tr>\n",
       "    <tr>\n",
       "      <th>14330</th>\n",
       "      <td>1245</td>\n",
       "      <td>Регина</td>\n",
       "      <td>27</td>\n",
       "      <td>Пятигорск</td>\n",
       "      <td>free</td>\n",
       "      <td>1139.50</td>\n",
       "      <td>9.73</td>\n",
       "      <td>2021-12-14</td>\n",
       "      <td>12</td>\n",
       "      <td>8</td>\n",
       "      <td>50</td>\n",
       "      <td>0</td>\n",
       "    </tr>\n",
       "  </tbody>\n",
       "</table>\n",
       "<p>320 rows × 12 columns</p>\n",
       "</div>"
      ],
      "text/plain": [
       "       user_id    name  age       city subscription_type  distance  duration  \\\n",
       "166         16  Амалия   27  Краснодар             ultra    850.32     13.13   \n",
       "167         16  Амалия   27  Краснодар             ultra   2669.70      9.16   \n",
       "168         16  Амалия   27  Краснодар             ultra   3073.75     25.44   \n",
       "169         16  Амалия   27  Краснодар             ultra   4234.24     17.11   \n",
       "170         16  Амалия   27  Краснодар             ultra   2967.37     18.70   \n",
       "...        ...     ...  ...        ...               ...       ...       ...   \n",
       "14326     1245  Регина   27  Пятигорск              free   3084.30     30.82   \n",
       "14327     1245  Регина   27  Пятигорск              free   2581.11     22.32   \n",
       "14328     1245  Регина   27  Пятигорск              free   3401.50     17.85   \n",
       "14329     1245  Регина   27  Пятигорск              free   2868.39     18.82   \n",
       "14330     1245  Регина   27  Пятигорск              free   1139.50      9.73   \n",
       "\n",
       "            date  month_num  minute_price  start_ride_price  subscription_fee  \n",
       "166   2021-02-18          2             6                 0               199  \n",
       "167   2021-03-03          3             6                 0               199  \n",
       "168   2021-03-06          3             6                 0               199  \n",
       "169   2021-04-02          4             6                 0               199  \n",
       "170   2021-04-16          4             6                 0               199  \n",
       "...          ...        ...           ...               ...               ...  \n",
       "14326 2021-11-08         11             8                50                 0  \n",
       "14327 2021-11-12         11             8                50                 0  \n",
       "14328 2021-11-27         11             8                50                 0  \n",
       "14329 2021-12-08         12             8                50                 0  \n",
       "14330 2021-12-14         12             8                50                 0  \n",
       "\n",
       "[320 rows x 12 columns]"
      ]
     },
     "execution_count": 115,
     "metadata": {},
     "output_type": "execute_result"
    }
   ],
   "source": [
    "data[data.duplicated()]"
   ]
  },
  {
   "cell_type": "code",
   "execution_count": 116,
   "id": "873df95a",
   "metadata": {},
   "outputs": [
    {
     "data": {
      "text/html": [
       "<div>\n",
       "<style scoped>\n",
       "    .dataframe tbody tr th:only-of-type {\n",
       "        vertical-align: middle;\n",
       "    }\n",
       "\n",
       "    .dataframe tbody tr th {\n",
       "        vertical-align: top;\n",
       "    }\n",
       "\n",
       "    .dataframe thead th {\n",
       "        text-align: right;\n",
       "    }\n",
       "</style>\n",
       "<table border=\"1\" class=\"dataframe\">\n",
       "  <thead>\n",
       "    <tr style=\"text-align: right;\">\n",
       "      <th></th>\n",
       "      <th></th>\n",
       "      <th></th>\n",
       "      <th></th>\n",
       "      <th></th>\n",
       "      <th></th>\n",
       "      <th></th>\n",
       "      <th></th>\n",
       "      <th></th>\n",
       "      <th></th>\n",
       "      <th></th>\n",
       "      <th></th>\n",
       "      <th>0</th>\n",
       "    </tr>\n",
       "    <tr>\n",
       "      <th>user_id</th>\n",
       "      <th>name</th>\n",
       "      <th>age</th>\n",
       "      <th>city</th>\n",
       "      <th>subscription_type</th>\n",
       "      <th>distance</th>\n",
       "      <th>duration</th>\n",
       "      <th>date</th>\n",
       "      <th>month_num</th>\n",
       "      <th>minute_price</th>\n",
       "      <th>start_ride_price</th>\n",
       "      <th>subscription_fee</th>\n",
       "      <th></th>\n",
       "    </tr>\n",
       "  </thead>\n",
       "  <tbody>\n",
       "    <tr>\n",
       "      <th rowspan=\"12\" valign=\"top\">16</th>\n",
       "      <th rowspan=\"12\" valign=\"top\">Амалия</th>\n",
       "      <th rowspan=\"12\" valign=\"top\">27</th>\n",
       "      <th rowspan=\"12\" valign=\"top\">Краснодар</th>\n",
       "      <th rowspan=\"12\" valign=\"top\">ultra</th>\n",
       "      <th>850.32</th>\n",
       "      <th>13.13</th>\n",
       "      <th>2021-02-18</th>\n",
       "      <th>2</th>\n",
       "      <th>6</th>\n",
       "      <th>0</th>\n",
       "      <th>199</th>\n",
       "      <td>2</td>\n",
       "    </tr>\n",
       "    <tr>\n",
       "      <th>2669.70</th>\n",
       "      <th>9.16</th>\n",
       "      <th>2021-03-03</th>\n",
       "      <th>3</th>\n",
       "      <th>6</th>\n",
       "      <th>0</th>\n",
       "      <th>199</th>\n",
       "      <td>2</td>\n",
       "    </tr>\n",
       "    <tr>\n",
       "      <th>2670.18</th>\n",
       "      <th>20.56</th>\n",
       "      <th>2021-09-11</th>\n",
       "      <th>9</th>\n",
       "      <th>6</th>\n",
       "      <th>0</th>\n",
       "      <th>199</th>\n",
       "      <td>2</td>\n",
       "    </tr>\n",
       "    <tr>\n",
       "      <th>2722.39</th>\n",
       "      <th>21.89</th>\n",
       "      <th>2021-07-19</th>\n",
       "      <th>7</th>\n",
       "      <th>6</th>\n",
       "      <th>0</th>\n",
       "      <th>199</th>\n",
       "      <td>2</td>\n",
       "    </tr>\n",
       "    <tr>\n",
       "      <th>2967.37</th>\n",
       "      <th>18.70</th>\n",
       "      <th>2021-04-16</th>\n",
       "      <th>4</th>\n",
       "      <th>6</th>\n",
       "      <th>0</th>\n",
       "      <th>199</th>\n",
       "      <td>2</td>\n",
       "    </tr>\n",
       "    <tr>\n",
       "      <th>2992.36</th>\n",
       "      <th>20.81</th>\n",
       "      <th>2021-06-15</th>\n",
       "      <th>6</th>\n",
       "      <th>6</th>\n",
       "      <th>0</th>\n",
       "      <th>199</th>\n",
       "      <td>2</td>\n",
       "    </tr>\n",
       "    <tr>\n",
       "      <th>3023.80</th>\n",
       "      <th>11.72</th>\n",
       "      <th>2021-07-27</th>\n",
       "      <th>7</th>\n",
       "      <th>6</th>\n",
       "      <th>0</th>\n",
       "      <th>199</th>\n",
       "      <td>2</td>\n",
       "    </tr>\n",
       "    <tr>\n",
       "      <th>3073.75</th>\n",
       "      <th>25.44</th>\n",
       "      <th>2021-03-06</th>\n",
       "      <th>3</th>\n",
       "      <th>6</th>\n",
       "      <th>0</th>\n",
       "      <th>199</th>\n",
       "      <td>2</td>\n",
       "    </tr>\n",
       "    <tr>\n",
       "      <th>3356.82</th>\n",
       "      <th>25.78</th>\n",
       "      <th>2021-05-28</th>\n",
       "      <th>5</th>\n",
       "      <th>6</th>\n",
       "      <th>0</th>\n",
       "      <th>199</th>\n",
       "      <td>2</td>\n",
       "    </tr>\n",
       "    <tr>\n",
       "      <th>3476.06</th>\n",
       "      <th>16.45</th>\n",
       "      <th>2021-09-21</th>\n",
       "      <th>9</th>\n",
       "      <th>6</th>\n",
       "      <th>0</th>\n",
       "      <th>199</th>\n",
       "      <td>2</td>\n",
       "    </tr>\n",
       "    <tr>\n",
       "      <th>3791.06</th>\n",
       "      <th>21.34</th>\n",
       "      <th>2021-10-27</th>\n",
       "      <th>10</th>\n",
       "      <th>6</th>\n",
       "      <th>0</th>\n",
       "      <th>199</th>\n",
       "      <td>2</td>\n",
       "    </tr>\n",
       "    <tr>\n",
       "      <th>4234.24</th>\n",
       "      <th>17.11</th>\n",
       "      <th>2021-04-02</th>\n",
       "      <th>4</th>\n",
       "      <th>6</th>\n",
       "      <th>0</th>\n",
       "      <th>199</th>\n",
       "      <td>2</td>\n",
       "    </tr>\n",
       "  </tbody>\n",
       "</table>\n",
       "</div>"
      ],
      "text/plain": [
       "                                                                                                                                      0\n",
       "user_id name   age city      subscription_type distance duration date       month_num minute_price start_ride_price subscription_fee   \n",
       "16      Амалия 27  Краснодар ultra             850.32   13.13    2021-02-18 2         6            0                199               2\n",
       "                                               2669.70  9.16     2021-03-03 3         6            0                199               2\n",
       "                                               2670.18  20.56    2021-09-11 9         6            0                199               2\n",
       "                                               2722.39  21.89    2021-07-19 7         6            0                199               2\n",
       "                                               2967.37  18.70    2021-04-16 4         6            0                199               2\n",
       "                                               2992.36  20.81    2021-06-15 6         6            0                199               2\n",
       "                                               3023.80  11.72    2021-07-27 7         6            0                199               2\n",
       "                                               3073.75  25.44    2021-03-06 3         6            0                199               2\n",
       "                                               3356.82  25.78    2021-05-28 5         6            0                199               2\n",
       "                                               3476.06  16.45    2021-09-21 9         6            0                199               2\n",
       "                                               3791.06  21.34    2021-10-27 10        6            0                199               2\n",
       "                                               4234.24  17.11    2021-04-02 4         6            0                199               2"
      ]
     },
     "execution_count": 116,
     "metadata": {},
     "output_type": "execute_result"
    }
   ],
   "source": [
    "data.query('user_id == 16').value_counts().to_frame()"
   ]
  },
  {
   "cell_type": "code",
   "execution_count": 117,
   "id": "10768f0f",
   "metadata": {},
   "outputs": [],
   "source": [
    "# Удалим полыне дубликаты\n",
    "\n",
    "data.drop_duplicates(inplace=True)"
   ]
  },
  {
   "cell_type": "code",
   "execution_count": 118,
   "id": "aa7bd70a",
   "metadata": {},
   "outputs": [
    {
     "name": "stdout",
     "output_type": "stream",
     "text": [
      "<class 'pandas.core.frame.DataFrame'>\n",
      "Int64Index: 18068 entries, 0 to 18387\n",
      "Data columns (total 12 columns):\n",
      " #   Column             Non-Null Count  Dtype         \n",
      "---  ------             --------------  -----         \n",
      " 0   user_id            18068 non-null  int64         \n",
      " 1   name               18068 non-null  object        \n",
      " 2   age                18068 non-null  int64         \n",
      " 3   city               18068 non-null  object        \n",
      " 4   subscription_type  18068 non-null  category      \n",
      " 5   distance           18068 non-null  float64       \n",
      " 6   duration           18068 non-null  float64       \n",
      " 7   date               18068 non-null  datetime64[ns]\n",
      " 8   month_num          18068 non-null  int64         \n",
      " 9   minute_price       18068 non-null  int64         \n",
      " 10  start_ride_price   18068 non-null  int64         \n",
      " 11  subscription_fee   18068 non-null  int64         \n",
      "dtypes: category(1), datetime64[ns](1), float64(2), int64(6), object(2)\n",
      "memory usage: 1.7+ MB\n"
     ]
    }
   ],
   "source": [
    "data.info()"
   ]
  },
  {
   "cell_type": "markdown",
   "id": "5ea31757",
   "metadata": {},
   "source": [
    "Теперь число строк совпадает с числом строк в таблице с поездками"
   ]
  },
  {
   "cell_type": "markdown",
   "id": "26c02e90",
   "metadata": {},
   "source": [
    "На базе объединенного файла создадим 2 новых: для пользователей с подпиской и без."
   ]
  },
  {
   "cell_type": "code",
   "execution_count": 119,
   "id": "62a50786",
   "metadata": {},
   "outputs": [],
   "source": [
    "data_ultra = data.query('subscription_type == \"ultra\"')"
   ]
  },
  {
   "cell_type": "code",
   "execution_count": 120,
   "id": "3095292f",
   "metadata": {},
   "outputs": [],
   "source": [
    "data_free = data.query('subscription_type == \"free\"')"
   ]
  },
  {
   "cell_type": "markdown",
   "id": "b5b3c668",
   "metadata": {},
   "source": [
    "Выведем описание данных новых таблиц"
   ]
  },
  {
   "cell_type": "code",
   "execution_count": 121,
   "id": "fdd01db0",
   "metadata": {},
   "outputs": [
    {
     "data": {
      "text/html": [
       "<div>\n",
       "<style scoped>\n",
       "    .dataframe tbody tr th:only-of-type {\n",
       "        vertical-align: middle;\n",
       "    }\n",
       "\n",
       "    .dataframe tbody tr th {\n",
       "        vertical-align: top;\n",
       "    }\n",
       "\n",
       "    .dataframe thead th {\n",
       "        text-align: right;\n",
       "    }\n",
       "</style>\n",
       "<table border=\"1\" class=\"dataframe\">\n",
       "  <thead>\n",
       "    <tr style=\"text-align: right;\">\n",
       "      <th></th>\n",
       "      <th>age</th>\n",
       "      <th>distance</th>\n",
       "      <th>duration</th>\n",
       "    </tr>\n",
       "  </thead>\n",
       "  <tbody>\n",
       "    <tr>\n",
       "      <th>count</th>\n",
       "      <td>6500.00</td>\n",
       "      <td>6500.00</td>\n",
       "      <td>6500.00</td>\n",
       "    </tr>\n",
       "    <tr>\n",
       "      <th>mean</th>\n",
       "      <td>24.89</td>\n",
       "      <td>3115.45</td>\n",
       "      <td>18.54</td>\n",
       "    </tr>\n",
       "    <tr>\n",
       "      <th>std</th>\n",
       "      <td>4.76</td>\n",
       "      <td>836.90</td>\n",
       "      <td>5.57</td>\n",
       "    </tr>\n",
       "    <tr>\n",
       "      <th>min</th>\n",
       "      <td>12.00</td>\n",
       "      <td>244.21</td>\n",
       "      <td>3.76</td>\n",
       "    </tr>\n",
       "    <tr>\n",
       "      <th>25%</th>\n",
       "      <td>22.00</td>\n",
       "      <td>2785.44</td>\n",
       "      <td>14.52</td>\n",
       "    </tr>\n",
       "    <tr>\n",
       "      <th>50%</th>\n",
       "      <td>25.00</td>\n",
       "      <td>3148.64</td>\n",
       "      <td>18.18</td>\n",
       "    </tr>\n",
       "    <tr>\n",
       "      <th>75%</th>\n",
       "      <td>28.00</td>\n",
       "      <td>3560.57</td>\n",
       "      <td>21.88</td>\n",
       "    </tr>\n",
       "    <tr>\n",
       "      <th>max</th>\n",
       "      <td>38.00</td>\n",
       "      <td>5699.77</td>\n",
       "      <td>40.82</td>\n",
       "    </tr>\n",
       "  </tbody>\n",
       "</table>\n",
       "</div>"
      ],
      "text/plain": [
       "          age  distance  duration\n",
       "count 6500.00   6500.00   6500.00\n",
       "mean    24.89   3115.45     18.54\n",
       "std      4.76    836.90      5.57\n",
       "min     12.00    244.21      3.76\n",
       "25%     22.00   2785.44     14.52\n",
       "50%     25.00   3148.64     18.18\n",
       "75%     28.00   3560.57     21.88\n",
       "max     38.00   5699.77     40.82"
      ]
     },
     "execution_count": 121,
     "metadata": {},
     "output_type": "execute_result"
    }
   ],
   "source": [
    "data_ultra[['age', 'distance', 'duration']].describe()"
   ]
  },
  {
   "cell_type": "code",
   "execution_count": 122,
   "id": "e0eb63f7",
   "metadata": {
    "scrolled": true
   },
   "outputs": [
    {
     "data": {
      "text/html": [
       "<div>\n",
       "<style scoped>\n",
       "    .dataframe tbody tr th:only-of-type {\n",
       "        vertical-align: middle;\n",
       "    }\n",
       "\n",
       "    .dataframe tbody tr th {\n",
       "        vertical-align: top;\n",
       "    }\n",
       "\n",
       "    .dataframe thead th {\n",
       "        text-align: right;\n",
       "    }\n",
       "</style>\n",
       "<table border=\"1\" class=\"dataframe\">\n",
       "  <thead>\n",
       "    <tr style=\"text-align: right;\">\n",
       "      <th></th>\n",
       "      <th>age</th>\n",
       "      <th>distance</th>\n",
       "      <th>duration</th>\n",
       "    </tr>\n",
       "  </thead>\n",
       "  <tbody>\n",
       "    <tr>\n",
       "      <th>count</th>\n",
       "      <td>11568.00</td>\n",
       "      <td>11568.00</td>\n",
       "      <td>11568.00</td>\n",
       "    </tr>\n",
       "    <tr>\n",
       "      <th>mean</th>\n",
       "      <td>24.89</td>\n",
       "      <td>3045.50</td>\n",
       "      <td>17.39</td>\n",
       "    </tr>\n",
       "    <tr>\n",
       "      <th>std</th>\n",
       "      <td>4.48</td>\n",
       "      <td>1246.17</td>\n",
       "      <td>6.33</td>\n",
       "    </tr>\n",
       "    <tr>\n",
       "      <th>min</th>\n",
       "      <td>12.00</td>\n",
       "      <td>0.86</td>\n",
       "      <td>0.50</td>\n",
       "    </tr>\n",
       "    <tr>\n",
       "      <th>25%</th>\n",
       "      <td>22.00</td>\n",
       "      <td>2366.56</td>\n",
       "      <td>12.96</td>\n",
       "    </tr>\n",
       "    <tr>\n",
       "      <th>50%</th>\n",
       "      <td>25.00</td>\n",
       "      <td>3114.65</td>\n",
       "      <td>17.33</td>\n",
       "    </tr>\n",
       "    <tr>\n",
       "      <th>75%</th>\n",
       "      <td>28.00</td>\n",
       "      <td>3905.70</td>\n",
       "      <td>21.59</td>\n",
       "    </tr>\n",
       "    <tr>\n",
       "      <th>max</th>\n",
       "      <td>43.00</td>\n",
       "      <td>7211.01</td>\n",
       "      <td>34.95</td>\n",
       "    </tr>\n",
       "  </tbody>\n",
       "</table>\n",
       "</div>"
      ],
      "text/plain": [
       "           age  distance  duration\n",
       "count 11568.00  11568.00  11568.00\n",
       "mean     24.89   3045.50     17.39\n",
       "std       4.48   1246.17      6.33\n",
       "min      12.00      0.86      0.50\n",
       "25%      22.00   2366.56     12.96\n",
       "50%      25.00   3114.65     17.33\n",
       "75%      28.00   3905.70     21.59\n",
       "max      43.00   7211.01     34.95"
      ]
     },
     "execution_count": 122,
     "metadata": {},
     "output_type": "execute_result"
    }
   ],
   "source": [
    "data_free[['age', 'distance', 'duration']].describe()"
   ]
  },
  {
   "cell_type": "markdown",
   "id": "dc2e1e68",
   "metadata": {},
   "source": [
    "Пользователи с подпиской совершают почти в 2 раза меньше поездок, чем пользователи без подписки, проезжая в среднем чуть большее расстояние (и соотв. немногим дольше по времени). \n",
    "\n",
    "Медианные показатели чуть выше у пользователей с подпиской: расстояние 3 148м (у пользователей без подписки - 3 114м), время одной поездки соотв. 18,18 мин. (у пользователей без подписки - 17,33 мин.).\n",
    "\n",
    "В целом показатели для основной части пользователей в обеих группах сопоставимы:\n",
    "* возраст от 22 до 28\n",
    "* расстояние от 2 785 до 3 560 м (для пользователей с подпиской) и от 2 366 до 3 905 м (для пользователей без подписки)\n",
    "* длительность поездки соотв. от 14,52 до 21,88 мин. (для пользователей с подпиской) и от 12,96 до 21,59 (для пользователей без подписки)"
   ]
  },
  {
   "cell_type": "markdown",
   "id": "0871563c",
   "metadata": {},
   "source": [
    "Посмотрим, как распределяются данные в обеих группах по параметрам age, distance и duration."
   ]
  },
  {
   "cell_type": "code",
   "execution_count": 123,
   "id": "f4a9cc77",
   "metadata": {},
   "outputs": [
    {
     "data": {
      "image/png": "[encoded data removed]",
      "text/plain": [
       "<Figure size 1080x288 with 1 Axes>"
      ]
     },
     "metadata": {
      "needs_background": "light"
     },
     "output_type": "display_data"
    }
   ],
   "source": [
    "# Рассмотрим возраст пользователей с подпиской и без\n",
    "\n",
    "plt.figure(figsize=(15,4))\n",
    "\n",
    "plt.title('Возраст пользователей с подпиской и без подписки')\n",
    "\n",
    "x1 = list(data_ultra['age'])\n",
    "x2 = list(data_free['age'])\n",
    "\n",
    "colors = ['RoyalBlue', 'LightSteelBlue']\n",
    "names = ['Пользователи с подпиской', 'Пользователи без подписки']\n",
    "\n",
    "plt.hist([x1, x2], bins=30, color = colors, label = names)\n",
    "plt.legend()\n",
    "\n",
    "plt.xlabel('Расстояние, м')\n",
    "plt.ylabel('Количество пользователей');"
   ]
  },
  {
   "cell_type": "markdown",
   "id": "dafc5fd1",
   "metadata": {},
   "source": [
    "По возрасту распределение пользователей с подпиской более равномерное (нормальное распределение), нежели у пользователей без подписки. Во стором случае мы видим пик значений на отметке 25-26 лет, и довольно большой прирост пользователей от 21 до 28 лет."
   ]
  },
  {
   "cell_type": "code",
   "execution_count": 124,
   "id": "f5d85697",
   "metadata": {},
   "outputs": [
    {
     "data": {
      "image/png": "[encoded data removed]",
      "text/plain": [
       "<Figure size 1080x288 with 1 Axes>"
      ]
     },
     "metadata": {
      "needs_background": "light"
     },
     "output_type": "display_data"
    }
   ],
   "source": [
    "# Рассмотрим расстояние, которое проезжают пользователи с подпиской и без\n",
    "\n",
    "plt.figure(figsize=(15,4))\n",
    "\n",
    "plt.title('Дистанция за одну поездку пользователей с подпиской и без подписки')\n",
    "\n",
    "x1 = list(data_ultra['distance'])\n",
    "x2 = list(data_free['distance'])\n",
    "\n",
    "colors = ['DarkSlateBlue', 'SkyBlue']\n",
    "names = ['Пользователи с подпиской', 'Пользователи без подписки']\n",
    "\n",
    "plt.hist([x1, x2], bins=50, color = colors, label=names)\n",
    "plt.legend()\n",
    "\n",
    "plt.xlabel('Расстояние, м')\n",
    "plt.ylabel('Количество пользователей');\n"
   ]
  },
  {
   "cell_type": "markdown",
   "id": "95929e92",
   "metadata": {},
   "source": [
    "Здесь графики похожи, выделяются группы поездок:\n",
    "\n",
    "* у пользователей с подпиской:\n",
    "  * короткие - от 0 до 2 км\n",
    "  * средние - от 2 до 3,8 км (с пиком в 3,2-3,3 км)\n",
    "  * длинные - от 3,8 до 5 км\n",
    "  \n",
    "  \n",
    "* у пользователей без подписки:\n",
    "  * короткие - от 0 до 1,5 км\n",
    "  * средние - от 1,5 до 3,3 км (но тут неявный переход)\n",
    "  * длинные - от 3,3 до 6 км"
   ]
  },
  {
   "cell_type": "code",
   "execution_count": 125,
   "id": "bf5a1350",
   "metadata": {},
   "outputs": [
    {
     "data": {
      "image/png": "[encoded data removed]",
      "text/plain": [
       "<Figure size 1080x288 with 1 Axes>"
      ]
     },
     "metadata": {
      "needs_background": "light"
     },
     "output_type": "display_data"
    }
   ],
   "source": [
    "# Рассмотрим расстояние, которое проезжают пользователи с подпиской и без\n",
    "\n",
    "plt.figure(figsize=(15,4))\n",
    "plt.title('Продолжительность одной поездки пользователей с подпиской и без подписки')\n",
    "\n",
    "x1 = list(data_ultra['duration'])\n",
    "x2 = list(data_free['duration'])\n",
    "\n",
    "colors = ['DarkBlue', 'MediumAquamarine']\n",
    "names = ['Пользователи с подпиской', 'Пользователи без подписки']\n",
    "\n",
    "plt.hist([x1, x2], bins=50, color = colors, label=names)\n",
    "plt.legend()\n",
    "\n",
    "plt.xlabel('Продолжительность поездки, м')\n",
    "plt.ylabel('Количество пользователей');"
   ]
  },
  {
   "cell_type": "markdown",
   "id": "aa797c51",
   "metadata": {},
   "source": [
    "Продолжительнось поездки выглядит практически одинаково. Небольшие отличия: у пользователей с подпиской длительнсть поездки начинается с примерно 4-х минут и до 40 (чуть больше график смещен вправо), у пользователей без подписки поездки начинаются от 0 и длятся до 35 минут."
   ]
  },
  {
   "cell_type": "markdown",
   "id": "a8f84dec",
   "metadata": {},
   "source": [
    "И тут мы снова встречаем всплеск на 1й минуте у пользователей без подписки."
   ]
  },
  {
   "cell_type": "code",
   "execution_count": 126,
   "id": "c48d97fb",
   "metadata": {},
   "outputs": [
    {
     "data": {
      "text/html": [
       "<div>\n",
       "<style scoped>\n",
       "    .dataframe tbody tr th:only-of-type {\n",
       "        vertical-align: middle;\n",
       "    }\n",
       "\n",
       "    .dataframe tbody tr th {\n",
       "        vertical-align: top;\n",
       "    }\n",
       "\n",
       "    .dataframe thead th {\n",
       "        text-align: right;\n",
       "    }\n",
       "</style>\n",
       "<table border=\"1\" class=\"dataframe\">\n",
       "  <thead>\n",
       "    <tr style=\"text-align: right;\">\n",
       "      <th></th>\n",
       "      <th>0</th>\n",
       "    </tr>\n",
       "  </thead>\n",
       "  <tbody>\n",
       "    <tr>\n",
       "      <th>start_ride_price</th>\n",
       "      <td>4750</td>\n",
       "    </tr>\n",
       "    <tr>\n",
       "      <th>minute_price</th>\n",
       "      <td>760</td>\n",
       "    </tr>\n",
       "  </tbody>\n",
       "</table>\n",
       "</div>"
      ],
      "text/plain": [
       "                     0\n",
       "start_ride_price  4750\n",
       "minute_price       760"
      ]
     },
     "execution_count": 126,
     "metadata": {},
     "output_type": "execute_result"
    }
   ],
   "source": [
    "# Посмотрим, приносят ли они выручку\n",
    "\n",
    "data_free.query('duration <= 1')[['start_ride_price', 'minute_price']].sum().to_frame()"
   ]
  },
  {
   "cell_type": "markdown",
   "id": "cf4d4209",
   "metadata": {},
   "source": [
    "Да, пожалуй, удалять данные не нужно."
   ]
  },
  {
   "cell_type": "code",
   "execution_count": 127,
   "id": "1c57591a",
   "metadata": {},
   "outputs": [
    {
     "data": {
      "text/html": [
       "<div>\n",
       "<style scoped>\n",
       "    .dataframe tbody tr th:only-of-type {\n",
       "        vertical-align: middle;\n",
       "    }\n",
       "\n",
       "    .dataframe tbody tr th {\n",
       "        vertical-align: top;\n",
       "    }\n",
       "\n",
       "    .dataframe thead th {\n",
       "        text-align: right;\n",
       "    }\n",
       "</style>\n",
       "<table border=\"1\" class=\"dataframe\">\n",
       "  <thead>\n",
       "    <tr style=\"text-align: right;\">\n",
       "      <th></th>\n",
       "      <th>25</th>\n",
       "      <th>24</th>\n",
       "      <th>27</th>\n",
       "      <th>31</th>\n",
       "      <th>21</th>\n",
       "      <th>22</th>\n",
       "      <th>26</th>\n",
       "      <th>30</th>\n",
       "      <th>23</th>\n",
       "      <th>28</th>\n",
       "      <th>29</th>\n",
       "      <th>19</th>\n",
       "      <th>20</th>\n",
       "      <th>32</th>\n",
       "      <th>18</th>\n",
       "      <th>33</th>\n",
       "      <th>34</th>\n",
       "      <th>13</th>\n",
       "      <th>16</th>\n",
       "      <th>17</th>\n",
       "      <th>36</th>\n",
       "    </tr>\n",
       "  </thead>\n",
       "  <tbody>\n",
       "    <tr>\n",
       "      <th>age</th>\n",
       "      <td>12</td>\n",
       "      <td>9</td>\n",
       "      <td>8</td>\n",
       "      <td>8</td>\n",
       "      <td>7</td>\n",
       "      <td>6</td>\n",
       "      <td>6</td>\n",
       "      <td>6</td>\n",
       "      <td>6</td>\n",
       "      <td>5</td>\n",
       "      <td>5</td>\n",
       "      <td>3</td>\n",
       "      <td>3</td>\n",
       "      <td>2</td>\n",
       "      <td>2</td>\n",
       "      <td>2</td>\n",
       "      <td>1</td>\n",
       "      <td>1</td>\n",
       "      <td>1</td>\n",
       "      <td>1</td>\n",
       "      <td>1</td>\n",
       "    </tr>\n",
       "  </tbody>\n",
       "</table>\n",
       "</div>"
      ],
      "text/plain": [
       "     25  24  27  31  21  22  26  30  23  28  29  19  20  32  18  33  34  13  \\\n",
       "age  12   9   8   8   7   6   6   6   6   5   5   3   3   2   2   2   1   1   \n",
       "\n",
       "     16  17  36  \n",
       "age   1   1   1  "
      ]
     },
     "execution_count": 127,
     "metadata": {},
     "output_type": "execute_result"
    }
   ],
   "source": [
    "data_free.query('duration <= 1')['age'].value_counts().to_frame().T"
   ]
  },
  {
   "cell_type": "markdown",
   "id": "edbdc7a0",
   "metadata": {},
   "source": [
    "А пользователи разного, довольно сознательного возраста в этой группе. Не понятно, почему возникает этот всплеск."
   ]
  },
  {
   "cell_type": "markdown",
   "id": "c89c8fd5",
   "metadata": {},
   "source": [
    "#### Шаг 5. Подсчёт выручки"
   ]
  },
  {
   "cell_type": "markdown",
   "id": "9cb536ea",
   "metadata": {},
   "source": [
    "Создадим файл с агрегированными данными о поездках на основе объединенного файла из предыдущего шага: найдем суммарное расстояние, количество поездок и суммарное время для каждого пользователя за каждый месяц."
   ]
  },
  {
   "cell_type": "code",
   "execution_count": 128,
   "id": "ddbd9ed7",
   "metadata": {},
   "outputs": [],
   "source": [
    "# Округлим до верхнего ближайшего целого числа продолжительность поездки\n",
    "\n",
    "data['duration'] = np.ceil(data['duration'])"
   ]
  },
  {
   "cell_type": "code",
   "execution_count": 129,
   "id": "ce3b95ab",
   "metadata": {},
   "outputs": [],
   "source": [
    "# Создадим новый файл на основе сводной таблицы\n",
    "# Добавим также вспомогательные колонки для расчета\n",
    "\n",
    "data_agg = data.pivot_table(\n",
    "    index=['month_num', 'user_id'],\n",
    "    values=['distance', 'duration', 'name', 'subscription_type', 'start_ride_price', 'minute_price', 'subscription_fee'],\n",
    "    aggfunc=(\n",
    "        {'distance':'sum', 'duration':'sum', 'name':\"count\", 'subscription_type':'first', 'start_ride_price':'first', 'minute_price':'first', 'subscription_fee':'first'}\n",
    "    )\n",
    ").reset_index(\n",
    ").rename(\n",
    "    columns=(\n",
    "        {'name':'count'}\n",
    "    )\n",
    ")"
   ]
  },
  {
   "cell_type": "code",
   "execution_count": 130,
   "id": "7b7bc233",
   "metadata": {},
   "outputs": [
    {
     "name": "stdout",
     "output_type": "stream",
     "text": [
      "<class 'pandas.core.frame.DataFrame'>\n",
      "RangeIndex: 11331 entries, 0 to 11330\n",
      "Data columns (total 9 columns):\n",
      " #   Column             Non-Null Count  Dtype  \n",
      "---  ------             --------------  -----  \n",
      " 0   month_num          11331 non-null  int64  \n",
      " 1   user_id            11331 non-null  int64  \n",
      " 2   distance           11331 non-null  float64\n",
      " 3   duration           11331 non-null  float64\n",
      " 4   minute_price       11331 non-null  int64  \n",
      " 5   count              11331 non-null  int64  \n",
      " 6   start_ride_price   11331 non-null  int64  \n",
      " 7   subscription_fee   11331 non-null  int64  \n",
      " 8   subscription_type  11331 non-null  object \n",
      "dtypes: float64(2), int64(6), object(1)\n",
      "memory usage: 796.8+ KB\n"
     ]
    }
   ],
   "source": [
    "data_agg.info()"
   ]
  },
  {
   "cell_type": "markdown",
   "id": "c29747cd",
   "metadata": {},
   "source": [
    "UPD:\n",
    "\n",
    "Пропусков в талбицах нет."
   ]
  },
  {
   "cell_type": "markdown",
   "id": "6af0510d",
   "metadata": {},
   "source": [
    "Добавим в наш новый файл с агрегированными данные выручку по каждому пользователю по месячно."
   ]
  },
  {
   "cell_type": "code",
   "execution_count": 131,
   "id": "55cf9f1e",
   "metadata": {},
   "outputs": [],
   "source": [
    "# В сводной таблице добавим колонку с выручкой\n",
    "\n",
    "data_agg['revenue'] = data_agg['start_ride_price'] * data_agg['count'] + data_agg['minute_price'] * data_agg['duration'] + data_agg['subscription_fee']"
   ]
  },
  {
   "cell_type": "code",
   "execution_count": 132,
   "id": "3552e32d",
   "metadata": {
    "scrolled": true
   },
   "outputs": [
    {
     "name": "stdout",
     "output_type": "stream",
     "text": [
      "<class 'pandas.core.frame.DataFrame'>\n",
      "RangeIndex: 11331 entries, 0 to 11330\n",
      "Data columns (total 10 columns):\n",
      " #   Column             Non-Null Count  Dtype  \n",
      "---  ------             --------------  -----  \n",
      " 0   month_num          11331 non-null  int64  \n",
      " 1   user_id            11331 non-null  int64  \n",
      " 2   distance           11331 non-null  float64\n",
      " 3   duration           11331 non-null  float64\n",
      " 4   minute_price       11331 non-null  int64  \n",
      " 5   count              11331 non-null  int64  \n",
      " 6   start_ride_price   11331 non-null  int64  \n",
      " 7   subscription_fee   11331 non-null  int64  \n",
      " 8   subscription_type  11331 non-null  object \n",
      " 9   revenue            11331 non-null  float64\n",
      "dtypes: float64(3), int64(6), object(1)\n",
      "memory usage: 885.4+ KB\n"
     ]
    }
   ],
   "source": [
    "# Посмотрим, что получилось\n",
    "\n",
    "data_agg.info()"
   ]
  },
  {
   "cell_type": "code",
   "execution_count": 133,
   "id": "01cf7772",
   "metadata": {},
   "outputs": [
    {
     "data": {
      "text/html": [
       "<div>\n",
       "<style scoped>\n",
       "    .dataframe tbody tr th:only-of-type {\n",
       "        vertical-align: middle;\n",
       "    }\n",
       "\n",
       "    .dataframe tbody tr th {\n",
       "        vertical-align: top;\n",
       "    }\n",
       "\n",
       "    .dataframe thead th {\n",
       "        text-align: right;\n",
       "    }\n",
       "</style>\n",
       "<table border=\"1\" class=\"dataframe\">\n",
       "  <thead>\n",
       "    <tr style=\"text-align: right;\">\n",
       "      <th></th>\n",
       "      <th>month_num</th>\n",
       "      <th>user_id</th>\n",
       "      <th>distance</th>\n",
       "      <th>duration</th>\n",
       "      <th>minute_price</th>\n",
       "      <th>count</th>\n",
       "      <th>start_ride_price</th>\n",
       "      <th>subscription_fee</th>\n",
       "      <th>subscription_type</th>\n",
       "      <th>revenue</th>\n",
       "    </tr>\n",
       "  </thead>\n",
       "  <tbody>\n",
       "    <tr>\n",
       "      <th>0</th>\n",
       "      <td>1</td>\n",
       "      <td>1</td>\n",
       "      <td>7027.51</td>\n",
       "      <td>42.00</td>\n",
       "      <td>6</td>\n",
       "      <td>2</td>\n",
       "      <td>0</td>\n",
       "      <td>199</td>\n",
       "      <td>ultra</td>\n",
       "      <td>451.00</td>\n",
       "    </tr>\n",
       "    <tr>\n",
       "      <th>1</th>\n",
       "      <td>1</td>\n",
       "      <td>3</td>\n",
       "      <td>3061.78</td>\n",
       "      <td>13.00</td>\n",
       "      <td>6</td>\n",
       "      <td>1</td>\n",
       "      <td>0</td>\n",
       "      <td>199</td>\n",
       "      <td>ultra</td>\n",
       "      <td>277.00</td>\n",
       "    </tr>\n",
       "    <tr>\n",
       "      <th>2</th>\n",
       "      <td>1</td>\n",
       "      <td>5</td>\n",
       "      <td>3914.65</td>\n",
       "      <td>13.00</td>\n",
       "      <td>6</td>\n",
       "      <td>1</td>\n",
       "      <td>0</td>\n",
       "      <td>199</td>\n",
       "      <td>ultra</td>\n",
       "      <td>277.00</td>\n",
       "    </tr>\n",
       "    <tr>\n",
       "      <th>3</th>\n",
       "      <td>1</td>\n",
       "      <td>7</td>\n",
       "      <td>6478.08</td>\n",
       "      <td>28.00</td>\n",
       "      <td>6</td>\n",
       "      <td>2</td>\n",
       "      <td>0</td>\n",
       "      <td>199</td>\n",
       "      <td>ultra</td>\n",
       "      <td>367.00</td>\n",
       "    </tr>\n",
       "    <tr>\n",
       "      <th>4</th>\n",
       "      <td>1</td>\n",
       "      <td>12</td>\n",
       "      <td>3577.15</td>\n",
       "      <td>33.00</td>\n",
       "      <td>6</td>\n",
       "      <td>1</td>\n",
       "      <td>0</td>\n",
       "      <td>199</td>\n",
       "      <td>ultra</td>\n",
       "      <td>397.00</td>\n",
       "    </tr>\n",
       "  </tbody>\n",
       "</table>\n",
       "</div>"
      ],
      "text/plain": [
       "   month_num  user_id  distance  duration  minute_price  count  \\\n",
       "0          1        1   7027.51     42.00             6      2   \n",
       "1          1        3   3061.78     13.00             6      1   \n",
       "2          1        5   3914.65     13.00             6      1   \n",
       "3          1        7   6478.08     28.00             6      2   \n",
       "4          1       12   3577.15     33.00             6      1   \n",
       "\n",
       "   start_ride_price  subscription_fee subscription_type  revenue  \n",
       "0                 0               199             ultra   451.00  \n",
       "1                 0               199             ultra   277.00  \n",
       "2                 0               199             ultra   277.00  \n",
       "3                 0               199             ultra   367.00  \n",
       "4                 0               199             ultra   397.00  "
      ]
     },
     "execution_count": 133,
     "metadata": {},
     "output_type": "execute_result"
    }
   ],
   "source": [
    "data_agg.head()"
   ]
  },
  {
   "cell_type": "code",
   "execution_count": 134,
   "id": "8b806ec2",
   "metadata": {},
   "outputs": [
    {
     "data": {
      "image/png": "[encoded data removed]",
      "text/plain": [
       "<Figure size 360x360 with 1 Axes>"
      ]
     },
     "metadata": {},
     "output_type": "display_data"
    }
   ],
   "source": [
    "# Посмотрим на распределение выручки от пользователей с подпиской и без\n",
    "\n",
    "data_agg.groupby('subscription_type')['revenue'].sum().to_frame(\n",
    ").plot(\n",
    "    title=\"Доля выручки пользователей с подпиской и без подписки\",\n",
    "    y='revenue',\n",
    "    kind = 'pie',\n",
    "    fontsize = 14,\n",
    "    autopct='%1.1f%%',\n",
    "    figsize=(5,5)\n",
    ");"
   ]
  },
  {
   "cell_type": "markdown",
   "id": "2411e99a",
   "metadata": {},
   "source": [
    "Суммарно выручка пользователей без подписки выше, чем пользователей с подпиской. Но мы знаем, что и доля их в общем числе пользователей несколько выше."
   ]
  },
  {
   "cell_type": "code",
   "execution_count": 135,
   "id": "b283cb52",
   "metadata": {},
   "outputs": [
    {
     "data": {
      "text/html": [
       "<div>\n",
       "<style scoped>\n",
       "    .dataframe tbody tr th:only-of-type {\n",
       "        vertical-align: middle;\n",
       "    }\n",
       "\n",
       "    .dataframe tbody tr th {\n",
       "        vertical-align: top;\n",
       "    }\n",
       "\n",
       "    .dataframe thead th {\n",
       "        text-align: right;\n",
       "    }\n",
       "</style>\n",
       "<table border=\"1\" class=\"dataframe\">\n",
       "  <thead>\n",
       "    <tr style=\"text-align: right;\">\n",
       "      <th></th>\n",
       "      <th>revenue</th>\n",
       "    </tr>\n",
       "    <tr>\n",
       "      <th>subscription_type</th>\n",
       "      <th></th>\n",
       "    </tr>\n",
       "  </thead>\n",
       "  <tbody>\n",
       "    <tr>\n",
       "      <th>free</th>\n",
       "      <td>328.64</td>\n",
       "    </tr>\n",
       "    <tr>\n",
       "      <th>ultra</th>\n",
       "      <td>362.79</td>\n",
       "    </tr>\n",
       "  </tbody>\n",
       "</table>\n",
       "</div>"
      ],
      "text/plain": [
       "                   revenue\n",
       "subscription_type         \n",
       "free                328.64\n",
       "ultra               362.79"
      ]
     },
     "execution_count": 135,
     "metadata": {},
     "output_type": "execute_result"
    }
   ],
   "source": [
    "# Посмотрим выручку в расчете на одного пользователя\n",
    "\n",
    "(data_agg.groupby('subscription_type')['revenue'].sum() / data_agg.groupby('subscription_type')['revenue'].count()).to_frame()"
   ]
  },
  {
   "cell_type": "markdown",
   "id": "12ef4eb9",
   "metadata": {},
   "source": [
    "Здесь получается, что пользователь с подпиской приносит на 9,5 % больше выручки, чем пользователь без подписки. Даже с учетом количества пользователей в обеих группах и числа поездок."
   ]
  },
  {
   "cell_type": "markdown",
   "id": "dfa4bf2b",
   "metadata": {},
   "source": [
    "#### Шаг 6. Проверка гипотез"
   ]
  },
  {
   "cell_type": "markdown",
   "id": "92ccdd6e",
   "metadata": {},
   "source": [
    "Теперь попробуем проверить гипотезы о различии (или нет) ряда определенных параметров для пользователей с подпиской и без."
   ]
  },
  {
   "cell_type": "markdown",
   "id": "c955891b",
   "metadata": {},
   "source": [
    "##### Продолжительность поездки"
   ]
  },
  {
   "cell_type": "markdown",
   "id": "49a4fd4c",
   "metadata": {},
   "source": [
    "UPD:\n",
    "\n",
    "Нулевая гипотеза: Средняя продолжительность сессии для пользователей с подпиской равна средней продолжительности сессии для пользователей без подписки."
   ]
  },
  {
   "cell_type": "markdown",
   "id": "6fcf10f1",
   "metadata": {},
   "source": [
    "UPD:\n",
    "\n",
    "Альтернативная гипотеза: Средняя продолжительность сессии для пользователей с подпиской больше срденей продолжительности сессии для пользователей без подписки."
   ]
  },
  {
   "cell_type": "code",
   "execution_count": 136,
   "id": "1beecc5d",
   "metadata": {},
   "outputs": [],
   "source": [
    "# Зададим уровень статистической значимости\n",
    "\n",
    "alpha = 0.05"
   ]
  },
  {
   "cell_type": "code",
   "execution_count": 137,
   "id": "6f8e4a5d",
   "metadata": {},
   "outputs": [],
   "source": [
    "#  В новую переменную сохраним данные о распределении вероятностей\n",
    "\n",
    "results = st.ttest_ind(data_ultra['duration'],  data_free['duration'], alternative = 'greater')"
   ]
  },
  {
   "cell_type": "code",
   "execution_count": 138,
   "id": "55fe0f26",
   "metadata": {},
   "outputs": [
    {
     "data": {
      "text/plain": [
       "1.2804098316645618e-34"
      ]
     },
     "execution_count": 138,
     "metadata": {},
     "output_type": "execute_result"
    }
   ],
   "source": [
    "# Выведем p-value\n",
    "\n",
    "results.pvalue"
   ]
  },
  {
   "cell_type": "markdown",
   "id": "11d64c36",
   "metadata": {},
   "source": [
    "Вероятность при верной нулевой гипотезе получить наблюдаемое значение или больше, крайне низка. "
   ]
  },
  {
   "cell_type": "code",
   "execution_count": 139,
   "id": "e25506d8",
   "metadata": {
    "scrolled": true
   },
   "outputs": [
    {
     "name": "stdout",
     "output_type": "stream",
     "text": [
      "Отвергаем нулевую гипотезу о том, что продолжительности сессий для пользователей с подпиской и без равны\n"
     ]
    }
   ],
   "source": [
    "if results.pvalue < alpha:\n",
    "    print('Отвергаем нулевую гипотезу о том, что продолжительности сессий для пользователей с подпиской и без равны')\n",
    "else:\n",
    "    print('Не получилось отвергнуть нулевую гипотезу о том, что продолжительности сессий для пользователей с подпиской и без равны')"
   ]
  },
  {
   "cell_type": "markdown",
   "id": "519c1406",
   "metadata": {},
   "source": [
    "**Вывод:**\n",
    "Нулевая гипотеза отвергнута, есть основания утверждать, что средняя продолжительность каждой сессии пользователей с подпиской больше, чем пользователей без подписки."
   ]
  },
  {
   "cell_type": "markdown",
   "id": "db895e7a",
   "metadata": {},
   "source": [
    "##### Расстояние поездки"
   ]
  },
  {
   "cell_type": "markdown",
   "id": "b689a4f6",
   "metadata": {},
   "source": [
    "Нулевая гипотеза: Среднее расстояние, которое проезжают пользователи с подпиской за одну поездку, не превышает 3130 метров."
   ]
  },
  {
   "cell_type": "markdown",
   "id": "ff659ce8",
   "metadata": {},
   "source": [
    "Альтернативная гипотеза: Среднее расстояние, которое проезжают пользователи с подпиской за одну поездку, превышает 3130 метров."
   ]
  },
  {
   "cell_type": "code",
   "execution_count": 140,
   "id": "717e730a",
   "metadata": {},
   "outputs": [],
   "source": [
    "# Зададим уровень статистической значимости\n",
    "\n",
    "alpha = 0.05"
   ]
  },
  {
   "cell_type": "code",
   "execution_count": 141,
   "id": "737d8580",
   "metadata": {},
   "outputs": [],
   "source": [
    "# Зададим значение оптимального расстояния\n",
    "\n",
    "optimal_distance = 3130"
   ]
  },
  {
   "cell_type": "code",
   "execution_count": 142,
   "id": "8c3d4b50",
   "metadata": {},
   "outputs": [],
   "source": [
    "#  В новую переменную сохраним данные о распределении вероятностей\n",
    "\n",
    "results = st.ttest_1samp(data_ultra['distance'], optimal_distance, alternative = 'greater')"
   ]
  },
  {
   "cell_type": "code",
   "execution_count": 143,
   "id": "367f5825",
   "metadata": {},
   "outputs": [
    {
     "data": {
      "text/plain": [
       "0.9195368847849785"
      ]
     },
     "execution_count": 143,
     "metadata": {},
     "output_type": "execute_result"
    }
   ],
   "source": [
    "# Выведем p-value\n",
    "\n",
    "results.pvalue"
   ]
  },
  {
   "cell_type": "code",
   "execution_count": 144,
   "id": "5e92b964",
   "metadata": {
    "scrolled": true
   },
   "outputs": [
    {
     "name": "stdout",
     "output_type": "stream",
     "text": [
      "Не получилось отвергнуть нулевую гипотезу о том, что Среднее расстояние, которое проезжают пользователи с подпиской за одну поездку, не превышает 3130 метров\n"
     ]
    }
   ],
   "source": [
    "if results.pvalue < alpha:\n",
    "    print('Отвергаем нулевую гипотезу о том, что Среднее расстояние, которое проезжают пользователи с подпиской за одну поездку, не превышает 3130 метров')\n",
    "else:\n",
    "    print('Не получилось отвергнуть нулевую гипотезу о том, что Среднее расстояние, которое проезжают пользователи с подпиской за одну поездку, не превышает 3130 метров')"
   ]
  },
  {
   "cell_type": "markdown",
   "id": "6ad2a276",
   "metadata": {},
   "source": [
    "UPD\n",
    "\n",
    "**Вывод:**\n",
    "Не получилось отвергнуть нулевую гипотезу, что среднее расстояние, которое проезжают пользователи с подпиской за одну поездку, превышает 3130 метров. \n",
    "\n",
    "Следовательно, износ самокатов, вероятно, не превышает оптимальное значение."
   ]
  },
  {
   "cell_type": "markdown",
   "id": "625de51f",
   "metadata": {},
   "source": [
    "##### Выручка от пользователей с подпиской и пользователей без подписки"
   ]
  },
  {
   "cell_type": "markdown",
   "id": "3b0a32ef",
   "metadata": {},
   "source": [
    "UPD\n",
    "\n",
    "Нулевая гипотеза: Средняя помесячная выручка от пользователей с подпиской по месяцам равна средней выручке от пользователей без подписки."
   ]
  },
  {
   "cell_type": "markdown",
   "id": "65dce2c1",
   "metadata": {},
   "source": [
    "UPD\n",
    "\n",
    "Альтернативная гипотеза: Средняя помесячная выручка от пользователей с подпиской по месяцам выше, чем средняя выручка от пользователей без подписки."
   ]
  },
  {
   "cell_type": "code",
   "execution_count": 145,
   "id": "63991143",
   "metadata": {},
   "outputs": [],
   "source": [
    "# Зададим уровень статистической значимости\n",
    "\n",
    "alpha = 0.05"
   ]
  },
  {
   "cell_type": "code",
   "execution_count": 146,
   "id": "e6e97640",
   "metadata": {},
   "outputs": [],
   "source": [
    "#  В новую переменную сохраним данные о распределении вероятностей\n",
    "\n",
    "results = st.ttest_ind(data_agg.query('subscription_type == \"ultra\"')['revenue'],  data_agg.query('subscription_type == \"free\"')['revenue'], alternative = 'greater')"
   ]
  },
  {
   "cell_type": "code",
   "execution_count": 147,
   "id": "084e278e",
   "metadata": {},
   "outputs": [
    {
     "data": {
      "text/plain": [
       "1.8850394384715216e-31"
      ]
     },
     "execution_count": 147,
     "metadata": {},
     "output_type": "execute_result"
    }
   ],
   "source": [
    "# Выведем p-value\n",
    "\n",
    "results.pvalue"
   ]
  },
  {
   "cell_type": "code",
   "execution_count": 148,
   "id": "340c3d0a",
   "metadata": {
    "scrolled": true
   },
   "outputs": [
    {
     "name": "stdout",
     "output_type": "stream",
     "text": [
      "Отвергаем нулевую гипотезу о том, что продолжительности сессий для пользователей с подпиской и без равны\n"
     ]
    }
   ],
   "source": [
    "if results.pvalue < alpha:\n",
    "    print('Отвергаем нулевую гипотезу о том, что продолжительности сессий для пользователей с подпиской и без равны')\n",
    "else:\n",
    "    print('Не получилось отвергнуть нулевую гипотезу о том, что продолжительности сессий для пользователей с подпиской и без равны')"
   ]
  },
  {
   "cell_type": "markdown",
   "id": "68468471",
   "metadata": {},
   "source": [
    "**Вывод:**\n",
    "Нулевая гипотеза отвергнута, есть основания утверждать, что средняя месячная выручка пользователей Ultra выше средней выручки пользователей Free"
   ]
  },
  {
   "cell_type": "markdown",
   "id": "22e7c56c",
   "metadata": {},
   "source": [
    "##### Обновление сервера"
   ]
  },
  {
   "cell_type": "markdown",
   "id": "6d6598a8",
   "metadata": {},
   "source": [
    "Здесь речь идет о проверке состояния генеральной совокупности ДО и ПОСЛЕ изменений. Т.е. Проверяем гипотезу о равенстве средних двух зависимых (парных) выборок:\n",
    "\n",
    "st.ttest_rel()"
   ]
  },
  {
   "cell_type": "markdown",
   "id": "914ddbb7",
   "metadata": {},
   "source": [
    "UPD\n",
    "\n",
    "Речь идет о проверке односторонней гипотезы. И, насколько я поняла, нужно проверять правостороннюю гипотезу, задав параметр alternative = 'greater'. Те выполнится проверка, что среднее количество обращений До изменения было Меньше, чем После. "
   ]
  },
  {
   "cell_type": "markdown",
   "id": "52598a15",
   "metadata": {},
   "source": [
    "#### Шаг 7. Распределения"
   ]
  },
  {
   "cell_type": "markdown",
   "id": "7a0c1d54",
   "metadata": {},
   "source": [
    "##### Промо-коды"
   ]
  },
  {
   "cell_type": "markdown",
   "id": "eb500ac1",
   "metadata": {},
   "source": [
    "В данном условии речь идет о биномиальном распределении."
   ]
  },
  {
   "cell_type": "markdown",
   "id": "f477d05a",
   "metadata": {},
   "source": [
    "В пределах вероятности до 5% находится крайне незначительная часть графика при n=150"
   ]
  },
  {
   "cell_type": "markdown",
   "id": "b4c9804e",
   "metadata": {},
   "source": [
    "mu = n * p"
   ]
  },
  {
   "cell_type": "markdown",
   "id": "5e9184e5",
   "metadata": {},
   "source": [
    "sigma = sqrt(n * p * (1 - p))"
   ]
  },
  {
   "cell_type": "markdown",
   "id": "e26f7f0d",
   "metadata": {},
   "source": [
    "distr = st.norm(mu, sigma)"
   ]
  },
  {
   "cell_type": "markdown",
   "id": "ccf753a6",
   "metadata": {},
   "source": [
    "x = 100"
   ]
  },
  {
   "cell_type": "markdown",
   "id": "00f5f5e5",
   "metadata": {
    "scrolled": false
   },
   "source": [
    "result = distr.cdf(x)\n",
    "print(result)"
   ]
  },
  {
   "cell_type": "markdown",
   "id": "1c61ac13",
   "metadata": {},
   "source": [
    "##### Push-уведомления"
   ]
  },
  {
   "cell_type": "code",
   "execution_count": 149,
   "id": "078baa47",
   "metadata": {},
   "outputs": [],
   "source": [
    "# Количество уведомлений, которое планируют разослать\n",
    "\n",
    "n = 1000000"
   ]
  },
  {
   "cell_type": "code",
   "execution_count": 150,
   "id": "185fb9a6",
   "metadata": {},
   "outputs": [],
   "source": [
    "# Вероятность открытия уведомления\n",
    "\n",
    "p = 0.4"
   ]
  },
  {
   "cell_type": "code",
   "execution_count": 151,
   "id": "9cf53126",
   "metadata": {},
   "outputs": [],
   "source": [
    "# Математическое ожидание\n",
    "\n",
    "mu = n * p"
   ]
  },
  {
   "cell_type": "code",
   "execution_count": 152,
   "id": "69b0620f",
   "metadata": {},
   "outputs": [],
   "source": [
    "# Стандартное отклонение\n",
    "\n",
    "sigma = sqrt(n * p * (1 - p))"
   ]
  },
  {
   "cell_type": "code",
   "execution_count": 153,
   "id": "aa6080d1",
   "metadata": {},
   "outputs": [],
   "source": [
    "# Распределение вероятностей\n",
    "\n",
    "distr = st.norm(mu, sigma)"
   ]
  },
  {
   "cell_type": "code",
   "execution_count": 154,
   "id": "4f8731e3",
   "metadata": {},
   "outputs": [],
   "source": [
    "# Вероятность получить, не более 399,5 тыс открытий (проверяем левый хвост)\n",
    "\n",
    "result = distr.cdf(399500)"
   ]
  },
  {
   "cell_type": "code",
   "execution_count": 155,
   "id": "4e0c6b05",
   "metadata": {},
   "outputs": [
    {
     "data": {
      "text/plain": [
       "15.37"
      ]
     },
     "execution_count": 155,
     "metadata": {},
     "output_type": "execute_result"
    }
   ],
   "source": [
    "# Значение вероятности в процентах\n",
    "\n",
    "round(result*100, 2)"
   ]
  },
  {
   "cell_type": "markdown",
   "id": "a45561fc",
   "metadata": {},
   "source": [
    "Вероятность, что уведомление откроют не больше 399,5 тыс пользователей 15,37% - относительно небольшая. Скорее всего число открывших уведомление, будет превышать 399,5 тыс."
   ]
  },
  {
   "cell_type": "markdown",
   "id": "a2f7d166",
   "metadata": {},
   "source": [
    "#### Общий вывод"
   ]
  },
  {
   "cell_type": "markdown",
   "id": "11a1c713",
   "metadata": {},
   "source": [
    "Полученные исходные данные корректны: нет пропусков, не много явных дубликатов. \n",
    "\n",
    "Данные распределены по городам в сравнимых пропорциях. Больше всего данных по Пятигорску, меньше всего по Москве. \n",
    "\n",
    "Доля пользователей без подписки (54,1%) несколько больше доли пользователей с подпиской (45,9%).\n",
    "\n",
    "Основная возрастная группа: от 22 до 28 лет, медианный возраст пользователей - 25 лет. \n",
    "\n",
    "В параметре Рассстояние за одну поездку наблюдаются две группы: короткие поездки (до 1,5 км, с пиком в ~ 800м) и длительные (от 1,5 до 6-7км,  с пиком в 2,8-3,4км).\n",
    "Медианное расстояние составляет 3,133км.\n",
    "Следует отметить, что это незначительно превышает оптимальное расстояние с точки зрения износа самокатов. (на 0,01%, те разница ничтожна)\n",
    "Возможно, здесь есть ошибка в единицах измерения (м вместо км).\n",
    "\n",
    "Длительность поездок распределена довольно равномерно до 35 минут, с пиком в 15-20 мин. \n",
    "Медианное значение составляет 17,68 минут.\n",
    "Однако, здесь есть выброс в пределах 0-1 минут, 95 поездок. Возможно, это сбой или ошибка приложения. \n",
    "\n",
    "После слияния таблиц, было выявлено, что количество поездок у пользователей с подпиской почти вдвое меньше, чем у пользователей без подписки. По возрасту эти группы практически не отличаются. А расстояние за одну поездку и длительность одной поездки чуть выше в группе пользователей с подпиской.\n",
    "\n",
    "Суммарная выручка выше для пользователей без подписки. Но в среднем, пользователь с подпиской приносит на 9,5% выручки больше, чем пользователь без подписки, хотя количество поездок у пользователей с подпиской почти в 2 раза ниже, чем у пользователей без подписки.\n",
    "\n",
    "В результате проверки гипотез для пользователей с подпиской (по сравнению с пользователями без подписки) есть основания утверждать, что:\n",
    "* Средняя продолжительность каждой сессии дольше\n",
    "* Среднее расстояние за одну поездку незначительно превышает 3 130 метров\n",
    "* Средняя месячная выручка выше\n",
    "\n",
    "При Обновлении сервера проверить, снизится ли число обращений в тех поддержку, можно будет с помощью метода .st.ttest_rel().(Правая односторонняя проверка гипотезы о равенстве средних двух зависимых (парных) выборок.)\n",
    "\n",
    "В целом, получается, что пользователи с подпиской более выгодны компании, чем пользователи без подписки. Число поездок у них в 2 раза меньше, расстояние (медианное) незначительно превышает оптимальное для износа саомката, а выручки каждый пользователь приносит на 9,5% больше, чем пользователь без подписки."
   ]
  }
 ],
 "metadata": {
  "ExecuteTimeLog": [
   {
    "duration": 133,
    "start_time": "2023-11-22T15:38:36.372Z"
   },
   {
    "duration": 174,
    "start_time": "2023-11-22T15:38:46.970Z"
   },
   {
    "duration": 1207,
    "start_time": "2023-11-22T15:39:09.255Z"
   },
   {
    "duration": 98,
    "start_time": "2023-11-22T15:40:03.798Z"
   },
   {
    "duration": 127,
    "start_time": "2023-11-22T15:40:12.271Z"
   },
   {
    "duration": 50,
    "start_time": "2023-11-22T15:41:40.273Z"
   },
   {
    "duration": 111,
    "start_time": "2023-11-22T15:42:08.449Z"
   },
   {
    "duration": 82,
    "start_time": "2023-11-22T15:42:50.585Z"
   },
   {
    "duration": 3,
    "start_time": "2023-11-22T15:45:07.819Z"
   },
   {
    "duration": 16,
    "start_time": "2023-11-22T15:45:18.132Z"
   },
   {
    "duration": 3,
    "start_time": "2023-11-22T15:47:06.538Z"
   },
   {
    "duration": 21,
    "start_time": "2023-11-22T15:47:07.870Z"
   },
   {
    "duration": 3,
    "start_time": "2023-11-22T15:48:22.134Z"
   },
   {
    "duration": 2,
    "start_time": "2023-11-22T15:48:34.063Z"
   },
   {
    "duration": 19,
    "start_time": "2023-11-22T15:48:34.399Z"
   },
   {
    "duration": 4,
    "start_time": "2023-11-22T15:49:09.511Z"
   },
   {
    "duration": 21,
    "start_time": "2023-11-22T15:49:09.831Z"
   },
   {
    "duration": 4,
    "start_time": "2023-11-22T15:49:29.159Z"
   },
   {
    "duration": 18,
    "start_time": "2023-11-22T15:49:29.783Z"
   },
   {
    "duration": 3,
    "start_time": "2023-11-22T15:50:07.928Z"
   },
   {
    "duration": 4,
    "start_time": "2023-11-22T15:51:20.001Z"
   },
   {
    "duration": 20,
    "start_time": "2023-11-22T15:51:20.304Z"
   },
   {
    "duration": 3,
    "start_time": "2023-11-22T15:51:39.025Z"
   },
   {
    "duration": 20,
    "start_time": "2023-11-22T15:51:39.424Z"
   },
   {
    "duration": 3,
    "start_time": "2023-11-22T15:51:48.689Z"
   },
   {
    "duration": 15,
    "start_time": "2023-11-22T15:51:49.410Z"
   },
   {
    "duration": 3,
    "start_time": "2023-11-22T15:52:10.250Z"
   },
   {
    "duration": 13,
    "start_time": "2023-11-22T15:52:10.594Z"
   },
   {
    "duration": 3,
    "start_time": "2023-11-22T15:55:49.614Z"
   },
   {
    "duration": 13,
    "start_time": "2023-11-22T15:55:50.373Z"
   },
   {
    "duration": 17,
    "start_time": "2023-11-22T15:55:59.652Z"
   },
   {
    "duration": 13,
    "start_time": "2023-11-22T15:56:20.942Z"
   },
   {
    "duration": 5,
    "start_time": "2023-11-22T15:56:35.766Z"
   },
   {
    "duration": 3,
    "start_time": "2023-11-22T15:57:13.606Z"
   },
   {
    "duration": 12,
    "start_time": "2023-11-22T15:57:13.911Z"
   },
   {
    "duration": 3,
    "start_time": "2023-11-22T15:57:24.871Z"
   },
   {
    "duration": 13,
    "start_time": "2023-11-22T15:57:25.350Z"
   },
   {
    "duration": 16,
    "start_time": "2023-11-22T15:57:27.030Z"
   },
   {
    "duration": 10,
    "start_time": "2023-11-22T15:57:29.447Z"
   },
   {
    "duration": 3,
    "start_time": "2023-11-22T15:57:41.750Z"
   },
   {
    "duration": 13,
    "start_time": "2023-11-22T15:58:14.847Z"
   },
   {
    "duration": 13,
    "start_time": "2023-11-22T15:58:47.976Z"
   },
   {
    "duration": 3,
    "start_time": "2023-11-22T15:58:56.824Z"
   },
   {
    "duration": 14,
    "start_time": "2023-11-22T15:58:57.224Z"
   },
   {
    "duration": 4,
    "start_time": "2023-11-22T15:59:29.433Z"
   },
   {
    "duration": 4,
    "start_time": "2023-11-22T15:59:33.833Z"
   },
   {
    "duration": 13,
    "start_time": "2023-11-22T15:59:34.249Z"
   },
   {
    "duration": 3,
    "start_time": "2023-11-22T15:59:52.178Z"
   },
   {
    "duration": 13,
    "start_time": "2023-11-22T15:59:52.611Z"
   },
   {
    "duration": 3,
    "start_time": "2023-11-22T16:00:17.266Z"
   },
   {
    "duration": 12,
    "start_time": "2023-11-22T16:00:17.546Z"
   },
   {
    "duration": 161,
    "start_time": "2023-11-22T16:00:56.634Z"
   },
   {
    "duration": 13,
    "start_time": "2023-11-22T16:00:56.929Z"
   },
   {
    "duration": 81,
    "start_time": "2023-11-22T16:01:35.555Z"
   },
   {
    "duration": 13,
    "start_time": "2023-11-22T16:01:36.155Z"
   },
   {
    "duration": 83,
    "start_time": "2023-11-22T16:01:48.379Z"
   },
   {
    "duration": 126,
    "start_time": "2023-11-22T16:01:51.235Z"
   },
   {
    "duration": 13,
    "start_time": "2023-11-22T16:01:51.899Z"
   },
   {
    "duration": 14,
    "start_time": "2023-11-22T16:02:58.274Z"
   },
   {
    "duration": 12,
    "start_time": "2023-11-22T16:03:09.156Z"
   },
   {
    "duration": 13,
    "start_time": "2023-11-22T16:03:14.227Z"
   },
   {
    "duration": 3,
    "start_time": "2023-11-22T16:04:26.910Z"
   },
   {
    "duration": 14,
    "start_time": "2023-11-22T16:04:27.309Z"
   },
   {
    "duration": 24,
    "start_time": "2023-11-22T16:04:36.121Z"
   },
   {
    "duration": 18,
    "start_time": "2023-11-22T16:04:36.294Z"
   },
   {
    "duration": 16,
    "start_time": "2023-11-22T16:04:41.509Z"
   },
   {
    "duration": 13,
    "start_time": "2023-11-22T16:04:43.374Z"
   },
   {
    "duration": 3,
    "start_time": "2023-11-22T16:06:27.478Z"
   },
   {
    "duration": 15,
    "start_time": "2023-11-22T16:06:27.855Z"
   },
   {
    "duration": 17,
    "start_time": "2023-11-22T16:07:00.664Z"
   },
   {
    "duration": 3,
    "start_time": "2023-11-22T16:07:17.561Z"
   },
   {
    "duration": 15,
    "start_time": "2023-11-22T16:07:18.001Z"
   },
   {
    "duration": 3,
    "start_time": "2023-11-22T16:07:26.769Z"
   },
   {
    "duration": 15,
    "start_time": "2023-11-22T16:07:27.360Z"
   },
   {
    "duration": 3,
    "start_time": "2023-11-22T16:07:41.529Z"
   },
   {
    "duration": 16,
    "start_time": "2023-11-22T16:07:42.048Z"
   },
   {
    "duration": 2,
    "start_time": "2023-11-22T16:07:53.378Z"
   },
   {
    "duration": 3,
    "start_time": "2023-11-22T16:07:53.696Z"
   },
   {
    "duration": 14,
    "start_time": "2023-11-22T16:07:56.625Z"
   },
   {
    "duration": 4,
    "start_time": "2023-11-22T16:11:03.235Z"
   },
   {
    "duration": 15,
    "start_time": "2023-11-22T16:11:03.612Z"
   },
   {
    "duration": 1032,
    "start_time": "2023-11-22T16:11:28.301Z"
   },
   {
    "duration": 109,
    "start_time": "2023-11-22T16:11:30.205Z"
   },
   {
    "duration": 74,
    "start_time": "2023-11-22T16:11:32.413Z"
   },
   {
    "duration": 47,
    "start_time": "2023-11-22T16:11:32.870Z"
   },
   {
    "duration": 11,
    "start_time": "2023-11-22T16:11:51.189Z"
   },
   {
    "duration": 3,
    "start_time": "2023-11-22T16:12:24.149Z"
   },
   {
    "duration": 15,
    "start_time": "2023-11-22T16:12:24.845Z"
   },
   {
    "duration": 18,
    "start_time": "2023-11-22T16:12:36.271Z"
   },
   {
    "duration": 14,
    "start_time": "2023-11-22T16:14:32.583Z"
   },
   {
    "duration": 4,
    "start_time": "2023-11-22T16:15:50.721Z"
   },
   {
    "duration": 16,
    "start_time": "2023-11-22T16:15:55.928Z"
   },
   {
    "duration": 3,
    "start_time": "2023-11-22T16:17:06.674Z"
   },
   {
    "duration": 3,
    "start_time": "2023-11-22T16:17:08.906Z"
   },
   {
    "duration": 3,
    "start_time": "2023-11-22T16:17:09.120Z"
   },
   {
    "duration": 49,
    "start_time": "2023-11-22T16:18:10.120Z"
   },
   {
    "duration": 76,
    "start_time": "2023-11-22T16:18:12.716Z"
   },
   {
    "duration": 3,
    "start_time": "2023-11-22T16:18:30.299Z"
   },
   {
    "duration": 45,
    "start_time": "2023-11-22T16:18:31.236Z"
   },
   {
    "duration": 66,
    "start_time": "2023-11-22T16:18:32.019Z"
   },
   {
    "duration": 42,
    "start_time": "2023-11-22T16:18:41.456Z"
   },
   {
    "duration": 1612,
    "start_time": "2023-11-22T16:19:38.900Z"
   },
   {
    "duration": 0,
    "start_time": "2023-11-22T16:19:40.515Z"
   },
   {
    "duration": 8,
    "start_time": "2023-11-22T16:20:49.846Z"
   },
   {
    "duration": 9,
    "start_time": "2023-11-22T16:21:06.239Z"
   },
   {
    "duration": 8,
    "start_time": "2023-11-22T16:21:21.333Z"
   },
   {
    "duration": 1079,
    "start_time": "2023-11-22T16:21:38.031Z"
   },
   {
    "duration": 3,
    "start_time": "2023-11-22T16:21:39.112Z"
   },
   {
    "duration": 46,
    "start_time": "2023-11-22T16:21:39.117Z"
   },
   {
    "duration": 43,
    "start_time": "2023-11-22T16:21:39.164Z"
   },
   {
    "duration": 119,
    "start_time": "2023-11-22T16:21:39.209Z"
   },
   {
    "duration": 58,
    "start_time": "2023-11-22T16:21:39.330Z"
   },
   {
    "duration": 38,
    "start_time": "2023-11-22T16:21:39.390Z"
   },
   {
    "duration": 2,
    "start_time": "2023-11-22T16:21:39.430Z"
   },
   {
    "duration": 48,
    "start_time": "2023-11-22T16:21:39.433Z"
   },
   {
    "duration": 9,
    "start_time": "2023-11-22T16:21:39.483Z"
   },
   {
    "duration": 48,
    "start_time": "2023-11-22T16:21:39.493Z"
   },
   {
    "duration": 7,
    "start_time": "2023-11-22T16:21:55.359Z"
   },
   {
    "duration": 8,
    "start_time": "2023-11-22T16:22:06.294Z"
   },
   {
    "duration": 11,
    "start_time": "2023-11-22T16:22:11.079Z"
   },
   {
    "duration": 13,
    "start_time": "2023-11-22T16:22:27.982Z"
   },
   {
    "duration": 4,
    "start_time": "2023-11-22T16:23:13.672Z"
   },
   {
    "duration": 11,
    "start_time": "2023-11-22T16:23:20.144Z"
   },
   {
    "duration": 2,
    "start_time": "2023-11-22T16:25:27.906Z"
   },
   {
    "duration": 60,
    "start_time": "2023-11-22T16:25:29.594Z"
   },
   {
    "duration": 61,
    "start_time": "2023-11-22T16:25:30.801Z"
   },
   {
    "duration": 52,
    "start_time": "2023-11-22T16:27:08.435Z"
   },
   {
    "duration": 68,
    "start_time": "2023-11-22T16:27:08.731Z"
   },
   {
    "duration": 35,
    "start_time": "2023-11-22T16:27:09.354Z"
   },
   {
    "duration": 13,
    "start_time": "2023-11-22T16:29:59.446Z"
   },
   {
    "duration": 3,
    "start_time": "2023-11-22T16:31:53.128Z"
   },
   {
    "duration": 15,
    "start_time": "2023-11-22T16:31:54.087Z"
   },
   {
    "duration": 4,
    "start_time": "2023-11-22T16:33:08.114Z"
   },
   {
    "duration": 11,
    "start_time": "2023-11-22T16:33:22.945Z"
   },
   {
    "duration": 22,
    "start_time": "2023-11-22T16:34:16.602Z"
   },
   {
    "duration": 7,
    "start_time": "2023-11-22T16:35:17.371Z"
   },
   {
    "duration": 14,
    "start_time": "2023-11-22T16:35:19.051Z"
   },
   {
    "duration": 13,
    "start_time": "2023-11-22T16:35:36.587Z"
   },
   {
    "duration": 3,
    "start_time": "2023-11-22T16:36:31.884Z"
   },
   {
    "duration": 6,
    "start_time": "2023-11-22T16:43:22.843Z"
   },
   {
    "duration": 13,
    "start_time": "2023-11-22T16:43:29.226Z"
   },
   {
    "duration": 5,
    "start_time": "2023-11-22T16:44:01.994Z"
   },
   {
    "duration": 4,
    "start_time": "2023-11-22T16:44:08.266Z"
   },
   {
    "duration": 4,
    "start_time": "2023-11-22T16:44:23.803Z"
   },
   {
    "duration": 4,
    "start_time": "2023-11-22T16:45:24.276Z"
   },
   {
    "duration": 5,
    "start_time": "2023-11-22T16:49:39.482Z"
   },
   {
    "duration": 154,
    "start_time": "2023-11-22T16:49:51.234Z"
   },
   {
    "duration": 145,
    "start_time": "2023-11-22T16:50:01.610Z"
   },
   {
    "duration": 122,
    "start_time": "2023-11-22T16:50:32.418Z"
   },
   {
    "duration": 132,
    "start_time": "2023-11-22T16:50:51.114Z"
   },
   {
    "duration": 138,
    "start_time": "2023-11-22T16:50:55.747Z"
   },
   {
    "duration": 7,
    "start_time": "2023-11-22T16:51:22.379Z"
   },
   {
    "duration": 8,
    "start_time": "2023-11-22T16:52:53.589Z"
   },
   {
    "duration": 9,
    "start_time": "2023-11-22T16:53:28.214Z"
   },
   {
    "duration": 169,
    "start_time": "2023-11-22T16:56:49.543Z"
   },
   {
    "duration": 158,
    "start_time": "2023-11-22T16:56:55.048Z"
   },
   {
    "duration": 155,
    "start_time": "2023-11-22T16:57:02.591Z"
   },
   {
    "duration": 153,
    "start_time": "2023-11-22T16:57:12.520Z"
   },
   {
    "duration": 144,
    "start_time": "2023-11-22T16:57:19.520Z"
   },
   {
    "duration": 226,
    "start_time": "2023-11-22T16:57:24.953Z"
   },
   {
    "duration": 148,
    "start_time": "2023-11-22T16:57:33.177Z"
   },
   {
    "duration": 153,
    "start_time": "2023-11-22T16:57:37.473Z"
   },
   {
    "duration": 146,
    "start_time": "2023-11-22T16:57:53.737Z"
   },
   {
    "duration": 162,
    "start_time": "2023-11-22T16:58:03.170Z"
   },
   {
    "duration": 159,
    "start_time": "2023-11-22T16:58:07.769Z"
   },
   {
    "duration": 187,
    "start_time": "2023-11-22T16:59:12.554Z"
   },
   {
    "duration": 168,
    "start_time": "2023-11-22T16:59:32.315Z"
   },
   {
    "duration": 157,
    "start_time": "2023-11-22T16:59:56.715Z"
   },
   {
    "duration": 147,
    "start_time": "2023-11-22T17:00:33.099Z"
   },
   {
    "duration": 126,
    "start_time": "2023-11-22T17:00:37.204Z"
   },
   {
    "duration": 155,
    "start_time": "2023-11-22T17:00:41.364Z"
   },
   {
    "duration": 229,
    "start_time": "2023-11-22T17:00:55.341Z"
   },
   {
    "duration": 211,
    "start_time": "2023-11-22T17:05:34.920Z"
   },
   {
    "duration": 245,
    "start_time": "2023-11-22T17:05:51.168Z"
   },
   {
    "duration": 155,
    "start_time": "2023-11-22T17:05:59.010Z"
   },
   {
    "duration": 11,
    "start_time": "2023-11-22T17:06:09.112Z"
   },
   {
    "duration": 11,
    "start_time": "2023-11-22T17:06:18.832Z"
   },
   {
    "duration": 10,
    "start_time": "2023-11-22T17:06:24.929Z"
   },
   {
    "duration": 151,
    "start_time": "2023-11-22T17:06:35.305Z"
   },
   {
    "duration": 152,
    "start_time": "2023-11-22T17:06:39.793Z"
   },
   {
    "duration": 146,
    "start_time": "2023-11-22T17:09:39.724Z"
   },
   {
    "duration": 144,
    "start_time": "2023-11-22T17:09:43.924Z"
   },
   {
    "duration": 163,
    "start_time": "2023-11-22T17:10:50.302Z"
   },
   {
    "duration": 153,
    "start_time": "2023-11-22T17:10:56.181Z"
   },
   {
    "duration": 8,
    "start_time": "2023-11-22T17:12:18.592Z"
   },
   {
    "duration": 153,
    "start_time": "2023-11-22T17:12:48.199Z"
   },
   {
    "duration": 157,
    "start_time": "2023-11-22T17:12:56.527Z"
   },
   {
    "duration": 176,
    "start_time": "2023-11-22T17:14:16.882Z"
   },
   {
    "duration": 161,
    "start_time": "2023-11-22T17:14:24.559Z"
   },
   {
    "duration": 244,
    "start_time": "2023-11-22T17:20:55.501Z"
   },
   {
    "duration": 151,
    "start_time": "2023-11-22T17:21:48.287Z"
   },
   {
    "duration": 150,
    "start_time": "2023-11-22T17:22:29.264Z"
   },
   {
    "duration": 8,
    "start_time": "2023-11-22T17:22:55.216Z"
   },
   {
    "duration": 8,
    "start_time": "2023-11-22T17:23:00.808Z"
   },
   {
    "duration": 8,
    "start_time": "2023-11-22T17:23:13.673Z"
   },
   {
    "duration": 8,
    "start_time": "2023-11-22T17:24:58.570Z"
   },
   {
    "duration": 7,
    "start_time": "2023-11-22T17:25:09.812Z"
   },
   {
    "duration": 182,
    "start_time": "2023-11-22T17:25:15.931Z"
   },
   {
    "duration": 7,
    "start_time": "2023-11-22T17:25:17.211Z"
   },
   {
    "duration": 115,
    "start_time": "2023-11-22T17:25:32.635Z"
   },
   {
    "duration": 132,
    "start_time": "2023-11-22T17:25:39.555Z"
   },
   {
    "duration": 123,
    "start_time": "2023-11-22T17:25:44.403Z"
   },
   {
    "duration": 7,
    "start_time": "2023-11-22T17:25:57.171Z"
   },
   {
    "duration": 8,
    "start_time": "2023-11-22T17:28:47.365Z"
   },
   {
    "duration": 129,
    "start_time": "2023-11-22T17:29:01.278Z"
   },
   {
    "duration": 296,
    "start_time": "2023-11-22T17:29:12.142Z"
   },
   {
    "duration": 322,
    "start_time": "2023-11-22T17:29:27.774Z"
   },
   {
    "duration": 198,
    "start_time": "2023-11-22T17:29:34.006Z"
   },
   {
    "duration": 318,
    "start_time": "2023-11-22T17:29:49.855Z"
   },
   {
    "duration": 213,
    "start_time": "2023-11-22T17:29:56.319Z"
   },
   {
    "duration": 196,
    "start_time": "2023-11-22T17:35:56.693Z"
   },
   {
    "duration": 229,
    "start_time": "2023-11-22T17:36:02.517Z"
   },
   {
    "duration": 297,
    "start_time": "2023-11-22T17:36:06.679Z"
   },
   {
    "duration": 197,
    "start_time": "2023-11-22T17:37:09.125Z"
   },
   {
    "duration": 10,
    "start_time": "2023-11-22T17:39:03.528Z"
   },
   {
    "duration": 6,
    "start_time": "2023-11-22T17:39:09.797Z"
   },
   {
    "duration": 237,
    "start_time": "2023-11-22T17:41:11.033Z"
   },
   {
    "duration": 314,
    "start_time": "2023-11-22T17:41:23.264Z"
   },
   {
    "duration": 179,
    "start_time": "2023-11-22T17:41:39.570Z"
   },
   {
    "duration": 250,
    "start_time": "2023-11-22T17:41:56.570Z"
   },
   {
    "duration": 427,
    "start_time": "2023-11-22T17:42:00.298Z"
   },
   {
    "duration": 154,
    "start_time": "2023-11-22T17:42:03.962Z"
   },
   {
    "duration": 304,
    "start_time": "2023-11-22T17:42:11.208Z"
   },
   {
    "duration": 1003,
    "start_time": "2023-11-22T17:42:29.022Z"
   },
   {
    "duration": 3,
    "start_time": "2023-11-22T17:42:30.027Z"
   },
   {
    "duration": 31,
    "start_time": "2023-11-22T17:42:30.031Z"
   },
   {
    "duration": 150,
    "start_time": "2023-11-22T17:42:30.063Z"
   },
   {
    "duration": 64,
    "start_time": "2023-11-22T17:42:30.215Z"
   },
   {
    "duration": 40,
    "start_time": "2023-11-22T17:42:30.280Z"
   },
   {
    "duration": 4,
    "start_time": "2023-11-22T17:42:30.321Z"
   },
   {
    "duration": 55,
    "start_time": "2023-11-22T17:42:30.326Z"
   },
   {
    "duration": 25,
    "start_time": "2023-11-22T17:42:30.383Z"
   },
   {
    "duration": 51,
    "start_time": "2023-11-22T17:42:30.410Z"
   },
   {
    "duration": 15,
    "start_time": "2023-11-22T17:42:30.462Z"
   },
   {
    "duration": 39,
    "start_time": "2023-11-22T17:42:30.478Z"
   },
   {
    "duration": 42,
    "start_time": "2023-11-22T17:42:30.519Z"
   },
   {
    "duration": 50,
    "start_time": "2023-11-22T17:42:30.565Z"
   },
   {
    "duration": 46,
    "start_time": "2023-11-22T17:42:30.617Z"
   },
   {
    "duration": 201,
    "start_time": "2023-11-22T17:42:30.664Z"
   },
   {
    "duration": 9,
    "start_time": "2023-11-22T17:42:30.867Z"
   },
   {
    "duration": 41,
    "start_time": "2023-11-22T17:42:30.877Z"
   },
   {
    "duration": 320,
    "start_time": "2023-11-22T17:42:34.672Z"
   },
   {
    "duration": 147,
    "start_time": "2023-11-22T17:42:37.223Z"
   },
   {
    "duration": 294,
    "start_time": "2023-11-22T17:42:47.152Z"
   },
   {
    "duration": 361,
    "start_time": "2023-11-22T17:42:55.639Z"
   },
   {
    "duration": 8,
    "start_time": "2023-11-22T17:42:58.513Z"
   },
   {
    "duration": 4,
    "start_time": "2023-11-22T17:43:24.265Z"
   },
   {
    "duration": 6,
    "start_time": "2023-11-22T17:43:38.985Z"
   },
   {
    "duration": 5,
    "start_time": "2023-11-22T17:43:50.727Z"
   },
   {
    "duration": 389,
    "start_time": "2023-11-22T17:43:55.065Z"
   },
   {
    "duration": 242,
    "start_time": "2023-11-22T17:44:00.817Z"
   },
   {
    "duration": 319,
    "start_time": "2023-11-22T17:44:06.594Z"
   },
   {
    "duration": 293,
    "start_time": "2023-11-22T17:44:24.360Z"
   },
   {
    "duration": 6,
    "start_time": "2023-11-22T17:44:38.265Z"
   },
   {
    "duration": 6,
    "start_time": "2023-11-22T17:44:41.498Z"
   },
   {
    "duration": 6,
    "start_time": "2023-11-22T17:44:44.289Z"
   },
   {
    "duration": 5,
    "start_time": "2023-11-22T17:44:46.153Z"
   },
   {
    "duration": 6,
    "start_time": "2023-11-22T17:44:49.401Z"
   },
   {
    "duration": 5,
    "start_time": "2023-11-22T17:44:50.216Z"
   },
   {
    "duration": 5,
    "start_time": "2023-11-22T17:44:52.514Z"
   },
   {
    "duration": 98,
    "start_time": "2023-11-22T17:45:35.186Z"
   },
   {
    "duration": 205,
    "start_time": "2023-11-22T17:46:04.954Z"
   },
   {
    "duration": 290,
    "start_time": "2023-11-22T17:47:16.068Z"
   },
   {
    "duration": 4,
    "start_time": "2023-11-22T17:47:43.236Z"
   },
   {
    "duration": 2,
    "start_time": "2023-11-22T17:48:06.413Z"
   },
   {
    "duration": 4,
    "start_time": "2023-11-22T17:50:28.847Z"
   },
   {
    "duration": 5,
    "start_time": "2023-11-22T17:50:37.560Z"
   },
   {
    "duration": 13,
    "start_time": "2023-11-22T17:51:06.615Z"
   },
   {
    "duration": 10,
    "start_time": "2023-11-22T17:51:16.288Z"
   },
   {
    "duration": 5,
    "start_time": "2023-11-22T17:51:24.480Z"
   },
   {
    "duration": 5,
    "start_time": "2023-11-22T17:51:28.479Z"
   },
   {
    "duration": 4,
    "start_time": "2023-11-22T17:51:40.400Z"
   },
   {
    "duration": 1055,
    "start_time": "2023-11-22T17:51:48.945Z"
   },
   {
    "duration": 3,
    "start_time": "2023-11-22T17:51:50.002Z"
   },
   {
    "duration": 13,
    "start_time": "2023-11-22T17:51:50.006Z"
   },
   {
    "duration": 102,
    "start_time": "2023-11-22T17:51:50.020Z"
   },
   {
    "duration": 89,
    "start_time": "2023-11-22T17:51:50.124Z"
   },
   {
    "duration": 30,
    "start_time": "2023-11-22T17:51:50.214Z"
   },
   {
    "duration": 3,
    "start_time": "2023-11-22T17:51:50.245Z"
   },
   {
    "duration": 23,
    "start_time": "2023-11-22T17:51:50.249Z"
   },
   {
    "duration": 4,
    "start_time": "2023-11-22T17:51:50.273Z"
   },
   {
    "duration": 23,
    "start_time": "2023-11-22T17:51:50.278Z"
   },
   {
    "duration": 6,
    "start_time": "2023-11-22T17:51:50.303Z"
   },
   {
    "duration": 9,
    "start_time": "2023-11-22T17:51:50.311Z"
   },
   {
    "duration": 4,
    "start_time": "2023-11-22T17:51:50.322Z"
   },
   {
    "duration": 39,
    "start_time": "2023-11-22T17:51:50.328Z"
   },
   {
    "duration": 3,
    "start_time": "2023-11-22T17:51:50.368Z"
   },
   {
    "duration": 186,
    "start_time": "2023-11-22T17:51:50.373Z"
   },
   {
    "duration": 5,
    "start_time": "2023-11-22T17:51:50.560Z"
   },
   {
    "duration": 133,
    "start_time": "2023-11-22T17:51:50.567Z"
   },
   {
    "duration": 4,
    "start_time": "2023-11-22T17:51:54.471Z"
   },
   {
    "duration": 4,
    "start_time": "2023-11-22T17:52:27.543Z"
   },
   {
    "duration": 7,
    "start_time": "2023-11-22T17:52:34.953Z"
   },
   {
    "duration": 109,
    "start_time": "2023-11-22T17:52:44.112Z"
   },
   {
    "duration": 137,
    "start_time": "2023-11-22T17:52:49.185Z"
   },
   {
    "duration": 129,
    "start_time": "2023-11-22T17:53:07.585Z"
   },
   {
    "duration": 7,
    "start_time": "2023-11-22T17:53:14.848Z"
   },
   {
    "duration": 7,
    "start_time": "2023-11-22T17:54:01.001Z"
   },
   {
    "duration": 4,
    "start_time": "2023-11-22T17:54:05.274Z"
   },
   {
    "duration": 7,
    "start_time": "2023-11-22T17:54:08.249Z"
   },
   {
    "duration": 226,
    "start_time": "2023-11-22T17:55:24.707Z"
   },
   {
    "duration": 217,
    "start_time": "2023-11-22T17:55:27.947Z"
   },
   {
    "duration": 556,
    "start_time": "2023-11-22T17:55:37.868Z"
   },
   {
    "duration": 8,
    "start_time": "2023-11-22T17:56:08.884Z"
   },
   {
    "duration": 6,
    "start_time": "2023-11-22T17:56:16.955Z"
   },
   {
    "duration": 8,
    "start_time": "2023-11-22T17:56:26.116Z"
   },
   {
    "duration": 7,
    "start_time": "2023-11-22T17:56:43.341Z"
   },
   {
    "duration": 8,
    "start_time": "2023-11-22T17:56:51.349Z"
   },
   {
    "duration": 13,
    "start_time": "2023-11-22T17:57:01.989Z"
   },
   {
    "duration": 292,
    "start_time": "2023-11-22T17:58:12.342Z"
   },
   {
    "duration": 6,
    "start_time": "2023-11-22T18:00:06.911Z"
   },
   {
    "duration": 97,
    "start_time": "2023-11-22T18:00:19.103Z"
   },
   {
    "duration": 4,
    "start_time": "2023-11-22T18:00:22.360Z"
   },
   {
    "duration": 9,
    "start_time": "2023-11-22T18:00:36.641Z"
   },
   {
    "duration": 6,
    "start_time": "2023-11-22T18:00:48.624Z"
   },
   {
    "duration": 6,
    "start_time": "2023-11-22T18:00:57.176Z"
   },
   {
    "duration": 264,
    "start_time": "2023-11-22T18:01:15.384Z"
   },
   {
    "duration": 178,
    "start_time": "2023-11-22T18:01:21.809Z"
   },
   {
    "duration": 445,
    "start_time": "2023-11-22T18:01:42.968Z"
   },
   {
    "duration": 118,
    "start_time": "2023-11-22T18:03:02.851Z"
   },
   {
    "duration": 122,
    "start_time": "2023-11-22T18:03:12.282Z"
   },
   {
    "duration": 110,
    "start_time": "2023-11-22T18:03:37.123Z"
   },
   {
    "duration": 95,
    "start_time": "2023-11-22T18:03:41.716Z"
   },
   {
    "duration": 113,
    "start_time": "2023-11-22T18:03:49.931Z"
   },
   {
    "duration": 108,
    "start_time": "2023-11-22T18:03:53.451Z"
   },
   {
    "duration": 6,
    "start_time": "2023-11-22T18:04:28.997Z"
   },
   {
    "duration": 6,
    "start_time": "2023-11-22T18:04:37.027Z"
   },
   {
    "duration": 6,
    "start_time": "2023-11-22T18:04:42.180Z"
   },
   {
    "duration": 6,
    "start_time": "2023-11-22T18:04:50.084Z"
   },
   {
    "duration": 6,
    "start_time": "2023-11-22T18:04:59.516Z"
   },
   {
    "duration": 6,
    "start_time": "2023-11-22T18:05:11.436Z"
   },
   {
    "duration": 6,
    "start_time": "2023-11-22T18:05:16.677Z"
   },
   {
    "duration": 6,
    "start_time": "2023-11-22T18:05:19.012Z"
   },
   {
    "duration": 7,
    "start_time": "2023-11-22T18:05:21.492Z"
   },
   {
    "duration": 6,
    "start_time": "2023-11-22T18:05:25.101Z"
   },
   {
    "duration": 323,
    "start_time": "2023-11-22T18:07:32.894Z"
   },
   {
    "duration": 466,
    "start_time": "2023-11-22T18:07:38.335Z"
   },
   {
    "duration": 454,
    "start_time": "2023-11-22T18:07:57.831Z"
   },
   {
    "duration": 233,
    "start_time": "2023-11-22T18:08:03.846Z"
   },
   {
    "duration": 244,
    "start_time": "2023-11-22T18:08:13.666Z"
   },
   {
    "duration": 328,
    "start_time": "2023-11-22T18:08:24.479Z"
   },
   {
    "duration": 294,
    "start_time": "2023-11-22T18:08:28.232Z"
   },
   {
    "duration": 291,
    "start_time": "2023-11-22T18:08:38.207Z"
   },
   {
    "duration": 334,
    "start_time": "2023-11-22T18:08:46.800Z"
   },
   {
    "duration": 445,
    "start_time": "2023-11-22T18:08:52.920Z"
   },
   {
    "duration": 340,
    "start_time": "2023-11-22T18:09:20.961Z"
   },
   {
    "duration": 461,
    "start_time": "2023-11-22T18:09:29.031Z"
   },
   {
    "duration": 290,
    "start_time": "2023-11-22T18:09:33.111Z"
   },
   {
    "duration": 340,
    "start_time": "2023-11-22T18:09:38.408Z"
   },
   {
    "duration": 174,
    "start_time": "2023-11-22T18:09:50.089Z"
   },
   {
    "duration": 286,
    "start_time": "2023-11-22T18:09:53.392Z"
   },
   {
    "duration": 1881,
    "start_time": "2023-11-22T18:10:40.403Z"
   },
   {
    "duration": 1513,
    "start_time": "2023-11-22T18:10:47.010Z"
   },
   {
    "duration": 116,
    "start_time": "2023-11-22T18:11:51.547Z"
   },
   {
    "duration": 107,
    "start_time": "2023-11-22T18:11:56.906Z"
   },
   {
    "duration": 106,
    "start_time": "2023-11-22T18:12:02.899Z"
   },
   {
    "duration": 119,
    "start_time": "2023-11-22T18:12:06.586Z"
   },
   {
    "duration": 115,
    "start_time": "2023-11-22T18:12:13.923Z"
   },
   {
    "duration": 219,
    "start_time": "2023-11-22T18:12:25.923Z"
   },
   {
    "duration": 117,
    "start_time": "2023-11-22T18:14:44.781Z"
   },
   {
    "duration": 349,
    "start_time": "2023-11-22T18:16:31.959Z"
   },
   {
    "duration": 27,
    "start_time": "2023-11-22T18:17:05.671Z"
   },
   {
    "duration": 6,
    "start_time": "2023-11-22T18:17:10.938Z"
   },
   {
    "duration": 366,
    "start_time": "2023-11-22T18:17:35.912Z"
   },
   {
    "duration": 328,
    "start_time": "2023-11-22T18:17:44.840Z"
   },
   {
    "duration": 7,
    "start_time": "2023-11-22T18:18:03.489Z"
   },
   {
    "duration": 208,
    "start_time": "2023-11-22T18:19:37.323Z"
   },
   {
    "duration": 4,
    "start_time": "2023-11-22T18:19:42.235Z"
   },
   {
    "duration": 123,
    "start_time": "2023-11-22T18:19:53.042Z"
   },
   {
    "duration": 6,
    "start_time": "2023-11-22T18:24:25.183Z"
   },
   {
    "duration": 7,
    "start_time": "2023-11-22T18:24:29.197Z"
   },
   {
    "duration": 6,
    "start_time": "2023-11-22T18:25:26.999Z"
   },
   {
    "duration": 7,
    "start_time": "2023-11-22T18:26:10.496Z"
   },
   {
    "duration": 7,
    "start_time": "2023-11-22T18:27:40.402Z"
   },
   {
    "duration": 6,
    "start_time": "2023-11-22T18:27:49.611Z"
   },
   {
    "duration": 6,
    "start_time": "2023-11-22T18:29:03.675Z"
   },
   {
    "duration": 316,
    "start_time": "2023-11-22T18:29:34.827Z"
   },
   {
    "duration": 291,
    "start_time": "2023-11-22T18:29:40.996Z"
   },
   {
    "duration": 497,
    "start_time": "2023-11-22T18:30:14.844Z"
   },
   {
    "duration": 8,
    "start_time": "2023-11-22T18:30:20.606Z"
   },
   {
    "duration": 7,
    "start_time": "2023-11-22T18:31:00.181Z"
   },
   {
    "duration": 6,
    "start_time": "2023-11-22T18:31:43.069Z"
   },
   {
    "duration": 5,
    "start_time": "2023-11-22T18:32:02.927Z"
   },
   {
    "duration": 12,
    "start_time": "2023-11-22T18:32:10.006Z"
   },
   {
    "duration": 10,
    "start_time": "2023-11-22T18:32:24.566Z"
   },
   {
    "duration": 8,
    "start_time": "2023-11-22T18:35:51.962Z"
   },
   {
    "duration": 7,
    "start_time": "2023-11-22T18:36:41.659Z"
   },
   {
    "duration": 6,
    "start_time": "2023-11-22T18:36:48.738Z"
   },
   {
    "duration": 6,
    "start_time": "2023-11-22T18:37:03.123Z"
   },
   {
    "duration": 7,
    "start_time": "2023-11-22T18:37:31.628Z"
   },
   {
    "duration": 6,
    "start_time": "2023-11-22T18:39:45.470Z"
   },
   {
    "duration": 136,
    "start_time": "2023-11-22T18:39:49.061Z"
   },
   {
    "duration": 6,
    "start_time": "2023-11-22T18:40:01.813Z"
   },
   {
    "duration": 121,
    "start_time": "2023-11-22T18:40:03.710Z"
   },
   {
    "duration": 482,
    "start_time": "2023-11-22T18:41:00.470Z"
   },
   {
    "duration": 440,
    "start_time": "2023-11-22T18:41:08.351Z"
   },
   {
    "duration": 380,
    "start_time": "2023-11-22T18:41:14.367Z"
   },
   {
    "duration": 464,
    "start_time": "2023-11-22T18:41:53.774Z"
   },
   {
    "duration": 410,
    "start_time": "2023-11-22T18:42:22.472Z"
   },
   {
    "duration": 400,
    "start_time": "2023-11-22T18:43:09.777Z"
   },
   {
    "duration": 410,
    "start_time": "2023-11-22T18:43:15.681Z"
   },
   {
    "duration": 398,
    "start_time": "2023-11-22T18:43:40.969Z"
   },
   {
    "duration": 729,
    "start_time": "2023-11-22T18:44:03.321Z"
   },
   {
    "duration": 231,
    "start_time": "2023-11-22T18:44:16.714Z"
   },
   {
    "duration": 367,
    "start_time": "2023-11-22T18:44:20.202Z"
   },
   {
    "duration": 439,
    "start_time": "2023-11-22T18:44:24.602Z"
   },
   {
    "duration": 275,
    "start_time": "2023-11-22T18:44:30.106Z"
   },
   {
    "duration": 1132,
    "start_time": "2023-11-22T18:44:46.891Z"
   },
   {
    "duration": 261,
    "start_time": "2023-11-22T18:44:50.451Z"
   },
   {
    "duration": 249,
    "start_time": "2023-11-22T18:45:01.794Z"
   },
   {
    "duration": 274,
    "start_time": "2023-11-22T18:45:05.427Z"
   },
   {
    "duration": 272,
    "start_time": "2023-11-22T18:45:11.011Z"
   },
   {
    "duration": 412,
    "start_time": "2023-11-22T18:45:14.867Z"
   },
   {
    "duration": 741,
    "start_time": "2023-11-22T18:45:22.298Z"
   },
   {
    "duration": 215,
    "start_time": "2023-11-22T18:45:26.803Z"
   },
   {
    "duration": 214,
    "start_time": "2023-11-22T18:45:37.379Z"
   },
   {
    "duration": 221,
    "start_time": "2023-11-22T18:45:56.379Z"
   },
   {
    "duration": 302,
    "start_time": "2023-11-22T18:45:59.723Z"
   },
   {
    "duration": 218,
    "start_time": "2023-11-22T18:46:07.356Z"
   },
   {
    "duration": 229,
    "start_time": "2023-11-22T18:46:11.667Z"
   },
   {
    "duration": 347,
    "start_time": "2023-11-22T18:46:14.427Z"
   },
   {
    "duration": 305,
    "start_time": "2023-11-22T18:46:18.428Z"
   },
   {
    "duration": 314,
    "start_time": "2023-11-22T18:46:30.612Z"
   },
   {
    "duration": 406,
    "start_time": "2023-11-22T18:46:35.004Z"
   },
   {
    "duration": 373,
    "start_time": "2023-11-22T18:46:39.532Z"
   },
   {
    "duration": 377,
    "start_time": "2023-11-22T18:46:51.692Z"
   },
   {
    "duration": 582,
    "start_time": "2023-11-22T18:46:55.244Z"
   },
   {
    "duration": 378,
    "start_time": "2023-11-22T18:47:01.493Z"
   },
   {
    "duration": 346,
    "start_time": "2023-11-22T18:47:05.580Z"
   },
   {
    "duration": 266,
    "start_time": "2023-11-22T18:47:09.173Z"
   },
   {
    "duration": 544,
    "start_time": "2023-11-22T18:47:16.909Z"
   },
   {
    "duration": 386,
    "start_time": "2023-11-22T18:47:20.637Z"
   },
   {
    "duration": 9,
    "start_time": "2023-11-22T18:48:57.925Z"
   },
   {
    "duration": 21,
    "start_time": "2023-11-22T18:49:02.942Z"
   },
   {
    "duration": 13,
    "start_time": "2023-11-22T18:49:56.103Z"
   },
   {
    "duration": 20,
    "start_time": "2023-11-22T18:49:56.703Z"
   },
   {
    "duration": 36,
    "start_time": "2023-11-22T18:50:49.265Z"
   },
   {
    "duration": 18,
    "start_time": "2023-11-22T18:52:07.552Z"
   },
   {
    "duration": 25,
    "start_time": "2023-11-22T18:52:21.626Z"
   },
   {
    "duration": 26,
    "start_time": "2023-11-22T18:52:42.252Z"
   },
   {
    "duration": 6,
    "start_time": "2023-11-22T18:52:47.399Z"
   },
   {
    "duration": 19,
    "start_time": "2023-11-22T18:52:51.532Z"
   },
   {
    "duration": 14,
    "start_time": "2023-11-22T18:52:59.929Z"
   },
   {
    "duration": 6,
    "start_time": "2023-11-22T18:53:21.179Z"
   },
   {
    "duration": 15,
    "start_time": "2023-11-22T18:53:28.075Z"
   },
   {
    "duration": 12,
    "start_time": "2023-11-22T18:55:39.269Z"
   },
   {
    "duration": 14,
    "start_time": "2023-11-22T18:57:39.247Z"
   },
   {
    "duration": 10,
    "start_time": "2023-11-22T18:57:58.039Z"
   },
   {
    "duration": 7,
    "start_time": "2023-11-22T18:58:03.711Z"
   },
   {
    "duration": 13,
    "start_time": "2023-11-22T18:58:25.207Z"
   },
   {
    "duration": 13,
    "start_time": "2023-11-22T18:58:27.505Z"
   },
   {
    "duration": 18,
    "start_time": "2023-11-22T19:00:25.506Z"
   },
   {
    "duration": 13,
    "start_time": "2023-11-22T19:00:26.146Z"
   },
   {
    "duration": 24,
    "start_time": "2023-11-22T19:01:08.449Z"
   },
   {
    "duration": 18,
    "start_time": "2023-11-22T19:01:17.051Z"
   },
   {
    "duration": 2,
    "start_time": "2023-11-22T19:01:19.970Z"
   },
   {
    "duration": 2,
    "start_time": "2023-11-22T19:01:26.434Z"
   },
   {
    "duration": 21,
    "start_time": "2023-11-22T19:01:35.003Z"
   },
   {
    "duration": 13,
    "start_time": "2023-11-22T19:01:35.546Z"
   },
   {
    "duration": 19,
    "start_time": "2023-11-22T19:01:57.891Z"
   },
   {
    "duration": 12,
    "start_time": "2023-11-22T19:01:58.555Z"
   },
   {
    "duration": 5,
    "start_time": "2023-11-22T19:03:40.340Z"
   },
   {
    "duration": 8,
    "start_time": "2023-11-22T19:03:47.460Z"
   },
   {
    "duration": 9,
    "start_time": "2023-11-22T19:03:55.485Z"
   },
   {
    "duration": 19,
    "start_time": "2023-11-22T19:06:02.631Z"
   },
   {
    "duration": 246,
    "start_time": "2023-11-22T19:16:01.200Z"
   },
   {
    "duration": 286,
    "start_time": "2023-11-22T19:16:07.319Z"
   },
   {
    "duration": 352,
    "start_time": "2023-11-22T19:16:12.648Z"
   },
   {
    "duration": 484,
    "start_time": "2023-11-22T19:16:22.152Z"
   },
   {
    "duration": 363,
    "start_time": "2023-11-22T19:16:39.193Z"
   },
   {
    "duration": 343,
    "start_time": "2023-11-22T19:16:46.480Z"
   },
   {
    "duration": 443,
    "start_time": "2023-11-22T19:18:05.284Z"
   },
   {
    "duration": 377,
    "start_time": "2023-11-22T19:18:16.691Z"
   },
   {
    "duration": 374,
    "start_time": "2023-11-22T19:18:48.283Z"
   },
   {
    "duration": 119,
    "start_time": "2023-11-22T19:20:14.532Z"
   },
   {
    "duration": 117,
    "start_time": "2023-11-22T19:20:23.016Z"
   },
   {
    "duration": 111,
    "start_time": "2023-11-22T19:20:32.180Z"
   },
   {
    "duration": 118,
    "start_time": "2023-11-22T19:20:35.964Z"
   },
   {
    "duration": 228,
    "start_time": "2023-11-22T19:20:51.461Z"
   },
   {
    "duration": 6,
    "start_time": "2023-11-22T19:21:59.318Z"
   },
   {
    "duration": 344,
    "start_time": "2023-11-22T19:22:13.647Z"
   },
   {
    "duration": 6,
    "start_time": "2023-11-22T19:22:35.302Z"
   },
   {
    "duration": 396,
    "start_time": "2023-11-22T19:22:35.661Z"
   },
   {
    "duration": 6,
    "start_time": "2023-11-22T19:22:40.406Z"
   },
   {
    "duration": 340,
    "start_time": "2023-11-22T19:22:40.686Z"
   },
   {
    "duration": 6,
    "start_time": "2023-11-22T19:22:44.806Z"
   },
   {
    "duration": 430,
    "start_time": "2023-11-22T19:22:45.087Z"
   },
   {
    "duration": 362,
    "start_time": "2023-11-22T19:22:48.606Z"
   },
   {
    "duration": 1017,
    "start_time": "2023-11-22T19:23:09.113Z"
   },
   {
    "duration": 2,
    "start_time": "2023-11-22T19:23:10.132Z"
   },
   {
    "duration": 18,
    "start_time": "2023-11-22T19:23:10.135Z"
   },
   {
    "duration": 134,
    "start_time": "2023-11-22T19:23:10.154Z"
   },
   {
    "duration": 104,
    "start_time": "2023-11-22T19:23:10.290Z"
   },
   {
    "duration": 69,
    "start_time": "2023-11-22T19:23:10.395Z"
   },
   {
    "duration": 3,
    "start_time": "2023-11-22T19:23:10.465Z"
   },
   {
    "duration": 16,
    "start_time": "2023-11-22T19:23:10.469Z"
   },
   {
    "duration": 3,
    "start_time": "2023-11-22T19:23:10.487Z"
   },
   {
    "duration": 22,
    "start_time": "2023-11-22T19:23:10.491Z"
   },
   {
    "duration": 6,
    "start_time": "2023-11-22T19:23:10.515Z"
   },
   {
    "duration": 6,
    "start_time": "2023-11-22T19:23:10.523Z"
   },
   {
    "duration": 36,
    "start_time": "2023-11-22T19:23:10.530Z"
   },
   {
    "duration": 14,
    "start_time": "2023-11-22T19:23:10.569Z"
   },
   {
    "duration": 4,
    "start_time": "2023-11-22T19:23:10.585Z"
   },
   {
    "duration": 181,
    "start_time": "2023-11-22T19:23:10.590Z"
   },
   {
    "duration": 3,
    "start_time": "2023-11-22T19:23:10.772Z"
   },
   {
    "duration": 127,
    "start_time": "2023-11-22T19:23:10.776Z"
   },
   {
    "duration": 7,
    "start_time": "2023-11-22T19:23:10.904Z"
   },
   {
    "duration": 193,
    "start_time": "2023-11-22T19:23:10.912Z"
   },
   {
    "duration": 127,
    "start_time": "2023-11-22T19:23:11.107Z"
   },
   {
    "duration": 7,
    "start_time": "2023-11-22T19:23:11.235Z"
   },
   {
    "duration": 6,
    "start_time": "2023-11-22T19:23:11.244Z"
   },
   {
    "duration": 370,
    "start_time": "2023-11-22T19:23:11.265Z"
   },
   {
    "duration": 351,
    "start_time": "2023-11-22T19:23:11.637Z"
   },
   {
    "duration": 7,
    "start_time": "2023-11-22T19:23:11.990Z"
   },
   {
    "duration": 8,
    "start_time": "2023-11-22T19:23:11.999Z"
   },
   {
    "duration": 218,
    "start_time": "2023-11-22T19:23:12.009Z"
   },
   {
    "duration": 7,
    "start_time": "2023-11-22T19:23:12.229Z"
   },
   {
    "duration": 336,
    "start_time": "2023-11-22T19:23:16.481Z"
   },
   {
    "duration": 349,
    "start_time": "2023-11-22T19:23:17.762Z"
   },
   {
    "duration": 7,
    "start_time": "2023-11-22T19:23:19.970Z"
   },
   {
    "duration": 121,
    "start_time": "2023-11-22T19:23:23.937Z"
   },
   {
    "duration": 6,
    "start_time": "2023-11-22T19:23:53.617Z"
   },
   {
    "duration": 6,
    "start_time": "2023-11-22T19:24:05.609Z"
   },
   {
    "duration": 15,
    "start_time": "2023-11-22T19:24:06.850Z"
   },
   {
    "duration": 35,
    "start_time": "2023-11-22T19:24:12.739Z"
   },
   {
    "duration": 6,
    "start_time": "2023-11-22T19:24:18.019Z"
   },
   {
    "duration": 6,
    "start_time": "2023-11-22T19:24:18.452Z"
   },
   {
    "duration": 333,
    "start_time": "2023-11-22T19:24:18.891Z"
   },
   {
    "duration": 415,
    "start_time": "2023-11-22T19:24:20.939Z"
   },
   {
    "duration": 343,
    "start_time": "2023-11-22T19:24:27.858Z"
   },
   {
    "duration": 363,
    "start_time": "2023-11-22T19:24:29.195Z"
   },
   {
    "duration": 18,
    "start_time": "2023-11-22T19:24:35.546Z"
   },
   {
    "duration": 2,
    "start_time": "2023-11-22T19:24:36.250Z"
   },
   {
    "duration": 13,
    "start_time": "2023-11-22T19:24:42.202Z"
   },
   {
    "duration": 1247,
    "start_time": "2023-11-24T05:13:52.016Z"
   },
   {
    "duration": 3,
    "start_time": "2023-11-24T05:13:53.266Z"
   },
   {
    "duration": 5,
    "start_time": "2023-11-24T05:13:53.270Z"
   },
   {
    "duration": 173,
    "start_time": "2023-11-24T05:13:53.277Z"
   },
   {
    "duration": 133,
    "start_time": "2023-11-24T05:13:53.453Z"
   },
   {
    "duration": 86,
    "start_time": "2023-11-24T05:13:53.587Z"
   },
   {
    "duration": 3,
    "start_time": "2023-11-24T05:13:53.675Z"
   },
   {
    "duration": 22,
    "start_time": "2023-11-24T05:13:53.679Z"
   },
   {
    "duration": 5,
    "start_time": "2023-11-24T05:13:53.702Z"
   },
   {
    "duration": 23,
    "start_time": "2023-11-24T05:13:53.708Z"
   },
   {
    "duration": 7,
    "start_time": "2023-11-24T05:13:53.733Z"
   },
   {
    "duration": 10,
    "start_time": "2023-11-24T05:13:53.741Z"
   },
   {
    "duration": 5,
    "start_time": "2023-11-24T05:13:53.753Z"
   },
   {
    "duration": 15,
    "start_time": "2023-11-24T05:13:53.760Z"
   },
   {
    "duration": 3,
    "start_time": "2023-11-24T05:13:53.777Z"
   },
   {
    "duration": 214,
    "start_time": "2023-11-24T05:13:53.782Z"
   },
   {
    "duration": 2,
    "start_time": "2023-11-24T05:13:53.997Z"
   },
   {
    "duration": 121,
    "start_time": "2023-11-24T05:13:54.001Z"
   },
   {
    "duration": 78,
    "start_time": "2023-11-24T05:18:59.389Z"
   },
   {
    "duration": 90,
    "start_time": "2023-11-24T05:19:03.782Z"
   },
   {
    "duration": 119,
    "start_time": "2023-11-24T05:31:32.644Z"
   },
   {
    "duration": 137,
    "start_time": "2023-11-24T05:31:41.139Z"
   },
   {
    "duration": 116,
    "start_time": "2023-11-24T05:31:45.413Z"
   },
   {
    "duration": 137,
    "start_time": "2023-11-24T05:32:22.182Z"
   },
   {
    "duration": 143,
    "start_time": "2023-11-24T05:32:33.190Z"
   },
   {
    "duration": 186,
    "start_time": "2023-11-24T05:32:44.574Z"
   },
   {
    "duration": 196,
    "start_time": "2023-11-24T05:32:52.055Z"
   },
   {
    "duration": 128,
    "start_time": "2023-11-24T17:23:59.921Z"
   },
   {
    "duration": 191,
    "start_time": "2023-11-24T17:24:05.268Z"
   },
   {
    "duration": 11,
    "start_time": "2023-11-24T17:24:52.221Z"
   },
   {
    "duration": 120,
    "start_time": "2023-11-24T17:25:13.982Z"
   },
   {
    "duration": 96,
    "start_time": "2023-11-24T17:25:23.591Z"
   },
   {
    "duration": 97,
    "start_time": "2023-11-24T17:25:31.637Z"
   },
   {
    "duration": 116,
    "start_time": "2023-11-24T17:25:53.141Z"
   },
   {
    "duration": 134,
    "start_time": "2023-11-24T17:25:59.288Z"
   },
   {
    "duration": 127,
    "start_time": "2023-11-24T17:27:24.343Z"
   },
   {
    "duration": 129,
    "start_time": "2023-11-24T17:27:27.800Z"
   },
   {
    "duration": 146,
    "start_time": "2023-11-24T17:27:31.055Z"
   },
   {
    "duration": 133,
    "start_time": "2023-11-24T17:27:34.223Z"
   },
   {
    "duration": 127,
    "start_time": "2023-11-24T17:27:43.432Z"
   },
   {
    "duration": 126,
    "start_time": "2023-11-24T17:27:53.808Z"
   },
   {
    "duration": 205,
    "start_time": "2023-11-24T17:28:10.480Z"
   },
   {
    "duration": 122,
    "start_time": "2023-11-24T17:28:17.833Z"
   },
   {
    "duration": 134,
    "start_time": "2023-11-24T17:28:23.184Z"
   },
   {
    "duration": 137,
    "start_time": "2023-11-24T17:28:28.184Z"
   },
   {
    "duration": 137,
    "start_time": "2023-11-24T17:28:34.961Z"
   },
   {
    "duration": 134,
    "start_time": "2023-11-24T17:28:38.845Z"
   },
   {
    "duration": 1210,
    "start_time": "2023-11-24T17:29:19.186Z"
   },
   {
    "duration": 442,
    "start_time": "2023-11-24T17:29:26.266Z"
   },
   {
    "duration": 442,
    "start_time": "2023-11-24T17:29:54.698Z"
   },
   {
    "duration": 1153,
    "start_time": "2023-11-24T17:30:14.666Z"
   },
   {
    "duration": 437,
    "start_time": "2023-11-24T17:30:20.358Z"
   },
   {
    "duration": 146,
    "start_time": "2023-11-24T17:32:19.740Z"
   },
   {
    "duration": 80,
    "start_time": "2023-11-24T17:32:27.988Z"
   },
   {
    "duration": 74,
    "start_time": "2023-11-24T17:32:42.830Z"
   },
   {
    "duration": 77,
    "start_time": "2023-11-24T17:32:48.444Z"
   },
   {
    "duration": 77,
    "start_time": "2023-11-24T17:32:54.716Z"
   },
   {
    "duration": 71,
    "start_time": "2023-11-24T17:33:03.853Z"
   },
   {
    "duration": 120,
    "start_time": "2023-11-24T17:33:09.669Z"
   },
   {
    "duration": 80,
    "start_time": "2023-11-24T17:33:22.558Z"
   },
   {
    "duration": 76,
    "start_time": "2023-11-24T17:33:26.636Z"
   },
   {
    "duration": 72,
    "start_time": "2023-11-24T17:33:44.934Z"
   },
   {
    "duration": 78,
    "start_time": "2023-11-24T17:33:49.479Z"
   },
   {
    "duration": 456,
    "start_time": "2023-11-24T17:34:00.935Z"
   },
   {
    "duration": 433,
    "start_time": "2023-11-24T17:34:22.710Z"
   },
   {
    "duration": 523,
    "start_time": "2023-11-24T17:34:34.998Z"
   },
   {
    "duration": 2,
    "start_time": "2023-11-24T17:34:54.447Z"
   },
   {
    "duration": 8,
    "start_time": "2023-11-24T17:36:08.664Z"
   },
   {
    "duration": 3,
    "start_time": "2023-11-24T17:36:16.034Z"
   },
   {
    "duration": 6,
    "start_time": "2023-11-24T17:36:16.039Z"
   },
   {
    "duration": 4,
    "start_time": "2023-11-24T17:36:16.046Z"
   },
   {
    "duration": 105,
    "start_time": "2023-11-24T17:36:16.051Z"
   },
   {
    "duration": 115,
    "start_time": "2023-11-24T17:36:16.158Z"
   },
   {
    "duration": 72,
    "start_time": "2023-11-24T17:36:16.275Z"
   },
   {
    "duration": 2,
    "start_time": "2023-11-24T17:36:16.349Z"
   },
   {
    "duration": 22,
    "start_time": "2023-11-24T17:36:16.353Z"
   },
   {
    "duration": 4,
    "start_time": "2023-11-24T17:36:16.377Z"
   },
   {
    "duration": 22,
    "start_time": "2023-11-24T17:36:16.382Z"
   },
   {
    "duration": 6,
    "start_time": "2023-11-24T17:36:16.405Z"
   },
   {
    "duration": 16,
    "start_time": "2023-11-24T17:36:16.414Z"
   },
   {
    "duration": 4,
    "start_time": "2023-11-24T17:36:16.432Z"
   },
   {
    "duration": 21,
    "start_time": "2023-11-24T17:36:16.438Z"
   },
   {
    "duration": 3,
    "start_time": "2023-11-24T17:36:16.461Z"
   },
   {
    "duration": 143,
    "start_time": "2023-11-24T17:36:16.465Z"
   },
   {
    "duration": 141,
    "start_time": "2023-11-24T17:36:16.610Z"
   },
   {
    "duration": 2,
    "start_time": "2023-11-24T17:36:16.753Z"
   },
   {
    "duration": 126,
    "start_time": "2023-11-24T17:36:16.757Z"
   },
   {
    "duration": 3,
    "start_time": "2023-11-24T17:36:16.885Z"
   },
   {
    "duration": 181,
    "start_time": "2023-11-24T17:36:16.889Z"
   },
   {
    "duration": 117,
    "start_time": "2023-11-24T17:36:17.072Z"
   },
   {
    "duration": 7,
    "start_time": "2023-11-24T17:36:17.191Z"
   },
   {
    "duration": 6,
    "start_time": "2023-11-24T17:36:17.200Z"
   },
   {
    "duration": 366,
    "start_time": "2023-11-24T17:36:17.208Z"
   },
   {
    "duration": 332,
    "start_time": "2023-11-24T17:36:17.576Z"
   },
   {
    "duration": 7,
    "start_time": "2023-11-24T17:36:17.910Z"
   },
   {
    "duration": 14,
    "start_time": "2023-11-24T17:36:17.918Z"
   },
   {
    "duration": 222,
    "start_time": "2023-11-24T17:36:17.934Z"
   },
   {
    "duration": 7,
    "start_time": "2023-11-24T17:36:18.158Z"
   },
   {
    "duration": 336,
    "start_time": "2023-11-24T17:36:18.166Z"
   },
   {
    "duration": 344,
    "start_time": "2023-11-24T17:36:18.504Z"
   },
   {
    "duration": 7,
    "start_time": "2023-11-24T17:36:18.852Z"
   },
   {
    "duration": 129,
    "start_time": "2023-11-24T17:36:18.860Z"
   },
   {
    "duration": 7,
    "start_time": "2023-11-24T17:36:18.991Z"
   },
   {
    "duration": 5,
    "start_time": "2023-11-24T17:36:18.999Z"
   },
   {
    "duration": 30,
    "start_time": "2023-11-24T17:36:19.006Z"
   },
   {
    "duration": 33,
    "start_time": "2023-11-24T17:36:19.037Z"
   },
   {
    "duration": 7,
    "start_time": "2023-11-24T17:36:19.071Z"
   },
   {
    "duration": 6,
    "start_time": "2023-11-24T17:36:19.079Z"
   },
   {
    "duration": 843,
    "start_time": "2023-11-24T17:36:19.087Z"
   },
   {
    "duration": 332,
    "start_time": "2023-11-24T17:36:19.932Z"
   },
   {
    "duration": 344,
    "start_time": "2023-11-24T17:36:20.266Z"
   },
   {
    "duration": 347,
    "start_time": "2023-11-24T17:36:20.612Z"
   },
   {
    "duration": 472,
    "start_time": "2023-11-24T17:36:20.961Z"
   },
   {
    "duration": 18,
    "start_time": "2023-11-24T17:36:21.434Z"
   },
   {
    "duration": 10,
    "start_time": "2023-11-24T17:36:21.453Z"
   },
   {
    "duration": 2,
    "start_time": "2023-11-24T17:36:21.464Z"
   },
   {
    "duration": 4097,
    "start_time": "2023-11-24T17:37:10.011Z"
   },
   {
    "duration": 3967,
    "start_time": "2023-11-24T17:37:14.945Z"
   },
   {
    "duration": 190,
    "start_time": "2023-11-24T17:38:15.273Z"
   },
   {
    "duration": 129,
    "start_time": "2023-11-24T17:38:28.353Z"
   },
   {
    "duration": 142,
    "start_time": "2023-11-24T17:38:48.122Z"
   },
   {
    "duration": 143,
    "start_time": "2023-11-24T17:38:53.611Z"
   },
   {
    "duration": 178,
    "start_time": "2023-11-24T17:39:03.684Z"
   },
   {
    "duration": 157,
    "start_time": "2023-11-24T17:39:09.569Z"
   },
   {
    "duration": 173,
    "start_time": "2023-11-24T17:39:19.780Z"
   },
   {
    "duration": 176,
    "start_time": "2023-11-24T17:39:23.299Z"
   },
   {
    "duration": 131,
    "start_time": "2023-11-24T17:39:34.907Z"
   },
   {
    "duration": 19,
    "start_time": "2023-11-24T17:40:20.837Z"
   },
   {
    "duration": 11,
    "start_time": "2023-11-24T17:40:25.245Z"
   },
   {
    "duration": 15,
    "start_time": "2023-11-24T17:41:12.534Z"
   },
   {
    "duration": 13,
    "start_time": "2023-11-24T17:41:26.304Z"
   },
   {
    "duration": 14,
    "start_time": "2023-11-24T17:41:32.430Z"
   },
   {
    "duration": 4,
    "start_time": "2023-11-24T17:44:42.801Z"
   },
   {
    "duration": 14,
    "start_time": "2023-11-24T17:44:43.761Z"
   },
   {
    "duration": 12,
    "start_time": "2023-11-24T17:44:45.433Z"
   },
   {
    "duration": 4,
    "start_time": "2023-11-24T17:45:06.407Z"
   },
   {
    "duration": 13,
    "start_time": "2023-11-24T17:45:06.729Z"
   },
   {
    "duration": 12,
    "start_time": "2023-11-24T17:45:07.169Z"
   },
   {
    "duration": 81,
    "start_time": "2023-11-24T17:49:21.588Z"
   },
   {
    "duration": 11,
    "start_time": "2023-11-24T17:53:19.689Z"
   },
   {
    "duration": 12,
    "start_time": "2023-11-24T17:53:46.273Z"
   },
   {
    "duration": 762,
    "start_time": "2023-11-24T17:54:52.107Z"
   },
   {
    "duration": 4,
    "start_time": "2023-11-24T17:54:53.738Z"
   },
   {
    "duration": 15,
    "start_time": "2023-11-24T17:54:54.475Z"
   },
   {
    "duration": 102,
    "start_time": "2023-11-24T17:54:56.026Z"
   },
   {
    "duration": 12,
    "start_time": "2023-11-24T17:54:56.244Z"
   },
   {
    "duration": 100,
    "start_time": "2023-11-24T18:04:27.747Z"
   },
   {
    "duration": 81,
    "start_time": "2023-11-24T18:04:44.213Z"
   },
   {
    "duration": 87,
    "start_time": "2023-11-24T18:04:54.604Z"
   },
   {
    "duration": 10,
    "start_time": "2023-11-24T18:05:38.467Z"
   },
   {
    "duration": 685,
    "start_time": "2023-11-24T18:06:04.717Z"
   },
   {
    "duration": 4,
    "start_time": "2023-11-24T18:06:06.453Z"
   },
   {
    "duration": 14,
    "start_time": "2023-11-24T18:06:06.813Z"
   },
   {
    "duration": 9,
    "start_time": "2023-11-24T18:06:08.573Z"
   },
   {
    "duration": 10,
    "start_time": "2023-11-24T18:06:13.581Z"
   },
   {
    "duration": 5,
    "start_time": "2023-11-24T18:06:56.014Z"
   },
   {
    "duration": 10,
    "start_time": "2023-11-24T18:07:09.206Z"
   },
   {
    "duration": 10,
    "start_time": "2023-11-24T18:07:23.310Z"
   },
   {
    "duration": 11,
    "start_time": "2023-11-24T18:07:51.135Z"
   },
   {
    "duration": 10,
    "start_time": "2023-11-24T18:07:58.383Z"
   },
   {
    "duration": 10,
    "start_time": "2023-11-24T18:08:09.224Z"
   },
   {
    "duration": 9,
    "start_time": "2023-11-24T18:08:25.575Z"
   },
   {
    "duration": 9,
    "start_time": "2023-11-24T18:08:53.979Z"
   },
   {
    "duration": 12,
    "start_time": "2023-11-24T18:09:03.992Z"
   },
   {
    "duration": 1417,
    "start_time": "2023-11-24T18:10:49.537Z"
   },
   {
    "duration": 1306,
    "start_time": "2023-11-24T18:11:02.607Z"
   },
   {
    "duration": 98,
    "start_time": "2023-11-24T18:11:24.514Z"
   },
   {
    "duration": 1241,
    "start_time": "2023-11-24T18:11:28.162Z"
   },
   {
    "duration": 4,
    "start_time": "2023-11-24T18:12:22.723Z"
   },
   {
    "duration": 5,
    "start_time": "2023-11-24T18:12:47.018Z"
   },
   {
    "duration": 12,
    "start_time": "2023-11-24T18:14:07.123Z"
   },
   {
    "duration": 11,
    "start_time": "2023-11-24T18:15:17.622Z"
   },
   {
    "duration": 78,
    "start_time": "2023-11-24T18:18:01.408Z"
   },
   {
    "duration": 79,
    "start_time": "2023-11-24T18:18:25.184Z"
   },
   {
    "duration": 85,
    "start_time": "2023-11-24T18:18:47.480Z"
   },
   {
    "duration": 5,
    "start_time": "2023-11-24T18:20:07.472Z"
   },
   {
    "duration": 84,
    "start_time": "2023-11-24T18:20:11.484Z"
   },
   {
    "duration": 13,
    "start_time": "2023-11-24T18:20:51.738Z"
   },
   {
    "duration": 10,
    "start_time": "2023-11-24T18:21:26.930Z"
   },
   {
    "duration": 6,
    "start_time": "2023-11-24T18:22:40.747Z"
   },
   {
    "duration": 9,
    "start_time": "2023-11-24T18:22:42.363Z"
   },
   {
    "duration": 10,
    "start_time": "2023-11-24T18:22:52.670Z"
   },
   {
    "duration": 10,
    "start_time": "2023-11-24T18:23:00.071Z"
   },
   {
    "duration": 11,
    "start_time": "2023-11-24T18:23:50.500Z"
   },
   {
    "duration": 82,
    "start_time": "2023-11-24T18:23:52.596Z"
   },
   {
    "duration": 10,
    "start_time": "2023-11-24T18:24:20.412Z"
   },
   {
    "duration": 9,
    "start_time": "2023-11-24T18:24:56.758Z"
   },
   {
    "duration": 9,
    "start_time": "2023-11-24T18:25:46.735Z"
   },
   {
    "duration": 10,
    "start_time": "2023-11-24T18:25:52.022Z"
   },
   {
    "duration": 11,
    "start_time": "2023-11-24T18:26:25.279Z"
   },
   {
    "duration": 10,
    "start_time": "2023-11-24T18:26:30.951Z"
   },
   {
    "duration": 10,
    "start_time": "2023-11-24T18:26:35.631Z"
   },
   {
    "duration": 11,
    "start_time": "2023-11-24T18:27:44.952Z"
   },
   {
    "duration": 11,
    "start_time": "2023-11-24T18:27:51.191Z"
   },
   {
    "duration": 3,
    "start_time": "2023-11-24T18:28:03.535Z"
   },
   {
    "duration": 3,
    "start_time": "2023-11-24T18:28:08.007Z"
   },
   {
    "duration": 3,
    "start_time": "2023-11-24T18:28:19.736Z"
   },
   {
    "duration": 4,
    "start_time": "2023-11-24T18:28:50.357Z"
   },
   {
    "duration": 4,
    "start_time": "2023-11-24T18:29:23.992Z"
   },
   {
    "duration": 9,
    "start_time": "2023-11-24T18:32:45.065Z"
   },
   {
    "duration": 4,
    "start_time": "2023-11-24T18:33:04.588Z"
   },
   {
    "duration": 8,
    "start_time": "2023-11-24T18:33:08.148Z"
   },
   {
    "duration": 8,
    "start_time": "2023-11-24T18:33:40.565Z"
   },
   {
    "duration": 9,
    "start_time": "2023-11-24T18:34:03.647Z"
   },
   {
    "duration": 9,
    "start_time": "2023-11-24T18:42:48.636Z"
   },
   {
    "duration": 9,
    "start_time": "2023-11-24T18:42:54.917Z"
   },
   {
    "duration": 91,
    "start_time": "2023-11-24T18:42:55.453Z"
   },
   {
    "duration": 9,
    "start_time": "2023-11-24T18:43:02.853Z"
   },
   {
    "duration": 75,
    "start_time": "2023-11-24T18:43:03.277Z"
   },
   {
    "duration": 8,
    "start_time": "2023-11-24T18:43:28.566Z"
   },
   {
    "duration": 4,
    "start_time": "2023-11-24T18:53:21.015Z"
   },
   {
    "duration": 13,
    "start_time": "2023-11-24T18:53:28.424Z"
   },
   {
    "duration": 8,
    "start_time": "2023-11-24T18:53:39.128Z"
   },
   {
    "duration": 12,
    "start_time": "2023-11-24T18:53:40.784Z"
   },
   {
    "duration": 6,
    "start_time": "2023-11-24T18:54:56.298Z"
   },
   {
    "duration": 14,
    "start_time": "2023-11-24T18:55:03.396Z"
   },
   {
    "duration": 141,
    "start_time": "2023-11-24T18:55:51.755Z"
   },
   {
    "duration": 75,
    "start_time": "2023-11-24T18:55:55.258Z"
   },
   {
    "duration": 82,
    "start_time": "2023-11-24T18:56:21.387Z"
   },
   {
    "duration": 70,
    "start_time": "2023-11-24T18:56:26.411Z"
   },
   {
    "duration": 81,
    "start_time": "2023-11-24T18:57:31.916Z"
   },
   {
    "duration": 9,
    "start_time": "2023-11-24T18:57:45.892Z"
   },
   {
    "duration": 14,
    "start_time": "2023-11-24T18:57:47.244Z"
   },
   {
    "duration": 15,
    "start_time": "2023-11-24T18:58:40.757Z"
   },
   {
    "duration": 6,
    "start_time": "2023-11-24T18:58:56.350Z"
   },
   {
    "duration": 15,
    "start_time": "2023-11-24T18:59:10.053Z"
   },
   {
    "duration": 16,
    "start_time": "2023-11-24T18:59:32.262Z"
   },
   {
    "duration": 4,
    "start_time": "2023-11-24T19:00:18.366Z"
   },
   {
    "duration": 12,
    "start_time": "2023-11-24T19:00:20.055Z"
   },
   {
    "duration": 9,
    "start_time": "2023-11-24T19:00:46.311Z"
   },
   {
    "duration": 12,
    "start_time": "2023-11-24T19:00:47.863Z"
   },
   {
    "duration": 10,
    "start_time": "2023-11-24T19:01:28.824Z"
   },
   {
    "duration": 13,
    "start_time": "2023-11-24T19:01:29.440Z"
   },
   {
    "duration": 15,
    "start_time": "2023-11-24T19:01:47.647Z"
   },
   {
    "duration": 14,
    "start_time": "2023-11-24T19:01:49.121Z"
   },
   {
    "duration": 19,
    "start_time": "2023-11-24T19:02:01.264Z"
   },
   {
    "duration": 11,
    "start_time": "2023-11-24T19:02:06.105Z"
   },
   {
    "duration": 13,
    "start_time": "2023-11-24T19:02:07.040Z"
   },
   {
    "duration": 12,
    "start_time": "2023-11-24T19:02:13.671Z"
   },
   {
    "duration": 14,
    "start_time": "2023-11-24T19:02:14.056Z"
   },
   {
    "duration": 1073,
    "start_time": "2023-11-24T19:02:47.506Z"
   },
   {
    "duration": 3,
    "start_time": "2023-11-24T19:02:48.581Z"
   },
   {
    "duration": 8,
    "start_time": "2023-11-24T19:02:48.585Z"
   },
   {
    "duration": 132,
    "start_time": "2023-11-24T19:02:48.595Z"
   },
   {
    "duration": 101,
    "start_time": "2023-11-24T19:02:48.729Z"
   },
   {
    "duration": 91,
    "start_time": "2023-11-24T19:02:48.832Z"
   },
   {
    "duration": 3,
    "start_time": "2023-11-24T19:02:48.924Z"
   },
   {
    "duration": 19,
    "start_time": "2023-11-24T19:02:48.929Z"
   },
   {
    "duration": 4,
    "start_time": "2023-11-24T19:02:48.949Z"
   },
   {
    "duration": 26,
    "start_time": "2023-11-24T19:02:48.954Z"
   },
   {
    "duration": 7,
    "start_time": "2023-11-24T19:02:48.982Z"
   },
   {
    "duration": 6,
    "start_time": "2023-11-24T19:02:48.990Z"
   },
   {
    "duration": 4,
    "start_time": "2023-11-24T19:02:48.998Z"
   },
   {
    "duration": 15,
    "start_time": "2023-11-24T19:02:49.030Z"
   },
   {
    "duration": 4,
    "start_time": "2023-11-24T19:02:49.047Z"
   },
   {
    "duration": 185,
    "start_time": "2023-11-24T19:02:49.053Z"
   },
   {
    "duration": 154,
    "start_time": "2023-11-24T19:02:49.240Z"
   },
   {
    "duration": 2,
    "start_time": "2023-11-24T19:02:49.396Z"
   },
   {
    "duration": 141,
    "start_time": "2023-11-24T19:02:49.399Z"
   },
   {
    "duration": 3,
    "start_time": "2023-11-24T19:02:49.542Z"
   },
   {
    "duration": 205,
    "start_time": "2023-11-24T19:02:49.547Z"
   },
   {
    "duration": 130,
    "start_time": "2023-11-24T19:02:49.754Z"
   },
   {
    "duration": 8,
    "start_time": "2023-11-24T19:02:49.886Z"
   },
   {
    "duration": 21,
    "start_time": "2023-11-24T19:02:49.895Z"
   },
   {
    "duration": 409,
    "start_time": "2023-11-24T19:02:49.918Z"
   },
   {
    "duration": 323,
    "start_time": "2023-11-24T19:02:50.331Z"
   },
   {
    "duration": 7,
    "start_time": "2023-11-24T19:02:50.656Z"
   },
   {
    "duration": 9,
    "start_time": "2023-11-24T19:02:50.665Z"
   },
   {
    "duration": 233,
    "start_time": "2023-11-24T19:02:50.676Z"
   },
   {
    "duration": 6,
    "start_time": "2023-11-24T19:02:50.911Z"
   },
   {
    "duration": 361,
    "start_time": "2023-11-24T19:02:50.918Z"
   },
   {
    "duration": 356,
    "start_time": "2023-11-24T19:02:51.280Z"
   },
   {
    "duration": 6,
    "start_time": "2023-11-24T19:02:51.638Z"
   },
   {
    "duration": 134,
    "start_time": "2023-11-24T19:02:51.646Z"
   },
   {
    "duration": 8,
    "start_time": "2023-11-24T19:02:51.781Z"
   },
   {
    "duration": 16,
    "start_time": "2023-11-24T19:02:51.790Z"
   },
   {
    "duration": 22,
    "start_time": "2023-11-24T19:02:51.808Z"
   },
   {
    "duration": 33,
    "start_time": "2023-11-24T19:02:51.832Z"
   },
   {
    "duration": 6,
    "start_time": "2023-11-24T19:02:51.867Z"
   },
   {
    "duration": 12,
    "start_time": "2023-11-24T19:02:51.874Z"
   },
   {
    "duration": 359,
    "start_time": "2023-11-24T19:02:51.890Z"
   },
   {
    "duration": 471,
    "start_time": "2023-11-24T19:02:52.250Z"
   },
   {
    "duration": 337,
    "start_time": "2023-11-24T19:02:52.723Z"
   },
   {
    "duration": 362,
    "start_time": "2023-11-24T19:02:53.062Z"
   },
   {
    "duration": 713,
    "start_time": "2023-11-24T19:02:53.425Z"
   },
   {
    "duration": 15,
    "start_time": "2023-11-24T19:02:54.139Z"
   },
   {
    "duration": 11,
    "start_time": "2023-11-24T19:03:05.788Z"
   },
   {
    "duration": 13,
    "start_time": "2023-11-24T19:03:06.700Z"
   },
   {
    "duration": 12,
    "start_time": "2023-11-24T19:03:19.756Z"
   },
   {
    "duration": 14,
    "start_time": "2023-11-24T19:03:22.084Z"
   },
   {
    "duration": 12,
    "start_time": "2023-11-24T19:03:39.285Z"
   },
   {
    "duration": 15,
    "start_time": "2023-11-24T19:03:39.828Z"
   },
   {
    "duration": 13,
    "start_time": "2023-11-24T19:03:48.964Z"
   },
   {
    "duration": 3,
    "start_time": "2023-11-24T19:03:49.437Z"
   },
   {
    "duration": 12,
    "start_time": "2023-11-24T19:04:41.197Z"
   },
   {
    "duration": 13,
    "start_time": "2023-11-24T19:04:41.591Z"
   },
   {
    "duration": 6,
    "start_time": "2023-11-24T19:04:45.334Z"
   },
   {
    "duration": 15,
    "start_time": "2023-11-24T19:04:45.894Z"
   },
   {
    "duration": 15,
    "start_time": "2023-11-24T19:07:01.783Z"
   },
   {
    "duration": 18,
    "start_time": "2023-11-24T19:07:53.073Z"
   },
   {
    "duration": 13,
    "start_time": "2023-11-24T19:07:53.555Z"
   },
   {
    "duration": 6,
    "start_time": "2023-11-24T19:07:53.912Z"
   },
   {
    "duration": 12,
    "start_time": "2023-11-24T19:07:54.434Z"
   },
   {
    "duration": 2,
    "start_time": "2023-11-24T19:13:07.470Z"
   },
   {
    "duration": 96,
    "start_time": "2023-11-24T19:13:07.765Z"
   },
   {
    "duration": 8,
    "start_time": "2023-11-24T19:13:08.109Z"
   },
   {
    "duration": 8,
    "start_time": "2023-11-24T19:13:08.685Z"
   },
   {
    "duration": 91,
    "start_time": "2023-11-24T19:14:00.449Z"
   },
   {
    "duration": 4,
    "start_time": "2023-11-24T19:14:05.346Z"
   },
   {
    "duration": 9,
    "start_time": "2023-11-24T19:14:11.111Z"
   },
   {
    "duration": 8,
    "start_time": "2023-11-24T19:14:14.039Z"
   },
   {
    "duration": 9,
    "start_time": "2023-11-24T19:14:14.238Z"
   },
   {
    "duration": 2,
    "start_time": "2023-11-24T19:14:38.209Z"
   },
   {
    "duration": 2,
    "start_time": "2023-11-24T19:14:42.607Z"
   },
   {
    "duration": 3,
    "start_time": "2023-11-24T19:14:42.808Z"
   },
   {
    "duration": 4,
    "start_time": "2023-11-24T19:14:43.831Z"
   },
   {
    "duration": 2,
    "start_time": "2023-11-24T19:14:44.431Z"
   },
   {
    "duration": 3,
    "start_time": "2023-11-24T19:16:04.321Z"
   },
   {
    "duration": 4,
    "start_time": "2023-11-24T19:19:07.509Z"
   },
   {
    "duration": 4,
    "start_time": "2023-11-24T19:19:07.907Z"
   },
   {
    "duration": 4,
    "start_time": "2023-11-24T19:19:09.507Z"
   },
   {
    "duration": 5,
    "start_time": "2023-11-24T19:21:17.933Z"
   },
   {
    "duration": 4,
    "start_time": "2023-11-24T19:21:28.869Z"
   },
   {
    "duration": 4,
    "start_time": "2023-11-24T19:21:30.806Z"
   },
   {
    "duration": 2,
    "start_time": "2023-11-24T19:25:40.089Z"
   },
   {
    "duration": 4,
    "start_time": "2023-11-24T19:26:05.578Z"
   },
   {
    "duration": 4,
    "start_time": "2023-11-24T19:26:06.034Z"
   },
   {
    "duration": 4,
    "start_time": "2023-11-24T19:26:06.514Z"
   },
   {
    "duration": 2,
    "start_time": "2023-11-24T19:28:21.284Z"
   },
   {
    "duration": 2,
    "start_time": "2023-11-24T19:28:21.667Z"
   },
   {
    "duration": 4,
    "start_time": "2023-11-24T19:28:22.147Z"
   },
   {
    "duration": 3,
    "start_time": "2023-11-24T19:28:22.707Z"
   },
   {
    "duration": 3,
    "start_time": "2023-11-24T19:28:23.564Z"
   },
   {
    "duration": 3,
    "start_time": "2023-11-24T19:28:50.861Z"
   },
   {
    "duration": 1112,
    "start_time": "2023-11-24T19:29:33.062Z"
   },
   {
    "duration": 4,
    "start_time": "2023-11-24T19:29:34.176Z"
   },
   {
    "duration": 9,
    "start_time": "2023-11-24T19:29:34.182Z"
   },
   {
    "duration": 70,
    "start_time": "2023-11-24T19:29:34.192Z"
   },
   {
    "duration": 65,
    "start_time": "2023-11-24T19:29:34.265Z"
   },
   {
    "duration": 48,
    "start_time": "2023-11-24T19:29:34.332Z"
   },
   {
    "duration": 3,
    "start_time": "2023-11-24T19:29:34.383Z"
   },
   {
    "duration": 19,
    "start_time": "2023-11-24T19:29:34.388Z"
   },
   {
    "duration": 4,
    "start_time": "2023-11-24T19:29:34.408Z"
   },
   {
    "duration": 31,
    "start_time": "2023-11-24T19:29:34.413Z"
   },
   {
    "duration": 9,
    "start_time": "2023-11-24T19:29:34.446Z"
   },
   {
    "duration": 6,
    "start_time": "2023-11-24T19:29:34.457Z"
   },
   {
    "duration": 5,
    "start_time": "2023-11-24T19:29:34.464Z"
   },
   {
    "duration": 18,
    "start_time": "2023-11-24T19:29:34.472Z"
   },
   {
    "duration": 4,
    "start_time": "2023-11-24T19:29:34.492Z"
   },
   {
    "duration": 170,
    "start_time": "2023-11-24T19:29:34.497Z"
   },
   {
    "duration": 150,
    "start_time": "2023-11-24T19:29:34.668Z"
   },
   {
    "duration": 2,
    "start_time": "2023-11-24T19:29:34.820Z"
   },
   {
    "duration": 125,
    "start_time": "2023-11-24T19:29:34.824Z"
   },
   {
    "duration": 3,
    "start_time": "2023-11-24T19:29:34.950Z"
   },
   {
    "duration": 180,
    "start_time": "2023-11-24T19:29:34.954Z"
   },
   {
    "duration": 120,
    "start_time": "2023-11-24T19:29:35.135Z"
   },
   {
    "duration": 7,
    "start_time": "2023-11-24T19:29:35.257Z"
   },
   {
    "duration": 12,
    "start_time": "2023-11-24T19:29:35.265Z"
   },
   {
    "duration": 368,
    "start_time": "2023-11-24T19:29:35.278Z"
   },
   {
    "duration": 366,
    "start_time": "2023-11-24T19:29:35.647Z"
   },
   {
    "duration": 16,
    "start_time": "2023-11-24T19:29:36.015Z"
   },
   {
    "duration": 7,
    "start_time": "2023-11-24T19:29:36.033Z"
   },
   {
    "duration": 129,
    "start_time": "2023-11-24T19:29:36.041Z"
   },
   {
    "duration": 5,
    "start_time": "2023-11-24T19:29:36.172Z"
   },
   {
    "duration": 327,
    "start_time": "2023-11-24T19:29:36.179Z"
   },
   {
    "duration": 365,
    "start_time": "2023-11-24T19:29:36.507Z"
   },
   {
    "duration": 7,
    "start_time": "2023-11-24T19:29:36.874Z"
   },
   {
    "duration": 130,
    "start_time": "2023-11-24T19:29:36.883Z"
   },
   {
    "duration": 8,
    "start_time": "2023-11-24T19:29:37.014Z"
   },
   {
    "duration": 5,
    "start_time": "2023-11-24T19:29:37.031Z"
   },
   {
    "duration": 15,
    "start_time": "2023-11-24T19:29:37.038Z"
   },
   {
    "duration": 33,
    "start_time": "2023-11-24T19:29:37.055Z"
   },
   {
    "duration": 7,
    "start_time": "2023-11-24T19:29:37.089Z"
   },
   {
    "duration": 34,
    "start_time": "2023-11-24T19:29:37.097Z"
   },
   {
    "duration": 438,
    "start_time": "2023-11-24T19:29:37.135Z"
   },
   {
    "duration": 384,
    "start_time": "2023-11-24T19:29:37.575Z"
   },
   {
    "duration": 343,
    "start_time": "2023-11-24T19:29:37.961Z"
   },
   {
    "duration": 348,
    "start_time": "2023-11-24T19:29:38.306Z"
   },
   {
    "duration": 19,
    "start_time": "2023-11-24T19:29:38.655Z"
   },
   {
    "duration": 23,
    "start_time": "2023-11-24T19:29:38.675Z"
   },
   {
    "duration": 8,
    "start_time": "2023-11-24T19:29:38.700Z"
   },
   {
    "duration": 37,
    "start_time": "2023-11-24T19:29:38.709Z"
   },
   {
    "duration": 16,
    "start_time": "2023-11-24T19:29:38.747Z"
   },
   {
    "duration": 21,
    "start_time": "2023-11-24T19:29:38.765Z"
   },
   {
    "duration": 15,
    "start_time": "2023-11-24T19:29:38.788Z"
   },
   {
    "duration": 15,
    "start_time": "2023-11-24T19:29:38.805Z"
   },
   {
    "duration": 3,
    "start_time": "2023-11-24T19:29:43.228Z"
   },
   {
    "duration": 3,
    "start_time": "2023-11-24T19:29:43.508Z"
   },
   {
    "duration": 3,
    "start_time": "2023-11-24T19:29:43.965Z"
   },
   {
    "duration": 4,
    "start_time": "2023-11-24T19:29:44.349Z"
   },
   {
    "duration": 3,
    "start_time": "2023-11-24T19:29:44.884Z"
   },
   {
    "duration": 724,
    "start_time": "2023-11-24T19:33:35.713Z"
   },
   {
    "duration": 11,
    "start_time": "2023-11-24T19:33:36.439Z"
   },
   {
    "duration": 6,
    "start_time": "2023-11-24T19:33:36.451Z"
   },
   {
    "duration": 14,
    "start_time": "2023-11-24T19:33:37.072Z"
   },
   {
    "duration": 2,
    "start_time": "2023-11-24T19:33:40.504Z"
   },
   {
    "duration": 4,
    "start_time": "2023-11-24T19:33:40.768Z"
   },
   {
    "duration": 3,
    "start_time": "2023-11-24T19:33:41.048Z"
   },
   {
    "duration": 3,
    "start_time": "2023-11-24T19:33:41.344Z"
   },
   {
    "duration": 3,
    "start_time": "2023-11-24T19:33:42.584Z"
   },
   {
    "duration": 3,
    "start_time": "2023-11-24T19:33:42.784Z"
   },
   {
    "duration": 4,
    "start_time": "2023-11-24T19:33:42.983Z"
   },
   {
    "duration": 4,
    "start_time": "2023-11-24T19:33:43.200Z"
   },
   {
    "duration": 3,
    "start_time": "2023-11-24T19:33:43.442Z"
   },
   {
    "duration": 3,
    "start_time": "2023-11-24T19:33:44.736Z"
   },
   {
    "duration": 5,
    "start_time": "2023-11-24T19:33:44.937Z"
   },
   {
    "duration": 4,
    "start_time": "2023-11-24T19:33:45.136Z"
   },
   {
    "duration": 3,
    "start_time": "2023-11-24T19:33:45.680Z"
   },
   {
    "duration": 9,
    "start_time": "2023-11-24T19:35:27.274Z"
   },
   {
    "duration": 4,
    "start_time": "2023-11-24T19:35:27.731Z"
   },
   {
    "duration": 3,
    "start_time": "2023-11-24T19:35:28.332Z"
   },
   {
    "duration": 3,
    "start_time": "2023-11-24T19:35:43.705Z"
   },
   {
    "duration": 8,
    "start_time": "2023-11-24T19:35:43.882Z"
   },
   {
    "duration": 4,
    "start_time": "2023-11-24T19:35:44.041Z"
   },
   {
    "duration": 3,
    "start_time": "2023-11-24T19:35:44.229Z"
   },
   {
    "duration": 3,
    "start_time": "2023-11-24T19:46:14.625Z"
   },
   {
    "duration": 3,
    "start_time": "2023-11-24T19:47:41.524Z"
   },
   {
    "duration": 3,
    "start_time": "2023-11-24T19:47:41.740Z"
   },
   {
    "duration": 2,
    "start_time": "2023-11-24T19:47:41.956Z"
   },
   {
    "duration": 4,
    "start_time": "2023-11-24T19:47:42.543Z"
   },
   {
    "duration": 154,
    "start_time": "2023-11-24T19:48:05.205Z"
   },
   {
    "duration": 281,
    "start_time": "2023-11-24T19:52:08.289Z"
   },
   {
    "duration": 157,
    "start_time": "2023-11-24T19:52:28.842Z"
   },
   {
    "duration": 169,
    "start_time": "2023-11-24T19:52:34.628Z"
   },
   {
    "duration": 159,
    "start_time": "2023-11-24T19:52:39.129Z"
   },
   {
    "duration": 63,
    "start_time": "2023-11-24T19:52:52.778Z"
   },
   {
    "duration": 158,
    "start_time": "2023-11-24T19:52:56.450Z"
   },
   {
    "duration": 166,
    "start_time": "2023-11-24T19:53:01.296Z"
   },
   {
    "duration": 167,
    "start_time": "2023-11-24T19:53:07.865Z"
   },
   {
    "duration": 161,
    "start_time": "2023-11-24T19:53:21.610Z"
   },
   {
    "duration": 154,
    "start_time": "2023-11-24T19:53:26.570Z"
   },
   {
    "duration": 155,
    "start_time": "2023-11-24T19:53:30.083Z"
   },
   {
    "duration": 2,
    "start_time": "2023-11-24T19:53:57.075Z"
   },
   {
    "duration": 2,
    "start_time": "2023-11-24T19:54:16.059Z"
   },
   {
    "duration": 4,
    "start_time": "2023-11-24T19:54:16.283Z"
   },
   {
    "duration": 102,
    "start_time": "2023-11-24T19:54:17.040Z"
   },
   {
    "duration": 3,
    "start_time": "2023-11-24T19:55:48.635Z"
   },
   {
    "duration": 3,
    "start_time": "2023-11-24T19:55:51.500Z"
   },
   {
    "duration": 4,
    "start_time": "2023-11-24T19:55:51.860Z"
   },
   {
    "duration": 227,
    "start_time": "2023-11-24T19:55:52.307Z"
   },
   {
    "duration": 3,
    "start_time": "2023-11-24T19:58:32.670Z"
   },
   {
    "duration": 2,
    "start_time": "2023-11-24T19:58:33.942Z"
   },
   {
    "duration": 3,
    "start_time": "2023-11-24T19:58:34.599Z"
   },
   {
    "duration": 156,
    "start_time": "2023-11-24T19:58:35.061Z"
   },
   {
    "duration": 2,
    "start_time": "2023-11-24T19:58:46.308Z"
   },
   {
    "duration": 2,
    "start_time": "2023-11-24T19:58:46.599Z"
   },
   {
    "duration": 13,
    "start_time": "2023-11-24T19:58:46.885Z"
   },
   {
    "duration": 696,
    "start_time": "2023-11-24T19:58:47.239Z"
   },
   {
    "duration": 3,
    "start_time": "2023-11-24T20:00:02.225Z"
   },
   {
    "duration": 2,
    "start_time": "2023-11-24T20:00:02.664Z"
   },
   {
    "duration": 3,
    "start_time": "2023-11-24T20:00:02.983Z"
   },
   {
    "duration": 227,
    "start_time": "2023-11-24T20:00:03.537Z"
   },
   {
    "duration": 3,
    "start_time": "2023-11-24T20:00:34.977Z"
   },
   {
    "duration": 3,
    "start_time": "2023-11-24T20:00:35.225Z"
   },
   {
    "duration": 3,
    "start_time": "2023-11-24T20:00:35.457Z"
   },
   {
    "duration": 118,
    "start_time": "2023-11-24T20:00:35.800Z"
   },
   {
    "duration": 3,
    "start_time": "2023-11-24T20:01:29.672Z"
   },
   {
    "duration": 3,
    "start_time": "2023-11-24T20:01:29.936Z"
   },
   {
    "duration": 3,
    "start_time": "2023-11-24T20:01:30.177Z"
   },
   {
    "duration": 303,
    "start_time": "2023-11-24T20:01:30.849Z"
   },
   {
    "duration": 3,
    "start_time": "2023-11-24T20:01:56.641Z"
   },
   {
    "duration": 2,
    "start_time": "2023-11-24T20:01:56.899Z"
   },
   {
    "duration": 4,
    "start_time": "2023-11-24T20:01:57.122Z"
   },
   {
    "duration": 234,
    "start_time": "2023-11-24T20:01:57.498Z"
   },
   {
    "duration": 3,
    "start_time": "2023-11-24T20:02:16.977Z"
   },
   {
    "duration": 2,
    "start_time": "2023-11-24T20:02:17.194Z"
   },
   {
    "duration": 4,
    "start_time": "2023-11-24T20:02:17.450Z"
   },
   {
    "duration": 260,
    "start_time": "2023-11-24T20:02:18.072Z"
   },
   {
    "duration": 2,
    "start_time": "2023-11-24T20:03:08.573Z"
   },
   {
    "duration": 3,
    "start_time": "2023-11-24T20:03:09.026Z"
   },
   {
    "duration": 3,
    "start_time": "2023-11-24T20:03:09.387Z"
   },
   {
    "duration": 236,
    "start_time": "2023-11-24T20:03:09.868Z"
   },
   {
    "duration": 244,
    "start_time": "2023-11-24T20:16:57.425Z"
   },
   {
    "duration": 326,
    "start_time": "2023-11-24T20:17:03.789Z"
   },
   {
    "duration": 237,
    "start_time": "2023-11-24T20:17:07.262Z"
   },
   {
    "duration": 248,
    "start_time": "2023-11-24T20:17:12.543Z"
   },
   {
    "duration": 253,
    "start_time": "2023-11-24T20:17:32.872Z"
   },
   {
    "duration": 233,
    "start_time": "2023-11-24T20:17:40.072Z"
   },
   {
    "duration": 250,
    "start_time": "2023-11-24T20:19:02.225Z"
   },
   {
    "duration": 376,
    "start_time": "2023-11-24T20:19:22.464Z"
   },
   {
    "duration": 2,
    "start_time": "2023-11-24T20:19:36.643Z"
   },
   {
    "duration": 2,
    "start_time": "2023-11-24T20:19:36.937Z"
   },
   {
    "duration": 4,
    "start_time": "2023-11-24T20:19:37.226Z"
   },
   {
    "duration": 253,
    "start_time": "2023-11-24T20:19:37.826Z"
   },
   {
    "duration": 2,
    "start_time": "2023-11-24T20:19:51.786Z"
   },
   {
    "duration": 2,
    "start_time": "2023-11-24T20:19:52.002Z"
   },
   {
    "duration": 4,
    "start_time": "2023-11-24T20:19:52.226Z"
   },
   {
    "duration": 272,
    "start_time": "2023-11-24T20:19:52.801Z"
   },
   {
    "duration": 2,
    "start_time": "2023-11-24T20:20:05.771Z"
   },
   {
    "duration": 3,
    "start_time": "2023-11-24T20:20:05.987Z"
   },
   {
    "duration": 3,
    "start_time": "2023-11-24T20:20:06.187Z"
   },
   {
    "duration": 274,
    "start_time": "2023-11-24T20:20:06.466Z"
   },
   {
    "duration": 70,
    "start_time": "2023-11-24T20:20:39.900Z"
   },
   {
    "duration": 247,
    "start_time": "2023-11-24T20:20:43.643Z"
   },
   {
    "duration": 2,
    "start_time": "2023-11-24T20:22:31.973Z"
   },
   {
    "duration": 3,
    "start_time": "2023-11-24T20:22:32.212Z"
   },
   {
    "duration": 12,
    "start_time": "2023-11-24T20:22:32.452Z"
   },
   {
    "duration": 773,
    "start_time": "2023-11-24T20:22:32.891Z"
   },
   {
    "duration": 2,
    "start_time": "2023-11-24T20:22:46.212Z"
   },
   {
    "duration": 2,
    "start_time": "2023-11-24T20:22:46.492Z"
   },
   {
    "duration": 4,
    "start_time": "2023-11-24T20:22:46.764Z"
   },
   {
    "duration": 270,
    "start_time": "2023-11-24T20:22:47.108Z"
   },
   {
    "duration": 2,
    "start_time": "2023-11-24T20:24:10.470Z"
   },
   {
    "duration": 2,
    "start_time": "2023-11-24T20:24:10.710Z"
   },
   {
    "duration": 61,
    "start_time": "2023-11-24T20:24:10.975Z"
   },
   {
    "duration": 214,
    "start_time": "2023-11-24T20:24:13.302Z"
   },
   {
    "duration": 2,
    "start_time": "2023-11-24T20:24:20.254Z"
   },
   {
    "duration": 2,
    "start_time": "2023-11-24T20:24:20.469Z"
   },
   {
    "duration": 4,
    "start_time": "2023-11-24T20:24:20.734Z"
   },
   {
    "duration": 360,
    "start_time": "2023-11-24T20:24:20.975Z"
   },
   {
    "duration": 3,
    "start_time": "2023-11-24T20:24:37.238Z"
   },
   {
    "duration": 2,
    "start_time": "2023-11-24T20:24:37.520Z"
   },
   {
    "duration": 13,
    "start_time": "2023-11-24T20:24:37.798Z"
   },
   {
    "duration": 805,
    "start_time": "2023-11-24T20:24:38.053Z"
   },
   {
    "duration": 3,
    "start_time": "2023-11-24T20:25:01.057Z"
   },
   {
    "duration": 2,
    "start_time": "2023-11-24T20:25:04.370Z"
   },
   {
    "duration": 26,
    "start_time": "2023-11-24T20:25:04.606Z"
   },
   {
    "duration": 1006,
    "start_time": "2023-11-24T20:25:04.886Z"
   },
   {
    "duration": 3,
    "start_time": "2023-11-24T20:25:21.495Z"
   },
   {
    "duration": 3,
    "start_time": "2023-11-24T20:25:21.735Z"
   },
   {
    "duration": 4,
    "start_time": "2023-11-24T20:25:21.935Z"
   },
   {
    "duration": 260,
    "start_time": "2023-11-24T20:25:22.136Z"
   },
   {
    "duration": 3,
    "start_time": "2023-11-24T20:30:55.444Z"
   },
   {
    "duration": 2,
    "start_time": "2023-11-24T20:30:55.724Z"
   },
   {
    "duration": 4,
    "start_time": "2023-11-24T20:30:56.007Z"
   },
   {
    "duration": 260,
    "start_time": "2023-11-24T20:30:56.329Z"
   },
   {
    "duration": 269,
    "start_time": "2023-11-24T20:31:06.990Z"
   },
   {
    "duration": 3,
    "start_time": "2023-11-24T20:31:31.812Z"
   },
   {
    "duration": 3,
    "start_time": "2023-11-24T20:31:32.068Z"
   },
   {
    "duration": 4,
    "start_time": "2023-11-24T20:31:32.308Z"
   },
   {
    "duration": 290,
    "start_time": "2023-11-24T20:31:32.629Z"
   },
   {
    "duration": 9,
    "start_time": "2023-11-24T20:44:26.988Z"
   },
   {
    "duration": 2,
    "start_time": "2023-11-24T20:45:09.326Z"
   },
   {
    "duration": 7,
    "start_time": "2023-11-24T20:45:09.834Z"
   },
   {
    "duration": 3,
    "start_time": "2023-11-24T20:45:33.375Z"
   },
   {
    "duration": 3,
    "start_time": "2023-11-24T20:45:38.469Z"
   },
   {
    "duration": 10,
    "start_time": "2023-11-24T20:45:38.725Z"
   },
   {
    "duration": 1112,
    "start_time": "2023-11-24T20:46:02.108Z"
   },
   {
    "duration": 3,
    "start_time": "2023-11-24T20:46:03.222Z"
   },
   {
    "duration": 27,
    "start_time": "2023-11-24T20:46:03.226Z"
   },
   {
    "duration": 131,
    "start_time": "2023-11-24T20:46:03.254Z"
   },
   {
    "duration": 122,
    "start_time": "2023-11-24T20:46:03.387Z"
   },
   {
    "duration": 75,
    "start_time": "2023-11-24T20:46:03.511Z"
   },
   {
    "duration": 4,
    "start_time": "2023-11-24T20:46:03.587Z"
   },
   {
    "duration": 29,
    "start_time": "2023-11-24T20:46:03.592Z"
   },
   {
    "duration": 5,
    "start_time": "2023-11-24T20:46:03.622Z"
   },
   {
    "duration": 30,
    "start_time": "2023-11-24T20:46:03.628Z"
   },
   {
    "duration": 7,
    "start_time": "2023-11-24T20:46:03.659Z"
   },
   {
    "duration": 12,
    "start_time": "2023-11-24T20:46:03.667Z"
   },
   {
    "duration": 4,
    "start_time": "2023-11-24T20:46:03.681Z"
   },
   {
    "duration": 13,
    "start_time": "2023-11-24T20:46:03.688Z"
   },
   {
    "duration": 3,
    "start_time": "2023-11-24T20:46:03.703Z"
   },
   {
    "duration": 167,
    "start_time": "2023-11-24T20:46:03.708Z"
   },
   {
    "duration": 160,
    "start_time": "2023-11-24T20:46:03.877Z"
   },
   {
    "duration": 2,
    "start_time": "2023-11-24T20:46:04.039Z"
   },
   {
    "duration": 135,
    "start_time": "2023-11-24T20:46:04.043Z"
   },
   {
    "duration": 2,
    "start_time": "2023-11-24T20:46:04.180Z"
   },
   {
    "duration": 183,
    "start_time": "2023-11-24T20:46:04.184Z"
   },
   {
    "duration": 114,
    "start_time": "2023-11-24T20:46:04.369Z"
   },
   {
    "duration": 7,
    "start_time": "2023-11-24T20:46:04.484Z"
   },
   {
    "duration": 39,
    "start_time": "2023-11-24T20:46:04.493Z"
   },
   {
    "duration": 352,
    "start_time": "2023-11-24T20:46:04.533Z"
   },
   {
    "duration": 373,
    "start_time": "2023-11-24T20:46:04.887Z"
   },
   {
    "duration": 7,
    "start_time": "2023-11-24T20:46:05.261Z"
   },
   {
    "duration": 10,
    "start_time": "2023-11-24T20:46:05.270Z"
   },
   {
    "duration": 130,
    "start_time": "2023-11-24T20:46:05.281Z"
   },
   {
    "duration": 6,
    "start_time": "2023-11-24T20:46:05.413Z"
   },
   {
    "duration": 338,
    "start_time": "2023-11-24T20:46:05.420Z"
   },
   {
    "duration": 341,
    "start_time": "2023-11-24T20:46:05.760Z"
   },
   {
    "duration": 7,
    "start_time": "2023-11-24T20:46:06.103Z"
   },
   {
    "duration": 143,
    "start_time": "2023-11-24T20:46:06.111Z"
   },
   {
    "duration": 7,
    "start_time": "2023-11-24T20:46:06.255Z"
   },
   {
    "duration": 27,
    "start_time": "2023-11-24T20:46:06.263Z"
   },
   {
    "duration": 35,
    "start_time": "2023-11-24T20:46:06.292Z"
   },
   {
    "duration": 33,
    "start_time": "2023-11-24T20:46:06.329Z"
   },
   {
    "duration": 6,
    "start_time": "2023-11-24T20:46:06.364Z"
   },
   {
    "duration": 21,
    "start_time": "2023-11-24T20:46:06.371Z"
   },
   {
    "duration": 448,
    "start_time": "2023-11-24T20:46:06.396Z"
   },
   {
    "duration": 330,
    "start_time": "2023-11-24T20:46:06.846Z"
   },
   {
    "duration": 348,
    "start_time": "2023-11-24T20:46:07.178Z"
   },
   {
    "duration": 381,
    "start_time": "2023-11-24T20:46:07.530Z"
   },
   {
    "duration": 728,
    "start_time": "2023-11-24T20:46:07.914Z"
   },
   {
    "duration": 11,
    "start_time": "2023-11-24T20:46:08.643Z"
   },
   {
    "duration": 5,
    "start_time": "2023-11-24T20:46:08.655Z"
   },
   {
    "duration": 28,
    "start_time": "2023-11-24T20:46:08.662Z"
   },
   {
    "duration": 31,
    "start_time": "2023-11-24T20:46:08.692Z"
   },
   {
    "duration": 35,
    "start_time": "2023-11-24T20:46:08.724Z"
   },
   {
    "duration": 19,
    "start_time": "2023-11-24T20:46:08.760Z"
   },
   {
    "duration": 8,
    "start_time": "2023-11-24T20:46:08.781Z"
   },
   {
    "duration": 11,
    "start_time": "2023-11-24T20:46:08.791Z"
   },
   {
    "duration": 7,
    "start_time": "2023-11-24T20:46:08.804Z"
   },
   {
    "duration": 7,
    "start_time": "2023-11-24T20:46:08.812Z"
   },
   {
    "duration": 7,
    "start_time": "2023-11-24T20:46:08.821Z"
   },
   {
    "duration": 5,
    "start_time": "2023-11-24T20:46:08.830Z"
   },
   {
    "duration": 7,
    "start_time": "2023-11-24T20:46:08.837Z"
   },
   {
    "duration": 11,
    "start_time": "2023-11-24T20:46:08.845Z"
   },
   {
    "duration": 5,
    "start_time": "2023-11-24T20:46:08.857Z"
   },
   {
    "duration": 5,
    "start_time": "2023-11-24T20:46:08.863Z"
   },
   {
    "duration": 6,
    "start_time": "2023-11-24T20:46:08.870Z"
   },
   {
    "duration": 5,
    "start_time": "2023-11-24T20:46:08.877Z"
   },
   {
    "duration": 10,
    "start_time": "2023-11-24T20:46:08.884Z"
   },
   {
    "duration": 10,
    "start_time": "2023-11-24T20:46:08.896Z"
   },
   {
    "duration": 404,
    "start_time": "2023-11-24T20:46:08.908Z"
   },
   {
    "duration": 3,
    "start_time": "2023-11-24T20:46:09.313Z"
   },
   {
    "duration": 103,
    "start_time": "2023-11-24T20:46:09.317Z"
   },
   {
    "duration": 3,
    "start_time": "2023-11-24T20:46:16.289Z"
   },
   {
    "duration": 8,
    "start_time": "2023-11-24T20:46:16.691Z"
   },
   {
    "duration": 1085,
    "start_time": "2023-11-24T20:47:13.275Z"
   },
   {
    "duration": 3,
    "start_time": "2023-11-24T20:47:14.362Z"
   },
   {
    "duration": 10,
    "start_time": "2023-11-24T20:47:14.366Z"
   },
   {
    "duration": 61,
    "start_time": "2023-11-24T20:47:14.378Z"
   },
   {
    "duration": 67,
    "start_time": "2023-11-24T20:47:14.440Z"
   },
   {
    "duration": 49,
    "start_time": "2023-11-24T20:47:14.508Z"
   },
   {
    "duration": 3,
    "start_time": "2023-11-24T20:47:14.558Z"
   },
   {
    "duration": 25,
    "start_time": "2023-11-24T20:47:14.563Z"
   },
   {
    "duration": 4,
    "start_time": "2023-11-24T20:47:14.590Z"
   },
   {
    "duration": 23,
    "start_time": "2023-11-24T20:47:14.596Z"
   },
   {
    "duration": 7,
    "start_time": "2023-11-24T20:47:14.620Z"
   },
   {
    "duration": 7,
    "start_time": "2023-11-24T20:47:14.628Z"
   },
   {
    "duration": 5,
    "start_time": "2023-11-24T20:47:14.636Z"
   },
   {
    "duration": 14,
    "start_time": "2023-11-24T20:47:14.642Z"
   },
   {
    "duration": 3,
    "start_time": "2023-11-24T20:47:14.658Z"
   },
   {
    "duration": 166,
    "start_time": "2023-11-24T20:47:14.662Z"
   },
   {
    "duration": 140,
    "start_time": "2023-11-24T20:47:14.830Z"
   },
   {
    "duration": 2,
    "start_time": "2023-11-24T20:47:14.972Z"
   },
   {
    "duration": 126,
    "start_time": "2023-11-24T20:47:14.976Z"
   },
   {
    "duration": 3,
    "start_time": "2023-11-24T20:47:15.104Z"
   },
   {
    "duration": 183,
    "start_time": "2023-11-24T20:47:15.108Z"
   },
   {
    "duration": 119,
    "start_time": "2023-11-24T20:47:15.293Z"
   },
   {
    "duration": 8,
    "start_time": "2023-11-24T20:47:15.414Z"
   },
   {
    "duration": 6,
    "start_time": "2023-11-24T20:47:15.431Z"
   },
   {
    "duration": 360,
    "start_time": "2023-11-24T20:47:15.438Z"
   },
   {
    "duration": 374,
    "start_time": "2023-11-24T20:47:15.800Z"
   },
   {
    "duration": 8,
    "start_time": "2023-11-24T20:47:16.176Z"
   },
   {
    "duration": 7,
    "start_time": "2023-11-24T20:47:16.189Z"
   },
   {
    "duration": 137,
    "start_time": "2023-11-24T20:47:16.198Z"
   },
   {
    "duration": 6,
    "start_time": "2023-11-24T20:47:16.337Z"
   },
   {
    "duration": 332,
    "start_time": "2023-11-24T20:47:16.345Z"
   },
   {
    "duration": 351,
    "start_time": "2023-11-24T20:47:16.679Z"
   },
   {
    "duration": 8,
    "start_time": "2023-11-24T20:47:17.032Z"
   },
   {
    "duration": 128,
    "start_time": "2023-11-24T20:47:17.041Z"
   },
   {
    "duration": 8,
    "start_time": "2023-11-24T20:47:17.171Z"
   },
   {
    "duration": 7,
    "start_time": "2023-11-24T20:47:17.181Z"
   },
   {
    "duration": 16,
    "start_time": "2023-11-24T20:47:17.189Z"
   },
   {
    "duration": 56,
    "start_time": "2023-11-24T20:47:17.207Z"
   },
   {
    "duration": 7,
    "start_time": "2023-11-24T20:47:17.266Z"
   },
   {
    "duration": 8,
    "start_time": "2023-11-24T20:47:17.275Z"
   },
   {
    "duration": 458,
    "start_time": "2023-11-24T20:47:17.290Z"
   },
   {
    "duration": 365,
    "start_time": "2023-11-24T20:47:17.750Z"
   },
   {
    "duration": 345,
    "start_time": "2023-11-24T20:47:18.117Z"
   },
   {
    "duration": 335,
    "start_time": "2023-11-24T20:47:18.464Z"
   },
   {
    "duration": 713,
    "start_time": "2023-11-24T20:47:18.801Z"
   },
   {
    "duration": 18,
    "start_time": "2023-11-24T20:47:19.515Z"
   },
   {
    "duration": 5,
    "start_time": "2023-11-24T20:47:19.534Z"
   },
   {
    "duration": 17,
    "start_time": "2023-11-24T20:47:19.541Z"
   },
   {
    "duration": 12,
    "start_time": "2023-11-24T20:47:19.560Z"
   },
   {
    "duration": 7,
    "start_time": "2023-11-24T20:47:19.573Z"
   },
   {
    "duration": 5,
    "start_time": "2023-11-24T20:47:19.581Z"
   },
   {
    "duration": 4,
    "start_time": "2023-11-24T20:47:19.588Z"
   },
   {
    "duration": 6,
    "start_time": "2023-11-24T20:47:19.593Z"
   },
   {
    "duration": 5,
    "start_time": "2023-11-24T20:47:19.600Z"
   },
   {
    "duration": 26,
    "start_time": "2023-11-24T20:47:19.606Z"
   },
   {
    "duration": 6,
    "start_time": "2023-11-24T20:47:19.633Z"
   },
   {
    "duration": 7,
    "start_time": "2023-11-24T20:47:19.640Z"
   },
   {
    "duration": 6,
    "start_time": "2023-11-24T20:47:19.648Z"
   },
   {
    "duration": 11,
    "start_time": "2023-11-24T20:47:19.656Z"
   },
   {
    "duration": 3,
    "start_time": "2023-11-24T20:47:19.668Z"
   },
   {
    "duration": 5,
    "start_time": "2023-11-24T20:47:19.673Z"
   },
   {
    "duration": 10,
    "start_time": "2023-11-24T20:47:19.679Z"
   },
   {
    "duration": 5,
    "start_time": "2023-11-24T20:47:19.691Z"
   },
   {
    "duration": 4,
    "start_time": "2023-11-24T20:47:19.697Z"
   },
   {
    "duration": 7,
    "start_time": "2023-11-24T20:47:19.702Z"
   },
   {
    "duration": 402,
    "start_time": "2023-11-24T20:47:19.730Z"
   },
   {
    "duration": 2,
    "start_time": "2023-11-24T20:47:20.134Z"
   },
   {
    "duration": 118,
    "start_time": "2023-11-24T20:47:20.137Z"
   },
   {
    "duration": 2,
    "start_time": "2023-11-24T20:48:16.878Z"
   },
   {
    "duration": 3,
    "start_time": "2023-11-24T20:48:17.101Z"
   },
   {
    "duration": 4,
    "start_time": "2023-11-24T20:48:17.301Z"
   },
   {
    "duration": 314,
    "start_time": "2023-11-24T20:48:17.516Z"
   },
   {
    "duration": 9,
    "start_time": "2023-11-24T20:48:18.758Z"
   },
   {
    "duration": 3,
    "start_time": "2023-11-24T20:48:42.526Z"
   },
   {
    "duration": 8,
    "start_time": "2023-11-24T20:48:42.874Z"
   },
   {
    "duration": 8,
    "start_time": "2023-11-24T20:49:20.663Z"
   },
   {
    "duration": 8,
    "start_time": "2023-11-24T20:49:38.647Z"
   },
   {
    "duration": 3,
    "start_time": "2023-11-24T20:49:41.527Z"
   },
   {
    "duration": 3,
    "start_time": "2023-11-24T20:49:41.790Z"
   },
   {
    "duration": 4,
    "start_time": "2023-11-24T20:49:42.125Z"
   },
   {
    "duration": 8,
    "start_time": "2023-11-24T20:49:42.703Z"
   },
   {
    "duration": 291,
    "start_time": "2023-11-24T20:49:43.447Z"
   },
   {
    "duration": 3,
    "start_time": "2023-11-24T20:49:44.207Z"
   },
   {
    "duration": 8,
    "start_time": "2023-11-24T20:49:45.718Z"
   },
   {
    "duration": 2,
    "start_time": "2023-11-24T20:56:19.692Z"
   },
   {
    "duration": 2,
    "start_time": "2023-11-24T20:57:47.080Z"
   },
   {
    "duration": 3,
    "start_time": "2023-11-24T20:57:47.575Z"
   },
   {
    "duration": 3,
    "start_time": "2023-11-24T20:57:48.111Z"
   },
   {
    "duration": 3,
    "start_time": "2023-11-24T20:57:48.592Z"
   },
   {
    "duration": 3,
    "start_time": "2023-11-24T20:57:49.112Z"
   },
   {
    "duration": 5,
    "start_time": "2023-11-24T20:58:02.295Z"
   },
   {
    "duration": 4,
    "start_time": "2023-11-24T20:58:16.776Z"
   },
   {
    "duration": 3,
    "start_time": "2023-11-24T20:58:32.144Z"
   },
   {
    "duration": 3,
    "start_time": "2023-11-24T20:58:32.664Z"
   },
   {
    "duration": 15,
    "start_time": "2023-11-24T20:58:33.023Z"
   },
   {
    "duration": 816,
    "start_time": "2023-11-24T20:58:34.199Z"
   },
   {
    "duration": 3,
    "start_time": "2023-11-24T20:58:35.960Z"
   },
   {
    "duration": 2,
    "start_time": "2023-11-24T20:58:36.361Z"
   },
   {
    "duration": 3,
    "start_time": "2023-11-24T20:58:36.840Z"
   },
   {
    "duration": 3,
    "start_time": "2023-11-24T20:58:37.398Z"
   },
   {
    "duration": 3,
    "start_time": "2023-11-24T20:58:38.096Z"
   },
   {
    "duration": 2,
    "start_time": "2023-11-24T20:58:47.824Z"
   },
   {
    "duration": 4,
    "start_time": "2023-11-24T20:58:48.063Z"
   },
   {
    "duration": 3,
    "start_time": "2023-11-24T20:58:48.301Z"
   },
   {
    "duration": 322,
    "start_time": "2023-11-24T20:58:48.801Z"
   },
   {
    "duration": 1190,
    "start_time": "2023-11-26T13:33:03.975Z"
   },
   {
    "duration": 3,
    "start_time": "2023-11-26T13:33:05.167Z"
   },
   {
    "duration": 6,
    "start_time": "2023-11-26T13:33:05.171Z"
   },
   {
    "duration": 89,
    "start_time": "2023-11-26T13:33:05.179Z"
   },
   {
    "duration": 113,
    "start_time": "2023-11-26T13:33:05.270Z"
   },
   {
    "duration": 357,
    "start_time": "2023-11-26T13:33:05.384Z"
   },
   {
    "duration": 3,
    "start_time": "2023-11-26T13:33:05.742Z"
   },
   {
    "duration": 20,
    "start_time": "2023-11-26T13:33:05.746Z"
   },
   {
    "duration": 4,
    "start_time": "2023-11-26T13:33:05.767Z"
   },
   {
    "duration": 23,
    "start_time": "2023-11-26T13:33:05.772Z"
   },
   {
    "duration": 6,
    "start_time": "2023-11-26T13:33:05.796Z"
   },
   {
    "duration": 10,
    "start_time": "2023-11-26T13:33:05.804Z"
   },
   {
    "duration": 13,
    "start_time": "2023-11-26T13:33:05.815Z"
   },
   {
    "duration": 20,
    "start_time": "2023-11-26T13:33:05.831Z"
   },
   {
    "duration": 8,
    "start_time": "2023-11-26T13:33:05.852Z"
   },
   {
    "duration": 140,
    "start_time": "2023-11-26T13:33:05.861Z"
   },
   {
    "duration": 139,
    "start_time": "2023-11-26T13:33:06.003Z"
   },
   {
    "duration": 3,
    "start_time": "2023-11-26T13:33:06.143Z"
   },
   {
    "duration": 150,
    "start_time": "2023-11-26T13:33:06.147Z"
   },
   {
    "duration": 2,
    "start_time": "2023-11-26T13:33:06.299Z"
   },
   {
    "duration": 179,
    "start_time": "2023-11-26T13:33:06.302Z"
   },
   {
    "duration": 110,
    "start_time": "2023-11-26T13:33:06.482Z"
   },
   {
    "duration": 6,
    "start_time": "2023-11-26T13:33:06.594Z"
   },
   {
    "duration": 5,
    "start_time": "2023-11-26T13:33:06.611Z"
   },
   {
    "duration": 349,
    "start_time": "2023-11-26T13:33:06.617Z"
   },
   {
    "duration": 338,
    "start_time": "2023-11-26T13:33:06.968Z"
   },
   {
    "duration": 6,
    "start_time": "2023-11-26T13:33:07.310Z"
   },
   {
    "duration": 6,
    "start_time": "2023-11-26T13:33:07.318Z"
   },
   {
    "duration": 135,
    "start_time": "2023-11-26T13:33:07.325Z"
   },
   {
    "duration": 4,
    "start_time": "2023-11-26T13:33:07.462Z"
   },
   {
    "duration": 335,
    "start_time": "2023-11-26T13:33:07.468Z"
   },
   {
    "duration": 334,
    "start_time": "2023-11-26T13:33:07.804Z"
   },
   {
    "duration": 6,
    "start_time": "2023-11-26T13:33:08.139Z"
   },
   {
    "duration": 133,
    "start_time": "2023-11-26T13:33:08.146Z"
   },
   {
    "duration": 7,
    "start_time": "2023-11-26T13:33:08.280Z"
   },
   {
    "duration": 23,
    "start_time": "2023-11-26T13:33:08.288Z"
   },
   {
    "duration": 30,
    "start_time": "2023-11-26T13:33:08.313Z"
   },
   {
    "duration": 31,
    "start_time": "2023-11-26T13:33:08.344Z"
   },
   {
    "duration": 5,
    "start_time": "2023-11-26T13:33:08.377Z"
   },
   {
    "duration": 8,
    "start_time": "2023-11-26T13:33:08.384Z"
   },
   {
    "duration": 429,
    "start_time": "2023-11-26T13:33:08.396Z"
   },
   {
    "duration": 350,
    "start_time": "2023-11-26T13:33:08.827Z"
   },
   {
    "duration": 333,
    "start_time": "2023-11-26T13:33:09.178Z"
   },
   {
    "duration": 352,
    "start_time": "2023-11-26T13:33:09.512Z"
   },
   {
    "duration": 716,
    "start_time": "2023-11-26T13:33:09.866Z"
   },
   {
    "duration": 10,
    "start_time": "2023-11-26T13:33:10.584Z"
   },
   {
    "duration": 16,
    "start_time": "2023-11-26T13:33:10.595Z"
   },
   {
    "duration": 13,
    "start_time": "2023-11-26T13:33:10.612Z"
   },
   {
    "duration": 2,
    "start_time": "2023-11-26T13:33:10.626Z"
   },
   {
    "duration": 7,
    "start_time": "2023-11-26T13:33:10.630Z"
   },
   {
    "duration": 3,
    "start_time": "2023-11-26T13:33:10.639Z"
   },
   {
    "duration": 3,
    "start_time": "2023-11-26T13:33:10.643Z"
   },
   {
    "duration": 5,
    "start_time": "2023-11-26T13:33:10.648Z"
   },
   {
    "duration": 5,
    "start_time": "2023-11-26T13:33:10.654Z"
   },
   {
    "duration": 4,
    "start_time": "2023-11-26T13:33:10.660Z"
   },
   {
    "duration": 4,
    "start_time": "2023-11-26T13:33:10.666Z"
   },
   {
    "duration": 5,
    "start_time": "2023-11-26T13:33:10.671Z"
   },
   {
    "duration": 4,
    "start_time": "2023-11-26T13:33:10.677Z"
   },
   {
    "duration": 9,
    "start_time": "2023-11-26T13:33:10.711Z"
   },
   {
    "duration": 4,
    "start_time": "2023-11-26T13:33:10.721Z"
   },
   {
    "duration": 3,
    "start_time": "2023-11-26T13:33:10.726Z"
   },
   {
    "duration": 2,
    "start_time": "2023-11-26T13:33:10.731Z"
   },
   {
    "duration": 4,
    "start_time": "2023-11-26T13:33:10.735Z"
   },
   {
    "duration": 3,
    "start_time": "2023-11-26T13:33:10.741Z"
   },
   {
    "duration": 4,
    "start_time": "2023-11-26T13:33:10.746Z"
   },
   {
    "duration": 421,
    "start_time": "2023-11-26T13:33:10.751Z"
   },
   {
    "duration": 4,
    "start_time": "2023-11-26T13:33:11.174Z"
   },
   {
    "duration": 14,
    "start_time": "2023-11-26T13:33:11.179Z"
   },
   {
    "duration": 15,
    "start_time": "2023-11-26T13:33:11.194Z"
   },
   {
    "duration": 5,
    "start_time": "2023-11-26T13:33:11.210Z"
   },
   {
    "duration": 28,
    "start_time": "2023-11-26T13:33:11.216Z"
   },
   {
    "duration": 7,
    "start_time": "2023-11-26T14:05:50.398Z"
   },
   {
    "duration": 1026,
    "start_time": "2023-11-26T14:41:43.222Z"
   },
   {
    "duration": 3,
    "start_time": "2023-11-26T14:41:44.250Z"
   },
   {
    "duration": 8,
    "start_time": "2023-11-26T14:41:44.254Z"
   },
   {
    "duration": 134,
    "start_time": "2023-11-26T14:41:44.264Z"
   },
   {
    "duration": 605,
    "start_time": "2023-11-26T14:41:44.400Z"
   },
   {
    "duration": 65,
    "start_time": "2023-11-26T14:41:45.006Z"
   },
   {
    "duration": 3,
    "start_time": "2023-11-26T14:41:45.073Z"
   },
   {
    "duration": 19,
    "start_time": "2023-11-26T14:41:45.077Z"
   },
   {
    "duration": 4,
    "start_time": "2023-11-26T14:41:45.097Z"
   },
   {
    "duration": 21,
    "start_time": "2023-11-26T14:41:45.103Z"
   },
   {
    "duration": 6,
    "start_time": "2023-11-26T14:41:45.126Z"
   },
   {
    "duration": 4,
    "start_time": "2023-11-26T14:41:45.134Z"
   },
   {
    "duration": 4,
    "start_time": "2023-11-26T14:41:45.140Z"
   },
   {
    "duration": 13,
    "start_time": "2023-11-26T14:41:45.145Z"
   },
   {
    "duration": 3,
    "start_time": "2023-11-26T14:41:45.159Z"
   },
   {
    "duration": 168,
    "start_time": "2023-11-26T14:41:45.164Z"
   },
   {
    "duration": 141,
    "start_time": "2023-11-26T14:41:45.334Z"
   },
   {
    "duration": 142,
    "start_time": "2023-11-26T14:41:45.477Z"
   },
   {
    "duration": 181,
    "start_time": "2023-11-26T14:41:45.620Z"
   },
   {
    "duration": 114,
    "start_time": "2023-11-26T14:41:45.802Z"
   },
   {
    "duration": 7,
    "start_time": "2023-11-26T14:41:45.918Z"
   },
   {
    "duration": 5,
    "start_time": "2023-11-26T14:41:45.926Z"
   },
   {
    "duration": 354,
    "start_time": "2023-11-26T14:41:45.932Z"
   },
   {
    "duration": 352,
    "start_time": "2023-11-26T14:41:46.287Z"
   },
   {
    "duration": 7,
    "start_time": "2023-11-26T14:41:46.640Z"
   },
   {
    "duration": 22,
    "start_time": "2023-11-26T14:41:46.648Z"
   },
   {
    "duration": 123,
    "start_time": "2023-11-26T14:41:46.674Z"
   },
   {
    "duration": 12,
    "start_time": "2023-11-26T14:41:46.800Z"
   },
   {
    "duration": 328,
    "start_time": "2023-11-26T14:41:46.813Z"
   },
   {
    "duration": 340,
    "start_time": "2023-11-26T14:41:47.142Z"
   },
   {
    "duration": 6,
    "start_time": "2023-11-26T14:41:47.484Z"
   },
   {
    "duration": 138,
    "start_time": "2023-11-26T14:41:47.491Z"
   },
   {
    "duration": 7,
    "start_time": "2023-11-26T14:41:47.631Z"
   },
   {
    "duration": 20,
    "start_time": "2023-11-26T14:41:47.639Z"
   },
   {
    "duration": 16,
    "start_time": "2023-11-26T14:41:47.660Z"
   },
   {
    "duration": 42,
    "start_time": "2023-11-26T14:41:47.677Z"
   },
   {
    "duration": 5,
    "start_time": "2023-11-26T14:41:47.721Z"
   },
   {
    "duration": 5,
    "start_time": "2023-11-26T14:41:47.728Z"
   },
   {
    "duration": 425,
    "start_time": "2023-11-26T14:41:47.735Z"
   },
   {
    "duration": 343,
    "start_time": "2023-11-26T14:41:48.161Z"
   },
   {
    "duration": 337,
    "start_time": "2023-11-26T14:41:48.505Z"
   },
   {
    "duration": 369,
    "start_time": "2023-11-26T14:41:48.844Z"
   },
   {
    "duration": 715,
    "start_time": "2023-11-26T14:41:49.214Z"
   },
   {
    "duration": 10,
    "start_time": "2023-11-26T14:41:49.930Z"
   },
   {
    "duration": 6,
    "start_time": "2023-11-26T14:41:49.941Z"
   },
   {
    "duration": 14,
    "start_time": "2023-11-26T14:41:49.948Z"
   },
   {
    "duration": 3,
    "start_time": "2023-11-26T14:41:49.963Z"
   },
   {
    "duration": 4,
    "start_time": "2023-11-26T14:41:49.968Z"
   },
   {
    "duration": 4,
    "start_time": "2023-11-26T14:41:49.973Z"
   },
   {
    "duration": 35,
    "start_time": "2023-11-26T14:41:49.978Z"
   },
   {
    "duration": 12,
    "start_time": "2023-11-26T14:41:50.015Z"
   },
   {
    "duration": 14,
    "start_time": "2023-11-26T14:41:50.029Z"
   },
   {
    "duration": 5,
    "start_time": "2023-11-26T14:41:50.044Z"
   },
   {
    "duration": 5,
    "start_time": "2023-11-26T14:41:50.050Z"
   },
   {
    "duration": 4,
    "start_time": "2023-11-26T14:41:50.056Z"
   },
   {
    "duration": 5,
    "start_time": "2023-11-26T14:41:50.061Z"
   },
   {
    "duration": 13,
    "start_time": "2023-11-26T14:41:50.067Z"
   },
   {
    "duration": 4,
    "start_time": "2023-11-26T14:41:50.081Z"
   },
   {
    "duration": 6,
    "start_time": "2023-11-26T14:41:50.086Z"
   },
   {
    "duration": 18,
    "start_time": "2023-11-26T14:41:50.093Z"
   },
   {
    "duration": 5,
    "start_time": "2023-11-26T14:41:50.112Z"
   },
   {
    "duration": 4,
    "start_time": "2023-11-26T14:41:50.118Z"
   },
   {
    "duration": 6,
    "start_time": "2023-11-26T14:41:50.123Z"
   },
   {
    "duration": 395,
    "start_time": "2023-11-26T14:41:50.130Z"
   },
   {
    "duration": 2,
    "start_time": "2023-11-26T14:41:50.527Z"
   },
   {
    "duration": 48,
    "start_time": "2023-11-26T14:41:50.531Z"
   },
   {
    "duration": 19,
    "start_time": "2023-11-26T14:41:50.580Z"
   },
   {
    "duration": 8,
    "start_time": "2023-11-26T14:41:50.600Z"
   },
   {
    "duration": 6,
    "start_time": "2023-11-26T14:41:50.610Z"
   },
   {
    "duration": 1030,
    "start_time": "2023-11-26T14:43:36.325Z"
   },
   {
    "duration": 3,
    "start_time": "2023-11-26T14:43:37.357Z"
   },
   {
    "duration": 4,
    "start_time": "2023-11-26T14:43:37.362Z"
   },
   {
    "duration": 56,
    "start_time": "2023-11-26T14:43:37.367Z"
   },
   {
    "duration": 67,
    "start_time": "2023-11-26T14:43:37.425Z"
   },
   {
    "duration": 31,
    "start_time": "2023-11-26T14:43:37.493Z"
   },
   {
    "duration": 3,
    "start_time": "2023-11-26T14:43:37.526Z"
   },
   {
    "duration": 16,
    "start_time": "2023-11-26T14:43:37.530Z"
   },
   {
    "duration": 3,
    "start_time": "2023-11-26T14:43:37.548Z"
   },
   {
    "duration": 21,
    "start_time": "2023-11-26T14:43:37.552Z"
   },
   {
    "duration": 5,
    "start_time": "2023-11-26T14:43:37.575Z"
   },
   {
    "duration": 5,
    "start_time": "2023-11-26T14:43:37.582Z"
   },
   {
    "duration": 14,
    "start_time": "2023-11-26T14:43:37.612Z"
   },
   {
    "duration": 13,
    "start_time": "2023-11-26T14:43:37.629Z"
   },
   {
    "duration": 3,
    "start_time": "2023-11-26T14:43:37.644Z"
   },
   {
    "duration": 152,
    "start_time": "2023-11-26T14:43:37.648Z"
   },
   {
    "duration": 146,
    "start_time": "2023-11-26T14:43:37.802Z"
   },
   {
    "duration": 126,
    "start_time": "2023-11-26T14:43:37.949Z"
   },
   {
    "duration": 193,
    "start_time": "2023-11-26T14:43:38.076Z"
   },
   {
    "duration": 115,
    "start_time": "2023-11-26T14:43:38.271Z"
   },
   {
    "duration": 7,
    "start_time": "2023-11-26T14:43:38.388Z"
   },
   {
    "duration": 27,
    "start_time": "2023-11-26T14:43:38.396Z"
   },
   {
    "duration": 412,
    "start_time": "2023-11-26T14:43:38.425Z"
   },
   {
    "duration": 395,
    "start_time": "2023-11-26T14:43:38.839Z"
   },
   {
    "duration": 6,
    "start_time": "2023-11-26T14:43:39.235Z"
   },
   {
    "duration": 9,
    "start_time": "2023-11-26T14:43:39.243Z"
   },
   {
    "duration": 133,
    "start_time": "2023-11-26T14:43:39.253Z"
   },
   {
    "duration": 5,
    "start_time": "2023-11-26T14:43:39.388Z"
   },
   {
    "duration": 359,
    "start_time": "2023-11-26T14:43:39.394Z"
   },
   {
    "duration": 346,
    "start_time": "2023-11-26T14:43:39.754Z"
   },
   {
    "duration": 22,
    "start_time": "2023-11-26T14:43:40.102Z"
   },
   {
    "duration": 121,
    "start_time": "2023-11-26T14:43:40.126Z"
   },
   {
    "duration": 6,
    "start_time": "2023-11-26T14:43:40.249Z"
   },
   {
    "duration": 9,
    "start_time": "2023-11-26T14:43:40.256Z"
   },
   {
    "duration": 14,
    "start_time": "2023-11-26T14:43:40.266Z"
   },
   {
    "duration": 58,
    "start_time": "2023-11-26T14:43:40.281Z"
   },
   {
    "duration": 6,
    "start_time": "2023-11-26T14:43:40.341Z"
   },
   {
    "duration": 5,
    "start_time": "2023-11-26T14:43:40.348Z"
   },
   {
    "duration": 417,
    "start_time": "2023-11-26T14:43:40.354Z"
   },
   {
    "duration": 367,
    "start_time": "2023-11-26T14:43:40.773Z"
   },
   {
    "duration": 340,
    "start_time": "2023-11-26T14:43:41.144Z"
   },
   {
    "duration": 357,
    "start_time": "2023-11-26T14:43:41.486Z"
   },
   {
    "duration": 796,
    "start_time": "2023-11-26T14:43:41.845Z"
   },
   {
    "duration": 9,
    "start_time": "2023-11-26T14:43:42.642Z"
   },
   {
    "duration": 5,
    "start_time": "2023-11-26T14:43:42.652Z"
   },
   {
    "duration": 12,
    "start_time": "2023-11-26T14:43:42.658Z"
   },
   {
    "duration": 1,
    "start_time": "2023-11-26T14:43:42.672Z"
   },
   {
    "duration": 5,
    "start_time": "2023-11-26T14:43:42.675Z"
   },
   {
    "duration": 8,
    "start_time": "2023-11-26T14:43:42.681Z"
   },
   {
    "duration": 30,
    "start_time": "2023-11-26T14:43:42.691Z"
   },
   {
    "duration": 4,
    "start_time": "2023-11-26T14:43:42.723Z"
   },
   {
    "duration": 8,
    "start_time": "2023-11-26T14:43:42.728Z"
   },
   {
    "duration": 4,
    "start_time": "2023-11-26T14:43:42.737Z"
   },
   {
    "duration": 3,
    "start_time": "2023-11-26T14:43:42.743Z"
   },
   {
    "duration": 7,
    "start_time": "2023-11-26T14:43:42.747Z"
   },
   {
    "duration": 3,
    "start_time": "2023-11-26T14:43:42.755Z"
   },
   {
    "duration": 9,
    "start_time": "2023-11-26T14:43:42.759Z"
   },
   {
    "duration": 3,
    "start_time": "2023-11-26T14:43:42.770Z"
   },
   {
    "duration": 3,
    "start_time": "2023-11-26T14:43:42.774Z"
   },
   {
    "duration": 3,
    "start_time": "2023-11-26T14:43:42.779Z"
   },
   {
    "duration": 12,
    "start_time": "2023-11-26T14:43:42.811Z"
   },
   {
    "duration": 3,
    "start_time": "2023-11-26T14:43:42.825Z"
   },
   {
    "duration": 3,
    "start_time": "2023-11-26T14:43:42.829Z"
   },
   {
    "duration": 398,
    "start_time": "2023-11-26T14:43:42.834Z"
   },
   {
    "duration": 3,
    "start_time": "2023-11-26T14:43:43.234Z"
   },
   {
    "duration": 7,
    "start_time": "2023-11-26T14:43:43.239Z"
   },
   {
    "duration": 8,
    "start_time": "2023-11-26T14:43:43.248Z"
   },
   {
    "duration": 3,
    "start_time": "2023-11-26T14:43:43.258Z"
   },
   {
    "duration": 4,
    "start_time": "2023-11-26T14:43:43.263Z"
   },
   {
    "duration": 1220,
    "start_time": "2023-11-26T15:32:38.546Z"
   },
   {
    "duration": 4,
    "start_time": "2023-11-26T15:32:39.769Z"
   },
   {
    "duration": 4,
    "start_time": "2023-11-26T15:32:39.775Z"
   },
   {
    "duration": 64,
    "start_time": "2023-11-26T15:32:39.782Z"
   },
   {
    "duration": 79,
    "start_time": "2023-11-26T15:32:39.848Z"
   },
   {
    "duration": 56,
    "start_time": "2023-11-26T15:32:39.929Z"
   },
   {
    "duration": 3,
    "start_time": "2023-11-26T15:32:39.987Z"
   },
   {
    "duration": 24,
    "start_time": "2023-11-26T15:32:39.992Z"
   },
   {
    "duration": 4,
    "start_time": "2023-11-26T15:32:40.018Z"
   },
   {
    "duration": 73,
    "start_time": "2023-11-26T15:32:40.026Z"
   },
   {
    "duration": 19,
    "start_time": "2023-11-26T15:32:40.101Z"
   },
   {
    "duration": 21,
    "start_time": "2023-11-26T15:32:40.122Z"
   },
   {
    "duration": 16,
    "start_time": "2023-11-26T15:32:40.145Z"
   },
   {
    "duration": 49,
    "start_time": "2023-11-26T15:32:40.163Z"
   },
   {
    "duration": 9,
    "start_time": "2023-11-26T15:32:40.215Z"
   },
   {
    "duration": 167,
    "start_time": "2023-11-26T15:32:40.226Z"
   },
   {
    "duration": 177,
    "start_time": "2023-11-26T15:32:40.395Z"
   },
   {
    "duration": 163,
    "start_time": "2023-11-26T15:32:40.574Z"
   },
   {
    "duration": 225,
    "start_time": "2023-11-26T15:32:40.740Z"
   },
   {
    "duration": 135,
    "start_time": "2023-11-26T15:32:40.967Z"
   },
   {
    "duration": 8,
    "start_time": "2023-11-26T15:32:41.104Z"
   },
   {
    "duration": 45,
    "start_time": "2023-11-26T15:32:41.114Z"
   },
   {
    "duration": 406,
    "start_time": "2023-11-26T15:32:41.160Z"
   },
   {
    "duration": 437,
    "start_time": "2023-11-26T15:32:41.567Z"
   },
   {
    "duration": 6,
    "start_time": "2023-11-26T15:32:42.006Z"
   },
   {
    "duration": 8,
    "start_time": "2023-11-26T15:32:42.013Z"
   },
   {
    "duration": 155,
    "start_time": "2023-11-26T15:32:42.023Z"
   },
   {
    "duration": 7,
    "start_time": "2023-11-26T15:32:42.183Z"
   },
   {
    "duration": 406,
    "start_time": "2023-11-26T15:32:42.192Z"
   },
   {
    "duration": 459,
    "start_time": "2023-11-26T15:32:42.600Z"
   },
   {
    "duration": 8,
    "start_time": "2023-11-26T15:32:43.065Z"
   },
   {
    "duration": 165,
    "start_time": "2023-11-26T15:32:43.075Z"
   },
   {
    "duration": 8,
    "start_time": "2023-11-26T15:32:43.241Z"
   },
   {
    "duration": 30,
    "start_time": "2023-11-26T15:32:43.251Z"
   },
   {
    "duration": 17,
    "start_time": "2023-11-26T15:32:43.285Z"
   },
   {
    "duration": 44,
    "start_time": "2023-11-26T15:32:43.304Z"
   },
   {
    "duration": 16,
    "start_time": "2023-11-26T15:32:43.349Z"
   },
   {
    "duration": 9,
    "start_time": "2023-11-26T15:32:43.368Z"
   },
   {
    "duration": 526,
    "start_time": "2023-11-26T15:32:43.379Z"
   },
   {
    "duration": 429,
    "start_time": "2023-11-26T15:32:43.907Z"
   },
   {
    "duration": 384,
    "start_time": "2023-11-26T15:32:44.338Z"
   },
   {
    "duration": 394,
    "start_time": "2023-11-26T15:32:44.724Z"
   },
   {
    "duration": 887,
    "start_time": "2023-11-26T15:32:45.120Z"
   },
   {
    "duration": 11,
    "start_time": "2023-11-26T15:32:46.009Z"
   },
   {
    "duration": 6,
    "start_time": "2023-11-26T15:32:46.022Z"
   },
   {
    "duration": 16,
    "start_time": "2023-11-26T15:32:46.029Z"
   },
   {
    "duration": 7,
    "start_time": "2023-11-26T15:32:46.066Z"
   },
   {
    "duration": 11,
    "start_time": "2023-11-26T15:32:46.075Z"
   },
   {
    "duration": 15,
    "start_time": "2023-11-26T15:32:46.088Z"
   },
   {
    "duration": 6,
    "start_time": "2023-11-26T15:32:46.105Z"
   },
   {
    "duration": 3,
    "start_time": "2023-11-26T15:32:46.113Z"
   },
   {
    "duration": 3,
    "start_time": "2023-11-26T15:32:46.118Z"
   },
   {
    "duration": 5,
    "start_time": "2023-11-26T15:32:46.123Z"
   },
   {
    "duration": 6,
    "start_time": "2023-11-26T15:32:46.129Z"
   },
   {
    "duration": 8,
    "start_time": "2023-11-26T15:32:46.137Z"
   },
   {
    "duration": 24,
    "start_time": "2023-11-26T15:32:46.146Z"
   },
   {
    "duration": 15,
    "start_time": "2023-11-26T15:32:46.173Z"
   },
   {
    "duration": 4,
    "start_time": "2023-11-26T15:32:46.190Z"
   },
   {
    "duration": 4,
    "start_time": "2023-11-26T15:32:46.196Z"
   },
   {
    "duration": 4,
    "start_time": "2023-11-26T15:32:46.201Z"
   },
   {
    "duration": 4,
    "start_time": "2023-11-26T15:32:46.206Z"
   },
   {
    "duration": 4,
    "start_time": "2023-11-26T15:32:46.212Z"
   },
   {
    "duration": 7,
    "start_time": "2023-11-26T15:32:46.217Z"
   },
   {
    "duration": 539,
    "start_time": "2023-11-26T15:32:46.226Z"
   },
   {
    "duration": 3,
    "start_time": "2023-11-26T15:32:46.770Z"
   },
   {
    "duration": 14,
    "start_time": "2023-11-26T15:32:46.775Z"
   },
   {
    "duration": 5,
    "start_time": "2023-11-26T15:32:46.790Z"
   },
   {
    "duration": 11,
    "start_time": "2023-11-26T15:32:46.796Z"
   },
   {
    "duration": 6,
    "start_time": "2023-11-26T15:32:46.808Z"
   },
   {
    "duration": 190,
    "start_time": "2023-11-26T15:39:56.499Z"
   },
   {
    "duration": 148,
    "start_time": "2023-11-26T15:40:10.017Z"
   },
   {
    "duration": 10,
    "start_time": "2023-11-26T15:54:13.775Z"
   },
   {
    "duration": 1330,
    "start_time": "2023-11-26T15:55:44.939Z"
   },
   {
    "duration": 3,
    "start_time": "2023-11-26T15:55:46.271Z"
   },
   {
    "duration": 20,
    "start_time": "2023-11-26T15:55:46.276Z"
   },
   {
    "duration": 102,
    "start_time": "2023-11-26T15:55:46.299Z"
   },
   {
    "duration": 186,
    "start_time": "2023-11-26T15:55:46.403Z"
   },
   {
    "duration": 80,
    "start_time": "2023-11-26T15:55:46.591Z"
   },
   {
    "duration": 4,
    "start_time": "2023-11-26T15:55:46.673Z"
   },
   {
    "duration": 31,
    "start_time": "2023-11-26T15:55:46.679Z"
   },
   {
    "duration": 17,
    "start_time": "2023-11-26T15:55:46.712Z"
   },
   {
    "duration": 54,
    "start_time": "2023-11-26T15:55:46.733Z"
   },
   {
    "duration": 7,
    "start_time": "2023-11-26T15:55:46.789Z"
   },
   {
    "duration": 50,
    "start_time": "2023-11-26T15:55:46.798Z"
   },
   {
    "duration": 15,
    "start_time": "2023-11-26T15:55:46.850Z"
   },
   {
    "duration": 47,
    "start_time": "2023-11-26T15:55:46.867Z"
   },
   {
    "duration": 33,
    "start_time": "2023-11-26T15:55:46.916Z"
   },
   {
    "duration": 167,
    "start_time": "2023-11-26T15:55:46.951Z"
   },
   {
    "duration": 189,
    "start_time": "2023-11-26T15:55:47.120Z"
   },
   {
    "duration": 172,
    "start_time": "2023-11-26T15:55:47.311Z"
   },
   {
    "duration": 195,
    "start_time": "2023-11-26T15:55:47.485Z"
   },
   {
    "duration": 127,
    "start_time": "2023-11-26T15:55:47.681Z"
   },
   {
    "duration": 10,
    "start_time": "2023-11-26T15:55:47.810Z"
   },
   {
    "duration": 6,
    "start_time": "2023-11-26T15:55:47.822Z"
   },
   {
    "duration": 379,
    "start_time": "2023-11-26T15:55:47.829Z"
   },
   {
    "duration": 432,
    "start_time": "2023-11-26T15:55:48.210Z"
   },
   {
    "duration": 8,
    "start_time": "2023-11-26T15:55:48.644Z"
   },
   {
    "duration": 9,
    "start_time": "2023-11-26T15:55:48.665Z"
   },
   {
    "duration": 176,
    "start_time": "2023-11-26T15:55:48.676Z"
   },
   {
    "duration": 10,
    "start_time": "2023-11-26T15:55:48.856Z"
   },
   {
    "duration": 409,
    "start_time": "2023-11-26T15:55:48.867Z"
   },
   {
    "duration": 385,
    "start_time": "2023-11-26T15:55:49.278Z"
   },
   {
    "duration": 7,
    "start_time": "2023-11-26T15:55:49.666Z"
   },
   {
    "duration": 151,
    "start_time": "2023-11-26T15:55:49.674Z"
   },
   {
    "duration": 8,
    "start_time": "2023-11-26T15:55:49.826Z"
   },
   {
    "duration": 18,
    "start_time": "2023-11-26T15:55:49.836Z"
   },
   {
    "duration": 48,
    "start_time": "2023-11-26T15:55:49.856Z"
   },
   {
    "duration": 41,
    "start_time": "2023-11-26T15:55:49.906Z"
   },
   {
    "duration": 6,
    "start_time": "2023-11-26T15:55:49.948Z"
   },
   {
    "duration": 20,
    "start_time": "2023-11-26T15:55:49.956Z"
   },
   {
    "duration": 490,
    "start_time": "2023-11-26T15:55:49.978Z"
   },
   {
    "duration": 438,
    "start_time": "2023-11-26T15:55:50.469Z"
   },
   {
    "duration": 371,
    "start_time": "2023-11-26T15:55:50.909Z"
   },
   {
    "duration": 386,
    "start_time": "2023-11-26T15:55:51.283Z"
   },
   {
    "duration": 860,
    "start_time": "2023-11-26T15:55:51.671Z"
   },
   {
    "duration": 11,
    "start_time": "2023-11-26T15:55:52.533Z"
   },
   {
    "duration": 23,
    "start_time": "2023-11-26T15:55:52.546Z"
   },
   {
    "duration": 23,
    "start_time": "2023-11-26T15:55:52.571Z"
   },
   {
    "duration": 40,
    "start_time": "2023-11-26T15:55:52.596Z"
   },
   {
    "duration": 11,
    "start_time": "2023-11-26T15:55:52.639Z"
   },
   {
    "duration": 16,
    "start_time": "2023-11-26T15:55:52.652Z"
   },
   {
    "duration": 23,
    "start_time": "2023-11-26T15:55:52.670Z"
   },
   {
    "duration": 31,
    "start_time": "2023-11-26T15:55:52.695Z"
   },
   {
    "duration": 25,
    "start_time": "2023-11-26T15:55:52.728Z"
   },
   {
    "duration": 13,
    "start_time": "2023-11-26T15:55:52.756Z"
   },
   {
    "duration": 21,
    "start_time": "2023-11-26T15:55:52.771Z"
   },
   {
    "duration": 35,
    "start_time": "2023-11-26T15:55:52.794Z"
   },
   {
    "duration": 24,
    "start_time": "2023-11-26T15:55:52.831Z"
   },
   {
    "duration": 9,
    "start_time": "2023-11-26T15:55:52.858Z"
   },
   {
    "duration": 30,
    "start_time": "2023-11-26T15:55:52.869Z"
   },
   {
    "duration": 5,
    "start_time": "2023-11-26T15:55:52.902Z"
   },
   {
    "duration": 13,
    "start_time": "2023-11-26T15:55:52.909Z"
   },
   {
    "duration": 11,
    "start_time": "2023-11-26T15:55:52.924Z"
   },
   {
    "duration": 11,
    "start_time": "2023-11-26T15:55:52.937Z"
   },
   {
    "duration": 11,
    "start_time": "2023-11-26T15:55:52.950Z"
   },
   {
    "duration": 26,
    "start_time": "2023-11-26T15:55:52.963Z"
   },
   {
    "duration": 433,
    "start_time": "2023-11-26T15:55:52.990Z"
   },
   {
    "duration": 3,
    "start_time": "2023-11-26T15:55:53.424Z"
   },
   {
    "duration": 30,
    "start_time": "2023-11-26T15:55:53.429Z"
   },
   {
    "duration": 13,
    "start_time": "2023-11-26T15:55:53.461Z"
   },
   {
    "duration": 28,
    "start_time": "2023-11-26T15:55:53.476Z"
   },
   {
    "duration": 27,
    "start_time": "2023-11-26T15:55:53.506Z"
   },
   {
    "duration": 1287,
    "start_time": "2023-11-26T16:12:09.165Z"
   },
   {
    "duration": 3,
    "start_time": "2023-11-26T16:12:10.454Z"
   },
   {
    "duration": 9,
    "start_time": "2023-11-26T16:12:10.467Z"
   },
   {
    "duration": 91,
    "start_time": "2023-11-26T16:12:10.481Z"
   },
   {
    "duration": 75,
    "start_time": "2023-11-26T16:12:10.575Z"
   },
   {
    "duration": 58,
    "start_time": "2023-11-26T16:12:10.653Z"
   },
   {
    "duration": 3,
    "start_time": "2023-11-26T16:12:10.713Z"
   },
   {
    "duration": 28,
    "start_time": "2023-11-26T16:12:10.718Z"
   },
   {
    "duration": 4,
    "start_time": "2023-11-26T16:12:10.748Z"
   },
   {
    "duration": 49,
    "start_time": "2023-11-26T16:12:10.754Z"
   },
   {
    "duration": 7,
    "start_time": "2023-11-26T16:12:10.805Z"
   },
   {
    "duration": 7,
    "start_time": "2023-11-26T16:12:10.813Z"
   },
   {
    "duration": 5,
    "start_time": "2023-11-26T16:12:10.822Z"
   },
   {
    "duration": 14,
    "start_time": "2023-11-26T16:12:10.829Z"
   },
   {
    "duration": 23,
    "start_time": "2023-11-26T16:12:10.845Z"
   },
   {
    "duration": 181,
    "start_time": "2023-11-26T16:12:10.870Z"
   },
   {
    "duration": 195,
    "start_time": "2023-11-26T16:12:11.052Z"
   },
   {
    "duration": 169,
    "start_time": "2023-11-26T16:12:11.249Z"
   },
   {
    "duration": 223,
    "start_time": "2023-11-26T16:12:11.420Z"
   },
   {
    "duration": 148,
    "start_time": "2023-11-26T16:12:11.645Z"
   },
   {
    "duration": 8,
    "start_time": "2023-11-26T16:12:11.795Z"
   },
   {
    "duration": 23,
    "start_time": "2023-11-26T16:12:11.805Z"
   },
   {
    "duration": 422,
    "start_time": "2023-11-26T16:12:11.829Z"
   },
   {
    "duration": 432,
    "start_time": "2023-11-26T16:12:12.253Z"
   },
   {
    "duration": 8,
    "start_time": "2023-11-26T16:12:12.688Z"
   },
   {
    "duration": 13,
    "start_time": "2023-11-26T16:12:12.697Z"
   },
   {
    "duration": 144,
    "start_time": "2023-11-26T16:12:12.712Z"
   },
   {
    "duration": 9,
    "start_time": "2023-11-26T16:12:12.865Z"
   },
   {
    "duration": 415,
    "start_time": "2023-11-26T16:12:12.876Z"
   },
   {
    "duration": 433,
    "start_time": "2023-11-26T16:12:13.293Z"
   },
   {
    "duration": 7,
    "start_time": "2023-11-26T16:12:13.729Z"
   },
   {
    "duration": 179,
    "start_time": "2023-11-26T16:12:13.738Z"
   },
   {
    "duration": 9,
    "start_time": "2023-11-26T16:12:13.919Z"
   },
   {
    "duration": 7,
    "start_time": "2023-11-26T16:12:13.930Z"
   },
   {
    "duration": 56,
    "start_time": "2023-11-26T16:12:13.938Z"
   },
   {
    "duration": 38,
    "start_time": "2023-11-26T16:12:13.996Z"
   },
   {
    "duration": 6,
    "start_time": "2023-11-26T16:12:14.036Z"
   },
   {
    "duration": 43,
    "start_time": "2023-11-26T16:12:14.044Z"
   },
   {
    "duration": 555,
    "start_time": "2023-11-26T16:12:14.090Z"
   },
   {
    "duration": 400,
    "start_time": "2023-11-26T16:12:14.647Z"
   },
   {
    "duration": 407,
    "start_time": "2023-11-26T16:12:15.049Z"
   },
   {
    "duration": 443,
    "start_time": "2023-11-26T16:12:15.458Z"
   },
   {
    "duration": 942,
    "start_time": "2023-11-26T16:12:15.903Z"
   },
   {
    "duration": 22,
    "start_time": "2023-11-26T16:12:16.847Z"
   },
   {
    "duration": 12,
    "start_time": "2023-11-26T16:12:16.872Z"
   },
   {
    "duration": 24,
    "start_time": "2023-11-26T16:12:16.887Z"
   },
   {
    "duration": 10,
    "start_time": "2023-11-26T16:12:16.913Z"
   },
   {
    "duration": 11,
    "start_time": "2023-11-26T16:12:16.925Z"
   },
   {
    "duration": 6,
    "start_time": "2023-11-26T16:12:16.938Z"
   },
   {
    "duration": 5,
    "start_time": "2023-11-26T16:12:16.967Z"
   },
   {
    "duration": 13,
    "start_time": "2023-11-26T16:12:16.975Z"
   },
   {
    "duration": 3,
    "start_time": "2023-11-26T16:12:16.993Z"
   },
   {
    "duration": 5,
    "start_time": "2023-11-26T16:12:16.998Z"
   },
   {
    "duration": 6,
    "start_time": "2023-11-26T16:12:17.004Z"
   },
   {
    "duration": 10,
    "start_time": "2023-11-26T16:12:17.011Z"
   },
   {
    "duration": 5,
    "start_time": "2023-11-26T16:12:17.023Z"
   },
   {
    "duration": 42,
    "start_time": "2023-11-26T16:12:17.030Z"
   },
   {
    "duration": 19,
    "start_time": "2023-11-26T16:12:17.074Z"
   },
   {
    "duration": 5,
    "start_time": "2023-11-26T16:12:17.094Z"
   },
   {
    "duration": 15,
    "start_time": "2023-11-26T16:12:17.100Z"
   },
   {
    "duration": 27,
    "start_time": "2023-11-26T16:12:17.116Z"
   },
   {
    "duration": 4,
    "start_time": "2023-11-26T16:12:17.145Z"
   },
   {
    "duration": 60,
    "start_time": "2023-11-26T16:12:17.151Z"
   },
   {
    "duration": 494,
    "start_time": "2023-11-26T16:12:17.214Z"
   },
   {
    "duration": 2,
    "start_time": "2023-11-26T16:12:17.710Z"
   },
   {
    "duration": 38,
    "start_time": "2023-11-26T16:12:17.713Z"
   },
   {
    "duration": 27,
    "start_time": "2023-11-26T16:12:17.752Z"
   },
   {
    "duration": 22,
    "start_time": "2023-11-26T16:12:17.782Z"
   },
   {
    "duration": 21,
    "start_time": "2023-11-26T16:12:17.806Z"
   },
   {
    "duration": 45,
    "start_time": "2023-11-27T12:00:40.864Z"
   },
   {
    "duration": 1261,
    "start_time": "2023-11-27T12:00:47.997Z"
   },
   {
    "duration": 3,
    "start_time": "2023-11-27T12:00:49.260Z"
   },
   {
    "duration": 7,
    "start_time": "2023-11-27T12:00:49.265Z"
   },
   {
    "duration": 97,
    "start_time": "2023-11-27T12:00:49.273Z"
   },
   {
    "duration": 111,
    "start_time": "2023-11-27T12:00:49.372Z"
   },
   {
    "duration": 71,
    "start_time": "2023-11-27T12:00:49.484Z"
   },
   {
    "duration": 2,
    "start_time": "2023-11-27T12:00:49.557Z"
   },
   {
    "duration": 18,
    "start_time": "2023-11-27T12:00:49.561Z"
   },
   {
    "duration": 4,
    "start_time": "2023-11-27T12:00:49.581Z"
   },
   {
    "duration": 32,
    "start_time": "2023-11-27T12:00:49.586Z"
   },
   {
    "duration": 6,
    "start_time": "2023-11-27T12:00:49.620Z"
   },
   {
    "duration": 7,
    "start_time": "2023-11-27T12:00:49.627Z"
   },
   {
    "duration": 4,
    "start_time": "2023-11-27T12:00:49.635Z"
   },
   {
    "duration": 14,
    "start_time": "2023-11-27T12:00:49.641Z"
   },
   {
    "duration": 4,
    "start_time": "2023-11-27T12:00:49.656Z"
   },
   {
    "duration": 176,
    "start_time": "2023-11-27T12:00:49.661Z"
   },
   {
    "duration": 141,
    "start_time": "2023-11-27T12:00:49.838Z"
   },
   {
    "duration": 119,
    "start_time": "2023-11-27T12:00:53.517Z"
   },
   {
    "duration": 136,
    "start_time": "2023-11-27T12:01:15.270Z"
   },
   {
    "duration": 156,
    "start_time": "2023-11-27T12:02:51.248Z"
   },
   {
    "duration": 160,
    "start_time": "2023-11-27T12:03:17.129Z"
   },
   {
    "duration": 158,
    "start_time": "2023-11-27T12:03:51.162Z"
   },
   {
    "duration": 165,
    "start_time": "2023-11-27T12:04:01.553Z"
   },
   {
    "duration": 223,
    "start_time": "2023-11-27T12:04:11.185Z"
   },
   {
    "duration": 166,
    "start_time": "2023-11-27T12:06:00.890Z"
   },
   {
    "duration": 135,
    "start_time": "2023-11-27T12:06:38.940Z"
   },
   {
    "duration": 135,
    "start_time": "2023-11-27T12:06:46.860Z"
   },
   {
    "duration": 167,
    "start_time": "2023-11-27T12:06:59.900Z"
   },
   {
    "duration": 182,
    "start_time": "2023-11-27T12:07:05.253Z"
   },
   {
    "duration": 132,
    "start_time": "2023-11-27T12:07:20.339Z"
   },
   {
    "duration": 235,
    "start_time": "2023-11-27T12:08:21.109Z"
   },
   {
    "duration": 190,
    "start_time": "2023-11-27T12:08:26.445Z"
   },
   {
    "duration": 20,
    "start_time": "2023-11-27T12:09:51.759Z"
   },
   {
    "duration": 7,
    "start_time": "2023-11-27T12:16:17.479Z"
   },
   {
    "duration": 6,
    "start_time": "2023-11-27T12:16:24.101Z"
   },
   {
    "duration": 7,
    "start_time": "2023-11-27T12:16:26.821Z"
   },
   {
    "duration": 10,
    "start_time": "2023-11-27T12:17:14.670Z"
   },
   {
    "duration": 24,
    "start_time": "2023-11-27T12:17:51.326Z"
   },
   {
    "duration": 21,
    "start_time": "2023-11-27T12:17:54.622Z"
   },
   {
    "duration": 15,
    "start_time": "2023-11-27T12:18:14.544Z"
   },
   {
    "duration": 9,
    "start_time": "2023-11-27T12:27:35.149Z"
   },
   {
    "duration": 4,
    "start_time": "2023-11-27T12:28:54.806Z"
   },
   {
    "duration": 9,
    "start_time": "2023-11-27T12:30:56.180Z"
   },
   {
    "duration": 28,
    "start_time": "2023-11-27T12:31:44.308Z"
   },
   {
    "duration": 15,
    "start_time": "2023-11-27T12:32:24.732Z"
   },
   {
    "duration": 1087,
    "start_time": "2023-11-27T12:36:38.487Z"
   },
   {
    "duration": 2,
    "start_time": "2023-11-27T12:36:39.576Z"
   },
   {
    "duration": 18,
    "start_time": "2023-11-27T12:36:39.580Z"
   },
   {
    "duration": 85,
    "start_time": "2023-11-27T12:36:39.599Z"
   },
   {
    "duration": 70,
    "start_time": "2023-11-27T12:36:39.686Z"
   },
   {
    "duration": 43,
    "start_time": "2023-11-27T12:36:39.757Z"
   },
   {
    "duration": 3,
    "start_time": "2023-11-27T12:36:39.801Z"
   },
   {
    "duration": 34,
    "start_time": "2023-11-27T12:36:39.806Z"
   },
   {
    "duration": 5,
    "start_time": "2023-11-27T12:36:39.841Z"
   },
   {
    "duration": 28,
    "start_time": "2023-11-27T12:36:39.848Z"
   },
   {
    "duration": 25,
    "start_time": "2023-11-27T12:36:39.878Z"
   },
   {
    "duration": 10,
    "start_time": "2023-11-27T12:36:39.904Z"
   },
   {
    "duration": 11,
    "start_time": "2023-11-27T12:36:39.916Z"
   },
   {
    "duration": 15,
    "start_time": "2023-11-27T12:36:39.931Z"
   },
   {
    "duration": 5,
    "start_time": "2023-11-27T12:36:39.948Z"
   },
   {
    "duration": 176,
    "start_time": "2023-11-27T12:36:39.954Z"
   },
   {
    "duration": 173,
    "start_time": "2023-11-27T12:36:40.132Z"
   },
   {
    "duration": 138,
    "start_time": "2023-11-27T12:36:40.307Z"
   },
   {
    "duration": 181,
    "start_time": "2023-11-27T12:36:40.447Z"
   },
   {
    "duration": 9,
    "start_time": "2023-11-27T12:36:40.629Z"
   },
   {
    "duration": 133,
    "start_time": "2023-11-27T12:36:40.640Z"
   },
   {
    "duration": 6,
    "start_time": "2023-11-27T12:36:40.775Z"
   },
   {
    "duration": 365,
    "start_time": "2023-11-27T12:36:40.783Z"
   },
   {
    "duration": 356,
    "start_time": "2023-11-27T12:36:41.150Z"
   },
   {
    "duration": 6,
    "start_time": "2023-11-27T12:36:41.508Z"
   },
   {
    "duration": 34,
    "start_time": "2023-11-27T12:36:41.516Z"
   },
   {
    "duration": 120,
    "start_time": "2023-11-27T12:36:41.552Z"
   },
   {
    "duration": 16,
    "start_time": "2023-11-27T12:36:41.673Z"
   },
   {
    "duration": 334,
    "start_time": "2023-11-27T12:36:44.780Z"
   },
   {
    "duration": 345,
    "start_time": "2023-11-27T12:36:48.220Z"
   },
   {
    "duration": 7,
    "start_time": "2023-11-27T12:36:56.165Z"
   },
   {
    "duration": 120,
    "start_time": "2023-11-27T12:36:58.404Z"
   },
   {
    "duration": 8,
    "start_time": "2023-11-27T12:37:03.764Z"
   },
   {
    "duration": 89,
    "start_time": "2023-11-27T12:38:02.461Z"
   },
   {
    "duration": 1017,
    "start_time": "2023-11-27T12:38:22.422Z"
   },
   {
    "duration": 3,
    "start_time": "2023-11-27T12:38:23.441Z"
   },
   {
    "duration": 19,
    "start_time": "2023-11-27T12:38:23.448Z"
   },
   {
    "duration": 81,
    "start_time": "2023-11-27T12:38:23.469Z"
   },
   {
    "duration": 62,
    "start_time": "2023-11-27T12:38:23.552Z"
   },
   {
    "duration": 96,
    "start_time": "2023-11-27T12:38:23.615Z"
   },
   {
    "duration": 3,
    "start_time": "2023-11-27T12:38:23.713Z"
   },
   {
    "duration": 52,
    "start_time": "2023-11-27T12:38:23.717Z"
   },
   {
    "duration": 14,
    "start_time": "2023-11-27T12:38:23.770Z"
   },
   {
    "duration": 48,
    "start_time": "2023-11-27T12:38:23.786Z"
   },
   {
    "duration": 6,
    "start_time": "2023-11-27T12:38:23.836Z"
   },
   {
    "duration": 37,
    "start_time": "2023-11-27T12:38:23.843Z"
   },
   {
    "duration": 10,
    "start_time": "2023-11-27T12:38:23.882Z"
   },
   {
    "duration": 25,
    "start_time": "2023-11-27T12:38:23.894Z"
   },
   {
    "duration": 38,
    "start_time": "2023-11-27T12:38:23.920Z"
   },
   {
    "duration": 152,
    "start_time": "2023-11-27T12:38:23.959Z"
   },
   {
    "duration": 161,
    "start_time": "2023-11-27T12:38:24.113Z"
   },
   {
    "duration": 136,
    "start_time": "2023-11-27T12:38:24.276Z"
   },
   {
    "duration": 183,
    "start_time": "2023-11-27T12:38:24.414Z"
   },
   {
    "duration": 10,
    "start_time": "2023-11-27T12:38:24.599Z"
   },
   {
    "duration": 127,
    "start_time": "2023-11-27T12:38:24.610Z"
   },
   {
    "duration": 6,
    "start_time": "2023-11-27T12:38:24.739Z"
   },
   {
    "duration": 345,
    "start_time": "2023-11-27T12:38:24.747Z"
   },
   {
    "duration": 375,
    "start_time": "2023-11-27T12:38:25.093Z"
   },
   {
    "duration": 7,
    "start_time": "2023-11-27T12:38:25.469Z"
   },
   {
    "duration": 6,
    "start_time": "2023-11-27T12:38:25.477Z"
   },
   {
    "duration": 121,
    "start_time": "2023-11-27T12:38:25.499Z"
   },
   {
    "duration": 16,
    "start_time": "2023-11-27T12:38:25.621Z"
   },
   {
    "duration": 366,
    "start_time": "2023-11-27T12:38:25.638Z"
   },
   {
    "duration": 350,
    "start_time": "2023-11-27T12:38:26.006Z"
   },
   {
    "duration": 6,
    "start_time": "2023-11-27T12:38:26.358Z"
   },
   {
    "duration": 138,
    "start_time": "2023-11-27T12:38:26.366Z"
   },
   {
    "duration": 8,
    "start_time": "2023-11-27T12:38:26.505Z"
   },
   {
    "duration": 16,
    "start_time": "2023-11-27T12:38:30.353Z"
   },
   {
    "duration": 12,
    "start_time": "2023-11-27T12:38:30.993Z"
   },
   {
    "duration": 11,
    "start_time": "2023-11-27T12:39:04.619Z"
   },
   {
    "duration": 13,
    "start_time": "2023-11-27T12:39:22.179Z"
   },
   {
    "duration": 14,
    "start_time": "2023-11-27T12:41:58.869Z"
   },
   {
    "duration": 12,
    "start_time": "2023-11-27T12:42:04.941Z"
   },
   {
    "duration": 8,
    "start_time": "2023-11-27T12:43:30.358Z"
   },
   {
    "duration": 77,
    "start_time": "2023-11-27T12:45:53.512Z"
   },
   {
    "duration": 22,
    "start_time": "2023-11-27T12:45:57.601Z"
   },
   {
    "duration": 11,
    "start_time": "2023-11-27T12:45:58.441Z"
   },
   {
    "duration": 15,
    "start_time": "2023-11-27T12:46:01.313Z"
   },
   {
    "duration": 8,
    "start_time": "2023-11-27T12:46:07.121Z"
   },
   {
    "duration": 14,
    "start_time": "2023-11-27T12:46:07.816Z"
   },
   {
    "duration": 13,
    "start_time": "2023-11-27T12:46:30.913Z"
   },
   {
    "duration": 14,
    "start_time": "2023-11-27T12:46:39.865Z"
   },
   {
    "duration": 92,
    "start_time": "2023-11-27T12:46:46.954Z"
   },
   {
    "duration": 15,
    "start_time": "2023-11-27T12:47:05.379Z"
   },
   {
    "duration": 13,
    "start_time": "2023-11-27T12:47:13.842Z"
   },
   {
    "duration": 13,
    "start_time": "2023-11-27T12:47:25.507Z"
   },
   {
    "duration": 25,
    "start_time": "2023-11-27T12:51:17.648Z"
   },
   {
    "duration": 30,
    "start_time": "2023-11-27T12:52:18.880Z"
   },
   {
    "duration": 26,
    "start_time": "2023-11-27T12:53:22.818Z"
   },
   {
    "duration": 27,
    "start_time": "2023-11-27T12:54:11.681Z"
   },
   {
    "duration": 18,
    "start_time": "2023-11-27T12:54:54.610Z"
   },
   {
    "duration": 9,
    "start_time": "2023-11-27T12:55:36.660Z"
   },
   {
    "duration": 15,
    "start_time": "2023-11-27T12:55:44.963Z"
   },
   {
    "duration": 21,
    "start_time": "2023-11-27T12:56:00.714Z"
   },
   {
    "duration": 29,
    "start_time": "2023-11-27T12:57:47.972Z"
   },
   {
    "duration": 24,
    "start_time": "2023-11-27T12:57:59.240Z"
   },
   {
    "duration": 13,
    "start_time": "2023-11-27T12:59:25.925Z"
   },
   {
    "duration": 2,
    "start_time": "2023-11-27T12:59:30.733Z"
   },
   {
    "duration": 3,
    "start_time": "2023-11-27T12:59:32.956Z"
   },
   {
    "duration": 10,
    "start_time": "2023-11-27T12:59:39.693Z"
   },
   {
    "duration": 3,
    "start_time": "2023-11-27T12:59:52.063Z"
   },
   {
    "duration": 24,
    "start_time": "2023-11-27T12:59:52.068Z"
   },
   {
    "duration": 16,
    "start_time": "2023-11-27T12:59:52.094Z"
   },
   {
    "duration": 65,
    "start_time": "2023-11-27T12:59:52.113Z"
   },
   {
    "duration": 68,
    "start_time": "2023-11-27T12:59:52.180Z"
   },
   {
    "duration": 76,
    "start_time": "2023-11-27T12:59:52.250Z"
   },
   {
    "duration": 3,
    "start_time": "2023-11-27T12:59:52.327Z"
   },
   {
    "duration": 24,
    "start_time": "2023-11-27T12:59:52.332Z"
   },
   {
    "duration": 25,
    "start_time": "2023-11-27T12:59:52.358Z"
   },
   {
    "duration": 41,
    "start_time": "2023-11-27T12:59:52.384Z"
   },
   {
    "duration": 22,
    "start_time": "2023-11-27T12:59:52.426Z"
   },
   {
    "duration": 42,
    "start_time": "2023-11-27T12:59:52.449Z"
   },
   {
    "duration": 22,
    "start_time": "2023-11-27T12:59:52.493Z"
   },
   {
    "duration": 44,
    "start_time": "2023-11-27T12:59:52.516Z"
   },
   {
    "duration": 10,
    "start_time": "2023-11-27T12:59:52.561Z"
   },
   {
    "duration": 145,
    "start_time": "2023-11-27T12:59:52.573Z"
   },
   {
    "duration": 162,
    "start_time": "2023-11-27T12:59:52.719Z"
   },
   {
    "duration": 246,
    "start_time": "2023-11-27T12:59:52.882Z"
   },
   {
    "duration": 202,
    "start_time": "2023-11-27T12:59:53.130Z"
   },
   {
    "duration": 9,
    "start_time": "2023-11-27T12:59:53.334Z"
   },
   {
    "duration": 132,
    "start_time": "2023-11-27T12:59:53.344Z"
   },
   {
    "duration": 9,
    "start_time": "2023-11-27T12:59:53.478Z"
   },
   {
    "duration": 366,
    "start_time": "2023-11-27T12:59:53.489Z"
   },
   {
    "duration": 280,
    "start_time": "2023-11-27T12:59:53.858Z"
   },
   {
    "duration": 6,
    "start_time": "2023-11-27T12:59:54.140Z"
   },
   {
    "duration": 22,
    "start_time": "2023-11-27T12:59:54.148Z"
   },
   {
    "duration": 121,
    "start_time": "2023-11-27T12:59:54.172Z"
   },
   {
    "duration": 18,
    "start_time": "2023-11-27T12:59:54.295Z"
   },
   {
    "duration": 446,
    "start_time": "2023-11-27T12:59:54.315Z"
   },
   {
    "duration": 349,
    "start_time": "2023-11-27T12:59:54.763Z"
   },
   {
    "duration": 6,
    "start_time": "2023-11-27T12:59:55.113Z"
   },
   {
    "duration": 138,
    "start_time": "2023-11-27T12:59:55.120Z"
   },
   {
    "duration": 8,
    "start_time": "2023-11-27T12:59:55.259Z"
   },
   {
    "duration": 43,
    "start_time": "2023-11-27T12:59:55.268Z"
   },
   {
    "duration": 34,
    "start_time": "2023-11-27T12:59:55.313Z"
   },
   {
    "duration": 24,
    "start_time": "2023-11-27T12:59:55.348Z"
   },
   {
    "duration": 11,
    "start_time": "2023-11-27T12:59:55.374Z"
   },
   {
    "duration": 27,
    "start_time": "2023-11-27T12:59:55.387Z"
   },
   {
    "duration": 37,
    "start_time": "2023-11-27T12:59:55.415Z"
   },
   {
    "duration": 19,
    "start_time": "2023-11-27T12:59:55.454Z"
   },
   {
    "duration": 11,
    "start_time": "2023-11-27T13:00:00.135Z"
   },
   {
    "duration": 12,
    "start_time": "2023-11-27T13:00:00.615Z"
   },
   {
    "duration": 14,
    "start_time": "2023-11-27T13:00:10.327Z"
   },
   {
    "duration": 20,
    "start_time": "2023-11-27T13:01:20.543Z"
   },
   {
    "duration": 8,
    "start_time": "2023-11-27T13:01:58.899Z"
   },
   {
    "duration": 6,
    "start_time": "2023-11-27T13:01:59.352Z"
   },
   {
    "duration": 335,
    "start_time": "2023-11-27T13:02:00.257Z"
   },
   {
    "duration": 436,
    "start_time": "2023-11-27T13:02:05.912Z"
   },
   {
    "duration": 345,
    "start_time": "2023-11-27T13:02:29.942Z"
   },
   {
    "duration": 354,
    "start_time": "2023-11-27T13:02:42.273Z"
   },
   {
    "duration": 196,
    "start_time": "2023-11-27T13:05:47.581Z"
   },
   {
    "duration": 223,
    "start_time": "2023-11-27T13:08:02.797Z"
   },
   {
    "duration": 349,
    "start_time": "2023-11-27T13:08:13.885Z"
   },
   {
    "duration": 241,
    "start_time": "2023-11-27T13:08:33.079Z"
   },
   {
    "duration": 245,
    "start_time": "2023-11-27T13:08:39.286Z"
   },
   {
    "duration": 238,
    "start_time": "2023-11-27T13:08:47.128Z"
   },
   {
    "duration": 236,
    "start_time": "2023-11-27T13:09:06.303Z"
   },
   {
    "duration": 330,
    "start_time": "2023-11-27T13:09:25.558Z"
   },
   {
    "duration": 240,
    "start_time": "2023-11-27T13:09:43.784Z"
   },
   {
    "duration": 266,
    "start_time": "2023-11-27T13:09:59.512Z"
   },
   {
    "duration": 232,
    "start_time": "2023-11-27T13:10:08.256Z"
   },
   {
    "duration": 266,
    "start_time": "2023-11-27T13:10:18.385Z"
   },
   {
    "duration": 249,
    "start_time": "2023-11-27T13:10:29.704Z"
   },
   {
    "duration": 333,
    "start_time": "2023-11-27T13:10:49.026Z"
   },
   {
    "duration": 261,
    "start_time": "2023-11-27T13:11:19.257Z"
   },
   {
    "duration": 72,
    "start_time": "2023-11-27T13:12:52.804Z"
   },
   {
    "duration": 247,
    "start_time": "2023-11-27T13:13:05.339Z"
   },
   {
    "duration": 235,
    "start_time": "2023-11-27T13:13:15.509Z"
   },
   {
    "duration": 237,
    "start_time": "2023-11-27T13:13:20.724Z"
   },
   {
    "duration": 331,
    "start_time": "2023-11-27T13:14:00.940Z"
   },
   {
    "duration": 235,
    "start_time": "2023-11-27T13:14:17.293Z"
   },
   {
    "duration": 241,
    "start_time": "2023-11-27T13:14:22.630Z"
   },
   {
    "duration": 237,
    "start_time": "2023-11-27T13:14:36.124Z"
   },
   {
    "duration": 239,
    "start_time": "2023-11-27T13:17:41.815Z"
   },
   {
    "duration": 253,
    "start_time": "2023-11-27T13:17:51.550Z"
   },
   {
    "duration": 369,
    "start_time": "2023-11-27T13:18:06.294Z"
   },
   {
    "duration": 264,
    "start_time": "2023-11-27T13:23:01.556Z"
   },
   {
    "duration": 256,
    "start_time": "2023-11-27T13:26:28.609Z"
   },
   {
    "duration": 225,
    "start_time": "2023-11-27T13:26:32.112Z"
   },
   {
    "duration": 109,
    "start_time": "2023-11-27T13:28:55.826Z"
   },
   {
    "duration": 310,
    "start_time": "2023-11-27T13:29:01.195Z"
   },
   {
    "duration": 398,
    "start_time": "2023-11-27T13:29:08.554Z"
   },
   {
    "duration": 290,
    "start_time": "2023-11-27T13:29:16.715Z"
   },
   {
    "duration": 291,
    "start_time": "2023-11-27T13:29:27.659Z"
   },
   {
    "duration": 106,
    "start_time": "2023-11-27T13:29:34.947Z"
   },
   {
    "duration": 106,
    "start_time": "2023-11-27T13:29:40.795Z"
   },
   {
    "duration": 285,
    "start_time": "2023-11-27T13:29:45.988Z"
   },
   {
    "duration": 413,
    "start_time": "2023-11-27T13:29:50.892Z"
   },
   {
    "duration": 288,
    "start_time": "2023-11-27T13:29:56.308Z"
   },
   {
    "duration": 311,
    "start_time": "2023-11-27T13:29:59.860Z"
   },
   {
    "duration": 288,
    "start_time": "2023-11-27T13:30:03.724Z"
   },
   {
    "duration": 305,
    "start_time": "2023-11-27T13:30:12.964Z"
   },
   {
    "duration": 292,
    "start_time": "2023-11-27T13:30:27.739Z"
   },
   {
    "duration": 414,
    "start_time": "2023-11-27T13:30:34.980Z"
   },
   {
    "duration": 309,
    "start_time": "2023-11-27T13:30:40.596Z"
   },
   {
    "duration": 298,
    "start_time": "2023-11-27T13:30:46.637Z"
   },
   {
    "duration": 301,
    "start_time": "2023-11-27T13:30:51.940Z"
   },
   {
    "duration": 307,
    "start_time": "2023-11-27T13:31:13.596Z"
   },
   {
    "duration": 393,
    "start_time": "2023-11-27T13:31:31.172Z"
   },
   {
    "duration": 306,
    "start_time": "2023-11-27T13:32:14.646Z"
   },
   {
    "duration": 293,
    "start_time": "2023-11-27T13:32:29.206Z"
   },
   {
    "duration": 78,
    "start_time": "2023-11-27T13:32:41.790Z"
   },
   {
    "duration": 292,
    "start_time": "2023-11-27T13:32:46.277Z"
   },
   {
    "duration": 293,
    "start_time": "2023-11-27T13:33:19.326Z"
   },
   {
    "duration": 314,
    "start_time": "2023-11-27T13:33:31.487Z"
   },
   {
    "duration": 398,
    "start_time": "2023-11-27T13:33:38.321Z"
   },
   {
    "duration": 320,
    "start_time": "2023-11-27T13:33:51.422Z"
   },
   {
    "duration": 119,
    "start_time": "2023-11-27T13:33:57.487Z"
   },
   {
    "duration": 296,
    "start_time": "2023-11-27T13:34:05.664Z"
   },
   {
    "duration": 296,
    "start_time": "2023-11-27T13:35:09.457Z"
   },
   {
    "duration": 280,
    "start_time": "2023-11-27T13:35:16.977Z"
   },
   {
    "duration": 394,
    "start_time": "2023-11-27T13:35:28.762Z"
   },
   {
    "duration": 301,
    "start_time": "2023-11-27T13:35:32.473Z"
   },
   {
    "duration": 309,
    "start_time": "2023-11-27T13:35:35.225Z"
   },
   {
    "duration": 284,
    "start_time": "2023-11-27T13:35:50.257Z"
   },
   {
    "duration": 286,
    "start_time": "2023-11-27T13:36:00.906Z"
   },
   {
    "duration": 334,
    "start_time": "2023-11-27T13:36:05.322Z"
   },
   {
    "duration": 425,
    "start_time": "2023-11-27T13:36:10.362Z"
   },
   {
    "duration": 309,
    "start_time": "2023-11-27T13:36:15.339Z"
   },
   {
    "duration": 303,
    "start_time": "2023-11-27T13:37:25.499Z"
   },
   {
    "duration": 308,
    "start_time": "2023-11-27T13:37:49.739Z"
   },
   {
    "duration": 105,
    "start_time": "2023-11-27T13:37:56.284Z"
   },
   {
    "duration": 296,
    "start_time": "2023-11-27T13:38:05.479Z"
   },
   {
    "duration": 385,
    "start_time": "2023-11-27T13:38:28.812Z"
   },
   {
    "duration": 298,
    "start_time": "2023-11-27T13:38:54.692Z"
   },
   {
    "duration": 315,
    "start_time": "2023-11-27T13:39:08.692Z"
   },
   {
    "duration": 290,
    "start_time": "2023-11-27T13:39:27.997Z"
   },
   {
    "duration": 288,
    "start_time": "2023-11-27T13:39:42.197Z"
   },
   {
    "duration": 386,
    "start_time": "2023-11-27T13:40:15.926Z"
   },
   {
    "duration": 295,
    "start_time": "2023-11-27T13:40:20.614Z"
   },
   {
    "duration": 303,
    "start_time": "2023-11-27T13:40:49.070Z"
   },
   {
    "duration": 289,
    "start_time": "2023-11-27T13:40:54.118Z"
   },
   {
    "duration": 288,
    "start_time": "2023-11-27T13:41:22.367Z"
   },
   {
    "duration": 307,
    "start_time": "2023-11-27T13:41:27.623Z"
   },
   {
    "duration": 13,
    "start_time": "2023-11-27T13:41:30.447Z"
   },
   {
    "duration": 11,
    "start_time": "2023-11-27T13:41:36.967Z"
   },
   {
    "duration": 389,
    "start_time": "2023-11-27T13:41:46.391Z"
   },
   {
    "duration": 303,
    "start_time": "2023-11-27T13:45:16.498Z"
   },
   {
    "duration": 289,
    "start_time": "2023-11-27T13:45:19.258Z"
   },
   {
    "duration": 287,
    "start_time": "2023-11-27T13:45:52.969Z"
   },
   {
    "duration": 303,
    "start_time": "2023-11-27T13:46:00.473Z"
   },
   {
    "duration": 326,
    "start_time": "2023-11-27T13:48:06.164Z"
   },
   {
    "duration": 299,
    "start_time": "2023-11-27T13:48:13.900Z"
   },
   {
    "duration": 735,
    "start_time": "2023-11-27T14:02:34.129Z"
   },
   {
    "duration": 670,
    "start_time": "2023-11-27T14:02:40.305Z"
   },
   {
    "duration": 451,
    "start_time": "2023-11-27T14:02:46.487Z"
   },
   {
    "duration": 229,
    "start_time": "2023-11-27T14:06:32.050Z"
   },
   {
    "duration": 245,
    "start_time": "2023-11-27T14:06:36.155Z"
   },
   {
    "duration": 73,
    "start_time": "2023-11-27T14:06:44.531Z"
   },
   {
    "duration": 353,
    "start_time": "2023-11-27T14:06:47.523Z"
   },
   {
    "duration": 244,
    "start_time": "2023-11-27T14:06:51.443Z"
   },
   {
    "duration": 244,
    "start_time": "2023-11-27T14:06:55.947Z"
   },
   {
    "duration": 248,
    "start_time": "2023-11-27T14:07:00.067Z"
   },
   {
    "duration": 435,
    "start_time": "2023-11-27T14:07:48.996Z"
   },
   {
    "duration": 538,
    "start_time": "2023-11-27T14:08:00.773Z"
   },
   {
    "duration": 464,
    "start_time": "2023-11-27T14:08:05.309Z"
   },
   {
    "duration": 472,
    "start_time": "2023-11-27T14:08:29.974Z"
   },
   {
    "duration": 457,
    "start_time": "2023-11-27T14:08:51.422Z"
   },
   {
    "duration": 576,
    "start_time": "2023-11-27T14:10:32.706Z"
   },
   {
    "duration": 481,
    "start_time": "2023-11-27T14:11:39.256Z"
   },
   {
    "duration": 447,
    "start_time": "2023-11-27T14:11:52.591Z"
   },
   {
    "duration": 555,
    "start_time": "2023-11-27T14:12:04.745Z"
   },
   {
    "duration": 460,
    "start_time": "2023-11-27T14:12:12.752Z"
   },
   {
    "duration": 456,
    "start_time": "2023-11-27T14:12:43.594Z"
   },
   {
    "duration": 459,
    "start_time": "2023-11-27T14:13:08.522Z"
   },
   {
    "duration": 570,
    "start_time": "2023-11-27T14:13:15.722Z"
   },
   {
    "duration": 460,
    "start_time": "2023-11-27T14:14:01.994Z"
   },
   {
    "duration": 441,
    "start_time": "2023-11-27T14:14:11.866Z"
   },
   {
    "duration": 477,
    "start_time": "2023-11-27T14:14:29.922Z"
   },
   {
    "duration": 576,
    "start_time": "2023-11-27T14:14:49.378Z"
   },
   {
    "duration": 440,
    "start_time": "2023-11-27T14:15:38.556Z"
   },
   {
    "duration": 31,
    "start_time": "2023-11-27T14:19:58.631Z"
   },
   {
    "duration": 28,
    "start_time": "2023-11-27T14:21:11.401Z"
   },
   {
    "duration": 28,
    "start_time": "2023-11-27T14:21:19.841Z"
   },
   {
    "duration": 16,
    "start_time": "2023-11-27T14:22:21.123Z"
   },
   {
    "duration": 17,
    "start_time": "2023-11-27T14:22:28.435Z"
   },
   {
    "duration": 28,
    "start_time": "2023-11-27T14:22:44.331Z"
   },
   {
    "duration": 17,
    "start_time": "2023-11-27T14:22:47.582Z"
   },
   {
    "duration": 17,
    "start_time": "2023-11-27T14:22:48.019Z"
   },
   {
    "duration": 437,
    "start_time": "2023-11-27T14:33:11.942Z"
   },
   {
    "duration": 556,
    "start_time": "2023-11-27T14:33:25.422Z"
   },
   {
    "duration": 457,
    "start_time": "2023-11-27T14:33:31.607Z"
   },
   {
    "duration": 434,
    "start_time": "2023-11-27T14:34:03.533Z"
   },
   {
    "duration": 426,
    "start_time": "2023-11-27T14:34:24.046Z"
   },
   {
    "duration": 564,
    "start_time": "2023-11-27T14:34:52.007Z"
   },
   {
    "duration": 451,
    "start_time": "2023-11-27T14:35:33.415Z"
   },
   {
    "duration": 109,
    "start_time": "2023-11-27T14:35:39.968Z"
   },
   {
    "duration": 428,
    "start_time": "2023-11-27T14:35:44.473Z"
   },
   {
    "duration": 107,
    "start_time": "2023-11-27T14:35:50.719Z"
   },
   {
    "duration": 539,
    "start_time": "2023-11-27T14:35:55.479Z"
   },
   {
    "duration": 311,
    "start_time": "2023-11-27T14:36:01.607Z"
   },
   {
    "duration": 282,
    "start_time": "2023-11-27T14:36:13.248Z"
   },
   {
    "duration": 230,
    "start_time": "2023-11-27T14:36:21.256Z"
   },
   {
    "duration": 286,
    "start_time": "2023-11-27T14:36:37.122Z"
   },
   {
    "duration": 427,
    "start_time": "2023-11-27T14:36:45.353Z"
   },
   {
    "duration": 235,
    "start_time": "2023-11-27T14:37:17.552Z"
   },
   {
    "duration": 226,
    "start_time": "2023-11-27T14:37:41.058Z"
   },
   {
    "duration": 235,
    "start_time": "2023-11-27T14:38:01.154Z"
   },
   {
    "duration": 239,
    "start_time": "2023-11-27T14:38:07.330Z"
   },
   {
    "duration": 315,
    "start_time": "2023-11-27T14:38:15.523Z"
   },
   {
    "duration": 409,
    "start_time": "2023-11-27T14:38:20.914Z"
   },
   {
    "duration": 305,
    "start_time": "2023-11-27T14:38:29.700Z"
   },
   {
    "duration": 283,
    "start_time": "2023-11-27T14:38:38.074Z"
   },
   {
    "duration": 277,
    "start_time": "2023-11-27T14:38:48.546Z"
   },
   {
    "duration": 272,
    "start_time": "2023-11-27T14:38:53.803Z"
   },
   {
    "duration": 370,
    "start_time": "2023-11-27T14:39:03.379Z"
   },
   {
    "duration": 231,
    "start_time": "2023-11-27T14:39:12.011Z"
   },
   {
    "duration": 23,
    "start_time": "2023-11-27T15:02:03.144Z"
   },
   {
    "duration": 1974,
    "start_time": "2023-11-27T15:02:16.922Z"
   },
   {
    "duration": 745,
    "start_time": "2023-11-27T15:03:52.394Z"
   },
   {
    "duration": 11,
    "start_time": "2023-11-27T15:03:54.962Z"
   },
   {
    "duration": 11,
    "start_time": "2023-11-27T15:04:11.675Z"
   },
   {
    "duration": 11,
    "start_time": "2023-11-27T15:04:39.699Z"
   },
   {
    "duration": 7,
    "start_time": "2023-11-27T15:04:58.803Z"
   },
   {
    "duration": 8,
    "start_time": "2023-11-27T15:05:08.940Z"
   },
   {
    "duration": 8,
    "start_time": "2023-11-27T15:05:16.140Z"
   },
   {
    "duration": 12,
    "start_time": "2023-11-27T15:05:39.379Z"
   },
   {
    "duration": 10,
    "start_time": "2023-11-27T15:05:39.861Z"
   },
   {
    "duration": 9,
    "start_time": "2023-11-27T15:06:23.836Z"
   },
   {
    "duration": 13,
    "start_time": "2023-11-27T15:06:27.404Z"
   },
   {
    "duration": 8,
    "start_time": "2023-11-27T15:09:03.912Z"
   },
   {
    "duration": 19,
    "start_time": "2023-11-27T15:09:08.230Z"
   },
   {
    "duration": 24,
    "start_time": "2023-11-27T15:09:17.918Z"
   },
   {
    "duration": 23,
    "start_time": "2023-11-27T15:09:29.968Z"
   },
   {
    "duration": 9,
    "start_time": "2023-11-27T15:12:34.503Z"
   },
   {
    "duration": 746,
    "start_time": "2023-11-27T15:13:10.740Z"
   },
   {
    "duration": 3,
    "start_time": "2023-11-27T15:13:43.579Z"
   },
   {
    "duration": 746,
    "start_time": "2023-11-27T15:13:44.219Z"
   },
   {
    "duration": 3,
    "start_time": "2023-11-27T15:14:20.476Z"
   },
   {
    "duration": 732,
    "start_time": "2023-11-27T15:14:20.747Z"
   },
   {
    "duration": 10,
    "start_time": "2023-11-27T15:14:21.932Z"
   },
   {
    "duration": 11,
    "start_time": "2023-11-27T15:16:25.206Z"
   },
   {
    "duration": 16,
    "start_time": "2023-11-27T15:16:38.086Z"
   },
   {
    "duration": 10,
    "start_time": "2023-11-27T15:16:56.335Z"
   },
   {
    "duration": 9,
    "start_time": "2023-11-27T15:17:17.119Z"
   },
   {
    "duration": 9,
    "start_time": "2023-11-27T15:19:14.345Z"
   },
   {
    "duration": 785,
    "start_time": "2023-11-27T15:20:08.577Z"
   },
   {
    "duration": 13,
    "start_time": "2023-11-27T15:20:10.737Z"
   },
   {
    "duration": 5,
    "start_time": "2023-11-27T15:21:19.091Z"
   },
   {
    "duration": 16,
    "start_time": "2023-11-27T15:21:20.123Z"
   },
   {
    "duration": 11,
    "start_time": "2023-11-27T15:21:46.282Z"
   },
   {
    "duration": 8,
    "start_time": "2023-11-27T15:21:57.162Z"
   },
   {
    "duration": 30,
    "start_time": "2023-11-27T15:32:02.238Z"
   },
   {
    "duration": 14,
    "start_time": "2023-11-27T15:32:29.740Z"
   },
   {
    "duration": 38,
    "start_time": "2023-11-27T15:32:30.023Z"
   },
   {
    "duration": 28,
    "start_time": "2023-11-27T15:33:25.464Z"
   },
   {
    "duration": 26,
    "start_time": "2023-11-27T15:33:42.754Z"
   },
   {
    "duration": 1087,
    "start_time": "2023-11-27T15:34:24.266Z"
   },
   {
    "duration": 3,
    "start_time": "2023-11-27T15:34:25.356Z"
   },
   {
    "duration": 6,
    "start_time": "2023-11-27T15:34:25.361Z"
   },
   {
    "duration": 95,
    "start_time": "2023-11-27T15:34:25.369Z"
   },
   {
    "duration": 73,
    "start_time": "2023-11-27T15:34:25.465Z"
   },
   {
    "duration": 49,
    "start_time": "2023-11-27T15:34:25.540Z"
   },
   {
    "duration": 3,
    "start_time": "2023-11-27T15:34:25.590Z"
   },
   {
    "duration": 25,
    "start_time": "2023-11-27T15:34:25.595Z"
   },
   {
    "duration": 16,
    "start_time": "2023-11-27T15:34:25.621Z"
   },
   {
    "duration": 32,
    "start_time": "2023-11-27T15:34:25.639Z"
   },
   {
    "duration": 8,
    "start_time": "2023-11-27T15:34:25.672Z"
   },
   {
    "duration": 17,
    "start_time": "2023-11-27T15:34:25.682Z"
   },
   {
    "duration": 11,
    "start_time": "2023-11-27T15:34:25.701Z"
   },
   {
    "duration": 21,
    "start_time": "2023-11-27T15:34:25.713Z"
   },
   {
    "duration": 6,
    "start_time": "2023-11-27T15:34:25.735Z"
   },
   {
    "duration": 170,
    "start_time": "2023-11-27T15:34:25.743Z"
   },
   {
    "duration": 173,
    "start_time": "2023-11-27T15:34:25.915Z"
   },
   {
    "duration": 137,
    "start_time": "2023-11-27T15:34:26.090Z"
   },
   {
    "duration": 183,
    "start_time": "2023-11-27T15:34:26.228Z"
   },
   {
    "duration": 10,
    "start_time": "2023-11-27T15:34:26.413Z"
   },
   {
    "duration": 118,
    "start_time": "2023-11-27T15:34:26.424Z"
   },
   {
    "duration": 7,
    "start_time": "2023-11-27T15:34:26.544Z"
   },
   {
    "duration": 355,
    "start_time": "2023-11-27T15:34:26.553Z"
   },
   {
    "duration": 347,
    "start_time": "2023-11-27T15:34:26.909Z"
   },
   {
    "duration": 6,
    "start_time": "2023-11-27T15:34:27.258Z"
   },
   {
    "duration": 7,
    "start_time": "2023-11-27T15:34:27.265Z"
   },
   {
    "duration": 127,
    "start_time": "2023-11-27T15:34:27.274Z"
   },
   {
    "duration": 14,
    "start_time": "2023-11-27T15:34:27.404Z"
   },
   {
    "duration": 370,
    "start_time": "2023-11-27T15:34:27.419Z"
   },
   {
    "duration": 337,
    "start_time": "2023-11-27T15:34:27.790Z"
   },
   {
    "duration": 7,
    "start_time": "2023-11-27T15:34:28.128Z"
   },
   {
    "duration": 133,
    "start_time": "2023-11-27T15:34:28.136Z"
   },
   {
    "duration": 7,
    "start_time": "2023-11-27T15:34:28.271Z"
   },
   {
    "duration": 28,
    "start_time": "2023-11-27T15:34:28.279Z"
   },
   {
    "duration": 10,
    "start_time": "2023-11-27T15:34:28.309Z"
   },
   {
    "duration": 19,
    "start_time": "2023-11-27T15:34:28.321Z"
   },
   {
    "duration": 13,
    "start_time": "2023-11-27T15:34:28.342Z"
   },
   {
    "duration": 43,
    "start_time": "2023-11-27T15:34:28.357Z"
   },
   {
    "duration": 18,
    "start_time": "2023-11-27T15:34:28.401Z"
   },
   {
    "duration": 12,
    "start_time": "2023-11-27T15:34:28.420Z"
   },
   {
    "duration": 11,
    "start_time": "2023-11-27T15:34:28.434Z"
   },
   {
    "duration": 5,
    "start_time": "2023-11-27T15:34:28.447Z"
   },
   {
    "duration": 12,
    "start_time": "2023-11-27T15:34:28.453Z"
   },
   {
    "duration": 36,
    "start_time": "2023-11-27T15:34:28.467Z"
   },
   {
    "duration": 15,
    "start_time": "2023-11-27T15:34:28.505Z"
   },
   {
    "duration": 256,
    "start_time": "2023-11-27T15:34:28.522Z"
   },
   {
    "duration": 401,
    "start_time": "2023-11-27T15:34:28.780Z"
   },
   {
    "duration": 310,
    "start_time": "2023-11-27T15:34:29.183Z"
   },
   {
    "duration": 6,
    "start_time": "2023-11-27T15:34:29.494Z"
   },
   {
    "duration": 803,
    "start_time": "2023-11-27T15:34:29.501Z"
   },
   {
    "duration": 11,
    "start_time": "2023-11-27T15:34:30.305Z"
   },
   {
    "duration": 36,
    "start_time": "2023-11-27T15:34:30.317Z"
   },
   {
    "duration": 79,
    "start_time": "2023-11-27T15:34:30.354Z"
   },
   {
    "duration": 236,
    "start_time": "2023-11-27T15:35:53.021Z"
   },
   {
    "duration": 229,
    "start_time": "2023-11-27T15:36:12.446Z"
   },
   {
    "duration": 305,
    "start_time": "2023-11-27T15:46:07.419Z"
   },
   {
    "duration": 388,
    "start_time": "2023-11-27T15:47:05.873Z"
   },
   {
    "duration": 114,
    "start_time": "2023-11-27T15:47:19.386Z"
   },
   {
    "duration": 5,
    "start_time": "2023-11-27T15:47:23.551Z"
   },
   {
    "duration": 16,
    "start_time": "2023-11-27T15:47:23.752Z"
   },
   {
    "duration": 32,
    "start_time": "2023-11-27T15:47:23.969Z"
   },
   {
    "duration": 1137,
    "start_time": "2023-11-27T15:47:43.070Z"
   },
   {
    "duration": 3,
    "start_time": "2023-11-27T15:47:44.208Z"
   },
   {
    "duration": 32,
    "start_time": "2023-11-27T15:47:44.212Z"
   },
   {
    "duration": 167,
    "start_time": "2023-11-27T15:47:44.246Z"
   },
   {
    "duration": 107,
    "start_time": "2023-11-27T15:47:44.414Z"
   },
   {
    "duration": 45,
    "start_time": "2023-11-27T15:47:44.523Z"
   },
   {
    "duration": 4,
    "start_time": "2023-11-27T15:47:44.570Z"
   },
   {
    "duration": 37,
    "start_time": "2023-11-27T15:47:44.575Z"
   },
   {
    "duration": 15,
    "start_time": "2023-11-27T15:47:44.614Z"
   },
   {
    "duration": 36,
    "start_time": "2023-11-27T15:47:44.632Z"
   },
   {
    "duration": 15,
    "start_time": "2023-11-27T15:47:44.669Z"
   },
   {
    "duration": 10,
    "start_time": "2023-11-27T15:47:44.686Z"
   },
   {
    "duration": 38,
    "start_time": "2023-11-27T15:47:44.698Z"
   },
   {
    "duration": 31,
    "start_time": "2023-11-27T15:47:44.738Z"
   },
   {
    "duration": 25,
    "start_time": "2023-11-27T15:47:44.771Z"
   },
   {
    "duration": 173,
    "start_time": "2023-11-27T15:47:44.797Z"
   },
   {
    "duration": 167,
    "start_time": "2023-11-27T15:47:44.972Z"
   },
   {
    "duration": 138,
    "start_time": "2023-11-27T15:47:45.141Z"
   },
   {
    "duration": 199,
    "start_time": "2023-11-27T15:47:45.281Z"
   },
   {
    "duration": 20,
    "start_time": "2023-11-27T15:47:45.482Z"
   },
   {
    "duration": 137,
    "start_time": "2023-11-27T15:47:45.504Z"
   },
   {
    "duration": 7,
    "start_time": "2023-11-27T15:47:45.642Z"
   },
   {
    "duration": 398,
    "start_time": "2023-11-27T15:47:45.650Z"
   },
   {
    "duration": 365,
    "start_time": "2023-11-27T15:47:46.049Z"
   },
   {
    "duration": 6,
    "start_time": "2023-11-27T15:47:46.416Z"
   },
   {
    "duration": 25,
    "start_time": "2023-11-27T15:47:46.424Z"
   },
   {
    "duration": 134,
    "start_time": "2023-11-27T15:47:46.451Z"
   },
   {
    "duration": 21,
    "start_time": "2023-11-27T15:47:46.589Z"
   },
   {
    "duration": 365,
    "start_time": "2023-11-27T15:47:46.611Z"
   },
   {
    "duration": 363,
    "start_time": "2023-11-27T15:47:46.977Z"
   },
   {
    "duration": 6,
    "start_time": "2023-11-27T15:47:47.342Z"
   },
   {
    "duration": 141,
    "start_time": "2023-11-27T15:47:47.349Z"
   },
   {
    "duration": 11,
    "start_time": "2023-11-27T15:47:47.491Z"
   },
   {
    "duration": 28,
    "start_time": "2023-11-27T15:47:47.503Z"
   },
   {
    "duration": 38,
    "start_time": "2023-11-27T15:47:47.532Z"
   },
   {
    "duration": 26,
    "start_time": "2023-11-27T15:47:47.572Z"
   },
   {
    "duration": 14,
    "start_time": "2023-11-27T15:47:47.600Z"
   },
   {
    "duration": 40,
    "start_time": "2023-11-27T15:47:47.615Z"
   },
   {
    "duration": 18,
    "start_time": "2023-11-27T15:47:47.657Z"
   },
   {
    "duration": 12,
    "start_time": "2023-11-27T15:47:47.676Z"
   },
   {
    "duration": 24,
    "start_time": "2023-11-27T15:47:47.699Z"
   },
   {
    "duration": 11,
    "start_time": "2023-11-27T15:47:47.725Z"
   },
   {
    "duration": 25,
    "start_time": "2023-11-27T15:47:47.738Z"
   },
   {
    "duration": 26,
    "start_time": "2023-11-27T15:47:47.765Z"
   },
   {
    "duration": 17,
    "start_time": "2023-11-27T15:47:47.793Z"
   },
   {
    "duration": 251,
    "start_time": "2023-11-27T15:47:47.812Z"
   },
   {
    "duration": 410,
    "start_time": "2023-11-27T15:47:48.065Z"
   },
   {
    "duration": 307,
    "start_time": "2023-11-27T15:47:48.476Z"
   },
   {
    "duration": 3,
    "start_time": "2023-11-27T15:47:48.785Z"
   },
   {
    "duration": 4,
    "start_time": "2023-11-27T15:47:51.353Z"
   },
   {
    "duration": 741,
    "start_time": "2023-11-27T15:47:51.769Z"
   },
   {
    "duration": 10,
    "start_time": "2023-11-27T15:47:54.633Z"
   },
   {
    "duration": 8,
    "start_time": "2023-11-27T15:48:12.993Z"
   },
   {
    "duration": 4,
    "start_time": "2023-11-27T15:48:19.057Z"
   },
   {
    "duration": 15,
    "start_time": "2023-11-27T15:48:19.818Z"
   },
   {
    "duration": 112,
    "start_time": "2023-11-27T15:48:20.763Z"
   },
   {
    "duration": 26,
    "start_time": "2023-11-27T15:48:54.299Z"
   },
   {
    "duration": 317,
    "start_time": "2023-11-27T15:49:19.445Z"
   },
   {
    "duration": 162,
    "start_time": "2023-11-27T15:50:11.020Z"
   },
   {
    "duration": 99,
    "start_time": "2023-11-27T15:52:28.398Z"
   },
   {
    "duration": 356,
    "start_time": "2023-11-27T15:52:33.566Z"
   },
   {
    "duration": 1187,
    "start_time": "2023-11-27T15:56:16.498Z"
   },
   {
    "duration": 50185,
    "start_time": "2023-11-27T15:56:55.738Z"
   },
   {
    "duration": 1210,
    "start_time": "2023-11-27T16:01:24.279Z"
   },
   {
    "duration": 26530,
    "start_time": "2023-11-27T16:01:51.639Z"
   },
   {
    "duration": 47,
    "start_time": "2023-11-27T16:02:46.704Z"
   },
   {
    "duration": 1157,
    "start_time": "2023-11-27T16:02:54.550Z"
   },
   {
    "duration": 2,
    "start_time": "2023-11-27T16:02:55.709Z"
   },
   {
    "duration": 23,
    "start_time": "2023-11-27T16:02:55.713Z"
   },
   {
    "duration": 91,
    "start_time": "2023-11-27T16:02:55.738Z"
   },
   {
    "duration": 59,
    "start_time": "2023-11-27T16:02:55.831Z"
   },
   {
    "duration": 45,
    "start_time": "2023-11-27T16:02:55.892Z"
   },
   {
    "duration": 4,
    "start_time": "2023-11-27T16:02:55.939Z"
   },
   {
    "duration": 26,
    "start_time": "2023-11-27T16:02:55.944Z"
   },
   {
    "duration": 4,
    "start_time": "2023-11-27T16:02:55.972Z"
   },
   {
    "duration": 23,
    "start_time": "2023-11-27T16:02:55.979Z"
   },
   {
    "duration": 7,
    "start_time": "2023-11-27T16:02:56.004Z"
   },
   {
    "duration": 5,
    "start_time": "2023-11-27T16:02:56.013Z"
   },
   {
    "duration": 5,
    "start_time": "2023-11-27T16:02:56.020Z"
   },
   {
    "duration": 15,
    "start_time": "2023-11-27T16:02:56.026Z"
   },
   {
    "duration": 5,
    "start_time": "2023-11-27T16:02:56.042Z"
   },
   {
    "duration": 219,
    "start_time": "2023-11-27T16:02:56.048Z"
   },
   {
    "duration": 189,
    "start_time": "2023-11-27T16:02:56.268Z"
   },
   {
    "duration": 140,
    "start_time": "2023-11-27T16:02:56.459Z"
   },
   {
    "duration": 188,
    "start_time": "2023-11-27T16:02:56.601Z"
   },
   {
    "duration": 15,
    "start_time": "2023-11-27T16:02:56.791Z"
   },
   {
    "duration": 118,
    "start_time": "2023-11-27T16:02:56.807Z"
   },
   {
    "duration": 7,
    "start_time": "2023-11-27T16:02:56.927Z"
   },
   {
    "duration": 377,
    "start_time": "2023-11-27T16:02:56.935Z"
   },
   {
    "duration": 393,
    "start_time": "2023-11-27T16:02:57.313Z"
   },
   {
    "duration": 8,
    "start_time": "2023-11-27T16:02:57.707Z"
   },
   {
    "duration": 8,
    "start_time": "2023-11-27T16:02:57.716Z"
   },
   {
    "duration": 139,
    "start_time": "2023-11-27T16:02:57.725Z"
   },
   {
    "duration": 31,
    "start_time": "2023-11-27T16:02:57.869Z"
   },
   {
    "duration": 398,
    "start_time": "2023-11-27T16:02:57.901Z"
   },
   {
    "duration": 365,
    "start_time": "2023-11-27T16:02:58.301Z"
   },
   {
    "duration": 7,
    "start_time": "2023-11-27T16:02:58.668Z"
   },
   {
    "duration": 138,
    "start_time": "2023-11-27T16:02:58.677Z"
   },
   {
    "duration": 7,
    "start_time": "2023-11-27T16:02:58.817Z"
   },
   {
    "duration": 15,
    "start_time": "2023-11-27T16:02:58.826Z"
   },
   {
    "duration": 28,
    "start_time": "2023-11-27T16:02:58.842Z"
   },
   {
    "duration": 16,
    "start_time": "2023-11-27T16:02:58.871Z"
   },
   {
    "duration": 20,
    "start_time": "2023-11-27T16:02:58.889Z"
   },
   {
    "duration": 27,
    "start_time": "2023-11-27T16:02:58.910Z"
   },
   {
    "duration": 19,
    "start_time": "2023-11-27T16:02:58.939Z"
   },
   {
    "duration": 14,
    "start_time": "2023-11-27T16:02:58.959Z"
   },
   {
    "duration": 33,
    "start_time": "2023-11-27T16:02:58.975Z"
   },
   {
    "duration": 7,
    "start_time": "2023-11-27T16:02:59.009Z"
   },
   {
    "duration": 22,
    "start_time": "2023-11-27T16:02:59.018Z"
   },
   {
    "duration": 20,
    "start_time": "2023-11-27T16:02:59.041Z"
   },
   {
    "duration": 19,
    "start_time": "2023-11-27T16:02:59.063Z"
   },
   {
    "duration": 265,
    "start_time": "2023-11-27T16:02:59.084Z"
   },
   {
    "duration": 439,
    "start_time": "2023-11-27T16:02:59.351Z"
   },
   {
    "duration": 330,
    "start_time": "2023-11-27T16:02:59.792Z"
   },
   {
    "duration": 4,
    "start_time": "2023-11-27T16:03:00.124Z"
   },
   {
    "duration": 823,
    "start_time": "2023-11-27T16:03:00.130Z"
   },
   {
    "duration": 12,
    "start_time": "2023-11-27T16:03:00.954Z"
   },
   {
    "duration": 43,
    "start_time": "2023-11-27T16:03:00.968Z"
   },
   {
    "duration": 114,
    "start_time": "2023-11-27T16:03:01.013Z"
   },
   {
    "duration": 21,
    "start_time": "2023-11-27T16:03:10.401Z"
   },
   {
    "duration": 638,
    "start_time": "2023-11-27T16:03:11.685Z"
   },
   {
    "duration": 309,
    "start_time": "2023-11-27T16:03:49.602Z"
   },
   {
    "duration": 401,
    "start_time": "2023-11-27T16:04:10.308Z"
   },
   {
    "duration": 313,
    "start_time": "2023-11-27T16:04:26.347Z"
   },
   {
    "duration": 326,
    "start_time": "2023-11-27T16:05:32.454Z"
   },
   {
    "duration": 486,
    "start_time": "2023-11-27T16:09:31.521Z"
   },
   {
    "duration": 83,
    "start_time": "2023-11-27T16:14:13.254Z"
   },
   {
    "duration": 160,
    "start_time": "2023-11-27T16:15:57.905Z"
   },
   {
    "duration": 159,
    "start_time": "2023-11-27T16:16:05.675Z"
   },
   {
    "duration": 178,
    "start_time": "2023-11-27T16:17:03.107Z"
   },
   {
    "duration": 1301,
    "start_time": "2023-11-27T16:17:58.588Z"
   },
   {
    "duration": 180,
    "start_time": "2023-11-27T16:18:34.971Z"
   },
   {
    "duration": 279,
    "start_time": "2023-11-27T16:18:42.980Z"
   },
   {
    "duration": 165,
    "start_time": "2023-11-27T16:19:00.597Z"
   },
   {
    "duration": 164,
    "start_time": "2023-11-27T16:19:05.479Z"
   },
   {
    "duration": 147,
    "start_time": "2023-11-27T16:19:11.075Z"
   },
   {
    "duration": 298,
    "start_time": "2023-11-27T16:19:39.292Z"
   },
   {
    "duration": 301,
    "start_time": "2023-11-27T16:19:42.909Z"
   },
   {
    "duration": 318,
    "start_time": "2023-11-27T16:19:49.596Z"
   },
   {
    "duration": 116,
    "start_time": "2023-11-27T16:21:33.606Z"
   },
   {
    "duration": 73,
    "start_time": "2023-11-27T16:21:38.519Z"
   },
   {
    "duration": 246,
    "start_time": "2023-11-27T16:21:46.785Z"
   },
   {
    "duration": 8,
    "start_time": "2023-11-27T16:25:41.913Z"
   },
   {
    "duration": 7,
    "start_time": "2023-11-27T16:25:47.714Z"
   },
   {
    "duration": 7,
    "start_time": "2023-11-27T16:26:07.370Z"
   },
   {
    "duration": 8,
    "start_time": "2023-11-27T16:26:13.329Z"
   },
   {
    "duration": 9,
    "start_time": "2023-11-27T16:26:46.043Z"
   },
   {
    "duration": 9,
    "start_time": "2023-11-27T16:26:54.003Z"
   },
   {
    "duration": 9,
    "start_time": "2023-11-27T16:27:24.555Z"
   },
   {
    "duration": 10,
    "start_time": "2023-11-27T16:28:24.456Z"
   },
   {
    "duration": 15,
    "start_time": "2023-11-27T16:28:31.771Z"
   },
   {
    "duration": 9,
    "start_time": "2023-11-27T16:28:36.337Z"
   },
   {
    "duration": 11,
    "start_time": "2023-11-27T17:03:02.070Z"
   },
   {
    "duration": 2,
    "start_time": "2023-11-27T17:03:04.491Z"
   },
   {
    "duration": 2,
    "start_time": "2023-11-27T17:03:04.731Z"
   },
   {
    "duration": 3,
    "start_time": "2023-11-27T17:03:04.971Z"
   },
   {
    "duration": 2,
    "start_time": "2023-11-27T17:03:05.172Z"
   },
   {
    "duration": 4,
    "start_time": "2023-11-27T17:03:05.411Z"
   },
   {
    "duration": 3,
    "start_time": "2023-11-27T17:03:05.892Z"
   },
   {
    "duration": 5,
    "start_time": "2023-11-27T17:03:11.296Z"
   },
   {
    "duration": 8,
    "start_time": "2023-11-27T17:03:19.915Z"
   },
   {
    "duration": 4,
    "start_time": "2023-11-27T17:03:24.628Z"
   },
   {
    "duration": 3,
    "start_time": "2023-11-27T17:03:42.653Z"
   },
   {
    "duration": 3,
    "start_time": "2023-11-27T17:03:42.892Z"
   },
   {
    "duration": 3,
    "start_time": "2023-11-27T17:04:41.229Z"
   },
   {
    "duration": 3,
    "start_time": "2023-11-27T17:04:41.710Z"
   },
   {
    "duration": 8,
    "start_time": "2023-11-27T17:10:24.858Z"
   },
   {
    "duration": 2,
    "start_time": "2023-11-27T17:10:25.062Z"
   },
   {
    "duration": 8,
    "start_time": "2023-11-27T17:10:25.259Z"
   },
   {
    "duration": 8,
    "start_time": "2023-11-27T17:10:30.484Z"
   },
   {
    "duration": 2674,
    "start_time": "2023-11-27T17:10:31.027Z"
   },
   {
    "duration": 5,
    "start_time": "2023-11-27T17:10:33.702Z"
   },
   {
    "duration": 6,
    "start_time": "2023-11-27T17:10:33.709Z"
   },
   {
    "duration": 4,
    "start_time": "2023-11-27T17:10:36.867Z"
   },
   {
    "duration": 4,
    "start_time": "2023-11-27T17:10:42.236Z"
   },
   {
    "duration": 3,
    "start_time": "2023-11-27T17:10:42.915Z"
   },
   {
    "duration": 3,
    "start_time": "2023-11-27T17:12:56.567Z"
   },
   {
    "duration": 3,
    "start_time": "2023-11-27T17:12:56.870Z"
   },
   {
    "duration": 3,
    "start_time": "2023-11-27T17:12:57.102Z"
   },
   {
    "duration": 87,
    "start_time": "2023-11-27T17:12:57.365Z"
   },
   {
    "duration": 8,
    "start_time": "2023-11-27T17:12:57.703Z"
   },
   {
    "duration": 2,
    "start_time": "2023-11-27T17:12:58.646Z"
   },
   {
    "duration": 2,
    "start_time": "2023-11-27T17:12:58.982Z"
   },
   {
    "duration": 8,
    "start_time": "2023-11-27T17:12:59.366Z"
   },
   {
    "duration": 3462,
    "start_time": "2023-11-27T17:13:00.319Z"
   },
   {
    "duration": 2,
    "start_time": "2023-11-27T17:13:05.231Z"
   },
   {
    "duration": 2,
    "start_time": "2023-11-27T17:13:10.950Z"
   },
   {
    "duration": 2,
    "start_time": "2023-11-27T17:13:11.174Z"
   },
   {
    "duration": 3,
    "start_time": "2023-11-27T17:13:11.373Z"
   },
   {
    "duration": 4,
    "start_time": "2023-11-27T17:13:11.574Z"
   },
   {
    "duration": 306,
    "start_time": "2023-11-27T17:13:11.773Z"
   },
   {
    "duration": 2,
    "start_time": "2023-11-27T17:13:12.949Z"
   },
   {
    "duration": 2,
    "start_time": "2023-11-27T17:13:13.165Z"
   },
   {
    "duration": 4,
    "start_time": "2023-11-27T17:13:13.365Z"
   },
   {
    "duration": 2,
    "start_time": "2023-11-27T17:13:13.565Z"
   },
   {
    "duration": 4,
    "start_time": "2023-11-27T17:13:14.034Z"
   },
   {
    "duration": 3,
    "start_time": "2023-11-27T17:13:16.452Z"
   },
   {
    "duration": 2,
    "start_time": "2023-11-27T17:13:16.654Z"
   },
   {
    "duration": 3,
    "start_time": "2023-11-27T17:13:16.853Z"
   },
   {
    "duration": 3,
    "start_time": "2023-11-27T17:13:17.028Z"
   },
   {
    "duration": 3,
    "start_time": "2023-11-27T17:13:17.214Z"
   },
   {
    "duration": 3,
    "start_time": "2023-11-27T17:13:17.388Z"
   },
   {
    "duration": 3,
    "start_time": "2023-11-27T17:13:17.588Z"
   },
   {
    "duration": 3,
    "start_time": "2023-11-27T17:13:18.268Z"
   },
   {
    "duration": 3,
    "start_time": "2023-11-27T17:13:19.213Z"
   },
   {
    "duration": 16,
    "start_time": "2023-11-27T17:13:19.217Z"
   },
   {
    "duration": 90,
    "start_time": "2023-11-27T17:13:19.235Z"
   },
   {
    "duration": 8,
    "start_time": "2023-11-27T17:13:19.894Z"
   },
   {
    "duration": 3,
    "start_time": "2023-11-27T17:13:20.166Z"
   },
   {
    "duration": 2,
    "start_time": "2023-11-27T17:13:20.390Z"
   },
   {
    "duration": 6,
    "start_time": "2023-11-27T17:13:20.606Z"
   },
   {
    "duration": 6,
    "start_time": "2023-11-27T17:13:28.414Z"
   },
   {
    "duration": 2,
    "start_time": "2023-11-27T17:13:28.630Z"
   },
   {
    "duration": 3,
    "start_time": "2023-11-27T17:13:28.812Z"
   },
   {
    "duration": 5,
    "start_time": "2023-11-27T17:13:29.014Z"
   },
   {
    "duration": 2591,
    "start_time": "2023-11-27T17:13:29.871Z"
   },
   {
    "duration": 5,
    "start_time": "2023-11-27T17:13:32.464Z"
   },
   {
    "duration": 20,
    "start_time": "2023-11-27T17:13:32.471Z"
   },
   {
    "duration": 3,
    "start_time": "2023-11-27T17:17:45.730Z"
   },
   {
    "duration": 3,
    "start_time": "2023-11-27T17:17:46.091Z"
   },
   {
    "duration": 3,
    "start_time": "2023-11-27T17:17:46.650Z"
   },
   {
    "duration": 2,
    "start_time": "2023-11-27T17:17:47.051Z"
   },
   {
    "duration": 3,
    "start_time": "2023-11-27T17:17:47.506Z"
   },
   {
    "duration": 3,
    "start_time": "2023-11-27T17:17:47.945Z"
   },
   {
    "duration": 3,
    "start_time": "2023-11-27T17:17:48.363Z"
   },
   {
    "duration": 4,
    "start_time": "2023-11-27T17:17:54.850Z"
   },
   {
    "duration": 2,
    "start_time": "2023-11-27T17:18:01.628Z"
   },
   {
    "duration": 3,
    "start_time": "2023-11-27T17:27:19.583Z"
   },
   {
    "duration": 2,
    "start_time": "2023-11-27T17:27:19.819Z"
   },
   {
    "duration": 4,
    "start_time": "2023-11-27T17:27:20.083Z"
   },
   {
    "duration": 134,
    "start_time": "2023-11-27T17:27:20.482Z"
   },
   {
    "duration": 523,
    "start_time": "2023-11-27T17:27:25.051Z"
   },
   {
    "duration": 2,
    "start_time": "2023-11-27T17:27:28.267Z"
   },
   {
    "duration": 3,
    "start_time": "2023-11-27T17:27:28.724Z"
   },
   {
    "duration": 4,
    "start_time": "2023-11-27T17:27:29.191Z"
   },
   {
    "duration": 3,
    "start_time": "2023-11-27T17:28:40.364Z"
   },
   {
    "duration": 2,
    "start_time": "2023-11-27T17:28:43.405Z"
   },
   {
    "duration": 3,
    "start_time": "2023-11-27T17:28:43.700Z"
   },
   {
    "duration": 2,
    "start_time": "2023-11-27T17:28:44.236Z"
   },
   {
    "duration": 2,
    "start_time": "2023-11-27T17:28:44.796Z"
   },
   {
    "duration": 3,
    "start_time": "2023-11-27T17:28:51.996Z"
   },
   {
    "duration": 3,
    "start_time": "2023-11-27T17:28:55.253Z"
   },
   {
    "duration": 3,
    "start_time": "2023-11-27T17:28:56.068Z"
   },
   {
    "duration": 4,
    "start_time": "2023-11-27T17:29:29.109Z"
   },
   {
    "duration": 4,
    "start_time": "2023-11-27T17:29:48.125Z"
   },
   {
    "duration": 3,
    "start_time": "2023-11-27T17:30:09.238Z"
   },
   {
    "duration": 319,
    "start_time": "2023-11-27T17:40:45.193Z"
   },
   {
    "duration": 3,
    "start_time": "2023-11-27T17:40:48.928Z"
   },
   {
    "duration": 2,
    "start_time": "2023-11-27T17:40:49.152Z"
   },
   {
    "duration": 4,
    "start_time": "2023-11-27T17:40:49.327Z"
   },
   {
    "duration": 283,
    "start_time": "2023-11-27T17:40:49.554Z"
   },
   {
    "duration": 4,
    "start_time": "2023-11-27T17:45:10.262Z"
   },
   {
    "duration": 4,
    "start_time": "2023-11-27T17:46:28.534Z"
   },
   {
    "duration": 2,
    "start_time": "2023-11-27T17:46:48.639Z"
   },
   {
    "duration": 4,
    "start_time": "2023-11-27T17:46:49.062Z"
   },
   {
    "duration": 4,
    "start_time": "2023-11-27T17:47:19.462Z"
   },
   {
    "duration": 4,
    "start_time": "2023-11-27T17:48:42.457Z"
   },
   {
    "duration": 4,
    "start_time": "2023-11-27T17:51:17.985Z"
   },
   {
    "duration": 4,
    "start_time": "2023-11-27T17:53:37.605Z"
   },
   {
    "duration": 3,
    "start_time": "2023-11-27T17:53:38.206Z"
   },
   {
    "duration": 3,
    "start_time": "2023-11-27T17:53:49.310Z"
   },
   {
    "duration": 11,
    "start_time": "2023-11-27T17:54:10.909Z"
   },
   {
    "duration": 5,
    "start_time": "2023-11-27T17:54:24.614Z"
   },
   {
    "duration": 6,
    "start_time": "2023-11-27T17:54:31.814Z"
   },
   {
    "duration": 3,
    "start_time": "2023-11-27T17:54:39.534Z"
   },
   {
    "duration": 8,
    "start_time": "2023-11-27T17:54:56.895Z"
   },
   {
    "duration": 4,
    "start_time": "2023-11-27T17:55:15.895Z"
   },
   {
    "duration": 2,
    "start_time": "2023-11-27T17:55:27.967Z"
   },
   {
    "duration": 4,
    "start_time": "2023-11-27T17:55:28.366Z"
   },
   {
    "duration": 5,
    "start_time": "2023-11-27T17:55:46.928Z"
   },
   {
    "duration": 5,
    "start_time": "2023-11-27T17:55:52.487Z"
   },
   {
    "duration": 5,
    "start_time": "2023-11-27T17:55:58.575Z"
   },
   {
    "duration": 5,
    "start_time": "2023-11-27T17:56:02.350Z"
   },
   {
    "duration": 2,
    "start_time": "2023-11-27T17:56:31.271Z"
   },
   {
    "duration": 2,
    "start_time": "2023-11-27T17:56:31.552Z"
   },
   {
    "duration": 4,
    "start_time": "2023-11-27T17:56:31.967Z"
   },
   {
    "duration": 296,
    "start_time": "2023-11-27T17:56:34.168Z"
   },
   {
    "duration": 3,
    "start_time": "2023-11-27T17:57:54.786Z"
   },
   {
    "duration": 3,
    "start_time": "2023-11-27T17:57:55.000Z"
   },
   {
    "duration": 4,
    "start_time": "2023-11-27T17:57:55.185Z"
   },
   {
    "duration": 301,
    "start_time": "2023-11-27T17:57:55.361Z"
   },
   {
    "duration": 2,
    "start_time": "2023-11-27T17:57:58.320Z"
   },
   {
    "duration": 3,
    "start_time": "2023-11-27T17:57:58.864Z"
   },
   {
    "duration": 3,
    "start_time": "2023-11-27T17:58:10.377Z"
   },
   {
    "duration": 3,
    "start_time": "2023-11-27T17:58:28.041Z"
   },
   {
    "duration": 9,
    "start_time": "2023-11-27T17:58:34.000Z"
   },
   {
    "duration": 2,
    "start_time": "2023-11-27T17:58:56.394Z"
   },
   {
    "duration": 7,
    "start_time": "2023-11-27T17:58:57.095Z"
   },
   {
    "duration": 3,
    "start_time": "2023-11-27T17:59:13.650Z"
   },
   {
    "duration": 2,
    "start_time": "2023-11-27T17:59:13.969Z"
   },
   {
    "duration": 5,
    "start_time": "2023-11-27T17:59:14.266Z"
   },
   {
    "duration": 397,
    "start_time": "2023-11-27T17:59:14.505Z"
   },
   {
    "duration": 5,
    "start_time": "2023-11-27T18:01:55.190Z"
   },
   {
    "duration": 3,
    "start_time": "2023-11-27T18:02:00.069Z"
   },
   {
    "duration": 4,
    "start_time": "2023-11-27T18:02:01.222Z"
   },
   {
    "duration": 3,
    "start_time": "2023-11-27T18:02:32.981Z"
   },
   {
    "duration": 3,
    "start_time": "2023-11-27T18:02:37.398Z"
   },
   {
    "duration": 3,
    "start_time": "2023-11-27T18:02:37.677Z"
   },
   {
    "duration": 3,
    "start_time": "2023-11-27T18:02:41.006Z"
   },
   {
    "duration": 4,
    "start_time": "2023-11-27T18:02:41.261Z"
   },
   {
    "duration": 78,
    "start_time": "2023-11-27T18:29:12.553Z"
   },
   {
    "duration": 12,
    "start_time": "2023-11-27T18:29:28.159Z"
   },
   {
    "duration": 5,
    "start_time": "2023-11-27T18:35:27.365Z"
   },
   {
    "duration": 4,
    "start_time": "2023-11-27T18:35:46.452Z"
   },
   {
    "duration": 4,
    "start_time": "2023-11-27T18:35:56.604Z"
   },
   {
    "duration": 5,
    "start_time": "2023-11-27T18:36:00.908Z"
   },
   {
    "duration": 4,
    "start_time": "2023-11-27T18:36:06.131Z"
   },
   {
    "duration": 2,
    "start_time": "2023-11-27T18:37:03.293Z"
   },
   {
    "duration": 2,
    "start_time": "2023-11-27T18:37:14.270Z"
   },
   {
    "duration": 3,
    "start_time": "2023-11-27T18:37:14.484Z"
   },
   {
    "duration": 4,
    "start_time": "2023-11-27T18:37:14.668Z"
   },
   {
    "duration": 324,
    "start_time": "2023-11-27T18:37:15.245Z"
   },
   {
    "duration": 3,
    "start_time": "2023-11-27T18:37:19.428Z"
   },
   {
    "duration": 3,
    "start_time": "2023-11-27T18:37:19.653Z"
   },
   {
    "duration": 4,
    "start_time": "2023-11-27T18:37:22.220Z"
   },
   {
    "duration": 2,
    "start_time": "2023-11-27T18:37:22.942Z"
   },
   {
    "duration": 4,
    "start_time": "2023-11-27T18:37:24.117Z"
   },
   {
    "duration": 3,
    "start_time": "2023-11-27T18:38:17.311Z"
   },
   {
    "duration": 4,
    "start_time": "2023-11-27T18:38:18.495Z"
   },
   {
    "duration": 2,
    "start_time": "2023-11-27T18:38:56.743Z"
   },
   {
    "duration": 3,
    "start_time": "2023-11-27T18:38:57.120Z"
   },
   {
    "duration": 3,
    "start_time": "2023-11-27T18:40:08.567Z"
   },
   {
    "duration": 3,
    "start_time": "2023-11-27T18:40:08.904Z"
   },
   {
    "duration": 66,
    "start_time": "2023-11-27T18:40:09.199Z"
   },
   {
    "duration": 1494,
    "start_time": "2023-11-27T18:40:09.623Z"
   },
   {
    "duration": 3,
    "start_time": "2023-11-27T18:40:14.912Z"
   },
   {
    "duration": 3,
    "start_time": "2023-11-27T18:40:15.272Z"
   },
   {
    "duration": 3,
    "start_time": "2023-11-27T18:40:15.607Z"
   },
   {
    "duration": 3,
    "start_time": "2023-11-27T18:40:16.072Z"
   },
   {
    "duration": 4,
    "start_time": "2023-11-27T18:40:16.489Z"
   },
   {
    "duration": 423,
    "start_time": "2023-11-27T18:50:42.099Z"
   },
   {
    "duration": 167,
    "start_time": "2023-11-27T18:50:46.867Z"
   },
   {
    "duration": 166,
    "start_time": "2023-11-27T18:50:52.725Z"
   },
   {
    "duration": 9,
    "start_time": "2023-11-27T18:51:01.610Z"
   },
   {
    "duration": 8,
    "start_time": "2023-11-27T18:51:06.795Z"
   },
   {
    "duration": 187,
    "start_time": "2023-11-27T18:51:10.234Z"
   },
   {
    "duration": 175,
    "start_time": "2023-11-27T18:51:25.102Z"
   },
   {
    "duration": 164,
    "start_time": "2023-11-27T18:51:36.580Z"
   },
   {
    "duration": 172,
    "start_time": "2023-11-27T18:51:51.174Z"
   },
   {
    "duration": 188,
    "start_time": "2023-11-27T18:52:04.806Z"
   },
   {
    "duration": 186,
    "start_time": "2023-11-27T18:52:11.301Z"
   },
   {
    "duration": 191,
    "start_time": "2023-11-27T18:52:21.189Z"
   },
   {
    "duration": 153,
    "start_time": "2023-11-27T18:52:32.868Z"
   },
   {
    "duration": 167,
    "start_time": "2023-11-27T18:52:36.389Z"
   },
   {
    "duration": 179,
    "start_time": "2023-11-27T18:52:39.644Z"
   },
   {
    "duration": 194,
    "start_time": "2023-11-27T18:52:45.748Z"
   },
   {
    "duration": 159,
    "start_time": "2023-11-27T18:52:59.861Z"
   },
   {
    "duration": 160,
    "start_time": "2023-11-27T18:53:03.293Z"
   },
   {
    "duration": 162,
    "start_time": "2023-11-27T18:53:54.222Z"
   },
   {
    "duration": 162,
    "start_time": "2023-11-27T18:53:58.726Z"
   },
   {
    "duration": 621,
    "start_time": "2023-11-27T18:54:46.569Z"
   },
   {
    "duration": 349,
    "start_time": "2023-11-27T18:54:57.239Z"
   },
   {
    "duration": 283,
    "start_time": "2023-11-27T18:56:12.273Z"
   },
   {
    "duration": 117,
    "start_time": "2023-11-27T18:56:50.394Z"
   },
   {
    "duration": 110,
    "start_time": "2023-11-27T18:57:01.145Z"
   },
   {
    "duration": 126,
    "start_time": "2023-11-27T18:57:08.024Z"
   },
   {
    "duration": 155,
    "start_time": "2023-11-27T18:57:18.674Z"
   },
   {
    "duration": 83,
    "start_time": "2023-11-27T18:57:37.093Z"
   },
   {
    "duration": 153,
    "start_time": "2023-11-27T18:57:40.883Z"
   },
   {
    "duration": 139,
    "start_time": "2023-11-27T18:57:47.562Z"
   },
   {
    "duration": 126,
    "start_time": "2023-11-27T18:58:02.003Z"
   },
   {
    "duration": 79,
    "start_time": "2023-11-27T18:58:07.572Z"
   },
   {
    "duration": 111,
    "start_time": "2023-11-27T18:58:11.266Z"
   },
   {
    "duration": 132,
    "start_time": "2023-11-27T18:58:22.396Z"
   },
   {
    "duration": 94,
    "start_time": "2023-11-27T18:58:29.795Z"
   },
   {
    "duration": 10,
    "start_time": "2023-11-27T18:58:32.923Z"
   },
   {
    "duration": 11,
    "start_time": "2023-11-27T18:58:39.782Z"
   },
   {
    "duration": 135,
    "start_time": "2023-11-27T18:58:49.618Z"
   },
   {
    "duration": 125,
    "start_time": "2023-11-27T18:58:58.283Z"
   },
   {
    "duration": 136,
    "start_time": "2023-11-27T18:59:03.476Z"
   },
   {
    "duration": 77,
    "start_time": "2023-11-27T18:59:09.597Z"
   },
   {
    "duration": 81,
    "start_time": "2023-11-27T18:59:16.941Z"
   },
   {
    "duration": 4,
    "start_time": "2023-11-27T18:59:33.766Z"
   },
   {
    "duration": 69,
    "start_time": "2023-11-27T18:59:42.468Z"
   },
   {
    "duration": 69,
    "start_time": "2023-11-27T18:59:49.412Z"
   },
   {
    "duration": 76,
    "start_time": "2023-11-27T18:59:58.100Z"
   },
   {
    "duration": 129,
    "start_time": "2023-11-27T19:00:09.845Z"
   },
   {
    "duration": 1143,
    "start_time": "2023-11-27T19:00:48.998Z"
   },
   {
    "duration": 3,
    "start_time": "2023-11-27T19:00:50.143Z"
   },
   {
    "duration": 23,
    "start_time": "2023-11-27T19:00:50.147Z"
   },
   {
    "duration": 74,
    "start_time": "2023-11-27T19:00:50.172Z"
   },
   {
    "duration": 164,
    "start_time": "2023-11-27T19:00:50.248Z"
   },
   {
    "duration": 57,
    "start_time": "2023-11-27T19:00:50.413Z"
   },
   {
    "duration": 3,
    "start_time": "2023-11-27T19:00:50.472Z"
   },
   {
    "duration": 55,
    "start_time": "2023-11-27T19:00:50.477Z"
   },
   {
    "duration": 18,
    "start_time": "2023-11-27T19:00:50.534Z"
   },
   {
    "duration": 37,
    "start_time": "2023-11-27T19:00:50.555Z"
   },
   {
    "duration": 28,
    "start_time": "2023-11-27T19:00:50.594Z"
   },
   {
    "duration": 19,
    "start_time": "2023-11-27T19:00:50.623Z"
   },
   {
    "duration": 51,
    "start_time": "2023-11-27T19:00:50.643Z"
   },
   {
    "duration": 56,
    "start_time": "2023-11-27T19:00:50.695Z"
   },
   {
    "duration": 50,
    "start_time": "2023-11-27T19:00:50.753Z"
   },
   {
    "duration": 188,
    "start_time": "2023-11-27T19:00:50.804Z"
   },
   {
    "duration": 166,
    "start_time": "2023-11-27T19:00:50.994Z"
   },
   {
    "duration": 132,
    "start_time": "2023-11-27T19:00:51.162Z"
   },
   {
    "duration": 168,
    "start_time": "2023-11-27T19:00:51.295Z"
   },
   {
    "duration": 8,
    "start_time": "2023-11-27T19:00:51.465Z"
   },
   {
    "duration": 130,
    "start_time": "2023-11-27T19:00:51.475Z"
   },
   {
    "duration": 7,
    "start_time": "2023-11-27T19:00:51.606Z"
   },
   {
    "duration": 367,
    "start_time": "2023-11-27T19:00:51.614Z"
   },
   {
    "duration": 362,
    "start_time": "2023-11-27T19:00:51.983Z"
   },
   {
    "duration": 7,
    "start_time": "2023-11-27T19:00:52.347Z"
   },
   {
    "duration": 5,
    "start_time": "2023-11-27T19:00:52.356Z"
   },
   {
    "duration": 148,
    "start_time": "2023-11-27T19:00:52.363Z"
   },
   {
    "duration": 14,
    "start_time": "2023-11-27T19:00:52.515Z"
   },
   {
    "duration": 353,
    "start_time": "2023-11-27T19:00:52.531Z"
   },
   {
    "duration": 334,
    "start_time": "2023-11-27T19:00:52.885Z"
   },
   {
    "duration": 6,
    "start_time": "2023-11-27T19:00:53.221Z"
   },
   {
    "duration": 133,
    "start_time": "2023-11-27T19:00:53.228Z"
   },
   {
    "duration": 7,
    "start_time": "2023-11-27T19:00:53.363Z"
   },
   {
    "duration": 31,
    "start_time": "2023-11-27T19:00:53.371Z"
   },
   {
    "duration": 11,
    "start_time": "2023-11-27T19:00:53.403Z"
   },
   {
    "duration": 15,
    "start_time": "2023-11-27T19:00:53.416Z"
   },
   {
    "duration": 16,
    "start_time": "2023-11-27T19:00:53.432Z"
   },
   {
    "duration": 51,
    "start_time": "2023-11-27T19:00:53.449Z"
   },
   {
    "duration": 23,
    "start_time": "2023-11-27T19:00:53.502Z"
   },
   {
    "duration": 20,
    "start_time": "2023-11-27T19:00:53.527Z"
   },
   {
    "duration": 14,
    "start_time": "2023-11-27T19:00:53.548Z"
   },
   {
    "duration": 5,
    "start_time": "2023-11-27T19:00:53.563Z"
   },
   {
    "duration": 30,
    "start_time": "2023-11-27T19:00:53.569Z"
   },
   {
    "duration": 15,
    "start_time": "2023-11-27T19:00:53.601Z"
   },
   {
    "duration": 15,
    "start_time": "2023-11-27T19:00:53.617Z"
   },
   {
    "duration": 245,
    "start_time": "2023-11-27T19:00:53.633Z"
   },
   {
    "duration": 387,
    "start_time": "2023-11-27T19:00:53.880Z"
   },
   {
    "duration": 300,
    "start_time": "2023-11-27T19:00:54.268Z"
   },
   {
    "duration": 10,
    "start_time": "2023-11-27T19:00:54.569Z"
   },
   {
    "duration": 6,
    "start_time": "2023-11-27T19:00:54.580Z"
   },
   {
    "duration": 760,
    "start_time": "2023-11-27T19:00:54.598Z"
   },
   {
    "duration": 12,
    "start_time": "2023-11-27T19:00:55.360Z"
   },
   {
    "duration": 6,
    "start_time": "2023-11-27T19:00:55.373Z"
   },
   {
    "duration": 26,
    "start_time": "2023-11-27T19:00:55.380Z"
   },
   {
    "duration": 10,
    "start_time": "2023-11-27T19:00:55.410Z"
   },
   {
    "duration": 6,
    "start_time": "2023-11-27T19:00:55.421Z"
   },
   {
    "duration": 7,
    "start_time": "2023-11-27T19:00:55.428Z"
   },
   {
    "duration": 21,
    "start_time": "2023-11-27T19:00:55.436Z"
   },
   {
    "duration": 10,
    "start_time": "2023-11-27T19:00:55.459Z"
   },
   {
    "duration": 9,
    "start_time": "2023-11-27T19:00:55.470Z"
   },
   {
    "duration": 20,
    "start_time": "2023-11-27T19:00:55.480Z"
   },
   {
    "duration": 29,
    "start_time": "2023-11-27T19:00:55.502Z"
   },
   {
    "duration": 17,
    "start_time": "2023-11-27T19:00:55.533Z"
   },
   {
    "duration": 17,
    "start_time": "2023-11-27T19:00:55.551Z"
   },
   {
    "duration": 7,
    "start_time": "2023-11-27T19:00:55.569Z"
   },
   {
    "duration": 24,
    "start_time": "2023-11-27T19:00:55.577Z"
   },
   {
    "duration": 45,
    "start_time": "2023-11-27T19:00:55.603Z"
   },
   {
    "duration": 29,
    "start_time": "2023-11-27T19:00:55.649Z"
   },
   {
    "duration": 19,
    "start_time": "2023-11-27T19:00:55.679Z"
   },
   {
    "duration": 20,
    "start_time": "2023-11-27T19:00:55.700Z"
   },
   {
    "duration": 29,
    "start_time": "2023-11-27T19:00:55.722Z"
   },
   {
    "duration": 44,
    "start_time": "2023-11-27T19:00:55.753Z"
   },
   {
    "duration": 6,
    "start_time": "2023-11-27T19:00:55.798Z"
   },
   {
    "duration": 16,
    "start_time": "2023-11-27T19:00:55.805Z"
   },
   {
    "duration": 26,
    "start_time": "2023-11-27T19:00:55.822Z"
   },
   {
    "duration": 368,
    "start_time": "2023-11-27T19:03:29.782Z"
   },
   {
    "duration": 69,
    "start_time": "2023-11-27T19:03:40.308Z"
   },
   {
    "duration": 216,
    "start_time": "2023-11-27T19:03:50.985Z"
   },
   {
    "duration": 123,
    "start_time": "2023-11-27T19:03:54.125Z"
   },
   {
    "duration": 83,
    "start_time": "2023-11-27T19:04:22.494Z"
   },
   {
    "duration": 227,
    "start_time": "2023-11-27T19:04:27.158Z"
   },
   {
    "duration": 282,
    "start_time": "2023-11-27T19:04:43.686Z"
   },
   {
    "duration": 185,
    "start_time": "2023-11-27T19:04:55.936Z"
   },
   {
    "duration": 223,
    "start_time": "2023-11-27T19:05:11.342Z"
   },
   {
    "duration": 245,
    "start_time": "2023-11-27T19:05:15.989Z"
   },
   {
    "duration": 247,
    "start_time": "2023-11-27T19:05:20.199Z"
   },
   {
    "duration": 312,
    "start_time": "2023-11-27T19:07:26.506Z"
   },
   {
    "duration": 229,
    "start_time": "2023-11-27T19:07:30.337Z"
   },
   {
    "duration": 217,
    "start_time": "2023-11-27T19:07:42.836Z"
   },
   {
    "duration": 8,
    "start_time": "2023-11-27T19:08:22.330Z"
   },
   {
    "duration": 8,
    "start_time": "2023-11-27T19:08:31.482Z"
   },
   {
    "duration": 10,
    "start_time": "2023-11-27T19:08:39.881Z"
   },
   {
    "duration": 12,
    "start_time": "2023-11-27T19:09:08.340Z"
   },
   {
    "duration": 10,
    "start_time": "2023-11-27T19:09:21.755Z"
   },
   {
    "duration": 10,
    "start_time": "2023-11-27T19:09:29.435Z"
   },
   {
    "duration": 13,
    "start_time": "2023-11-27T19:09:49.732Z"
   },
   {
    "duration": 11,
    "start_time": "2023-11-27T19:10:13.964Z"
   },
   {
    "duration": 14,
    "start_time": "2023-11-27T19:10:46.844Z"
   },
   {
    "duration": 12,
    "start_time": "2023-11-27T19:10:51.572Z"
   },
   {
    "duration": 3,
    "start_time": "2023-11-27T19:13:12.175Z"
   },
   {
    "duration": 281,
    "start_time": "2023-11-27T19:17:20.684Z"
   },
   {
    "duration": 240,
    "start_time": "2023-11-27T19:17:26.931Z"
   },
   {
    "duration": 504,
    "start_time": "2023-11-27T19:17:32.234Z"
   },
   {
    "duration": 462,
    "start_time": "2023-11-27T19:17:41.060Z"
   },
   {
    "duration": 398,
    "start_time": "2023-11-27T19:17:46.955Z"
   },
   {
    "duration": 448,
    "start_time": "2023-11-27T19:17:52.092Z"
   },
   {
    "duration": 9,
    "start_time": "2023-11-27T19:32:08.522Z"
   },
   {
    "duration": 10,
    "start_time": "2023-11-27T19:32:16.766Z"
   },
   {
    "duration": 13,
    "start_time": "2023-11-27T19:32:43.360Z"
   },
   {
    "duration": 1236,
    "start_time": "2023-11-27T19:34:04.243Z"
   },
   {
    "duration": 132,
    "start_time": "2023-11-27T19:34:09.427Z"
   },
   {
    "duration": 8,
    "start_time": "2023-11-27T19:34:25.132Z"
   },
   {
    "duration": 8,
    "start_time": "2023-11-27T19:34:38.564Z"
   },
   {
    "duration": 8,
    "start_time": "2023-11-27T19:35:17.381Z"
   },
   {
    "duration": 6,
    "start_time": "2023-11-27T19:35:27.286Z"
   },
   {
    "duration": 136,
    "start_time": "2023-11-27T19:36:44.030Z"
   },
   {
    "duration": 10,
    "start_time": "2023-11-27T19:37:05.119Z"
   },
   {
    "duration": 1204,
    "start_time": "2023-11-28T13:00:20.975Z"
   },
   {
    "duration": 3,
    "start_time": "2023-11-28T13:00:22.180Z"
   },
   {
    "duration": 23,
    "start_time": "2023-11-28T13:00:22.185Z"
   },
   {
    "duration": 105,
    "start_time": "2023-11-28T13:00:22.210Z"
   },
   {
    "duration": 114,
    "start_time": "2023-11-28T13:00:22.317Z"
   },
   {
    "duration": 83,
    "start_time": "2023-11-28T13:00:22.433Z"
   },
   {
    "duration": 4,
    "start_time": "2023-11-28T13:00:22.518Z"
   },
   {
    "duration": 28,
    "start_time": "2023-11-28T13:00:22.523Z"
   },
   {
    "duration": 5,
    "start_time": "2023-11-28T13:00:22.553Z"
   },
   {
    "duration": 24,
    "start_time": "2023-11-28T13:00:22.560Z"
   },
   {
    "duration": 25,
    "start_time": "2023-11-28T13:00:22.586Z"
   },
   {
    "duration": 17,
    "start_time": "2023-11-28T13:00:22.613Z"
   },
   {
    "duration": 15,
    "start_time": "2023-11-28T13:00:22.632Z"
   },
   {
    "duration": 24,
    "start_time": "2023-11-28T13:00:22.648Z"
   },
   {
    "duration": 5,
    "start_time": "2023-11-28T13:00:22.674Z"
   },
   {
    "duration": 185,
    "start_time": "2023-11-28T13:00:22.680Z"
   },
   {
    "duration": 192,
    "start_time": "2023-11-28T13:00:22.867Z"
   },
   {
    "duration": 153,
    "start_time": "2023-11-28T13:00:23.061Z"
   },
   {
    "duration": 193,
    "start_time": "2023-11-28T13:00:23.216Z"
   },
   {
    "duration": 13,
    "start_time": "2023-11-28T13:00:23.411Z"
   },
   {
    "duration": 171,
    "start_time": "2023-11-28T13:00:23.426Z"
   },
   {
    "duration": 8,
    "start_time": "2023-11-28T13:00:23.599Z"
   },
   {
    "duration": 434,
    "start_time": "2023-11-28T13:00:23.609Z"
   },
   {
    "duration": 412,
    "start_time": "2023-11-28T13:00:24.045Z"
   },
   {
    "duration": 7,
    "start_time": "2023-11-28T13:00:24.459Z"
   },
   {
    "duration": 6,
    "start_time": "2023-11-28T13:00:24.468Z"
   },
   {
    "duration": 159,
    "start_time": "2023-11-28T13:00:24.476Z"
   },
   {
    "duration": 17,
    "start_time": "2023-11-28T13:00:24.640Z"
   },
   {
    "duration": 418,
    "start_time": "2023-11-28T13:00:24.659Z"
   },
   {
    "duration": 7,
    "start_time": "2023-11-28T13:00:25.079Z"
   },
   {
    "duration": 170,
    "start_time": "2023-11-28T13:00:25.088Z"
   },
   {
    "duration": 8,
    "start_time": "2023-11-28T13:00:25.260Z"
   },
   {
    "duration": 43,
    "start_time": "2023-11-28T13:00:25.270Z"
   },
   {
    "duration": 63,
    "start_time": "2023-11-28T13:00:25.315Z"
   },
   {
    "duration": 105,
    "start_time": "2023-11-28T13:00:25.381Z"
   },
   {
    "duration": 22,
    "start_time": "2023-11-28T13:00:25.488Z"
   },
   {
    "duration": 37,
    "start_time": "2023-11-28T13:00:25.511Z"
   },
   {
    "duration": 19,
    "start_time": "2023-11-28T13:00:25.551Z"
   },
   {
    "duration": 29,
    "start_time": "2023-11-28T13:00:25.572Z"
   },
   {
    "duration": 50,
    "start_time": "2023-11-28T13:00:25.602Z"
   },
   {
    "duration": 18,
    "start_time": "2023-11-28T13:00:25.654Z"
   },
   {
    "duration": 21,
    "start_time": "2023-11-28T13:00:25.674Z"
   },
   {
    "duration": 64,
    "start_time": "2023-11-28T13:00:25.697Z"
   },
   {
    "duration": 50,
    "start_time": "2023-11-28T13:00:25.763Z"
   },
   {
    "duration": 275,
    "start_time": "2023-11-28T13:00:25.815Z"
   },
   {
    "duration": 350,
    "start_time": "2023-11-28T13:00:26.092Z"
   },
   {
    "duration": 452,
    "start_time": "2023-11-28T13:00:26.444Z"
   },
   {
    "duration": 17,
    "start_time": "2023-11-28T13:00:26.898Z"
   },
   {
    "duration": 32,
    "start_time": "2023-11-28T13:00:26.916Z"
   },
   {
    "duration": 10,
    "start_time": "2023-11-28T13:00:26.949Z"
   },
   {
    "duration": 852,
    "start_time": "2023-11-28T13:00:26.960Z"
   },
   {
    "duration": 13,
    "start_time": "2023-11-28T13:00:27.814Z"
   },
   {
    "duration": 20,
    "start_time": "2023-11-28T13:00:27.828Z"
   },
   {
    "duration": 34,
    "start_time": "2023-11-28T13:00:27.849Z"
   },
   {
    "duration": 9,
    "start_time": "2023-11-28T13:00:27.884Z"
   },
   {
    "duration": 163,
    "start_time": "2023-11-28T13:00:27.895Z"
   },
   {
    "duration": 10,
    "start_time": "2023-11-28T13:00:28.060Z"
   },
   {
    "duration": 6,
    "start_time": "2023-11-28T13:00:28.072Z"
   },
   {
    "duration": 6,
    "start_time": "2023-11-28T13:00:28.079Z"
   },
   {
    "duration": 20,
    "start_time": "2023-11-28T13:00:28.087Z"
   },
   {
    "duration": 7,
    "start_time": "2023-11-28T13:00:28.108Z"
   },
   {
    "duration": 9,
    "start_time": "2023-11-28T13:00:28.117Z"
   },
   {
    "duration": 5,
    "start_time": "2023-11-28T13:00:28.127Z"
   },
   {
    "duration": 9,
    "start_time": "2023-11-28T13:00:28.133Z"
   },
   {
    "duration": 10,
    "start_time": "2023-11-28T13:00:28.144Z"
   },
   {
    "duration": 14,
    "start_time": "2023-11-28T13:00:28.156Z"
   },
   {
    "duration": 17,
    "start_time": "2023-11-28T13:00:28.172Z"
   },
   {
    "duration": 23,
    "start_time": "2023-11-28T13:00:28.191Z"
   },
   {
    "duration": 7,
    "start_time": "2023-11-28T13:00:28.216Z"
   },
   {
    "duration": 6,
    "start_time": "2023-11-28T13:00:28.225Z"
   },
   {
    "duration": 3,
    "start_time": "2023-11-28T13:00:28.233Z"
   },
   {
    "duration": 8,
    "start_time": "2023-11-28T13:00:28.238Z"
   },
   {
    "duration": 9,
    "start_time": "2023-11-28T13:00:28.248Z"
   },
   {
    "duration": 6,
    "start_time": "2023-11-28T13:00:28.258Z"
   },
   {
    "duration": 14,
    "start_time": "2023-11-28T13:00:28.265Z"
   },
   {
    "duration": 6,
    "start_time": "2023-11-28T13:00:28.281Z"
   },
   {
    "duration": 31,
    "start_time": "2023-11-28T13:00:28.288Z"
   },
   {
    "duration": 374,
    "start_time": "2023-11-28T13:09:06.504Z"
   },
   {
    "duration": 276,
    "start_time": "2023-11-28T13:09:22.730Z"
   },
   {
    "duration": 266,
    "start_time": "2023-11-28T13:10:32.184Z"
   },
   {
    "duration": 262,
    "start_time": "2023-11-28T13:10:54.005Z"
   },
   {
    "duration": 254,
    "start_time": "2023-11-28T13:12:19.345Z"
   },
   {
    "duration": 1202,
    "start_time": "2023-11-28T13:12:55.082Z"
   },
   {
    "duration": 2,
    "start_time": "2023-11-28T13:12:56.286Z"
   },
   {
    "duration": 20,
    "start_time": "2023-11-28T13:12:56.290Z"
   },
   {
    "duration": 67,
    "start_time": "2023-11-28T13:12:56.312Z"
   },
   {
    "duration": 63,
    "start_time": "2023-11-28T13:12:56.380Z"
   },
   {
    "duration": 35,
    "start_time": "2023-11-28T13:12:56.445Z"
   },
   {
    "duration": 4,
    "start_time": "2023-11-28T13:12:56.482Z"
   },
   {
    "duration": 33,
    "start_time": "2023-11-28T13:12:56.487Z"
   },
   {
    "duration": 4,
    "start_time": "2023-11-28T13:12:56.522Z"
   },
   {
    "duration": 28,
    "start_time": "2023-11-28T13:12:56.528Z"
   },
   {
    "duration": 7,
    "start_time": "2023-11-28T13:12:56.557Z"
   },
   {
    "duration": 31,
    "start_time": "2023-11-28T13:12:56.566Z"
   },
   {
    "duration": 24,
    "start_time": "2023-11-28T13:12:56.599Z"
   },
   {
    "duration": 22,
    "start_time": "2023-11-28T13:12:56.624Z"
   },
   {
    "duration": 15,
    "start_time": "2023-11-28T13:12:56.648Z"
   },
   {
    "duration": 190,
    "start_time": "2023-11-28T13:12:56.665Z"
   },
   {
    "duration": 183,
    "start_time": "2023-11-28T13:12:56.857Z"
   },
   {
    "duration": 161,
    "start_time": "2023-11-28T13:12:57.042Z"
   },
   {
    "duration": 186,
    "start_time": "2023-11-28T13:12:57.206Z"
   },
   {
    "duration": 20,
    "start_time": "2023-11-28T13:12:57.393Z"
   },
   {
    "duration": 132,
    "start_time": "2023-11-28T13:12:57.415Z"
   },
   {
    "duration": 7,
    "start_time": "2023-11-28T13:12:57.549Z"
   },
   {
    "duration": 421,
    "start_time": "2023-11-28T13:12:57.557Z"
   },
   {
    "duration": 411,
    "start_time": "2023-11-28T13:12:57.980Z"
   },
   {
    "duration": 14,
    "start_time": "2023-11-28T13:12:58.393Z"
   },
   {
    "duration": 23,
    "start_time": "2023-11-28T13:12:58.409Z"
   },
   {
    "duration": 143,
    "start_time": "2023-11-28T13:12:58.433Z"
   },
   {
    "duration": 17,
    "start_time": "2023-11-28T13:12:58.580Z"
   },
   {
    "duration": 421,
    "start_time": "2023-11-28T13:12:58.598Z"
   },
   {
    "duration": 6,
    "start_time": "2023-11-28T13:12:59.021Z"
   },
   {
    "duration": 142,
    "start_time": "2023-11-28T13:12:59.028Z"
   },
   {
    "duration": 8,
    "start_time": "2023-11-28T13:12:59.171Z"
   },
   {
    "duration": 44,
    "start_time": "2023-11-28T13:12:59.180Z"
   },
   {
    "duration": 21,
    "start_time": "2023-11-28T13:12:59.225Z"
   },
   {
    "duration": 37,
    "start_time": "2023-11-28T13:12:59.247Z"
   },
   {
    "duration": 16,
    "start_time": "2023-11-28T13:12:59.286Z"
   },
   {
    "duration": 29,
    "start_time": "2023-11-28T13:12:59.303Z"
   },
   {
    "duration": 20,
    "start_time": "2023-11-28T13:12:59.334Z"
   },
   {
    "duration": 12,
    "start_time": "2023-11-28T13:12:59.355Z"
   },
   {
    "duration": 13,
    "start_time": "2023-11-28T13:12:59.369Z"
   },
   {
    "duration": 6,
    "start_time": "2023-11-28T13:12:59.407Z"
   },
   {
    "duration": 55,
    "start_time": "2023-11-28T13:12:59.415Z"
   },
   {
    "duration": 18,
    "start_time": "2023-11-28T13:12:59.472Z"
   },
   {
    "duration": 18,
    "start_time": "2023-11-28T13:12:59.492Z"
   },
   {
    "duration": 266,
    "start_time": "2023-11-28T13:12:59.511Z"
   },
   {
    "duration": 349,
    "start_time": "2023-11-28T13:12:59.778Z"
   },
   {
    "duration": 443,
    "start_time": "2023-11-28T13:13:00.128Z"
   },
   {
    "duration": 10,
    "start_time": "2023-11-28T13:13:00.573Z"
   },
   {
    "duration": 62,
    "start_time": "2023-11-28T13:13:00.584Z"
   },
   {
    "duration": 170,
    "start_time": "2023-11-28T13:13:00.648Z"
   },
   {
    "duration": 927,
    "start_time": "2023-11-28T13:13:00.820Z"
   },
   {
    "duration": 11,
    "start_time": "2023-11-28T13:13:01.748Z"
   },
   {
    "duration": 65,
    "start_time": "2023-11-28T13:13:01.761Z"
   },
   {
    "duration": 41,
    "start_time": "2023-11-28T13:13:01.827Z"
   },
   {
    "duration": 34,
    "start_time": "2023-11-28T13:13:01.869Z"
   },
   {
    "duration": 175,
    "start_time": "2023-11-28T13:13:01.904Z"
   },
   {
    "duration": 10,
    "start_time": "2023-11-28T13:13:02.081Z"
   },
   {
    "duration": 148,
    "start_time": "2023-11-28T13:13:02.093Z"
   },
   {
    "duration": 45,
    "start_time": "2023-11-28T13:13:02.243Z"
   },
   {
    "duration": 55,
    "start_time": "2023-11-28T13:13:02.290Z"
   },
   {
    "duration": 48,
    "start_time": "2023-11-28T13:13:02.347Z"
   },
   {
    "duration": 55,
    "start_time": "2023-11-28T13:13:02.398Z"
   },
   {
    "duration": 59,
    "start_time": "2023-11-28T13:13:02.455Z"
   },
   {
    "duration": 38,
    "start_time": "2023-11-28T13:13:02.516Z"
   },
   {
    "duration": 52,
    "start_time": "2023-11-28T13:13:02.555Z"
   },
   {
    "duration": 41,
    "start_time": "2023-11-28T13:13:02.609Z"
   },
   {
    "duration": 62,
    "start_time": "2023-11-28T13:13:02.652Z"
   },
   {
    "duration": 70,
    "start_time": "2023-11-28T13:13:02.716Z"
   },
   {
    "duration": 101,
    "start_time": "2023-11-28T13:13:02.788Z"
   },
   {
    "duration": 49,
    "start_time": "2023-11-28T13:13:02.891Z"
   },
   {
    "duration": 34,
    "start_time": "2023-11-28T13:13:02.942Z"
   },
   {
    "duration": 71,
    "start_time": "2023-11-28T13:13:02.977Z"
   },
   {
    "duration": 94,
    "start_time": "2023-11-28T13:13:03.049Z"
   },
   {
    "duration": 49,
    "start_time": "2023-11-28T13:13:03.144Z"
   },
   {
    "duration": 57,
    "start_time": "2023-11-28T13:13:03.194Z"
   },
   {
    "duration": 32,
    "start_time": "2023-11-28T13:13:03.253Z"
   },
   {
    "duration": 33,
    "start_time": "2023-11-28T13:13:03.287Z"
   },
   {
    "duration": 355,
    "start_time": "2023-11-28T13:13:19.129Z"
   },
   {
    "duration": 262,
    "start_time": "2023-11-28T13:13:50.303Z"
   },
   {
    "duration": 258,
    "start_time": "2023-11-28T13:14:09.298Z"
   },
   {
    "duration": 258,
    "start_time": "2023-11-28T13:14:19.745Z"
   },
   {
    "duration": 13,
    "start_time": "2023-11-28T13:14:25.099Z"
   },
   {
    "duration": 116,
    "start_time": "2023-11-28T13:14:56.329Z"
   },
   {
    "duration": 302,
    "start_time": "2023-11-28T13:14:59.893Z"
   },
   {
    "duration": 253,
    "start_time": "2023-11-28T13:15:17.355Z"
   },
   {
    "duration": 258,
    "start_time": "2023-11-28T13:16:15.485Z"
   },
   {
    "duration": 256,
    "start_time": "2023-11-28T13:16:23.980Z"
   },
   {
    "duration": 1142,
    "start_time": "2023-11-28T13:17:16.039Z"
   },
   {
    "duration": 3,
    "start_time": "2023-11-28T13:17:17.183Z"
   },
   {
    "duration": 20,
    "start_time": "2023-11-28T13:17:17.187Z"
   },
   {
    "duration": 52,
    "start_time": "2023-11-28T13:17:17.209Z"
   },
   {
    "duration": 69,
    "start_time": "2023-11-28T13:17:17.262Z"
   },
   {
    "duration": 105,
    "start_time": "2023-11-28T13:17:17.332Z"
   },
   {
    "duration": 3,
    "start_time": "2023-11-28T13:17:17.439Z"
   },
   {
    "duration": 34,
    "start_time": "2023-11-28T13:17:17.443Z"
   },
   {
    "duration": 4,
    "start_time": "2023-11-28T13:17:17.479Z"
   },
   {
    "duration": 27,
    "start_time": "2023-11-28T13:17:17.485Z"
   },
   {
    "duration": 13,
    "start_time": "2023-11-28T13:17:17.514Z"
   },
   {
    "duration": 38,
    "start_time": "2023-11-28T13:17:17.529Z"
   },
   {
    "duration": 29,
    "start_time": "2023-11-28T13:17:17.569Z"
   },
   {
    "duration": 40,
    "start_time": "2023-11-28T13:17:17.600Z"
   },
   {
    "duration": 11,
    "start_time": "2023-11-28T13:17:17.641Z"
   },
   {
    "duration": 174,
    "start_time": "2023-11-28T13:17:17.653Z"
   },
   {
    "duration": 188,
    "start_time": "2023-11-28T13:17:17.829Z"
   },
   {
    "duration": 148,
    "start_time": "2023-11-28T13:17:18.020Z"
   },
   {
    "duration": 193,
    "start_time": "2023-11-28T13:17:18.170Z"
   },
   {
    "duration": 12,
    "start_time": "2023-11-28T13:17:18.365Z"
   },
   {
    "duration": 137,
    "start_time": "2023-11-28T13:17:18.378Z"
   },
   {
    "duration": 8,
    "start_time": "2023-11-28T13:17:18.516Z"
   },
   {
    "duration": 470,
    "start_time": "2023-11-28T13:17:18.526Z"
   },
   {
    "duration": 407,
    "start_time": "2023-11-28T13:17:18.999Z"
   },
   {
    "duration": 8,
    "start_time": "2023-11-28T13:17:19.408Z"
   },
   {
    "duration": 58,
    "start_time": "2023-11-28T13:17:19.418Z"
   },
   {
    "duration": 162,
    "start_time": "2023-11-28T13:17:19.478Z"
   },
   {
    "duration": 18,
    "start_time": "2023-11-28T13:17:19.646Z"
   },
   {
    "duration": 398,
    "start_time": "2023-11-28T13:17:19.666Z"
   },
   {
    "duration": 9,
    "start_time": "2023-11-28T13:17:20.066Z"
   },
   {
    "duration": 177,
    "start_time": "2023-11-28T13:17:20.076Z"
   },
   {
    "duration": 8,
    "start_time": "2023-11-28T13:17:20.255Z"
   },
   {
    "duration": 37,
    "start_time": "2023-11-28T13:17:20.265Z"
   },
   {
    "duration": 14,
    "start_time": "2023-11-28T13:17:20.304Z"
   },
   {
    "duration": 31,
    "start_time": "2023-11-28T13:17:20.320Z"
   },
   {
    "duration": 22,
    "start_time": "2023-11-28T13:17:20.353Z"
   },
   {
    "duration": 52,
    "start_time": "2023-11-28T13:17:20.377Z"
   },
   {
    "duration": 24,
    "start_time": "2023-11-28T13:17:20.431Z"
   },
   {
    "duration": 30,
    "start_time": "2023-11-28T13:17:20.457Z"
   },
   {
    "duration": 44,
    "start_time": "2023-11-28T13:17:20.489Z"
   },
   {
    "duration": 7,
    "start_time": "2023-11-28T13:17:20.535Z"
   },
   {
    "duration": 32,
    "start_time": "2023-11-28T13:17:20.544Z"
   },
   {
    "duration": 44,
    "start_time": "2023-11-28T13:17:20.578Z"
   },
   {
    "duration": 37,
    "start_time": "2023-11-28T13:17:20.624Z"
   },
   {
    "duration": 295,
    "start_time": "2023-11-28T13:17:20.663Z"
   },
   {
    "duration": 359,
    "start_time": "2023-11-28T13:17:20.960Z"
   },
   {
    "duration": 449,
    "start_time": "2023-11-28T13:17:21.322Z"
   },
   {
    "duration": 11,
    "start_time": "2023-11-28T13:17:21.773Z"
   },
   {
    "duration": 57,
    "start_time": "2023-11-28T13:17:21.785Z"
   },
   {
    "duration": 16,
    "start_time": "2023-11-28T13:17:21.843Z"
   },
   {
    "duration": 889,
    "start_time": "2023-11-28T13:17:21.861Z"
   },
   {
    "duration": 11,
    "start_time": "2023-11-28T13:17:22.752Z"
   },
   {
    "duration": 24,
    "start_time": "2023-11-28T13:17:22.765Z"
   },
   {
    "duration": 31,
    "start_time": "2023-11-28T13:17:22.790Z"
   },
   {
    "duration": 15,
    "start_time": "2023-11-28T13:17:22.823Z"
   },
   {
    "duration": 151,
    "start_time": "2023-11-28T13:17:22.840Z"
   },
   {
    "duration": 16,
    "start_time": "2023-11-28T13:17:22.993Z"
   },
   {
    "duration": 20,
    "start_time": "2023-11-28T13:17:23.010Z"
   },
   {
    "duration": 15,
    "start_time": "2023-11-28T13:17:23.032Z"
   },
   {
    "duration": 6,
    "start_time": "2023-11-28T13:17:23.049Z"
   },
   {
    "duration": 33,
    "start_time": "2023-11-28T13:17:23.057Z"
   },
   {
    "duration": 19,
    "start_time": "2023-11-28T13:17:23.092Z"
   },
   {
    "duration": 24,
    "start_time": "2023-11-28T13:17:23.113Z"
   },
   {
    "duration": 45,
    "start_time": "2023-11-28T13:17:23.138Z"
   },
   {
    "duration": 12,
    "start_time": "2023-11-28T13:17:23.184Z"
   },
   {
    "duration": 18,
    "start_time": "2023-11-28T13:17:23.198Z"
   },
   {
    "duration": 20,
    "start_time": "2023-11-28T13:17:23.218Z"
   },
   {
    "duration": 19,
    "start_time": "2023-11-28T13:17:23.240Z"
   },
   {
    "duration": 6,
    "start_time": "2023-11-28T13:17:23.261Z"
   },
   {
    "duration": 14,
    "start_time": "2023-11-28T13:17:23.269Z"
   },
   {
    "duration": 10,
    "start_time": "2023-11-28T13:17:23.284Z"
   },
   {
    "duration": 27,
    "start_time": "2023-11-28T13:17:23.295Z"
   },
   {
    "duration": 31,
    "start_time": "2023-11-28T13:17:23.325Z"
   },
   {
    "duration": 39,
    "start_time": "2023-11-28T13:17:23.358Z"
   },
   {
    "duration": 20,
    "start_time": "2023-11-28T13:17:23.399Z"
   },
   {
    "duration": 18,
    "start_time": "2023-11-28T13:17:23.420Z"
   },
   {
    "duration": 16,
    "start_time": "2023-11-28T13:17:23.440Z"
   },
   {
    "duration": 10,
    "start_time": "2023-11-28T13:21:54.522Z"
   },
   {
    "duration": 1136,
    "start_time": "2023-11-28T13:31:07.054Z"
   },
   {
    "duration": 3,
    "start_time": "2023-11-28T13:31:08.192Z"
   },
   {
    "duration": 43,
    "start_time": "2023-11-28T13:31:08.197Z"
   },
   {
    "duration": 120,
    "start_time": "2023-11-28T13:31:08.242Z"
   },
   {
    "duration": 70,
    "start_time": "2023-11-28T13:31:08.364Z"
   },
   {
    "duration": 33,
    "start_time": "2023-11-28T13:31:08.436Z"
   },
   {
    "duration": 3,
    "start_time": "2023-11-28T13:31:08.471Z"
   },
   {
    "duration": 39,
    "start_time": "2023-11-28T13:31:08.476Z"
   },
   {
    "duration": 23,
    "start_time": "2023-11-28T13:31:08.517Z"
   },
   {
    "duration": 46,
    "start_time": "2023-11-28T13:31:08.543Z"
   },
   {
    "duration": 14,
    "start_time": "2023-11-28T13:31:08.591Z"
   },
   {
    "duration": 19,
    "start_time": "2023-11-28T13:31:08.607Z"
   },
   {
    "duration": 45,
    "start_time": "2023-11-28T13:31:08.628Z"
   },
   {
    "duration": 58,
    "start_time": "2023-11-28T13:31:08.674Z"
   },
   {
    "duration": 21,
    "start_time": "2023-11-28T13:31:08.734Z"
   },
   {
    "duration": 196,
    "start_time": "2023-11-28T13:31:08.757Z"
   },
   {
    "duration": 181,
    "start_time": "2023-11-28T13:31:08.954Z"
   },
   {
    "duration": 148,
    "start_time": "2023-11-28T13:31:09.137Z"
   },
   {
    "duration": 189,
    "start_time": "2023-11-28T13:31:09.286Z"
   },
   {
    "duration": 12,
    "start_time": "2023-11-28T13:31:09.477Z"
   },
   {
    "duration": 146,
    "start_time": "2023-11-28T13:31:09.491Z"
   },
   {
    "duration": 9,
    "start_time": "2023-11-28T13:31:09.639Z"
   },
   {
    "duration": 418,
    "start_time": "2023-11-28T13:31:09.650Z"
   },
   {
    "duration": 420,
    "start_time": "2023-11-28T13:31:10.071Z"
   },
   {
    "duration": 14,
    "start_time": "2023-11-28T13:31:10.493Z"
   },
   {
    "duration": 273,
    "start_time": "2023-11-28T13:31:10.510Z"
   },
   {
    "duration": 180,
    "start_time": "2023-11-28T13:31:10.785Z"
   },
   {
    "duration": 19,
    "start_time": "2023-11-28T13:31:10.971Z"
   },
   {
    "duration": 429,
    "start_time": "2023-11-28T13:31:10.992Z"
   },
   {
    "duration": 8,
    "start_time": "2023-11-28T13:31:11.423Z"
   },
   {
    "duration": 155,
    "start_time": "2023-11-28T13:31:11.433Z"
   },
   {
    "duration": 8,
    "start_time": "2023-11-28T13:31:11.591Z"
   },
   {
    "duration": 35,
    "start_time": "2023-11-28T13:31:11.607Z"
   },
   {
    "duration": 29,
    "start_time": "2023-11-28T13:31:11.644Z"
   },
   {
    "duration": 40,
    "start_time": "2023-11-28T13:31:11.674Z"
   },
   {
    "duration": 22,
    "start_time": "2023-11-28T13:31:11.715Z"
   },
   {
    "duration": 27,
    "start_time": "2023-11-28T13:31:11.739Z"
   },
   {
    "duration": 19,
    "start_time": "2023-11-28T13:31:11.768Z"
   },
   {
    "duration": 26,
    "start_time": "2023-11-28T13:31:11.789Z"
   },
   {
    "duration": 13,
    "start_time": "2023-11-28T13:31:11.816Z"
   },
   {
    "duration": 6,
    "start_time": "2023-11-28T13:31:11.831Z"
   },
   {
    "duration": 16,
    "start_time": "2023-11-28T13:31:11.838Z"
   },
   {
    "duration": 21,
    "start_time": "2023-11-28T13:31:11.856Z"
   },
   {
    "duration": 35,
    "start_time": "2023-11-28T13:31:11.878Z"
   },
   {
    "duration": 272,
    "start_time": "2023-11-28T13:31:11.915Z"
   },
   {
    "duration": 357,
    "start_time": "2023-11-28T13:31:12.188Z"
   },
   {
    "duration": 454,
    "start_time": "2023-11-28T13:31:12.547Z"
   },
   {
    "duration": 11,
    "start_time": "2023-11-28T13:31:13.002Z"
   },
   {
    "duration": 26,
    "start_time": "2023-11-28T13:31:13.015Z"
   },
   {
    "duration": 3,
    "start_time": "2023-11-28T13:31:13.043Z"
   },
   {
    "duration": 862,
    "start_time": "2023-11-28T13:31:13.048Z"
   },
   {
    "duration": 11,
    "start_time": "2023-11-28T13:31:13.912Z"
   },
   {
    "duration": 34,
    "start_time": "2023-11-28T13:31:13.924Z"
   },
   {
    "duration": 70,
    "start_time": "2023-11-28T13:31:13.959Z"
   },
   {
    "duration": 52,
    "start_time": "2023-11-28T13:31:14.031Z"
   },
   {
    "duration": 193,
    "start_time": "2023-11-28T13:31:14.085Z"
   },
   {
    "duration": 11,
    "start_time": "2023-11-28T13:31:14.279Z"
   },
   {
    "duration": 38,
    "start_time": "2023-11-28T13:31:14.292Z"
   },
   {
    "duration": 35,
    "start_time": "2023-11-28T13:31:14.332Z"
   },
   {
    "duration": 16,
    "start_time": "2023-11-28T13:31:14.369Z"
   },
   {
    "duration": 9,
    "start_time": "2023-11-28T13:31:14.387Z"
   },
   {
    "duration": 57,
    "start_time": "2023-11-28T13:31:14.398Z"
   },
   {
    "duration": 56,
    "start_time": "2023-11-28T13:31:14.456Z"
   },
   {
    "duration": 37,
    "start_time": "2023-11-28T13:31:14.514Z"
   },
   {
    "duration": 5,
    "start_time": "2023-11-28T13:31:14.553Z"
   },
   {
    "duration": 10,
    "start_time": "2023-11-28T13:31:14.560Z"
   },
   {
    "duration": 10,
    "start_time": "2023-11-28T13:31:14.572Z"
   },
   {
    "duration": 19,
    "start_time": "2023-11-28T13:31:14.584Z"
   },
   {
    "duration": 4,
    "start_time": "2023-11-28T13:31:14.605Z"
   },
   {
    "duration": 27,
    "start_time": "2023-11-28T13:31:14.611Z"
   },
   {
    "duration": 21,
    "start_time": "2023-11-28T13:31:14.641Z"
   },
   {
    "duration": 48,
    "start_time": "2023-11-28T13:31:14.664Z"
   },
   {
    "duration": 11,
    "start_time": "2023-11-28T13:31:14.714Z"
   },
   {
    "duration": 23,
    "start_time": "2023-11-28T13:31:14.726Z"
   },
   {
    "duration": 27,
    "start_time": "2023-11-28T13:31:14.751Z"
   },
   {
    "duration": 10,
    "start_time": "2023-11-28T13:31:14.779Z"
   },
   {
    "duration": 15,
    "start_time": "2023-11-28T13:31:14.791Z"
   },
   {
    "duration": 11,
    "start_time": "2023-11-28T13:44:32.691Z"
   },
   {
    "duration": 1073,
    "start_time": "2023-11-28T13:44:49.855Z"
   },
   {
    "duration": 3,
    "start_time": "2023-11-28T13:44:50.930Z"
   },
   {
    "duration": 33,
    "start_time": "2023-11-28T13:44:50.934Z"
   },
   {
    "duration": 85,
    "start_time": "2023-11-28T13:44:50.969Z"
   },
   {
    "duration": 78,
    "start_time": "2023-11-28T13:44:51.056Z"
   },
   {
    "duration": 44,
    "start_time": "2023-11-28T13:44:51.136Z"
   },
   {
    "duration": 3,
    "start_time": "2023-11-28T13:44:51.182Z"
   },
   {
    "duration": 74,
    "start_time": "2023-11-28T13:44:51.187Z"
   },
   {
    "duration": 5,
    "start_time": "2023-11-28T13:44:51.262Z"
   },
   {
    "duration": 28,
    "start_time": "2023-11-28T13:44:51.268Z"
   },
   {
    "duration": 6,
    "start_time": "2023-11-28T13:44:51.298Z"
   },
   {
    "duration": 25,
    "start_time": "2023-11-28T13:44:51.305Z"
   },
   {
    "duration": 46,
    "start_time": "2023-11-28T13:44:51.331Z"
   },
   {
    "duration": 19,
    "start_time": "2023-11-28T13:44:51.379Z"
   },
   {
    "duration": 7,
    "start_time": "2023-11-28T13:44:51.400Z"
   },
   {
    "duration": 188,
    "start_time": "2023-11-28T13:44:51.409Z"
   },
   {
    "duration": 168,
    "start_time": "2023-11-28T13:44:51.598Z"
   },
   {
    "duration": 127,
    "start_time": "2023-11-28T13:44:51.768Z"
   },
   {
    "duration": 178,
    "start_time": "2023-11-28T13:44:51.896Z"
   },
   {
    "duration": 11,
    "start_time": "2023-11-28T13:44:52.075Z"
   },
   {
    "duration": 129,
    "start_time": "2023-11-28T13:44:52.088Z"
   },
   {
    "duration": 7,
    "start_time": "2023-11-28T13:44:52.218Z"
   },
   {
    "duration": 404,
    "start_time": "2023-11-28T13:44:52.227Z"
   },
   {
    "duration": 376,
    "start_time": "2023-11-28T13:44:52.633Z"
   },
   {
    "duration": 6,
    "start_time": "2023-11-28T13:44:53.011Z"
   },
   {
    "duration": 28,
    "start_time": "2023-11-28T13:44:53.018Z"
   },
   {
    "duration": 135,
    "start_time": "2023-11-28T13:44:53.048Z"
   },
   {
    "duration": 14,
    "start_time": "2023-11-28T13:44:53.184Z"
   },
   {
    "duration": 367,
    "start_time": "2023-11-28T13:44:53.200Z"
   },
   {
    "duration": 6,
    "start_time": "2023-11-28T13:44:53.569Z"
   },
   {
    "duration": 135,
    "start_time": "2023-11-28T13:44:53.577Z"
   },
   {
    "duration": 7,
    "start_time": "2023-11-28T13:44:53.714Z"
   },
   {
    "duration": 39,
    "start_time": "2023-11-28T13:44:53.722Z"
   },
   {
    "duration": 11,
    "start_time": "2023-11-28T13:44:53.763Z"
   },
   {
    "duration": 32,
    "start_time": "2023-11-28T13:44:53.776Z"
   },
   {
    "duration": 39,
    "start_time": "2023-11-28T13:44:53.810Z"
   },
   {
    "duration": 28,
    "start_time": "2023-11-28T13:44:53.851Z"
   },
   {
    "duration": 19,
    "start_time": "2023-11-28T13:44:53.881Z"
   },
   {
    "duration": 13,
    "start_time": "2023-11-28T13:44:53.902Z"
   },
   {
    "duration": 18,
    "start_time": "2023-11-28T13:44:53.917Z"
   },
   {
    "duration": 29,
    "start_time": "2023-11-28T13:44:53.939Z"
   },
   {
    "duration": 21,
    "start_time": "2023-11-28T13:44:53.970Z"
   },
   {
    "duration": 26,
    "start_time": "2023-11-28T13:44:53.992Z"
   },
   {
    "duration": 22,
    "start_time": "2023-11-28T13:44:54.020Z"
   },
   {
    "duration": 4,
    "start_time": "2023-11-28T13:44:57.830Z"
   },
   {
    "duration": 4,
    "start_time": "2023-11-28T13:44:57.836Z"
   },
   {
    "duration": 12,
    "start_time": "2023-11-28T13:44:57.842Z"
   },
   {
    "duration": 52,
    "start_time": "2023-11-28T13:44:57.856Z"
   },
   {
    "duration": 64,
    "start_time": "2023-11-28T13:44:57.910Z"
   },
   {
    "duration": 36,
    "start_time": "2023-11-28T13:44:57.976Z"
   },
   {
    "duration": 3,
    "start_time": "2023-11-28T13:44:58.013Z"
   },
   {
    "duration": 23,
    "start_time": "2023-11-28T13:44:58.018Z"
   },
   {
    "duration": 4,
    "start_time": "2023-11-28T13:44:58.044Z"
   },
   {
    "duration": 35,
    "start_time": "2023-11-28T13:44:58.050Z"
   },
   {
    "duration": 8,
    "start_time": "2023-11-28T13:44:58.086Z"
   },
   {
    "duration": 14,
    "start_time": "2023-11-28T13:44:58.096Z"
   },
   {
    "duration": 5,
    "start_time": "2023-11-28T13:44:58.112Z"
   },
   {
    "duration": 21,
    "start_time": "2023-11-28T13:44:58.119Z"
   },
   {
    "duration": 23,
    "start_time": "2023-11-28T13:44:58.142Z"
   },
   {
    "duration": 144,
    "start_time": "2023-11-28T13:44:58.167Z"
   },
   {
    "duration": 167,
    "start_time": "2023-11-28T13:44:58.313Z"
   },
   {
    "duration": 137,
    "start_time": "2023-11-28T13:44:58.482Z"
   },
   {
    "duration": 180,
    "start_time": "2023-11-28T13:44:58.621Z"
   },
   {
    "duration": 11,
    "start_time": "2023-11-28T13:44:58.803Z"
   },
   {
    "duration": 133,
    "start_time": "2023-11-28T13:44:58.815Z"
   },
   {
    "duration": 17,
    "start_time": "2023-11-28T13:44:58.950Z"
   },
   {
    "duration": 447,
    "start_time": "2023-11-28T13:44:58.969Z"
   },
   {
    "duration": 299,
    "start_time": "2023-11-28T13:44:59.420Z"
   },
   {
    "duration": 6,
    "start_time": "2023-11-28T13:44:59.721Z"
   },
   {
    "duration": 8,
    "start_time": "2023-11-28T13:44:59.728Z"
   },
   {
    "duration": 146,
    "start_time": "2023-11-28T13:44:59.738Z"
   },
   {
    "duration": 15,
    "start_time": "2023-11-28T13:44:59.885Z"
   },
   {
    "duration": 361,
    "start_time": "2023-11-28T13:44:59.902Z"
   },
   {
    "duration": 7,
    "start_time": "2023-11-28T13:45:00.265Z"
   },
   {
    "duration": 170,
    "start_time": "2023-11-28T13:45:00.273Z"
   },
   {
    "duration": 8,
    "start_time": "2023-11-28T13:45:00.445Z"
   },
   {
    "duration": 21,
    "start_time": "2023-11-28T13:45:00.464Z"
   },
   {
    "duration": 35,
    "start_time": "2023-11-28T13:45:00.486Z"
   },
   {
    "duration": 44,
    "start_time": "2023-11-28T13:45:00.522Z"
   },
   {
    "duration": 55,
    "start_time": "2023-11-28T13:45:00.568Z"
   },
   {
    "duration": 42,
    "start_time": "2023-11-28T13:45:00.625Z"
   },
   {
    "duration": 108,
    "start_time": "2023-11-28T13:45:00.668Z"
   },
   {
    "duration": 52,
    "start_time": "2023-11-28T13:45:00.777Z"
   },
   {
    "duration": 31,
    "start_time": "2023-11-28T13:45:00.831Z"
   },
   {
    "duration": 30,
    "start_time": "2023-11-28T13:45:00.864Z"
   },
   {
    "duration": 43,
    "start_time": "2023-11-28T13:45:00.896Z"
   },
   {
    "duration": 51,
    "start_time": "2023-11-28T13:45:00.941Z"
   },
   {
    "duration": 41,
    "start_time": "2023-11-28T13:45:00.994Z"
   },
   {
    "duration": 274,
    "start_time": "2023-11-28T13:45:01.036Z"
   },
   {
    "duration": 313,
    "start_time": "2023-11-28T13:45:01.312Z"
   },
   {
    "duration": 334,
    "start_time": "2023-11-28T13:45:01.626Z"
   },
   {
    "duration": 12,
    "start_time": "2023-11-28T13:45:01.961Z"
   },
   {
    "duration": 29,
    "start_time": "2023-11-28T13:45:01.974Z"
   },
   {
    "duration": 16,
    "start_time": "2023-11-28T13:45:02.005Z"
   },
   {
    "duration": 799,
    "start_time": "2023-11-28T13:45:02.023Z"
   },
   {
    "duration": 9,
    "start_time": "2023-11-28T13:45:02.823Z"
   },
   {
    "duration": 10,
    "start_time": "2023-11-28T13:45:02.833Z"
   },
   {
    "duration": 15,
    "start_time": "2023-11-28T13:45:02.844Z"
   },
   {
    "duration": 9,
    "start_time": "2023-11-28T13:45:02.865Z"
   },
   {
    "duration": 136,
    "start_time": "2023-11-28T13:45:02.875Z"
   },
   {
    "duration": 10,
    "start_time": "2023-11-28T13:45:03.012Z"
   },
   {
    "duration": 3,
    "start_time": "2023-11-28T13:45:03.024Z"
   },
   {
    "duration": 6,
    "start_time": "2023-11-28T13:45:03.028Z"
   },
   {
    "duration": 4,
    "start_time": "2023-11-28T13:45:03.035Z"
   },
   {
    "duration": 4,
    "start_time": "2023-11-28T13:45:03.065Z"
   },
   {
    "duration": 3,
    "start_time": "2023-11-28T13:45:03.071Z"
   },
   {
    "duration": 3,
    "start_time": "2023-11-28T13:45:03.076Z"
   },
   {
    "duration": 6,
    "start_time": "2023-11-28T13:45:03.080Z"
   },
   {
    "duration": 5,
    "start_time": "2023-11-28T13:45:03.087Z"
   },
   {
    "duration": 5,
    "start_time": "2023-11-28T13:45:03.093Z"
   },
   {
    "duration": 4,
    "start_time": "2023-11-28T13:45:03.100Z"
   },
   {
    "duration": 11,
    "start_time": "2023-11-28T13:45:03.106Z"
   },
   {
    "duration": 3,
    "start_time": "2023-11-28T13:45:03.122Z"
   },
   {
    "duration": 4,
    "start_time": "2023-11-28T13:45:03.166Z"
   },
   {
    "duration": 2,
    "start_time": "2023-11-28T13:45:03.172Z"
   },
   {
    "duration": 3,
    "start_time": "2023-11-28T13:45:03.176Z"
   },
   {
    "duration": 7,
    "start_time": "2023-11-28T13:45:03.180Z"
   },
   {
    "duration": 4,
    "start_time": "2023-11-28T13:45:03.189Z"
   },
   {
    "duration": 4,
    "start_time": "2023-11-28T13:45:03.194Z"
   },
   {
    "duration": 4,
    "start_time": "2023-11-28T13:45:03.200Z"
   },
   {
    "duration": 9,
    "start_time": "2023-11-28T13:45:03.205Z"
   },
   {
    "duration": 96,
    "start_time": "2023-11-28T13:45:43.516Z"
   },
   {
    "duration": 1135,
    "start_time": "2023-11-28T13:45:57.800Z"
   },
   {
    "duration": 4,
    "start_time": "2023-11-28T13:45:58.938Z"
   },
   {
    "duration": 4,
    "start_time": "2023-11-28T13:45:58.944Z"
   },
   {
    "duration": 60,
    "start_time": "2023-11-28T13:45:58.951Z"
   },
   {
    "duration": 72,
    "start_time": "2023-11-28T13:45:59.012Z"
   },
   {
    "duration": 41,
    "start_time": "2023-11-28T13:45:59.086Z"
   },
   {
    "duration": 3,
    "start_time": "2023-11-28T13:45:59.128Z"
   },
   {
    "duration": 16,
    "start_time": "2023-11-28T13:45:59.132Z"
   },
   {
    "duration": 4,
    "start_time": "2023-11-28T13:45:59.150Z"
   },
   {
    "duration": 25,
    "start_time": "2023-11-28T13:45:59.156Z"
   },
   {
    "duration": 6,
    "start_time": "2023-11-28T13:45:59.183Z"
   },
   {
    "duration": 5,
    "start_time": "2023-11-28T13:45:59.191Z"
   },
   {
    "duration": 8,
    "start_time": "2023-11-28T13:45:59.197Z"
   },
   {
    "duration": 17,
    "start_time": "2023-11-28T13:45:59.207Z"
   },
   {
    "duration": 4,
    "start_time": "2023-11-28T13:45:59.225Z"
   },
   {
    "duration": 192,
    "start_time": "2023-11-28T13:45:59.230Z"
   },
   {
    "duration": 165,
    "start_time": "2023-11-28T13:45:59.424Z"
   },
   {
    "duration": 132,
    "start_time": "2023-11-28T13:45:59.590Z"
   },
   {
    "duration": 179,
    "start_time": "2023-11-28T13:45:59.723Z"
   },
   {
    "duration": 11,
    "start_time": "2023-11-28T13:45:59.904Z"
   },
   {
    "duration": 124,
    "start_time": "2023-11-28T13:45:59.917Z"
   },
   {
    "duration": 7,
    "start_time": "2023-11-28T13:46:00.043Z"
   },
   {
    "duration": 393,
    "start_time": "2023-11-28T13:46:00.051Z"
   },
   {
    "duration": 385,
    "start_time": "2023-11-28T13:46:00.445Z"
   },
   {
    "duration": 7,
    "start_time": "2023-11-28T13:46:00.832Z"
   },
   {
    "duration": 40,
    "start_time": "2023-11-28T13:46:00.840Z"
   },
   {
    "duration": 138,
    "start_time": "2023-11-28T13:46:00.882Z"
   },
   {
    "duration": 15,
    "start_time": "2023-11-28T13:46:01.024Z"
   },
   {
    "duration": 376,
    "start_time": "2023-11-28T13:46:01.041Z"
   },
   {
    "duration": 7,
    "start_time": "2023-11-28T13:46:01.419Z"
   },
   {
    "duration": 154,
    "start_time": "2023-11-28T13:46:01.427Z"
   },
   {
    "duration": 7,
    "start_time": "2023-11-28T13:46:01.582Z"
   },
   {
    "duration": 65,
    "start_time": "2023-11-28T13:46:01.591Z"
   },
   {
    "duration": 33,
    "start_time": "2023-11-28T13:46:01.658Z"
   },
   {
    "duration": 37,
    "start_time": "2023-11-28T13:46:01.693Z"
   },
   {
    "duration": 44,
    "start_time": "2023-11-28T13:46:01.732Z"
   },
   {
    "duration": 39,
    "start_time": "2023-11-28T13:46:01.778Z"
   },
   {
    "duration": 26,
    "start_time": "2023-11-28T13:46:01.818Z"
   },
   {
    "duration": 24,
    "start_time": "2023-11-28T13:46:01.845Z"
   },
   {
    "duration": 19,
    "start_time": "2023-11-28T13:46:01.871Z"
   },
   {
    "duration": 40,
    "start_time": "2023-11-28T13:46:01.892Z"
   },
   {
    "duration": 35,
    "start_time": "2023-11-28T13:46:01.933Z"
   },
   {
    "duration": 40,
    "start_time": "2023-11-28T13:46:01.970Z"
   },
   {
    "duration": 32,
    "start_time": "2023-11-28T13:46:02.011Z"
   },
   {
    "duration": 254,
    "start_time": "2023-11-28T13:46:02.044Z"
   },
   {
    "duration": 341,
    "start_time": "2023-11-28T13:46:02.300Z"
   },
   {
    "duration": 407,
    "start_time": "2023-11-28T13:46:02.643Z"
   },
   {
    "duration": 17,
    "start_time": "2023-11-28T13:46:03.051Z"
   },
   {
    "duration": 16,
    "start_time": "2023-11-28T13:46:03.070Z"
   },
   {
    "duration": 29,
    "start_time": "2023-11-28T13:46:03.088Z"
   },
   {
    "duration": 775,
    "start_time": "2023-11-28T13:46:03.119Z"
   },
   {
    "duration": 10,
    "start_time": "2023-11-28T13:46:03.896Z"
   },
   {
    "duration": 14,
    "start_time": "2023-11-28T13:46:03.908Z"
   },
   {
    "duration": 19,
    "start_time": "2023-11-28T13:46:03.923Z"
   },
   {
    "duration": 8,
    "start_time": "2023-11-28T13:46:03.943Z"
   },
   {
    "duration": 141,
    "start_time": "2023-11-28T13:46:03.953Z"
   },
   {
    "duration": 9,
    "start_time": "2023-11-28T13:46:04.096Z"
   },
   {
    "duration": 2,
    "start_time": "2023-11-28T13:46:04.106Z"
   },
   {
    "duration": 5,
    "start_time": "2023-11-28T13:46:04.110Z"
   },
   {
    "duration": 6,
    "start_time": "2023-11-28T13:46:04.116Z"
   },
   {
    "duration": 5,
    "start_time": "2023-11-28T13:46:04.124Z"
   },
   {
    "duration": 5,
    "start_time": "2023-11-28T13:46:04.130Z"
   },
   {
    "duration": 29,
    "start_time": "2023-11-28T13:46:04.136Z"
   },
   {
    "duration": 5,
    "start_time": "2023-11-28T13:46:04.167Z"
   },
   {
    "duration": 5,
    "start_time": "2023-11-28T13:46:04.173Z"
   },
   {
    "duration": 13,
    "start_time": "2023-11-28T13:46:04.179Z"
   },
   {
    "duration": 14,
    "start_time": "2023-11-28T13:46:04.193Z"
   },
   {
    "duration": 13,
    "start_time": "2023-11-28T13:46:04.209Z"
   },
   {
    "duration": 4,
    "start_time": "2023-11-28T13:46:04.223Z"
   },
   {
    "duration": 6,
    "start_time": "2023-11-28T13:46:04.228Z"
   },
   {
    "duration": 6,
    "start_time": "2023-11-28T13:46:04.235Z"
   },
   {
    "duration": 13,
    "start_time": "2023-11-28T13:46:04.242Z"
   },
   {
    "duration": 10,
    "start_time": "2023-11-28T13:46:04.256Z"
   },
   {
    "duration": 15,
    "start_time": "2023-11-28T13:46:04.267Z"
   },
   {
    "duration": 10,
    "start_time": "2023-11-28T13:46:04.284Z"
   },
   {
    "duration": 7,
    "start_time": "2023-11-28T13:46:04.296Z"
   },
   {
    "duration": 8,
    "start_time": "2023-11-28T13:46:04.304Z"
   },
   {
    "duration": 1068,
    "start_time": "2023-12-17T10:28:36.534Z"
   },
   {
    "duration": 3,
    "start_time": "2023-12-17T10:28:37.603Z"
   },
   {
    "duration": 7,
    "start_time": "2023-12-17T10:28:37.607Z"
   },
   {
    "duration": 202,
    "start_time": "2023-12-17T10:28:37.616Z"
   },
   {
    "duration": 243,
    "start_time": "2023-12-17T10:28:37.819Z"
   },
   {
    "duration": 67,
    "start_time": "2023-12-17T10:28:38.064Z"
   },
   {
    "duration": 4,
    "start_time": "2023-12-17T10:28:38.132Z"
   },
   {
    "duration": 20,
    "start_time": "2023-12-17T10:28:38.138Z"
   },
   {
    "duration": 4,
    "start_time": "2023-12-17T10:28:38.160Z"
   },
   {
    "duration": 32,
    "start_time": "2023-12-17T10:28:38.167Z"
   },
   {
    "duration": 11,
    "start_time": "2023-12-17T10:28:38.201Z"
   },
   {
    "duration": 14,
    "start_time": "2023-12-17T10:28:38.213Z"
   },
   {
    "duration": 12,
    "start_time": "2023-12-17T10:28:38.228Z"
   },
   {
    "duration": 28,
    "start_time": "2023-12-17T10:28:38.241Z"
   },
   {
    "duration": 13,
    "start_time": "2023-12-17T10:28:38.271Z"
   },
   {
    "duration": 150,
    "start_time": "2023-12-17T10:28:38.285Z"
   },
   {
    "duration": 158,
    "start_time": "2023-12-17T10:28:38.437Z"
   },
   {
    "duration": 129,
    "start_time": "2023-12-17T10:28:38.596Z"
   },
   {
    "duration": 159,
    "start_time": "2023-12-17T10:28:38.726Z"
   },
   {
    "duration": 10,
    "start_time": "2023-12-17T10:28:38.887Z"
   },
   {
    "duration": 112,
    "start_time": "2023-12-17T10:28:38.898Z"
   },
   {
    "duration": 6,
    "start_time": "2023-12-17T10:28:39.012Z"
   },
   {
    "duration": 354,
    "start_time": "2023-12-17T10:28:39.020Z"
   },
   {
    "duration": 354,
    "start_time": "2023-12-17T10:28:39.376Z"
   },
   {
    "duration": 7,
    "start_time": "2023-12-17T10:28:39.731Z"
   },
   {
    "duration": 16,
    "start_time": "2023-12-17T10:28:39.739Z"
   },
   {
    "duration": 119,
    "start_time": "2023-12-17T10:28:39.756Z"
   },
   {
    "duration": 14,
    "start_time": "2023-12-17T10:28:39.878Z"
   },
   {
    "duration": 346,
    "start_time": "2023-12-17T10:28:39.893Z"
   },
   {
    "duration": 6,
    "start_time": "2023-12-17T10:28:40.240Z"
   },
   {
    "duration": 124,
    "start_time": "2023-12-17T10:28:40.252Z"
   },
   {
    "duration": 6,
    "start_time": "2023-12-17T10:28:40.377Z"
   },
   {
    "duration": 16,
    "start_time": "2023-12-17T10:28:40.384Z"
   },
   {
    "duration": 10,
    "start_time": "2023-12-17T10:28:40.401Z"
   },
   {
    "duration": 14,
    "start_time": "2023-12-17T10:28:40.412Z"
   },
   {
    "duration": 31,
    "start_time": "2023-12-17T10:28:40.427Z"
   },
   {
    "duration": 23,
    "start_time": "2023-12-17T10:28:40.460Z"
   },
   {
    "duration": 19,
    "start_time": "2023-12-17T10:28:40.485Z"
   },
   {
    "duration": 11,
    "start_time": "2023-12-17T10:28:40.505Z"
   },
   {
    "duration": 44,
    "start_time": "2023-12-17T10:28:40.518Z"
   },
   {
    "duration": 5,
    "start_time": "2023-12-17T10:28:40.564Z"
   },
   {
    "duration": 5,
    "start_time": "2023-12-17T10:28:40.570Z"
   },
   {
    "duration": 22,
    "start_time": "2023-12-17T10:28:40.576Z"
   },
   {
    "duration": 16,
    "start_time": "2023-12-17T10:28:40.600Z"
   },
   {
    "duration": 246,
    "start_time": "2023-12-17T10:28:40.617Z"
   },
   {
    "duration": 290,
    "start_time": "2023-12-17T10:28:40.864Z"
   },
   {
    "duration": 379,
    "start_time": "2023-12-17T10:28:41.156Z"
   },
   {
    "duration": 16,
    "start_time": "2023-12-17T10:28:41.536Z"
   },
   {
    "duration": 17,
    "start_time": "2023-12-17T10:28:41.554Z"
   },
   {
    "duration": 5,
    "start_time": "2023-12-17T10:28:41.572Z"
   },
   {
    "duration": 770,
    "start_time": "2023-12-17T10:28:41.579Z"
   },
   {
    "duration": 10,
    "start_time": "2023-12-17T10:28:42.350Z"
   },
   {
    "duration": 4,
    "start_time": "2023-12-17T10:28:42.362Z"
   },
   {
    "duration": 13,
    "start_time": "2023-12-17T10:28:42.367Z"
   },
   {
    "duration": 13,
    "start_time": "2023-12-17T10:28:42.381Z"
   },
   {
    "duration": 131,
    "start_time": "2023-12-17T10:28:42.396Z"
   },
   {
    "duration": 9,
    "start_time": "2023-12-17T10:28:42.528Z"
   },
   {
    "duration": 13,
    "start_time": "2023-12-17T10:28:42.539Z"
   },
   {
    "duration": 4,
    "start_time": "2023-12-17T10:28:42.553Z"
   },
   {
    "duration": 21,
    "start_time": "2023-12-17T10:28:42.558Z"
   },
   {
    "duration": 15,
    "start_time": "2023-12-17T10:28:42.581Z"
   },
   {
    "duration": 3,
    "start_time": "2023-12-17T10:28:42.597Z"
   },
   {
    "duration": 3,
    "start_time": "2023-12-17T10:28:42.601Z"
   },
   {
    "duration": 8,
    "start_time": "2023-12-17T10:28:42.605Z"
   },
   {
    "duration": 4,
    "start_time": "2023-12-17T10:28:42.615Z"
   },
   {
    "duration": 3,
    "start_time": "2023-12-17T10:28:42.621Z"
   },
   {
    "duration": 5,
    "start_time": "2023-12-17T10:28:42.626Z"
   },
   {
    "duration": 9,
    "start_time": "2023-12-17T10:28:42.632Z"
   },
   {
    "duration": 3,
    "start_time": "2023-12-17T10:28:42.651Z"
   },
   {
    "duration": 18,
    "start_time": "2023-12-17T10:28:42.656Z"
   },
   {
    "duration": 6,
    "start_time": "2023-12-17T10:28:42.676Z"
   },
   {
    "duration": 3,
    "start_time": "2023-12-17T10:28:42.683Z"
   },
   {
    "duration": 5,
    "start_time": "2023-12-17T10:28:42.688Z"
   },
   {
    "duration": 3,
    "start_time": "2023-12-17T10:28:42.695Z"
   },
   {
    "duration": 4,
    "start_time": "2023-12-17T10:28:42.700Z"
   },
   {
    "duration": 5,
    "start_time": "2023-12-17T10:28:42.705Z"
   },
   {
    "duration": 20,
    "start_time": "2023-12-17T10:28:42.712Z"
   },
   {
    "duration": 46,
    "start_time": "2023-12-18T08:02:10.833Z"
   },
   {
    "duration": 1053,
    "start_time": "2023-12-18T08:02:18.185Z"
   },
   {
    "duration": 2,
    "start_time": "2023-12-18T08:02:19.240Z"
   },
   {
    "duration": 27,
    "start_time": "2023-12-18T08:02:19.243Z"
   },
   {
    "duration": 83,
    "start_time": "2023-12-18T08:02:19.271Z"
   },
   {
    "duration": 95,
    "start_time": "2023-12-18T08:02:19.355Z"
   },
   {
    "duration": 87,
    "start_time": "2023-12-18T08:02:19.452Z"
   },
   {
    "duration": 3,
    "start_time": "2023-12-18T08:02:19.540Z"
   },
   {
    "duration": 38,
    "start_time": "2023-12-18T08:02:19.544Z"
   },
   {
    "duration": 17,
    "start_time": "2023-12-18T08:02:19.583Z"
   },
   {
    "duration": 54,
    "start_time": "2023-12-18T08:02:19.602Z"
   },
   {
    "duration": 6,
    "start_time": "2023-12-18T08:02:19.657Z"
   },
   {
    "duration": 19,
    "start_time": "2023-12-18T08:02:19.664Z"
   },
   {
    "duration": 32,
    "start_time": "2023-12-18T08:02:19.684Z"
   },
   {
    "duration": 27,
    "start_time": "2023-12-18T08:02:19.717Z"
   },
   {
    "duration": 14,
    "start_time": "2023-12-18T08:02:19.745Z"
   },
   {
    "duration": 162,
    "start_time": "2023-12-18T08:02:19.760Z"
   },
   {
    "duration": 152,
    "start_time": "2023-12-18T08:02:19.923Z"
   },
   {
    "duration": 129,
    "start_time": "2023-12-18T08:02:20.077Z"
   },
   {
    "duration": 163,
    "start_time": "2023-12-18T08:02:20.208Z"
   },
   {
    "duration": 11,
    "start_time": "2023-12-18T08:02:20.373Z"
   },
   {
    "duration": 117,
    "start_time": "2023-12-18T08:02:20.385Z"
   },
   {
    "duration": 6,
    "start_time": "2023-12-18T08:02:20.504Z"
   },
   {
    "duration": 341,
    "start_time": "2023-12-18T08:02:20.512Z"
   },
   {
    "duration": 341,
    "start_time": "2023-12-18T08:02:20.855Z"
   },
   {
    "duration": 7,
    "start_time": "2023-12-18T08:02:21.198Z"
   },
   {
    "duration": 10,
    "start_time": "2023-12-18T08:02:21.206Z"
   },
   {
    "duration": 117,
    "start_time": "2023-12-18T08:02:21.217Z"
   },
   {
    "duration": 14,
    "start_time": "2023-12-18T08:02:21.337Z"
   },
   {
    "duration": 351,
    "start_time": "2023-12-18T08:02:21.352Z"
   },
   {
    "duration": 7,
    "start_time": "2023-12-18T08:02:21.705Z"
   },
   {
    "duration": 123,
    "start_time": "2023-12-18T08:02:21.713Z"
   },
   {
    "duration": 6,
    "start_time": "2023-12-18T08:02:21.838Z"
   },
   {
    "duration": 28,
    "start_time": "2023-12-18T08:02:21.846Z"
   },
   {
    "duration": 14,
    "start_time": "2023-12-18T08:02:21.875Z"
   },
   {
    "duration": 39,
    "start_time": "2023-12-18T08:02:21.891Z"
   },
   {
    "duration": 18,
    "start_time": "2023-12-18T08:02:21.931Z"
   },
   {
    "duration": 24,
    "start_time": "2023-12-18T08:02:21.950Z"
   },
   {
    "duration": 16,
    "start_time": "2023-12-18T08:02:21.975Z"
   },
   {
    "duration": 26,
    "start_time": "2023-12-18T08:02:21.992Z"
   },
   {
    "duration": 18,
    "start_time": "2023-12-18T08:02:22.019Z"
   },
   {
    "duration": 6,
    "start_time": "2023-12-18T08:02:22.038Z"
   },
   {
    "duration": 31,
    "start_time": "2023-12-18T08:02:22.045Z"
   },
   {
    "duration": 26,
    "start_time": "2023-12-18T08:02:22.077Z"
   },
   {
    "duration": 20,
    "start_time": "2023-12-18T08:02:22.104Z"
   },
   {
    "duration": 232,
    "start_time": "2023-12-18T08:02:22.126Z"
   },
   {
    "duration": 297,
    "start_time": "2023-12-18T08:02:22.360Z"
   },
   {
    "duration": 369,
    "start_time": "2023-12-18T08:02:22.659Z"
   },
   {
    "duration": 10,
    "start_time": "2023-12-18T08:02:23.029Z"
   },
   {
    "duration": 33,
    "start_time": "2023-12-18T08:02:23.040Z"
   },
   {
    "duration": 5,
    "start_time": "2023-12-18T08:02:23.074Z"
   },
   {
    "duration": 804,
    "start_time": "2023-12-18T08:02:23.080Z"
   },
   {
    "duration": 17,
    "start_time": "2023-12-18T08:02:23.885Z"
   },
   {
    "duration": 16,
    "start_time": "2023-12-18T08:02:23.903Z"
   },
   {
    "duration": 72,
    "start_time": "2023-12-18T08:02:23.921Z"
   },
   {
    "duration": 44,
    "start_time": "2023-12-18T08:02:23.995Z"
   },
   {
    "duration": 165,
    "start_time": "2023-12-18T08:02:24.040Z"
   },
   {
    "duration": 10,
    "start_time": "2023-12-18T08:02:24.206Z"
   },
   {
    "duration": 2,
    "start_time": "2023-12-18T08:02:24.217Z"
   },
   {
    "duration": 20,
    "start_time": "2023-12-18T08:02:24.220Z"
   },
   {
    "duration": 20,
    "start_time": "2023-12-18T08:02:24.242Z"
   },
   {
    "duration": 29,
    "start_time": "2023-12-18T08:02:24.264Z"
   },
   {
    "duration": 40,
    "start_time": "2023-12-18T08:02:24.295Z"
   },
   {
    "duration": 22,
    "start_time": "2023-12-18T08:02:24.337Z"
   },
   {
    "duration": 26,
    "start_time": "2023-12-18T08:02:24.360Z"
   },
   {
    "duration": 59,
    "start_time": "2023-12-18T08:02:24.388Z"
   },
   {
    "duration": 32,
    "start_time": "2023-12-18T08:02:24.448Z"
   },
   {
    "duration": 23,
    "start_time": "2023-12-18T08:02:24.481Z"
   },
   {
    "duration": 62,
    "start_time": "2023-12-18T08:02:24.505Z"
   },
   {
    "duration": 15,
    "start_time": "2023-12-18T08:02:24.568Z"
   },
   {
    "duration": 51,
    "start_time": "2023-12-18T08:02:24.585Z"
   },
   {
    "duration": 69,
    "start_time": "2023-12-18T08:02:24.637Z"
   },
   {
    "duration": 48,
    "start_time": "2023-12-18T08:02:24.708Z"
   },
   {
    "duration": 78,
    "start_time": "2023-12-18T08:02:24.757Z"
   },
   {
    "duration": 89,
    "start_time": "2023-12-18T08:02:24.837Z"
   },
   {
    "duration": 76,
    "start_time": "2023-12-18T08:02:24.927Z"
   },
   {
    "duration": 54,
    "start_time": "2023-12-18T08:02:25.005Z"
   },
   {
    "duration": 22,
    "start_time": "2023-12-18T08:02:25.060Z"
   },
   {
    "duration": 4,
    "start_time": "2023-12-18T09:10:43.730Z"
   },
   {
    "duration": 17,
    "start_time": "2023-12-18T09:10:43.736Z"
   },
   {
    "duration": 3,
    "start_time": "2023-12-18T09:10:43.757Z"
   },
   {
    "duration": 68,
    "start_time": "2023-12-18T09:10:43.762Z"
   },
   {
    "duration": 109,
    "start_time": "2023-12-18T09:10:43.831Z"
   },
   {
    "duration": 56,
    "start_time": "2023-12-18T09:10:43.942Z"
   },
   {
    "duration": 3,
    "start_time": "2023-12-18T09:10:44.000Z"
   },
   {
    "duration": 24,
    "start_time": "2023-12-18T09:10:44.005Z"
   },
   {
    "duration": 3,
    "start_time": "2023-12-18T09:10:44.030Z"
   },
   {
    "duration": 23,
    "start_time": "2023-12-18T09:10:44.035Z"
   },
   {
    "duration": 6,
    "start_time": "2023-12-18T09:10:44.059Z"
   },
   {
    "duration": 8,
    "start_time": "2023-12-18T09:10:44.066Z"
   },
   {
    "duration": 24,
    "start_time": "2023-12-18T09:10:44.075Z"
   },
   {
    "duration": 14,
    "start_time": "2023-12-18T09:10:44.101Z"
   },
   {
    "duration": 4,
    "start_time": "2023-12-18T09:10:44.116Z"
   },
   {
    "duration": 147,
    "start_time": "2023-12-18T09:10:44.122Z"
   },
   {
    "duration": 162,
    "start_time": "2023-12-18T09:10:44.270Z"
   },
   {
    "duration": 123,
    "start_time": "2023-12-18T09:10:44.434Z"
   },
   {
    "duration": 165,
    "start_time": "2023-12-18T09:10:44.558Z"
   },
   {
    "duration": 10,
    "start_time": "2023-12-18T09:10:44.725Z"
   },
   {
    "duration": 113,
    "start_time": "2023-12-18T09:10:44.737Z"
   },
   {
    "duration": 6,
    "start_time": "2023-12-18T09:10:44.851Z"
   },
   {
    "duration": 353,
    "start_time": "2023-12-18T09:10:44.859Z"
   },
   {
    "duration": 389,
    "start_time": "2023-12-18T09:10:45.214Z"
   },
   {
    "duration": 8,
    "start_time": "2023-12-18T09:10:45.604Z"
   },
   {
    "duration": 15,
    "start_time": "2023-12-18T09:10:45.613Z"
   },
   {
    "duration": 117,
    "start_time": "2023-12-18T09:10:45.630Z"
   },
   {
    "duration": 13,
    "start_time": "2023-12-18T09:10:45.749Z"
   },
   {
    "duration": 349,
    "start_time": "2023-12-18T09:10:45.764Z"
   },
   {
    "duration": 6,
    "start_time": "2023-12-18T09:10:46.114Z"
   },
   {
    "duration": 122,
    "start_time": "2023-12-18T09:10:46.121Z"
   },
   {
    "duration": 7,
    "start_time": "2023-12-18T09:10:46.244Z"
   },
   {
    "duration": 34,
    "start_time": "2023-12-18T09:10:46.252Z"
   },
   {
    "duration": 10,
    "start_time": "2023-12-18T09:10:46.287Z"
   },
   {
    "duration": 13,
    "start_time": "2023-12-18T09:10:46.299Z"
   },
   {
    "duration": 12,
    "start_time": "2023-12-18T09:10:46.314Z"
   },
   {
    "duration": 23,
    "start_time": "2023-12-18T09:10:46.327Z"
   },
   {
    "duration": 15,
    "start_time": "2023-12-18T09:10:46.352Z"
   },
   {
    "duration": 33,
    "start_time": "2023-12-18T09:10:46.369Z"
   },
   {
    "duration": 12,
    "start_time": "2023-12-18T09:10:46.404Z"
   },
   {
    "duration": 4,
    "start_time": "2023-12-18T09:10:46.418Z"
   },
   {
    "duration": 9,
    "start_time": "2023-12-18T09:10:46.423Z"
   },
   {
    "duration": 14,
    "start_time": "2023-12-18T09:10:46.436Z"
   },
   {
    "duration": 14,
    "start_time": "2023-12-18T09:10:46.451Z"
   },
   {
    "duration": 248,
    "start_time": "2023-12-18T09:10:46.466Z"
   },
   {
    "duration": 288,
    "start_time": "2023-12-18T09:10:46.715Z"
   },
   {
    "duration": 384,
    "start_time": "2023-12-18T09:10:47.005Z"
   },
   {
    "duration": 9,
    "start_time": "2023-12-18T09:10:47.391Z"
   },
   {
    "duration": 20,
    "start_time": "2023-12-18T09:10:47.401Z"
   },
   {
    "duration": 3,
    "start_time": "2023-12-18T09:10:47.422Z"
   },
   {
    "duration": 748,
    "start_time": "2023-12-18T09:10:47.426Z"
   },
   {
    "duration": 10,
    "start_time": "2023-12-18T09:10:48.175Z"
   },
   {
    "duration": 21,
    "start_time": "2023-12-18T09:10:48.186Z"
   },
   {
    "duration": 14,
    "start_time": "2023-12-18T09:10:48.208Z"
   },
   {
    "duration": 9,
    "start_time": "2023-12-18T09:10:48.223Z"
   },
   {
    "duration": 144,
    "start_time": "2023-12-18T09:10:48.233Z"
   },
   {
    "duration": 8,
    "start_time": "2023-12-18T09:10:48.379Z"
   },
   {
    "duration": 10,
    "start_time": "2023-12-18T09:10:48.389Z"
   },
   {
    "duration": 6,
    "start_time": "2023-12-18T09:10:48.400Z"
   },
   {
    "duration": 7,
    "start_time": "2023-12-18T09:10:48.407Z"
   },
   {
    "duration": 3,
    "start_time": "2023-12-18T09:10:48.415Z"
   },
   {
    "duration": 16,
    "start_time": "2023-12-18T09:10:48.419Z"
   },
   {
    "duration": 3,
    "start_time": "2023-12-18T09:10:48.436Z"
   },
   {
    "duration": 8,
    "start_time": "2023-12-18T09:10:48.441Z"
   },
   {
    "duration": 6,
    "start_time": "2023-12-18T09:10:48.450Z"
   },
   {
    "duration": 6,
    "start_time": "2023-12-18T09:10:48.457Z"
   },
   {
    "duration": 5,
    "start_time": "2023-12-18T09:10:48.464Z"
   },
   {
    "duration": 11,
    "start_time": "2023-12-18T09:10:48.470Z"
   },
   {
    "duration": 5,
    "start_time": "2023-12-18T09:10:48.482Z"
   },
   {
    "duration": 17,
    "start_time": "2023-12-18T09:10:48.488Z"
   },
   {
    "duration": 3,
    "start_time": "2023-12-18T09:10:48.506Z"
   },
   {
    "duration": 3,
    "start_time": "2023-12-18T09:10:48.511Z"
   },
   {
    "duration": 6,
    "start_time": "2023-12-18T09:10:48.515Z"
   },
   {
    "duration": 4,
    "start_time": "2023-12-18T09:10:48.522Z"
   },
   {
    "duration": 4,
    "start_time": "2023-12-18T09:10:48.527Z"
   },
   {
    "duration": 4,
    "start_time": "2023-12-18T09:10:48.532Z"
   },
   {
    "duration": 6,
    "start_time": "2023-12-18T09:10:48.537Z"
   }
  ],
  "kernelspec": {
   "display_name": "Python 3 (ipykernel)",
   "language": "python",
   "name": "python3"
  },
  "language_info": {
   "codemirror_mode": {
    "name": "ipython",
    "version": 3
   },
   "file_extension": ".py",
   "mimetype": "text/x-python",
   "name": "python",
   "nbconvert_exporter": "python",
   "pygments_lexer": "ipython3",
   "version": "3.11.5"
  },
  "toc": {
   "base_numbering": 1,
   "nav_menu": {},
   "number_sections": true,
   "sideBar": true,
   "skip_h1_title": true,
   "title_cell": "Table of Contents",
   "title_sidebar": "Contents",
   "toc_cell": false,
   "toc_position": {
    "height": "calc(100% - 180px)",
    "left": "10px",
    "top": "150px",
    "width": "281.4px"
   },
   "toc_section_display": true,
   "toc_window_display": true
  }
 },
 "nbformat": 4,
 "nbformat_minor": 5
}
