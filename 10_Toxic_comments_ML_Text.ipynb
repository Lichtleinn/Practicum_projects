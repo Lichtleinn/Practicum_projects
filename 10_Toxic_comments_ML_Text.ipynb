{
 "cells": [
  {
   "cell_type": "markdown",
   "metadata": {},
   "source": [
    "# Проект для «Викишоп»"
   ]
  },
  {
   "cell_type": "markdown",
   "metadata": {},
   "source": [
    "Интернет-магазин «Викишоп» запускает новый сервис. Теперь пользователи могут редактировать и дополнять описания товаров, как в вики-сообществах. То есть клиенты предлагают свои правки и комментируют изменения других. Магазину нужен инструмент, который будет искать токсичные комментарии и отправлять их на модерацию. "
   ]
  },
  {
   "cell_type": "markdown",
   "metadata": {},
   "source": [
    "## Импорты"
   ]
  },
  {
   "cell_type": "code",
   "execution_count": 1,
   "metadata": {},
   "outputs": [],
   "source": [
    "import numpy as np\n",
    "import pandas as pd\n",
    "import re\n",
    "import nltk\n",
    "import torch\n",
    "import transformers"
   ]
  },
  {
   "cell_type": "code",
   "execution_count": 2,
   "metadata": {},
   "outputs": [],
   "source": [
    "device = torch.device(\"cuda:0\") if torch.cuda.is_available() else torch.device(\"cpu\")"
   ]
  },
  {
   "cell_type": "code",
   "execution_count": 3,
   "metadata": {},
   "outputs": [],
   "source": [
    "from sklearn.linear_model import LogisticRegression\n",
    "from sklearn.ensemble import RandomForestClassifier\n",
    "from sklearn.tree import DecisionTreeClassifier\n",
    "from sklearn.neighbors import KNeighborsClassifier\n",
    "from sklearn.ensemble import RandomForestRegressor, ExtraTreesRegressor\n",
    "from sklearn.svm import SVC\n",
    "from sklearn.model_selection import cross_val_score\n",
    "from sklearn.model_selection import train_test_split\n",
    "from sklearn.pipeline import Pipeline\n",
    "from sklearn.model_selection import GridSearchCV, RandomizedSearchCV\n",
    "from sklearn import metrics\n",
    "from sklearn.metrics import f1_score, make_scorer\n",
    "from tqdm import tqdm, notebook\n",
    "from nltk.corpus import stopwords as nltk_stopwords\n",
    "from sklearn.feature_extraction.text import TfidfVectorizer, CountVectorizer"
   ]
  },
  {
   "cell_type": "code",
   "execution_count": 4,
   "metadata": {},
   "outputs": [],
   "source": [
    "from pymystem3 import Mystem"
   ]
  },
  {
   "cell_type": "code",
   "execution_count": 5,
   "metadata": {},
   "outputs": [],
   "source": [
    "import matplotlib\n",
    "import matplotlib.pyplot as plt\n",
    "import plotly.express as px\n",
    "import seaborn as sns"
   ]
  },
  {
   "cell_type": "code",
   "execution_count": 6,
   "metadata": {},
   "outputs": [],
   "source": [
    "from nltk.tokenize import word_tokenize \n",
    "from nltk.stem import WordNetLemmatizer"
   ]
  },
  {
   "cell_type": "code",
   "execution_count": 7,
   "metadata": {},
   "outputs": [],
   "source": [
    "from catboost import CatBoostClassifier\n",
    "import time\n",
    "import catboost as cb"
   ]
  },
  {
   "cell_type": "code",
   "execution_count": 8,
   "metadata": {},
   "outputs": [],
   "source": [
    "from sklearn.experimental import enable_hist_gradient_boosting\n",
    "from sklearn.ensemble import HistGradientBoostingClassifier"
   ]
  },
  {
   "cell_type": "code",
   "execution_count": 9,
   "metadata": {},
   "outputs": [],
   "source": [
    "import warnings\n",
    "warnings.filterwarnings('ignore')"
   ]
  },
  {
   "cell_type": "code",
   "execution_count": 10,
   "metadata": {},
   "outputs": [
    {
     "name": "stdout",
     "output_type": "stream",
     "text": [
      "Note: you may need to restart the kernel to use updated packages.\n"
     ]
    }
   ],
   "source": [
    "pip install nltk -q"
   ]
  },
  {
   "cell_type": "code",
   "execution_count": 11,
   "metadata": {
    "scrolled": true
   },
   "outputs": [
    {
     "name": "stderr",
     "output_type": "stream",
     "text": [
      "[nltk_data] Downloading package wordnet to /home/jovyan/nltk_data...\n",
      "[nltk_data]   Package wordnet is already up-to-date!\n"
     ]
    },
    {
     "data": {
      "text/plain": [
       "True"
      ]
     },
     "execution_count": 11,
     "metadata": {},
     "output_type": "execute_result"
    }
   ],
   "source": [
    "nltk.download('wordnet')"
   ]
  },
  {
   "cell_type": "code",
   "execution_count": 12,
   "metadata": {},
   "outputs": [],
   "source": [
    "from nltk.corpus import wordnet"
   ]
  },
  {
   "cell_type": "code",
   "execution_count": 13,
   "metadata": {},
   "outputs": [],
   "source": [
    "# Зададим отображение всех колонок\n",
    "\n",
    "pd.set_option(\"display.max.columns\", None)"
   ]
  },
  {
   "cell_type": "code",
   "execution_count": 14,
   "metadata": {},
   "outputs": [],
   "source": [
    "# Зададим отображение десятичных знаков\n",
    "\n",
    "pd.options.display.float_format = '{:.3f}'.format"
   ]
  },
  {
   "cell_type": "code",
   "execution_count": 15,
   "metadata": {},
   "outputs": [],
   "source": [
    "# Определим random_state и test_size\n",
    "\n",
    "RANDOM_STATE = 45\n",
    "VALID_SIZE = 0.4\n",
    "TEST_SIZE_2 = 0.5\n",
    "TEST_SIZE = 0.25\n"
   ]
  },
  {
   "cell_type": "code",
   "execution_count": 16,
   "metadata": {},
   "outputs": [
    {
     "name": "stdout",
     "output_type": "stream",
     "text": [
      "Note: you may need to restart the kernel to use updated packages.\n"
     ]
    }
   ],
   "source": [
    "pip install pandarallel -q"
   ]
  },
  {
   "cell_type": "code",
   "execution_count": 17,
   "metadata": {},
   "outputs": [
    {
     "name": "stdout",
     "output_type": "stream",
     "text": [
      "INFO: Pandarallel will run on 4 workers.\n",
      "INFO: Pandarallel will use Memory file system to transfer data between the main process and workers.\n"
     ]
    }
   ],
   "source": [
    "from pandarallel import pandarallel\n",
    "tqdm.pandas(desc=\"progress\")\n",
    "pandarallel.initialize(progress_bar = True)"
   ]
  },
  {
   "cell_type": "code",
   "execution_count": 18,
   "metadata": {},
   "outputs": [],
   "source": [
    "!/opt/conda/bin/python -m pip install wordcloud -q"
   ]
  },
  {
   "cell_type": "code",
   "execution_count": 19,
   "metadata": {},
   "outputs": [],
   "source": [
    "!/opt/conda/bin/python -m pip install wordcloud==1.8.2.2 -q"
   ]
  },
  {
   "cell_type": "code",
   "execution_count": 20,
   "metadata": {},
   "outputs": [],
   "source": [
    "!pip install --upgrade Pillow -q"
   ]
  },
  {
   "cell_type": "code",
   "execution_count": 21,
   "metadata": {},
   "outputs": [
    {
     "name": "stderr",
     "output_type": "stream",
     "text": [
      "[nltk_data] Downloading package averaged_perceptron_tagger to\n",
      "[nltk_data]     /home/jovyan/nltk_data...\n",
      "[nltk_data]   Package averaged_perceptron_tagger is already up-to-\n",
      "[nltk_data]       date!\n"
     ]
    },
    {
     "data": {
      "text/plain": [
       "True"
      ]
     },
     "execution_count": 21,
     "metadata": {},
     "output_type": "execute_result"
    }
   ],
   "source": [
    "nltk.download('averaged_perceptron_tagger')"
   ]
  },
  {
   "cell_type": "markdown",
   "metadata": {},
   "source": [
    "## Подготовка"
   ]
  },
  {
   "cell_type": "markdown",
   "metadata": {},
   "source": [
    "### Загрузка данных"
   ]
  },
  {
   "cell_type": "code",
   "execution_count": 22,
   "metadata": {},
   "outputs": [],
   "source": [
    "# Загружаем файл\n",
    "\n",
    "df = pd.read_csv('/datasets/toxic_comments.csv', index_col=[0])"
   ]
  },
  {
   "cell_type": "markdown",
   "metadata": {},
   "source": [
    "#На случай работы локально\n",
    "\n",
    "if os.path.exists('/datasets/toxic_comments.csv'):\n",
    "    df = pd.read_csv('/datasets/toxic_comments.csv', index_col=[0])\n",
    "elif os.path.exists(r'C:\\Users\\melyakova_sv\\Desktop\\CM\\Yandex\\DataSets\\toxic_comments.csv'):\n",
    "    df = pd.read_csv(r'C:\\Users\\melyakova_sv\\Desktop\\CM\\Yandex\\DataSets\\toxic_comments.csv', index_col=[0])\n",
    "else:\n",
    "    print('Файл не найден')"
   ]
  },
  {
   "cell_type": "code",
   "execution_count": 23,
   "metadata": {},
   "outputs": [
    {
     "data": {
      "text/html": [
       "<div>\n",
       "<style scoped>\n",
       "    .dataframe tbody tr th:only-of-type {\n",
       "        vertical-align: middle;\n",
       "    }\n",
       "\n",
       "    .dataframe tbody tr th {\n",
       "        vertical-align: top;\n",
       "    }\n",
       "\n",
       "    .dataframe thead th {\n",
       "        text-align: right;\n",
       "    }\n",
       "</style>\n",
       "<table border=\"1\" class=\"dataframe\">\n",
       "  <thead>\n",
       "    <tr style=\"text-align: right;\">\n",
       "      <th></th>\n",
       "      <th>text</th>\n",
       "      <th>toxic</th>\n",
       "    </tr>\n",
       "  </thead>\n",
       "  <tbody>\n",
       "    <tr>\n",
       "      <th>0</th>\n",
       "      <td>Explanation\\nWhy the edits made under my usern...</td>\n",
       "      <td>0</td>\n",
       "    </tr>\n",
       "    <tr>\n",
       "      <th>1</th>\n",
       "      <td>D'aww! He matches this background colour I'm s...</td>\n",
       "      <td>0</td>\n",
       "    </tr>\n",
       "    <tr>\n",
       "      <th>2</th>\n",
       "      <td>Hey man, I'm really not trying to edit war. It...</td>\n",
       "      <td>0</td>\n",
       "    </tr>\n",
       "    <tr>\n",
       "      <th>3</th>\n",
       "      <td>\"\\nMore\\nI can't make any real suggestions on ...</td>\n",
       "      <td>0</td>\n",
       "    </tr>\n",
       "    <tr>\n",
       "      <th>4</th>\n",
       "      <td>You, sir, are my hero. Any chance you remember...</td>\n",
       "      <td>0</td>\n",
       "    </tr>\n",
       "  </tbody>\n",
       "</table>\n",
       "</div>"
      ],
      "text/plain": [
       "                                                text  toxic\n",
       "0  Explanation\\nWhy the edits made under my usern...      0\n",
       "1  D'aww! He matches this background colour I'm s...      0\n",
       "2  Hey man, I'm really not trying to edit war. It...      0\n",
       "3  \"\\nMore\\nI can't make any real suggestions on ...      0\n",
       "4  You, sir, are my hero. Any chance you remember...      0"
      ]
     },
     "execution_count": 23,
     "metadata": {},
     "output_type": "execute_result"
    }
   ],
   "source": [
    "# Выведем первые 5 строк\n",
    "\n",
    "df.head()"
   ]
  },
  {
   "cell_type": "code",
   "execution_count": 24,
   "metadata": {},
   "outputs": [],
   "source": [
    "# Приведем в порядок индексы\n",
    "\n",
    "df.reset_index(drop=True, inplace=True)"
   ]
  },
  {
   "cell_type": "code",
   "execution_count": 25,
   "metadata": {},
   "outputs": [
    {
     "data": {
      "text/html": [
       "<div>\n",
       "<style scoped>\n",
       "    .dataframe tbody tr th:only-of-type {\n",
       "        vertical-align: middle;\n",
       "    }\n",
       "\n",
       "    .dataframe tbody tr th {\n",
       "        vertical-align: top;\n",
       "    }\n",
       "\n",
       "    .dataframe thead th {\n",
       "        text-align: right;\n",
       "    }\n",
       "</style>\n",
       "<table border=\"1\" class=\"dataframe\">\n",
       "  <thead>\n",
       "    <tr style=\"text-align: right;\">\n",
       "      <th></th>\n",
       "      <th>text</th>\n",
       "      <th>toxic</th>\n",
       "    </tr>\n",
       "  </thead>\n",
       "  <tbody>\n",
       "    <tr>\n",
       "      <th>0</th>\n",
       "      <td>Explanation\\nWhy the edits made under my usern...</td>\n",
       "      <td>0</td>\n",
       "    </tr>\n",
       "    <tr>\n",
       "      <th>1</th>\n",
       "      <td>D'aww! He matches this background colour I'm s...</td>\n",
       "      <td>0</td>\n",
       "    </tr>\n",
       "    <tr>\n",
       "      <th>2</th>\n",
       "      <td>Hey man, I'm really not trying to edit war. It...</td>\n",
       "      <td>0</td>\n",
       "    </tr>\n",
       "    <tr>\n",
       "      <th>3</th>\n",
       "      <td>\"\\nMore\\nI can't make any real suggestions on ...</td>\n",
       "      <td>0</td>\n",
       "    </tr>\n",
       "    <tr>\n",
       "      <th>4</th>\n",
       "      <td>You, sir, are my hero. Any chance you remember...</td>\n",
       "      <td>0</td>\n",
       "    </tr>\n",
       "    <tr>\n",
       "      <th>...</th>\n",
       "      <td>...</td>\n",
       "      <td>...</td>\n",
       "    </tr>\n",
       "    <tr>\n",
       "      <th>159287</th>\n",
       "      <td>\":::::And for the second time of asking, when ...</td>\n",
       "      <td>0</td>\n",
       "    </tr>\n",
       "    <tr>\n",
       "      <th>159288</th>\n",
       "      <td>You should be ashamed of yourself \\n\\nThat is ...</td>\n",
       "      <td>0</td>\n",
       "    </tr>\n",
       "    <tr>\n",
       "      <th>159289</th>\n",
       "      <td>Spitzer \\n\\nUmm, theres no actual article for ...</td>\n",
       "      <td>0</td>\n",
       "    </tr>\n",
       "    <tr>\n",
       "      <th>159290</th>\n",
       "      <td>And it looks like it was actually you who put ...</td>\n",
       "      <td>0</td>\n",
       "    </tr>\n",
       "    <tr>\n",
       "      <th>159291</th>\n",
       "      <td>\"\\nAnd ... I really don't think you understand...</td>\n",
       "      <td>0</td>\n",
       "    </tr>\n",
       "  </tbody>\n",
       "</table>\n",
       "<p>159292 rows × 2 columns</p>\n",
       "</div>"
      ],
      "text/plain": [
       "                                                     text  toxic\n",
       "0       Explanation\\nWhy the edits made under my usern...      0\n",
       "1       D'aww! He matches this background colour I'm s...      0\n",
       "2       Hey man, I'm really not trying to edit war. It...      0\n",
       "3       \"\\nMore\\nI can't make any real suggestions on ...      0\n",
       "4       You, sir, are my hero. Any chance you remember...      0\n",
       "...                                                   ...    ...\n",
       "159287  \":::::And for the second time of asking, when ...      0\n",
       "159288  You should be ashamed of yourself \\n\\nThat is ...      0\n",
       "159289  Spitzer \\n\\nUmm, theres no actual article for ...      0\n",
       "159290  And it looks like it was actually you who put ...      0\n",
       "159291  \"\\nAnd ... I really don't think you understand...      0\n",
       "\n",
       "[159292 rows x 2 columns]"
      ]
     },
     "execution_count": 25,
     "metadata": {},
     "output_type": "execute_result"
    }
   ],
   "source": [
    "# Проверим\n",
    "\n",
    "df"
   ]
  },
  {
   "cell_type": "code",
   "execution_count": 26,
   "metadata": {},
   "outputs": [
    {
     "data": {
      "text/plain": [
       "(159292, 2)"
      ]
     },
     "execution_count": 26,
     "metadata": {},
     "output_type": "execute_result"
    }
   ],
   "source": [
    "# Выведем размер файла\n",
    "\n",
    "df.shape"
   ]
  },
  {
   "cell_type": "code",
   "execution_count": 27,
   "metadata": {},
   "outputs": [
    {
     "name": "stdout",
     "output_type": "stream",
     "text": [
      "<class 'pandas.core.frame.DataFrame'>\n",
      "RangeIndex: 159292 entries, 0 to 159291\n",
      "Data columns (total 2 columns):\n",
      " #   Column  Non-Null Count   Dtype \n",
      "---  ------  --------------   ----- \n",
      " 0   text    159292 non-null  object\n",
      " 1   toxic   159292 non-null  int64 \n",
      "dtypes: int64(1), object(1)\n",
      "memory usage: 2.4+ MB\n"
     ]
    }
   ],
   "source": [
    "# Общая информация\n",
    "\n",
    "df.info()"
   ]
  },
  {
   "cell_type": "markdown",
   "metadata": {},
   "source": [
    "Пропусков нет. Значения соответствуют типам данных."
   ]
  },
  {
   "cell_type": "code",
   "execution_count": 28,
   "metadata": {},
   "outputs": [
    {
     "data": {
      "text/plain": [
       "array([0, 1])"
      ]
     },
     "execution_count": 28,
     "metadata": {},
     "output_type": "execute_result"
    }
   ],
   "source": [
    "# Проверим значения в целевой колонке\n",
    "\n",
    "df.toxic.unique()"
   ]
  },
  {
   "cell_type": "markdown",
   "metadata": {},
   "source": [
    "Посмотрим соотношение классов в целевом признаке"
   ]
  },
  {
   "cell_type": "code",
   "execution_count": 29,
   "metadata": {},
   "outputs": [
    {
     "data": {
      "text/html": [
       "<div>\n",
       "<style scoped>\n",
       "    .dataframe tbody tr th:only-of-type {\n",
       "        vertical-align: middle;\n",
       "    }\n",
       "\n",
       "    .dataframe tbody tr th {\n",
       "        vertical-align: top;\n",
       "    }\n",
       "\n",
       "    .dataframe thead th {\n",
       "        text-align: right;\n",
       "    }\n",
       "</style>\n",
       "<table border=\"1\" class=\"dataframe\">\n",
       "  <thead>\n",
       "    <tr style=\"text-align: right;\">\n",
       "      <th></th>\n",
       "      <th>toxic</th>\n",
       "      <th>rates</th>\n",
       "    </tr>\n",
       "  </thead>\n",
       "  <tbody>\n",
       "    <tr>\n",
       "      <th>0</th>\n",
       "      <td>143106</td>\n",
       "      <td>89.840</td>\n",
       "    </tr>\n",
       "    <tr>\n",
       "      <th>1</th>\n",
       "      <td>16186</td>\n",
       "      <td>10.160</td>\n",
       "    </tr>\n",
       "  </tbody>\n",
       "</table>\n",
       "</div>"
      ],
      "text/plain": [
       "    toxic  rates\n",
       "0  143106 89.840\n",
       "1   16186 10.160"
      ]
     },
     "execution_count": 29,
     "metadata": {},
     "output_type": "execute_result"
    }
   ],
   "source": [
    "rate = df.toxic.value_counts().to_frame()\n",
    "rate['rates'] = round((rate.toxic/df.shape[0])*100,2)\n",
    "rate"
   ]
  },
  {
   "cell_type": "code",
   "execution_count": 30,
   "metadata": {},
   "outputs": [
    {
     "data": {
      "image/png": "[encoded data removed]",
      "text/plain": [
       "<Figure size 720x216 with 1 Axes>"
      ]
     },
     "metadata": {
      "needs_background": "light"
     },
     "output_type": "display_data"
    }
   ],
   "source": [
    "# Посмотрим это на графике:\n",
    "\n",
    "fig, axs = plt.subplots( figsize=(10,3))\n",
    "df.toxic.value_counts(normalize=True).plot(kind='bar',  rot=0)\n",
    "axs.set_title('Распределение классов в целевом признаке', fontsize=14)\n",
    "axs.set_xlabel('Классы целевого признака', fontsize=12)\n",
    "axs.set_ylabel('Доля в общем объеме данных', fontsize=12)\n",
    "\n",
    "for i in range(df.toxic.nunique()):\n",
    "        plt.text(i,df.toxic.value_counts(normalize=True)[i]/2, \n",
    "                 round(df.toxic.value_counts(normalize=True)[i],2), ha = 'center', \n",
    "                 bbox = dict(facecolor = 'white', alpha =0.8))     \n",
    "\n",
    "plt.show();"
   ]
  },
  {
   "cell_type": "markdown",
   "metadata": {},
   "source": [
    "В нашем файле есть дисбаланс классов. Но это не недостаток, а особенность данных (токисчных комментариев меньше, чем нормальных)"
   ]
  },
  {
   "cell_type": "markdown",
   "metadata": {},
   "source": [
    "### Подготовка данных"
   ]
  },
  {
   "cell_type": "markdown",
   "metadata": {},
   "source": [
    "Проверим, какие данные содержатся в колонке текст"
   ]
  },
  {
   "cell_type": "code",
   "execution_count": 31,
   "metadata": {},
   "outputs": [
    {
     "data": {
      "text/plain": [
       "56150     Anyways, wheres LittleLuckyLinks page? - User:...\n",
       "73193     starcraft 2 isnt even out yet. But hell, he's ...\n",
       "123175    from 0Waldo \\nWhy did you just revert my link?...\n",
       "97060                  Please don't block. Everything is ok\n",
       "46345                            equal or greater than zeor\n",
       "63027     con stalkers. Some idiot in Vancouver simply c...\n",
       "147390    \"\\n\\n This is a map of the East India Company ...\n",
       "9462      licences \\n\\nJust a note of scepticism relatin...\n",
       "54999     Ah, thank you for the fast reply.  On MSN Mess...\n",
       "46584     I suppose we can say that the canvassed RfC is...\n",
       "140436    \"\\nYou don't get it. You're too involved with ...\n",
       "72188     \"\\n\\nThanks, it appears that at least someone ...\n",
       "134497                 Fuck veritas this school sucks dick!\n",
       "113209    ya \\n\\nyou cna stop before your banned from wi...\n",
       "67800     Now \\n\\nI still think you are doo doo.\\n\\nYes,...\n",
       "32343     Hi Rex, nice to meet you. ) Kinda was feeling ...\n",
       "139448    If you're a motherf**king a**hole, what can I ...\n",
       "123893    Now extended to 24 hours because you personall...\n",
       "131940    Mr. Miller's paper is a secondary source, peer...\n",
       "93176     \"\\nNot to get off topic (or on topic), but I *...\n",
       "103212    Because I think you are a puppet account of  Talk\n",
       "130670    \"\\n\\n WP:DYK \\n\\nThank you for creating the Ph...\n",
       "16854        Oh, OK.  Is the term '12th man' only informal?\n",
       "151699    Okay, that makes sense, but doesn't it go agai...\n",
       "69565                       New Recording Labels and Artist\n",
       "94812     Re: illogical: Supervening influences on half ...\n",
       "13531     become my mentor ? \\n\\nHi Blehfu, look into my...\n",
       "10892     Tvoz as well, who I had not met much in my sho...\n",
       "67570     Edit - There seems to be some confusion over w...\n",
       "133864    \"\\n\\n 16 Vayathinile \\nServer Sundaram, an art...\n",
       "98866     \"\\n\\nOne more comment on this... I would just ...\n",
       "134389    \"Welcome!\\n\\nHello, , and welcome to Wikipedia...\n",
       "27975           Not vandalism! \\n\\nThose are not vandalism!\n",
       "29754     \"\\nI used no names. If you think you and Aaron...\n",
       "95932     Sure, but we must exercise caution when granti...\n",
       "Name: text, dtype: object"
      ]
     },
     "execution_count": 31,
     "metadata": {},
     "output_type": "execute_result"
    }
   ],
   "source": [
    "df.text.sample(35)"
   ]
  },
  {
   "cell_type": "markdown",
   "metadata": {},
   "source": [
    "В тексте много посторонних символов, которые следует удалить."
   ]
  },
  {
   "cell_type": "markdown",
   "metadata": {},
   "source": [
    "Проведем очистку текста от лишних символов и лемматизацию "
   ]
  },
  {
   "cell_type": "code",
   "execution_count": 32,
   "metadata": {},
   "outputs": [],
   "source": [
    "# Функция для очистки и лемматизации текста\n",
    "\n",
    "def clear_text(text):\n",
    "    text = text.lower()\n",
    "    text = re.sub(r'[^a-z]', ' ', text)\n",
    "    text = re.sub(r'(\"?:=\\n|\\r,].)', ' ', text)\n",
    "\n",
    "    return text"
   ]
  },
  {
   "cell_type": "code",
   "execution_count": 33,
   "metadata": {},
   "outputs": [],
   "source": [
    "# Применим функцию\n",
    "\n",
    "df['lemm_text'] = df['text'].apply(clear_text)"
   ]
  },
  {
   "cell_type": "code",
   "execution_count": 34,
   "metadata": {},
   "outputs": [],
   "source": [
    "# Функция для определения POS-tags для лемматизатора\n",
    "\n",
    "def get_wordnet_pos(word):\n",
    "\n",
    "    tag = nltk.pos_tag([word])[0][1][0].upper()\n",
    "    tag_dict = {\"J\": wordnet.ADJ,\n",
    "                \"N\": wordnet.NOUN,\n",
    "                \"V\": wordnet.VERB,\n",
    "                \"R\": wordnet.ADV}\n",
    "    \n",
    "    return tag_dict.get(tag, wordnet.NOUN)"
   ]
  },
  {
   "cell_type": "code",
   "execution_count": 35,
   "metadata": {},
   "outputs": [
    {
     "name": "stderr",
     "output_type": "stream",
     "text": [
      "[nltk_data] Downloading package stopwords to /home/jovyan/nltk_data...\n",
      "[nltk_data]   Package stopwords is already up-to-date!\n"
     ]
    }
   ],
   "source": [
    "# Определим стоп-слова (язык английский)\n",
    "\n",
    "nltk.download('stopwords')\n",
    "stopwords = set(nltk_stopwords.words('english'))"
   ]
  },
  {
   "cell_type": "code",
   "execution_count": 36,
   "metadata": {},
   "outputs": [],
   "source": [
    "# Инициализируем лемматизатор\n",
    "\n",
    "lemmatizer = WordNetLemmatizer()"
   ]
  },
  {
   "cell_type": "code",
   "execution_count": 37,
   "metadata": {},
   "outputs": [],
   "source": [
    "# Функция для лемматизации текста\n",
    "\n",
    "def lemm_text(text):\n",
    "    \n",
    "    token = nltk.word_tokenize(text)\n",
    "    text = [word for word in token if word not in stopwords]\n",
    "    text = ' '.join([lemmatizer.lemmatize(word, get_wordnet_pos(word)) for word in text])\n",
    "    \n",
    "    return text"
   ]
  },
  {
   "cell_type": "code",
   "execution_count": 38,
   "metadata": {},
   "outputs": [],
   "source": [
    "# Применим функцию\n",
    "\n",
    "df['lemm_text'] = df['lemm_text'].apply(lemm_text)"
   ]
  },
  {
   "cell_type": "code",
   "execution_count": 39,
   "metadata": {},
   "outputs": [
    {
     "data": {
      "text/html": [
       "<div>\n",
       "<style scoped>\n",
       "    .dataframe tbody tr th:only-of-type {\n",
       "        vertical-align: middle;\n",
       "    }\n",
       "\n",
       "    .dataframe tbody tr th {\n",
       "        vertical-align: top;\n",
       "    }\n",
       "\n",
       "    .dataframe thead th {\n",
       "        text-align: right;\n",
       "    }\n",
       "</style>\n",
       "<table border=\"1\" class=\"dataframe\">\n",
       "  <thead>\n",
       "    <tr style=\"text-align: right;\">\n",
       "      <th></th>\n",
       "      <th>text</th>\n",
       "      <th>toxic</th>\n",
       "      <th>lemm_text</th>\n",
       "    </tr>\n",
       "  </thead>\n",
       "  <tbody>\n",
       "    <tr>\n",
       "      <th>0</th>\n",
       "      <td>Explanation\\nWhy the edits made under my usern...</td>\n",
       "      <td>0</td>\n",
       "      <td>explanation edits make username hardcore metal...</td>\n",
       "    </tr>\n",
       "    <tr>\n",
       "      <th>1</th>\n",
       "      <td>D'aww! He matches this background colour I'm s...</td>\n",
       "      <td>0</td>\n",
       "      <td>aww match background colour seemingly stuck th...</td>\n",
       "    </tr>\n",
       "    <tr>\n",
       "      <th>2</th>\n",
       "      <td>Hey man, I'm really not trying to edit war. It...</td>\n",
       "      <td>0</td>\n",
       "      <td>hey man really try edit war guy constantly rem...</td>\n",
       "    </tr>\n",
       "  </tbody>\n",
       "</table>\n",
       "</div>"
      ],
      "text/plain": [
       "                                                text  toxic  \\\n",
       "0  Explanation\\nWhy the edits made under my usern...      0   \n",
       "1  D'aww! He matches this background colour I'm s...      0   \n",
       "2  Hey man, I'm really not trying to edit war. It...      0   \n",
       "\n",
       "                                           lemm_text  \n",
       "0  explanation edits make username hardcore metal...  \n",
       "1  aww match background colour seemingly stuck th...  \n",
       "2  hey man really try edit war guy constantly rem...  "
      ]
     },
     "execution_count": 39,
     "metadata": {},
     "output_type": "execute_result"
    }
   ],
   "source": [
    "df.head(3)"
   ]
  },
  {
   "cell_type": "code",
   "execution_count": 40,
   "metadata": {},
   "outputs": [
    {
     "data": {
      "text/html": [
       "<div>\n",
       "<style scoped>\n",
       "    .dataframe tbody tr th:only-of-type {\n",
       "        vertical-align: middle;\n",
       "    }\n",
       "\n",
       "    .dataframe tbody tr th {\n",
       "        vertical-align: top;\n",
       "    }\n",
       "\n",
       "    .dataframe thead th {\n",
       "        text-align: right;\n",
       "    }\n",
       "</style>\n",
       "<table border=\"1\" class=\"dataframe\">\n",
       "  <thead>\n",
       "    <tr style=\"text-align: right;\">\n",
       "      <th></th>\n",
       "      <th>text</th>\n",
       "      <th>toxic</th>\n",
       "      <th>lemm_text</th>\n",
       "    </tr>\n",
       "  </thead>\n",
       "  <tbody>\n",
       "    <tr>\n",
       "      <th>113294</th>\n",
       "      <td>Your edit to User_Talk:Martyman\\nPlease stop. ...</td>\n",
       "      <td>0</td>\n",
       "      <td>edit user talk martyman please stop continue v...</td>\n",
       "    </tr>\n",
       "    <tr>\n",
       "      <th>37971</th>\n",
       "      <td>The file is non-free and a non-free file needs...</td>\n",
       "      <td>0</td>\n",
       "      <td>file non free non free file need non free use ...</td>\n",
       "    </tr>\n",
       "    <tr>\n",
       "      <th>16260</th>\n",
       "      <td>WHAT KIND OF NAME IS PRAIRIEWOOD??????? \\n\\nAL...</td>\n",
       "      <td>1</td>\n",
       "      <td>kind name prairiewood shit name evil happen ma...</td>\n",
       "    </tr>\n",
       "    <tr>\n",
       "      <th>39729</th>\n",
       "      <td>Um... \\n\\nMy edit was cited, dumbass. Did you ...</td>\n",
       "      <td>1</td>\n",
       "      <td>um edit cite dumbass even listen source revert</td>\n",
       "    </tr>\n",
       "    <tr>\n",
       "      <th>100642</th>\n",
       "      <td>, please stop pushing lopsided POV - prove the...</td>\n",
       "      <td>0</td>\n",
       "      <td>please stop push lopsided pov prove hangul pha...</td>\n",
       "    </tr>\n",
       "    <tr>\n",
       "      <th>53663</th>\n",
       "      <td>\"::If I remember correctly, Kilo 6-4 was the c...</td>\n",
       "      <td>0</td>\n",
       "      <td>remember correctly kilo command control bird g...</td>\n",
       "    </tr>\n",
       "    <tr>\n",
       "      <th>64546</th>\n",
       "      <td>Frickin' vandals. Hunt 'em down, Admins please...</td>\n",
       "      <td>1</td>\n",
       "      <td>frickin vandal hunt em admins please racooon</td>\n",
       "    </tr>\n",
       "    <tr>\n",
       "      <th>27394</th>\n",
       "      <td>It wasn't vandalism it was perfectly justified...</td>\n",
       "      <td>0</td>\n",
       "      <td>vandalism perfectly justified find extremely i...</td>\n",
       "    </tr>\n",
       "    <tr>\n",
       "      <th>2210</th>\n",
       "      <td>\"\\n\\n Some baklava for you! \\n\\n  Fuck . =)   \"</td>\n",
       "      <td>1</td>\n",
       "      <td>baklava fuck</td>\n",
       "    </tr>\n",
       "    <tr>\n",
       "      <th>145123</th>\n",
       "      <td>\"\\nSince she does have controversial statement...</td>\n",
       "      <td>0</td>\n",
       "      <td>since controversial statement race include bit...</td>\n",
       "    </tr>\n",
       "    <tr>\n",
       "      <th>126079</th>\n",
       "      <td>It was my intention that you stop being a dick...</td>\n",
       "      <td>1</td>\n",
       "      <td>intention stop dick use template image worksho...</td>\n",
       "    </tr>\n",
       "    <tr>\n",
       "      <th>52181</th>\n",
       "      <td>(UTC)\\n\\nEvery second year the Falcon is going...</td>\n",
       "      <td>0</td>\n",
       "      <td>utc every second year falcon go replace diffic...</td>\n",
       "    </tr>\n",
       "    <tr>\n",
       "      <th>106831</th>\n",
       "      <td>What about the evidence you deleted?</td>\n",
       "      <td>0</td>\n",
       "      <td>evidence delete</td>\n",
       "    </tr>\n",
       "    <tr>\n",
       "      <th>109940</th>\n",
       "      <td>Ketuanan Melayu peer review \\n\\nI'll give the ...</td>\n",
       "      <td>0</td>\n",
       "      <td>ketuanan melayu peer review give article solid...</td>\n",
       "    </tr>\n",
       "    <tr>\n",
       "      <th>47956</th>\n",
       "      <td>try harder wikipedia wankers</td>\n",
       "      <td>1</td>\n",
       "      <td>try harder wikipedia wanker</td>\n",
       "    </tr>\n",
       "    <tr>\n",
       "      <th>51705</th>\n",
       "      <td>F.Y.I. \\n\\nWikipedia:Articles for deletion/Con...</td>\n",
       "      <td>0</td>\n",
       "      <td>f wikipedia article deletion control demolitio...</td>\n",
       "    </tr>\n",
       "    <tr>\n",
       "      <th>109798</th>\n",
       "      <td>Good meeting you, too. And curse you for makin...</td>\n",
       "      <td>0</td>\n",
       "      <td>good meeting curse make add yet another item a...</td>\n",
       "    </tr>\n",
       "    <tr>\n",
       "      <th>124913</th>\n",
       "      <td>Explosion section \\n\\nI would suggest moving s...</td>\n",
       "      <td>0</td>\n",
       "      <td>explosion section would suggest move informati...</td>\n",
       "    </tr>\n",
       "    <tr>\n",
       "      <th>25572</th>\n",
       "      <td>I have tried several searches for an alternati...</td>\n",
       "      <td>0</td>\n",
       "      <td>try several search alternative source unable f...</td>\n",
       "    </tr>\n",
       "    <tr>\n",
       "      <th>120682</th>\n",
       "      <td>The Afd voting process left votes for keep and...</td>\n",
       "      <td>0</td>\n",
       "      <td>afd voting process left vote keep view reject ...</td>\n",
       "    </tr>\n",
       "    <tr>\n",
       "      <th>59348</th>\n",
       "      <td>Edit Urgently \\n\\nThis page has been crafted c...</td>\n",
       "      <td>0</td>\n",
       "      <td>edit urgently page craft childishly many secti...</td>\n",
       "    </tr>\n",
       "    <tr>\n",
       "      <th>90856</th>\n",
       "      <td>\"\\n\\nI still can't get into it, but is there a...</td>\n",
       "      <td>0</td>\n",
       "      <td>still get monthly video archive mean one show ...</td>\n",
       "    </tr>\n",
       "    <tr>\n",
       "      <th>16491</th>\n",
       "      <td>I was undiplomatic certainly.  But afterall, t...</td>\n",
       "      <td>0</td>\n",
       "      <td>undiplomatic certainly afterall know hoaxer de...</td>\n",
       "    </tr>\n",
       "    <tr>\n",
       "      <th>148803</th>\n",
       "      <td>I see Mt. Bell as the only dissenter; who else...</td>\n",
       "      <td>0</td>\n",
       "      <td>see mt bell dissenter else consensus make</td>\n",
       "    </tr>\n",
       "    <tr>\n",
       "      <th>33927</th>\n",
       "      <td>I've made some substantial changes here and mo...</td>\n",
       "      <td>0</td>\n",
       "      <td>make substantial change move article little no...</td>\n",
       "    </tr>\n",
       "    <tr>\n",
       "      <th>3217</th>\n",
       "      <td>\"\\nGetting what specifically? So far Busby has...</td>\n",
       "      <td>0</td>\n",
       "      <td>get specifically far busby right thing detract...</td>\n",
       "    </tr>\n",
       "    <tr>\n",
       "      <th>51628</th>\n",
       "      <td>It's a new organization. Do you have any reaso...</td>\n",
       "      <td>0</td>\n",
       "      <td>new organization reason believe otherwise</td>\n",
       "    </tr>\n",
       "    <tr>\n",
       "      <th>14558</th>\n",
       "      <td>Who makes personel attacks? This users always ...</td>\n",
       "      <td>0</td>\n",
       "      <td>make personel attack user always insult always...</td>\n",
       "    </tr>\n",
       "    <tr>\n",
       "      <th>77728</th>\n",
       "      <td>We have exclusive on this you don't know her. ...</td>\n",
       "      <td>0</td>\n",
       "      <td>exclusive know write terrible</td>\n",
       "    </tr>\n",
       "    <tr>\n",
       "      <th>8099</th>\n",
       "      <td>You are still not demonstrating a basic unders...</td>\n",
       "      <td>0</td>\n",
       "      <td>still demonstrate basic understand use wikiped...</td>\n",
       "    </tr>\n",
       "    <tr>\n",
       "      <th>23519</th>\n",
       "      <td>Three images \\n\\n:Image:Rasheed01.jpg, Image:S...</td>\n",
       "      <td>0</td>\n",
       "      <td>three image image rasheed jpg image spikeandfa...</td>\n",
       "    </tr>\n",
       "    <tr>\n",
       "      <th>39710</th>\n",
       "      <td>The numbers are smaller, of course, but it is ...</td>\n",
       "      <td>0</td>\n",
       "      <td>number small course matter factual innaccuracy...</td>\n",
       "    </tr>\n",
       "    <tr>\n",
       "      <th>112382</th>\n",
       "      <td>How to handle disruptive editors \\n\\nBest to s...</td>\n",
       "      <td>0</td>\n",
       "      <td>handle disruptive editor best simply ignore so...</td>\n",
       "    </tr>\n",
       "    <tr>\n",
       "      <th>123687</th>\n",
       "      <td>\"\\n\\nThanks for the ban bruzz, appreciate it. ...</td>\n",
       "      <td>0</td>\n",
       "      <td>thanks ban bruzz appreciate trigger fingaz tur...</td>\n",
       "    </tr>\n",
       "    <tr>\n",
       "      <th>66658</th>\n",
       "      <td>See! this sums up your wiki and admin of wiki ...</td>\n",
       "      <td>1</td>\n",
       "      <td>see sum wiki admin wiki class piece shit even ...</td>\n",
       "    </tr>\n",
       "  </tbody>\n",
       "</table>\n",
       "</div>"
      ],
      "text/plain": [
       "                                                     text  toxic  \\\n",
       "113294  Your edit to User_Talk:Martyman\\nPlease stop. ...      0   \n",
       "37971   The file is non-free and a non-free file needs...      0   \n",
       "16260   WHAT KIND OF NAME IS PRAIRIEWOOD??????? \\n\\nAL...      1   \n",
       "39729   Um... \\n\\nMy edit was cited, dumbass. Did you ...      1   \n",
       "100642  , please stop pushing lopsided POV - prove the...      0   \n",
       "53663   \"::If I remember correctly, Kilo 6-4 was the c...      0   \n",
       "64546   Frickin' vandals. Hunt 'em down, Admins please...      1   \n",
       "27394   It wasn't vandalism it was perfectly justified...      0   \n",
       "2210      \"\\n\\n Some baklava for you! \\n\\n  Fuck . =)   \"      1   \n",
       "145123  \"\\nSince she does have controversial statement...      0   \n",
       "126079  It was my intention that you stop being a dick...      1   \n",
       "52181   (UTC)\\n\\nEvery second year the Falcon is going...      0   \n",
       "106831               What about the evidence you deleted?      0   \n",
       "109940  Ketuanan Melayu peer review \\n\\nI'll give the ...      0   \n",
       "47956                        try harder wikipedia wankers      1   \n",
       "51705   F.Y.I. \\n\\nWikipedia:Articles for deletion/Con...      0   \n",
       "109798  Good meeting you, too. And curse you for makin...      0   \n",
       "124913  Explosion section \\n\\nI would suggest moving s...      0   \n",
       "25572   I have tried several searches for an alternati...      0   \n",
       "120682  The Afd voting process left votes for keep and...      0   \n",
       "59348   Edit Urgently \\n\\nThis page has been crafted c...      0   \n",
       "90856   \"\\n\\nI still can't get into it, but is there a...      0   \n",
       "16491   I was undiplomatic certainly.  But afterall, t...      0   \n",
       "148803  I see Mt. Bell as the only dissenter; who else...      0   \n",
       "33927   I've made some substantial changes here and mo...      0   \n",
       "3217    \"\\nGetting what specifically? So far Busby has...      0   \n",
       "51628   It's a new organization. Do you have any reaso...      0   \n",
       "14558   Who makes personel attacks? This users always ...      0   \n",
       "77728   We have exclusive on this you don't know her. ...      0   \n",
       "8099    You are still not demonstrating a basic unders...      0   \n",
       "23519   Three images \\n\\n:Image:Rasheed01.jpg, Image:S...      0   \n",
       "39710   The numbers are smaller, of course, but it is ...      0   \n",
       "112382  How to handle disruptive editors \\n\\nBest to s...      0   \n",
       "123687  \"\\n\\nThanks for the ban bruzz, appreciate it. ...      0   \n",
       "66658   See! this sums up your wiki and admin of wiki ...      1   \n",
       "\n",
       "                                                lemm_text  \n",
       "113294  edit user talk martyman please stop continue v...  \n",
       "37971   file non free non free file need non free use ...  \n",
       "16260   kind name prairiewood shit name evil happen ma...  \n",
       "39729      um edit cite dumbass even listen source revert  \n",
       "100642  please stop push lopsided pov prove hangul pha...  \n",
       "53663   remember correctly kilo command control bird g...  \n",
       "64546        frickin vandal hunt em admins please racooon  \n",
       "27394   vandalism perfectly justified find extremely i...  \n",
       "2210                                         baklava fuck  \n",
       "145123  since controversial statement race include bit...  \n",
       "126079  intention stop dick use template image worksho...  \n",
       "52181   utc every second year falcon go replace diffic...  \n",
       "106831                                    evidence delete  \n",
       "109940  ketuanan melayu peer review give article solid...  \n",
       "47956                         try harder wikipedia wanker  \n",
       "51705   f wikipedia article deletion control demolitio...  \n",
       "109798  good meeting curse make add yet another item a...  \n",
       "124913  explosion section would suggest move informati...  \n",
       "25572   try several search alternative source unable f...  \n",
       "120682  afd voting process left vote keep view reject ...  \n",
       "59348   edit urgently page craft childishly many secti...  \n",
       "90856   still get monthly video archive mean one show ...  \n",
       "16491   undiplomatic certainly afterall know hoaxer de...  \n",
       "148803          see mt bell dissenter else consensus make  \n",
       "33927   make substantial change move article little no...  \n",
       "3217    get specifically far busby right thing detract...  \n",
       "51628           new organization reason believe otherwise  \n",
       "14558   make personel attack user always insult always...  \n",
       "77728                       exclusive know write terrible  \n",
       "8099    still demonstrate basic understand use wikiped...  \n",
       "23519   three image image rasheed jpg image spikeandfa...  \n",
       "39710   number small course matter factual innaccuracy...  \n",
       "112382  handle disruptive editor best simply ignore so...  \n",
       "123687  thanks ban bruzz appreciate trigger fingaz tur...  \n",
       "66658   see sum wiki admin wiki class piece shit even ...  "
      ]
     },
     "execution_count": 40,
     "metadata": {},
     "output_type": "execute_result"
    }
   ],
   "source": [
    "# Проверим на случайном наборе, не осталось ли каких-то лишних символов\n",
    "\n",
    "df.sample(35)"
   ]
  },
  {
   "cell_type": "markdown",
   "metadata": {},
   "source": [
    "Разделим данные на тренировочную и тестовую выборки"
   ]
  },
  {
   "cell_type": "code",
   "execution_count": 41,
   "metadata": {},
   "outputs": [],
   "source": [
    "X = df['lemm_text'] # признаки\n",
    "y = df['toxic'] # таргет"
   ]
  },
  {
   "cell_type": "code",
   "execution_count": 42,
   "metadata": {
    "scrolled": true
   },
   "outputs": [],
   "source": [
    "# разбиваем датасет на тренировочную, валидационную и тестовую выборки\n",
    "\n",
    "X_train, X_valid, y_train, y_valid = train_test_split(X, y, test_size=VALID_SIZE, random_state=RANDOM_STATE, stratify = y)\n",
    "\n",
    "X_valid, X_test, y_valid, y_test = train_test_split(X_valid, y_valid, test_size=TEST_SIZE_2, \n",
    "                                                    random_state=RANDOM_STATE, stratify = y_valid)"
   ]
  },
  {
   "cell_type": "code",
   "execution_count": 43,
   "metadata": {},
   "outputs": [
    {
     "name": "stdout",
     "output_type": "stream",
     "text": [
      "(95575,) (95575,) (31858,) (31858,) (31859,) (31859,)\n"
     ]
    }
   ],
   "source": [
    "#Проверим размер выборок\n",
    "\n",
    "print(X_train.shape, y_train.shape, X_valid.shape, y_valid.shape, X_test.shape, y_test.shape)"
   ]
  },
  {
   "cell_type": "code",
   "execution_count": 44,
   "metadata": {},
   "outputs": [
    {
     "data": {
      "text/plain": [
       "(127433, False)"
      ]
     },
     "execution_count": 44,
     "metadata": {},
     "output_type": "execute_result"
    }
   ],
   "source": [
    "# Проверим, что строки не потерялись\n",
    "\n",
    "X_train.shape[0]+X_valid.shape[0], X_test.shape[0]==df.shape[0]"
   ]
  },
  {
   "cell_type": "markdown",
   "metadata": {},
   "source": [
    "Векторизируем данные в выборках"
   ]
  },
  {
   "cell_type": "code",
   "execution_count": 45,
   "metadata": {},
   "outputs": [],
   "source": [
    "count_tf_idf = TfidfVectorizer(stop_words=list(stopwords))"
   ]
  },
  {
   "cell_type": "code",
   "execution_count": 46,
   "metadata": {},
   "outputs": [],
   "source": [
    "tf_idf_train = count_tf_idf.fit_transform(X_train)\n",
    "tf_idf_valid = count_tf_idf.transform(X_valid)\n",
    "tf_idf_test = count_tf_idf.transform(X_test)"
   ]
  },
  {
   "cell_type": "code",
   "execution_count": 47,
   "metadata": {},
   "outputs": [
    {
     "name": "stdout",
     "output_type": "stream",
     "text": [
      "(95575, 111830) (31858, 111830) (31859, 111830)\n"
     ]
    }
   ],
   "source": [
    "print(tf_idf_train.shape, tf_idf_valid.shape, tf_idf_test.shape)"
   ]
  },
  {
   "cell_type": "markdown",
   "metadata": {},
   "source": [
    "## Обучение"
   ]
  },
  {
   "cell_type": "markdown",
   "metadata": {},
   "source": [
    "### Базовая модель LogisticRegression"
   ]
  },
  {
   "cell_type": "markdown",
   "metadata": {},
   "source": [
    "Рассмотрим базовую модель"
   ]
  },
  {
   "cell_type": "code",
   "execution_count": 48,
   "metadata": {},
   "outputs": [],
   "source": [
    "# Инициализация модели\n",
    "\n",
    "lr_base = LogisticRegression(random_state=45)"
   ]
  },
  {
   "cell_type": "code",
   "execution_count": 49,
   "metadata": {
    "scrolled": true
   },
   "outputs": [
    {
     "data": {
      "text/plain": [
       "LogisticRegression(random_state=45)"
      ]
     },
     "execution_count": 49,
     "metadata": {},
     "output_type": "execute_result"
    }
   ],
   "source": [
    "# Обучение модели\n",
    "\n",
    "lr_base.fit(tf_idf_train, y_train)"
   ]
  },
  {
   "cell_type": "code",
   "execution_count": 50,
   "metadata": {},
   "outputs": [
    {
     "name": "stdout",
     "output_type": "stream",
     "text": [
      "Метрика базовой LogisticRegression на тренировочной выборке: 0.7527\n",
      "Метрика базовой LogisticRegression на валидационной выборке: 0.613128786419229\n"
     ]
    }
   ],
   "source": [
    "# Предсказания модели\n",
    "\n",
    "pred_lr_train = lr_base.predict(tf_idf_train)\n",
    "pred_lr_valid = lr_base.predict(tf_idf_valid)\n",
    "\n",
    "# Метрика\n",
    "\n",
    "f1_lr_base_train = round(f1_score(y_train, pred_lr_train),4)\n",
    "print(f'Метрика базовой LogisticRegression на тренировочной выборке: {f1_lr_base_train}')\n",
    "\n",
    "f1_lr_base_valid = cross_val_score(lr_base, tf_idf_valid, y_valid, scoring = \"f1\", cv = 5).mean()\n",
    "print(f'Метрика базовой LogisticRegression на валидационной выборке: {f1_lr_base_valid}')"
   ]
  },
  {
   "cell_type": "markdown",
   "metadata": {},
   "source": [
    "### LogisticRegression с подбором параметров"
   ]
  },
  {
   "cell_type": "code",
   "execution_count": 51,
   "metadata": {},
   "outputs": [],
   "source": [
    "# Инициализация модели\n",
    "\n",
    "model_lr = LogisticRegression(fit_intercept=True, random_state=RANDOM_STATE)"
   ]
  },
  {
   "cell_type": "code",
   "execution_count": 52,
   "metadata": {},
   "outputs": [],
   "source": [
    "# Зададим гиперпараметры для поиска лучшей модели\n",
    "\n",
    "param_lr = [\n",
    "    # словарь для модели LogisticRegression()\n",
    "    {\n",
    "        'solver': ['liblinear', 'saga'], \n",
    "        'penalty': ['l1', 'l2'],\n",
    "        'C': range(1,7)\n",
    "    }\n",
    "]"
   ]
  },
  {
   "cell_type": "code",
   "execution_count": 53,
   "metadata": {},
   "outputs": [],
   "source": [
    "# Зададим поиск гиперпараметров\n",
    "\n",
    "best_lr = RandomizedSearchCV(\n",
    "    model_lr, \n",
    "    param_lr, \n",
    "    scoring = 'f1', \n",
    "    cv=5,\n",
    "    random_state=RANDOM_STATE, \n",
    "    n_jobs=-1\n",
    ")"
   ]
  },
  {
   "cell_type": "code",
   "execution_count": 54,
   "metadata": {},
   "outputs": [
    {
     "data": {
      "text/plain": [
       "RandomizedSearchCV(cv=5, estimator=LogisticRegression(random_state=45),\n",
       "                   n_jobs=-1,\n",
       "                   param_distributions=[{'C': range(1, 7),\n",
       "                                         'penalty': ['l1', 'l2'],\n",
       "                                         'solver': ['liblinear', 'saga']}],\n",
       "                   random_state=45, scoring='f1')"
      ]
     },
     "execution_count": 54,
     "metadata": {},
     "output_type": "execute_result"
    }
   ],
   "source": [
    "# Обучение модели\n",
    "\n",
    "best_lr.fit(tf_idf_train, y_train)"
   ]
  },
  {
   "cell_type": "code",
   "execution_count": 55,
   "metadata": {},
   "outputs": [
    {
     "name": "stdout",
     "output_type": "stream",
     "text": [
      "Лучшие параметры LogisticRegression: \n",
      "\n",
      " {'solver': 'saga', 'penalty': 'l1', 'C': 4} \n",
      "\n",
      "\n"
     ]
    }
   ],
   "source": [
    "print(f'Лучшие параметры LogisticRegression: \\n\\n', best_lr.best_params_, '\\n\\n')"
   ]
  },
  {
   "cell_type": "markdown",
   "metadata": {},
   "source": [
    "Лучшая модель и ее параметры: \n",
    "\n",
    " {'solver': 'saga', 'penalty': 'l1', 'class_weight': None, 'C': 6} "
   ]
  },
  {
   "cell_type": "code",
   "execution_count": 56,
   "metadata": {},
   "outputs": [
    {
     "name": "stdout",
     "output_type": "stream",
     "text": [
      "Метрика LogisticRegression с лучшими параметрами на тренировочной выборке: 0.882\n",
      "Метрика LogisticRegression с лучшими параметрами на валидационной выборке: 0.743741272391929\n"
     ]
    }
   ],
   "source": [
    "# Предсказания модели\n",
    "\n",
    "pred_lr_param_train = best_lr.best_estimator_.predict(tf_idf_train)\n",
    "pred_lr_param_valid = best_lr.best_estimator_.predict(tf_idf_valid)\n",
    "\n",
    "# Метрика\n",
    "\n",
    "f1_lr_param_train = round(f1_score(y_train, pred_lr_param_train),4)\n",
    "print(f'Метрика LogisticRegression с лучшими параметрами на тренировочной выборке: {f1_lr_param_train}')\n",
    "\n",
    "f1_lr_param_valid = cross_val_score(best_lr.best_estimator_, tf_idf_valid, y_valid, scoring = \"f1\", cv = 5).mean()\n",
    "print(f'Метрика LogisticRegression с лучшими параметрами на валидационной выборке: {f1_lr_param_valid}')"
   ]
  },
  {
   "cell_type": "markdown",
   "metadata": {},
   "source": [
    "### RandomForestClassifier"
   ]
  },
  {
   "cell_type": "code",
   "execution_count": 57,
   "metadata": {},
   "outputs": [],
   "source": [
    "# Инициализация модели\n",
    "\n",
    "model_rfclf = RandomForestClassifier(random_state=RANDOM_STATE)"
   ]
  },
  {
   "cell_type": "code",
   "execution_count": 58,
   "metadata": {},
   "outputs": [],
   "source": [
    "#Зададим гиперпараметры для поиска лучшей модели\n",
    "\n",
    "param_rfclf = [\n",
    "    \n",
    "    # словарь для модели RandomForestClassifier() \n",
    "    { \n",
    "        'max_depth': range(1, 5), \n",
    "        'min_samples_leaf': range(1, 5), \n",
    "        'max_features': range(1, 5)\n",
    "    }\n",
    "]"
   ]
  },
  {
   "cell_type": "markdown",
   "metadata": {},
   "source": [
    "Подберем лучшую модель с помощью RandomizedSearchCV"
   ]
  },
  {
   "cell_type": "code",
   "execution_count": 59,
   "metadata": {},
   "outputs": [],
   "source": [
    "# Зададим поиск гиперпараметров\n",
    "\n",
    "best_rfclf = RandomizedSearchCV(\n",
    "    model_rfclf, \n",
    "    param_rfclf, \n",
    "    scoring = 'f1', \n",
    "    cv=5,\n",
    "    random_state=RANDOM_STATE, \n",
    "    #n_jobs=-1 # Для деревянных моделей это параметр не нужен\n",
    ")"
   ]
  },
  {
   "cell_type": "code",
   "execution_count": 60,
   "metadata": {},
   "outputs": [
    {
     "data": {
      "text/plain": [
       "RandomizedSearchCV(cv=5, estimator=RandomForestClassifier(random_state=45),\n",
       "                   param_distributions=[{'max_depth': range(1, 5),\n",
       "                                         'max_features': range(1, 5),\n",
       "                                         'min_samples_leaf': range(1, 5)}],\n",
       "                   random_state=45, scoring='f1')"
      ]
     },
     "execution_count": 60,
     "metadata": {},
     "output_type": "execute_result"
    }
   ],
   "source": [
    "# Обучение модели\n",
    "\n",
    "best_rfclf.fit(tf_idf_train, y_train)"
   ]
  },
  {
   "cell_type": "code",
   "execution_count": 61,
   "metadata": {},
   "outputs": [
    {
     "name": "stdout",
     "output_type": "stream",
     "text": [
      "Лучшие параметры RandomForestClassifier: \n",
      "\n",
      " {'min_samples_leaf': 1, 'max_features': 4, 'max_depth': 2} \n",
      "\n",
      "\n"
     ]
    }
   ],
   "source": [
    "print(f'Лучшие параметры RandomForestClassifier: \\n\\n', best_rfclf.best_params_, '\\n\\n')"
   ]
  },
  {
   "cell_type": "code",
   "execution_count": 62,
   "metadata": {},
   "outputs": [
    {
     "name": "stdout",
     "output_type": "stream",
     "text": [
      "Метрика LogisticRegression с лучшими параметрами на тренировочной выборке: 0.0\n",
      "Метрика LogisticRegression с лучшими параметрами на валидационной выборке: 0.0\n"
     ]
    }
   ],
   "source": [
    "# Предсказания модели\n",
    "\n",
    "pred_rfclf_train = best_rfclf.best_estimator_.predict(tf_idf_train)\n",
    "pred_rfclf_valid = best_rfclf.best_estimator_.predict(tf_idf_valid)\n",
    "\n",
    "# Метрика\n",
    "\n",
    "f1_rfclf_train = round(f1_score(y_train, pred_rfclf_train),4)\n",
    "print(f'Метрика LogisticRegression с лучшими параметрами на тренировочной выборке: {f1_rfclf_train}')\n",
    "\n",
    "f1_rfclf_valid = cross_val_score(best_rfclf.best_estimator_, tf_idf_valid, y_valid, scoring = \"f1\", cv = 5).mean()\n",
    "print(f'Метрика LogisticRegression с лучшими параметрами на валидационной выборке: {f1_rfclf_valid}')"
   ]
  },
  {
   "cell_type": "markdown",
   "metadata": {},
   "source": [
    "### CatBoostClassifier"
   ]
  },
  {
   "cell_type": "markdown",
   "metadata": {},
   "source": [
    "REM: это была хорошая идея, но дождаться, когда она посчитается, я не смогла :((("
   ]
  },
  {
   "cell_type": "code",
   "execution_count": 64,
   "metadata": {},
   "outputs": [],
   "source": [
    "#Инициализация модели\n",
    "\n",
    "model_cbc = CatBoostClassifier(random_state=RANDOM_STATE, verbose=False)"
   ]
  },
  {
   "cell_type": "code",
   "execution_count": 65,
   "metadata": {},
   "outputs": [],
   "source": [
    "#Зададим гиперпараметры для поиска лучшей модели\n",
    "\n",
    "param_cbc = [\n",
    "    # словарь для модели CatBoostClassifier()\n",
    "    {\n",
    "        'depth': range(1, 5),\n",
    "        'learning_rate': np.arange(0.1, 0.3, 0.1),\n",
    "        'n_estimators': range(50, 150, 50)\n",
    "    }\n",
    "]"
   ]
  },
  {
   "cell_type": "markdown",
   "metadata": {},
   "source": [
    "Подберем лучшую модель с помощью RandomizedSearchCV"
   ]
  },
  {
   "cell_type": "code",
   "execution_count": 67,
   "metadata": {},
   "outputs": [],
   "source": [
    "#Зададим поиск гиперпараметров\n",
    "\n",
    "best_cbc = RandomizedSearchCV(\n",
    "    model_cbc, \n",
    "    param_cbc, \n",
    "    scoring = 'f1', \n",
    "    cv=5,\n",
    "    random_state=RANDOM_STATE, \n",
    "    verbose=False\n",
    "    #n_jobs=-1 # Для деревянных моделей это параметр не нужен\n",
    ")"
   ]
  },
  {
   "cell_type": "code",
   "execution_count": 68,
   "metadata": {},
   "outputs": [
    {
     "data": {
      "text/plain": [
       "RandomizedSearchCV(cv=5,\n",
       "                   estimator=<catboost.core.CatBoostClassifier object at 0x7efd2bcb4ee0>,\n",
       "                   param_distributions=[{'depth': range(1, 5),\n",
       "                                         'learning_rate': array([0.1, 0.2]),\n",
       "                                         'n_estimators': range(50, 150, 50)}],\n",
       "                   random_state=45, scoring='f1', verbose=False)"
      ]
     },
     "execution_count": 68,
     "metadata": {},
     "output_type": "execute_result"
    }
   ],
   "source": [
    "#Обучение модели\n",
    "\n",
    "best_cbc.fit(tf_idf_train, y_train)"
   ]
  },
  {
   "cell_type": "code",
   "execution_count": 69,
   "metadata": {},
   "outputs": [
    {
     "name": "stdout",
     "output_type": "stream",
     "text": [
      "Лучшие параметры CatBoostClassifier: \n",
      "\n",
      " {'n_estimators': 100, 'learning_rate': 0.2, 'depth': 4} \n",
      "\n",
      "\n"
     ]
    }
   ],
   "source": [
    "print(f'Лучшие параметры CatBoostClassifier: \\n\\n', best_cbc.best_params_, '\\n\\n')"
   ]
  },
  {
   "cell_type": "code",
   "execution_count": 70,
   "metadata": {},
   "outputs": [
    {
     "name": "stdout",
     "output_type": "stream",
     "text": [
      "Метрика LogisticRegression с лучшими параметрами на тренировочной выборке: 0.6779\n",
      "Метрика LogisticRegression с лучшими параметрами на валидационной выборке: 0.6517508248555428\n"
     ]
    }
   ],
   "source": [
    "# Предсказания модели\n",
    "\n",
    "pred_cbc_train = best_cbc.best_estimator_.predict(tf_idf_train)\n",
    "pred_cbc_valid = best_cbc.best_estimator_.predict(tf_idf_valid)\n",
    "\n",
    "# Метрика\n",
    "\n",
    "f1_cbc_train = round(f1_score(y_train, pred_cbc_train),4)\n",
    "print(f'Метрика LogisticRegression с лучшими параметрами на тренировочной выборке: {f1_cbc_train}')\n",
    "\n",
    "f1_cbc_valid = cross_val_score(best_cbc.best_estimator_, tf_idf_valid, y_valid, scoring = \"f1\", cv = 5).mean()\n",
    "print(f'Метрика LogisticRegression с лучшими параметрами на валидационной выборке: {f1_cbc_valid}')"
   ]
  },
  {
   "cell_type": "markdown",
   "metadata": {},
   "source": [
    "## Выводы"
   ]
  },
  {
   "cell_type": "code",
   "execution_count": 76,
   "metadata": {
    "scrolled": false
   },
   "outputs": [
    {
     "data": {
      "text/html": [
       "<div>\n",
       "<style scoped>\n",
       "    .dataframe tbody tr th:only-of-type {\n",
       "        vertical-align: middle;\n",
       "    }\n",
       "\n",
       "    .dataframe tbody tr th {\n",
       "        vertical-align: top;\n",
       "    }\n",
       "\n",
       "    .dataframe thead th {\n",
       "        text-align: right;\n",
       "    }\n",
       "</style>\n",
       "<table border=\"1\" class=\"dataframe\">\n",
       "  <thead>\n",
       "    <tr style=\"text-align: right;\">\n",
       "      <th></th>\n",
       "      <th>model_name</th>\n",
       "      <th>F1_train</th>\n",
       "      <th>F1_valid</th>\n",
       "      <th>model</th>\n",
       "    </tr>\n",
       "  </thead>\n",
       "  <tbody>\n",
       "    <tr>\n",
       "      <th>1</th>\n",
       "      <td>LogisticRegression (param)</td>\n",
       "      <td>0.882</td>\n",
       "      <td>0.744</td>\n",
       "      <td>LogisticRegression(C=4, penalty='l1', random_s...</td>\n",
       "    </tr>\n",
       "    <tr>\n",
       "      <th>3</th>\n",
       "      <td>CatBoostClassifier (param)</td>\n",
       "      <td>0.678</td>\n",
       "      <td>0.652</td>\n",
       "      <td>&lt;catboost.core.CatBoostClassifier object at 0x...</td>\n",
       "    </tr>\n",
       "    <tr>\n",
       "      <th>0</th>\n",
       "      <td>LogisticRegression (base)</td>\n",
       "      <td>0.753</td>\n",
       "      <td>0.613</td>\n",
       "      <td>LogisticRegression(random_state=45)</td>\n",
       "    </tr>\n",
       "    <tr>\n",
       "      <th>2</th>\n",
       "      <td>RandomForestClassifier (param)</td>\n",
       "      <td>0.000</td>\n",
       "      <td>0.000</td>\n",
       "      <td>(DecisionTreeClassifier(max_depth=2, max_featu...</td>\n",
       "    </tr>\n",
       "  </tbody>\n",
       "</table>\n",
       "</div>"
      ],
      "text/plain": [
       "                       model_name  F1_train  F1_valid  \\\n",
       "1      LogisticRegression (param)     0.882     0.744   \n",
       "3      CatBoostClassifier (param)     0.678     0.652   \n",
       "0       LogisticRegression (base)     0.753     0.613   \n",
       "2  RandomForestClassifier (param)     0.000     0.000   \n",
       "\n",
       "                                               model  \n",
       "1  LogisticRegression(C=4, penalty='l1', random_s...  \n",
       "3  <catboost.core.CatBoostClassifier object at 0x...  \n",
       "0                LogisticRegression(random_state=45)  \n",
       "2  (DecisionTreeClassifier(max_depth=2, max_featu...  "
      ]
     },
     "execution_count": 76,
     "metadata": {},
     "output_type": "execute_result"
    }
   ],
   "source": [
    "# Соберем итоги\n",
    "\n",
    "models = pd.DataFrame({'model_name': ['LogisticRegression (base)', 'LogisticRegression (param)', 'RandomForestClassifier (param)',\n",
    "                                 'CatBoostClassifier (param)'],\n",
    "                       'F1_train': [f1_lr_base_train, f1_lr_param_train, f1_rfclf_train, f1_cbc_train],\n",
    "                       'F1_valid': [f1_lr_base_valid, f1_lr_param_valid, f1_rfclf_valid, f1_cbc_valid],\n",
    "                       'model': [lr_base, best_lr.best_estimator_, best_rfclf.best_estimator_, best_cbc.best_estimator_]\n",
    "                                })\n",
    "models.sort_values(by = 'F1_valid', ascending=False)"
   ]
  },
  {
   "cell_type": "code",
   "execution_count": 81,
   "metadata": {
    "scrolled": false
   },
   "outputs": [
    {
     "data": {
      "image/png": "[encoded data removed]",
      "text/plain": [
       "<Figure size 432x288 with 1 Axes>"
      ]
     },
     "metadata": {
      "needs_background": "light"
     },
     "output_type": "display_data"
    }
   ],
   "source": [
    "# Визуализация\n",
    "\n",
    "models.sort_values('F1_valid', ascending=False).plot(\n",
    "    x='model', y='F1_valid', kind='barh', color='LightBlue', edgecolor='black');\n",
    "\n",
    "plt.ylabel(''); plt.yticks(size = 12); plt.xlabel('F1_valid'); plt.xticks(size = 12);\n",
    "plt.title('Метрики F1_valid', size = 14);"
   ]
  },
  {
   "cell_type": "code",
   "execution_count": 83,
   "metadata": {},
   "outputs": [
    {
     "name": "stdout",
     "output_type": "stream",
     "text": [
      "Лучшей моделью получается:                    model_name  F1_train  F1_valid  \\\n",
      "1  LogisticRegression (param)     0.882     0.744   \n",
      "\n",
      "                                               model  \n",
      "1  LogisticRegression(C=4, penalty='l1', random_s...  \n"
     ]
    }
   ],
   "source": [
    "print(f'Лучшей моделью получается: {models.sort_values(by=\"F1_valid\", ascending=False).head(1)}')"
   ]
  },
  {
   "cell_type": "code",
   "execution_count": 86,
   "metadata": {},
   "outputs": [
    {
     "name": "stdout",
     "output_type": "stream",
     "text": [
      "Метрика лучшей модели на тестовой выборке:  0.7833\n"
     ]
    }
   ],
   "source": [
    "# Проверка лучшей модели на тестовых данных\n",
    "\n",
    "f1_best_lr_test = round(f1_score(y_test, best_lr.best_estimator_.predict(tf_idf_test)),4)\n",
    "print(f'Метрика лучшей модели на тестовой выборке: ', round(f1_best_lr_test, 5))"
   ]
  },
  {
   "cell_type": "markdown",
   "metadata": {},
   "source": [
    "Метрика получилась около 0,78, что отвечает условиям задачи."
   ]
  }
 ],
 "metadata": {
  "ExecuteTimeLog": [
   {
    "duration": 3,
    "start_time": "2024-04-08T13:47:26.643Z"
   },
   {
    "duration": 2464,
    "start_time": "2024-04-08T13:47:40.765Z"
   },
   {
    "duration": 3,
    "start_time": "2024-04-08T13:47:50.556Z"
   },
   {
    "duration": 3,
    "start_time": "2024-04-08T13:47:56.653Z"
   },
   {
    "duration": 253,
    "start_time": "2024-04-08T13:52:14.287Z"
   },
   {
    "duration": 33,
    "start_time": "2024-04-08T13:52:14.545Z"
   },
   {
    "duration": 5,
    "start_time": "2024-04-08T13:52:14.904Z"
   },
   {
    "duration": 161,
    "start_time": "2024-04-08T13:52:15.200Z"
   },
   {
    "duration": 2,
    "start_time": "2024-04-08T13:52:15.561Z"
   },
   {
    "duration": 3,
    "start_time": "2024-04-08T13:52:22.225Z"
   },
   {
    "duration": 5,
    "start_time": "2024-04-08T13:52:22.489Z"
   },
   {
    "duration": 3,
    "start_time": "2024-04-08T13:55:50.675Z"
   },
   {
    "duration": 4,
    "start_time": "2024-04-08T13:55:51.156Z"
   },
   {
    "duration": 3,
    "start_time": "2024-04-08T13:55:51.652Z"
   },
   {
    "duration": 2,
    "start_time": "2024-04-08T13:55:52.012Z"
   },
   {
    "duration": 5,
    "start_time": "2024-04-08T13:55:52.413Z"
   },
   {
    "duration": 2,
    "start_time": "2024-04-08T13:56:13.325Z"
   },
   {
    "duration": 2,
    "start_time": "2024-04-08T13:56:23.967Z"
   },
   {
    "duration": 3,
    "start_time": "2024-04-08T13:56:45.255Z"
   },
   {
    "duration": 3,
    "start_time": "2024-04-08T13:56:56.941Z"
   },
   {
    "duration": 3238,
    "start_time": "2024-04-08T13:57:33.488Z"
   },
   {
    "duration": 12,
    "start_time": "2024-04-08T13:57:41.214Z"
   },
   {
    "duration": 6,
    "start_time": "2024-04-08T13:57:55.744Z"
   },
   {
    "duration": 8,
    "start_time": "2024-04-08T13:58:14.241Z"
   },
   {
    "duration": 7,
    "start_time": "2024-04-08T13:58:19.450Z"
   },
   {
    "duration": 7,
    "start_time": "2024-04-08T13:58:21.817Z"
   },
   {
    "duration": 166,
    "start_time": "2024-04-08T13:58:39.128Z"
   },
   {
    "duration": 884,
    "start_time": "2024-04-08T13:59:44.874Z"
   },
   {
    "duration": 896,
    "start_time": "2024-04-08T13:59:50.203Z"
   },
   {
    "duration": 965,
    "start_time": "2024-04-08T14:00:05.731Z"
   },
   {
    "duration": 4,
    "start_time": "2024-04-08T14:00:12.250Z"
   },
   {
    "duration": 981,
    "start_time": "2024-04-08T14:00:31.732Z"
   },
   {
    "duration": 7,
    "start_time": "2024-04-08T14:00:33.291Z"
   },
   {
    "duration": 881,
    "start_time": "2024-04-08T14:01:22.397Z"
   },
   {
    "duration": 7,
    "start_time": "2024-04-08T14:01:23.280Z"
   },
   {
    "duration": 4,
    "start_time": "2024-04-08T14:01:24.372Z"
   },
   {
    "duration": 27,
    "start_time": "2024-04-08T14:01:25.012Z"
   },
   {
    "duration": 909,
    "start_time": "2024-04-08T14:02:42.310Z"
   },
   {
    "duration": 7,
    "start_time": "2024-04-08T14:02:43.221Z"
   },
   {
    "duration": 3,
    "start_time": "2024-04-08T14:03:08.062Z"
   },
   {
    "duration": 9,
    "start_time": "2024-04-08T14:03:12.430Z"
   },
   {
    "duration": 930,
    "start_time": "2024-04-08T14:03:40.815Z"
   },
   {
    "duration": 7,
    "start_time": "2024-04-08T14:03:41.747Z"
   },
   {
    "duration": 11,
    "start_time": "2024-04-08T14:04:03.329Z"
   },
   {
    "duration": 17,
    "start_time": "2024-04-08T14:04:10.120Z"
   },
   {
    "duration": 17,
    "start_time": "2024-04-08T14:04:15.329Z"
   },
   {
    "duration": 10,
    "start_time": "2024-04-08T14:04:19.495Z"
   },
   {
    "duration": 13,
    "start_time": "2024-04-08T14:04:28.327Z"
   },
   {
    "duration": 16,
    "start_time": "2024-04-08T14:04:34.343Z"
   },
   {
    "duration": 23,
    "start_time": "2024-04-08T14:04:45.041Z"
   },
   {
    "duration": 27,
    "start_time": "2024-04-08T14:04:50.895Z"
   },
   {
    "duration": 19,
    "start_time": "2024-04-08T14:05:04.570Z"
   },
   {
    "duration": 631,
    "start_time": "2024-04-08T14:05:25.986Z"
   },
   {
    "duration": 18,
    "start_time": "2024-04-08T14:05:37.538Z"
   },
   {
    "duration": 22,
    "start_time": "2024-04-08T14:05:53.138Z"
   },
   {
    "duration": 20,
    "start_time": "2024-04-08T14:05:59.594Z"
   },
   {
    "duration": 600,
    "start_time": "2024-04-08T14:06:12.825Z"
   },
   {
    "duration": 20,
    "start_time": "2024-04-08T14:06:23.154Z"
   },
   {
    "duration": 15,
    "start_time": "2024-04-08T14:06:52.499Z"
   },
   {
    "duration": 346,
    "start_time": "2024-04-08T14:07:24.219Z"
   },
   {
    "duration": 3,
    "start_time": "2024-04-08T14:07:34.492Z"
   },
   {
    "duration": 11,
    "start_time": "2024-04-08T14:07:39.292Z"
   },
   {
    "duration": 10,
    "start_time": "2024-04-08T14:07:47.908Z"
   },
   {
    "duration": 976,
    "start_time": "2024-04-08T14:08:07.501Z"
   },
   {
    "duration": 979,
    "start_time": "2024-04-08T14:08:11.436Z"
   },
   {
    "duration": 7,
    "start_time": "2024-04-08T14:08:12.417Z"
   },
   {
    "duration": 3,
    "start_time": "2024-04-08T14:08:24.133Z"
   },
   {
    "duration": 9,
    "start_time": "2024-04-08T14:08:25.693Z"
   },
   {
    "duration": 3,
    "start_time": "2024-04-08T14:08:38.862Z"
   },
   {
    "duration": 11,
    "start_time": "2024-04-08T14:08:39.965Z"
   },
   {
    "duration": 15,
    "start_time": "2024-04-08T14:08:48.926Z"
   },
   {
    "duration": 15,
    "start_time": "2024-04-08T14:08:51.382Z"
   },
   {
    "duration": 15,
    "start_time": "2024-04-08T14:09:00.590Z"
   },
   {
    "duration": 3,
    "start_time": "2024-04-08T14:09:11.470Z"
   },
   {
    "duration": 10,
    "start_time": "2024-04-08T14:09:13.662Z"
   },
   {
    "duration": 947,
    "start_time": "2024-04-08T14:09:16.934Z"
   },
   {
    "duration": 7,
    "start_time": "2024-04-08T14:09:17.884Z"
   },
   {
    "duration": 14,
    "start_time": "2024-04-08T14:09:17.893Z"
   },
   {
    "duration": 12,
    "start_time": "2024-04-08T14:09:17.974Z"
   },
   {
    "duration": 3,
    "start_time": "2024-04-08T14:09:41.397Z"
   },
   {
    "duration": 9,
    "start_time": "2024-04-08T14:09:46.345Z"
   },
   {
    "duration": 4,
    "start_time": "2024-04-08T14:09:52.102Z"
   },
   {
    "duration": 31,
    "start_time": "2024-04-08T14:09:57.623Z"
   },
   {
    "duration": 15,
    "start_time": "2024-04-08T14:10:05.855Z"
   },
   {
    "duration": 7,
    "start_time": "2024-04-08T14:10:29.383Z"
   },
   {
    "duration": 5,
    "start_time": "2024-04-08T14:12:02.569Z"
   },
   {
    "duration": 3,
    "start_time": "2024-04-08T14:12:56.146Z"
   },
   {
    "duration": 2437,
    "start_time": "2024-04-09T04:57:07.046Z"
   },
   {
    "duration": 30,
    "start_time": "2024-04-09T04:57:09.484Z"
   },
   {
    "duration": 4,
    "start_time": "2024-04-09T04:57:09.516Z"
   },
   {
    "duration": 2,
    "start_time": "2024-04-09T04:57:09.522Z"
   },
   {
    "duration": 203,
    "start_time": "2024-04-09T04:57:09.803Z"
   },
   {
    "duration": 3,
    "start_time": "2024-04-09T04:57:10.938Z"
   },
   {
    "duration": 3,
    "start_time": "2024-04-09T04:57:11.563Z"
   },
   {
    "duration": 3,
    "start_time": "2024-04-09T04:57:11.842Z"
   },
   {
    "duration": 2340,
    "start_time": "2024-04-09T04:57:12.820Z"
   },
   {
    "duration": 10,
    "start_time": "2024-04-09T04:57:15.162Z"
   },
   {
    "duration": 25,
    "start_time": "2024-04-09T04:57:15.173Z"
   },
   {
    "duration": 28,
    "start_time": "2024-04-09T04:57:15.199Z"
   },
   {
    "duration": 9,
    "start_time": "2024-04-09T04:57:15.228Z"
   },
   {
    "duration": 39,
    "start_time": "2024-04-09T04:57:15.238Z"
   },
   {
    "duration": 5,
    "start_time": "2024-04-09T04:57:16.418Z"
   },
   {
    "duration": 2126,
    "start_time": "2024-04-09T07:42:26.477Z"
   },
   {
    "duration": 2430,
    "start_time": "2024-04-09T07:44:00.683Z"
   },
   {
    "duration": 28,
    "start_time": "2024-04-09T07:44:03.115Z"
   },
   {
    "duration": 30,
    "start_time": "2024-04-09T07:44:03.144Z"
   },
   {
    "duration": 8,
    "start_time": "2024-04-09T07:44:03.175Z"
   },
   {
    "duration": 225,
    "start_time": "2024-04-09T07:44:03.184Z"
   },
   {
    "duration": 3,
    "start_time": "2024-04-09T07:44:03.411Z"
   },
   {
    "duration": 9,
    "start_time": "2024-04-09T07:44:03.416Z"
   },
   {
    "duration": 7,
    "start_time": "2024-04-09T07:44:03.427Z"
   },
   {
    "duration": 904,
    "start_time": "2024-04-09T07:44:05.003Z"
   },
   {
    "duration": 8,
    "start_time": "2024-04-09T07:44:05.909Z"
   },
   {
    "duration": 2,
    "start_time": "2024-04-09T07:44:09.124Z"
   },
   {
    "duration": 8,
    "start_time": "2024-04-09T07:44:09.419Z"
   },
   {
    "duration": 3,
    "start_time": "2024-04-09T07:44:11.948Z"
   },
   {
    "duration": 32,
    "start_time": "2024-04-09T07:44:12.187Z"
   },
   {
    "duration": 5,
    "start_time": "2024-04-09T07:44:14.443Z"
   },
   {
    "duration": 9,
    "start_time": "2024-04-09T07:44:16.066Z"
   },
   {
    "duration": 3,
    "start_time": "2024-04-09T08:06:27.940Z"
   },
   {
    "duration": 3,
    "start_time": "2024-04-09T08:06:51.875Z"
   },
   {
    "duration": 3,
    "start_time": "2024-04-09T08:09:44.702Z"
   },
   {
    "duration": 156,
    "start_time": "2024-04-09T08:15:18.740Z"
   },
   {
    "duration": 2446,
    "start_time": "2024-04-09T08:15:23.781Z"
   },
   {
    "duration": 9,
    "start_time": "2024-04-09T08:15:28.837Z"
   },
   {
    "duration": 4,
    "start_time": "2024-04-09T08:56:17.645Z"
   },
   {
    "duration": 2323,
    "start_time": "2024-04-09T09:02:44.883Z"
   },
   {
    "duration": 29,
    "start_time": "2024-04-09T09:02:47.208Z"
   },
   {
    "duration": 4,
    "start_time": "2024-04-09T09:02:47.239Z"
   },
   {
    "duration": 23,
    "start_time": "2024-04-09T09:02:47.245Z"
   },
   {
    "duration": 217,
    "start_time": "2024-04-09T09:02:47.270Z"
   },
   {
    "duration": 2,
    "start_time": "2024-04-09T09:02:47.489Z"
   },
   {
    "duration": 11,
    "start_time": "2024-04-09T09:02:47.493Z"
   },
   {
    "duration": 14,
    "start_time": "2024-04-09T09:02:47.505Z"
   },
   {
    "duration": 876,
    "start_time": "2024-04-09T09:02:50.467Z"
   },
   {
    "duration": 9,
    "start_time": "2024-04-09T09:02:51.345Z"
   },
   {
    "duration": 5,
    "start_time": "2024-04-09T09:02:51.371Z"
   },
   {
    "duration": 10,
    "start_time": "2024-04-09T09:02:51.786Z"
   },
   {
    "duration": 4,
    "start_time": "2024-04-09T09:02:53.809Z"
   },
   {
    "duration": 31,
    "start_time": "2024-04-09T09:02:54.267Z"
   },
   {
    "duration": 5,
    "start_time": "2024-04-09T09:02:56.066Z"
   },
   {
    "duration": 2305,
    "start_time": "2024-04-09T09:02:58.435Z"
   },
   {
    "duration": 85,
    "start_time": "2024-04-09T09:03:00.742Z"
   },
   {
    "duration": 3,
    "start_time": "2024-04-09T09:03:05.747Z"
   },
   {
    "duration": 3,
    "start_time": "2024-04-09T09:03:06.307Z"
   },
   {
    "duration": 178,
    "start_time": "2024-04-09T09:03:08.459Z"
   },
   {
    "duration": 3,
    "start_time": "2024-04-09T09:03:24.435Z"
   },
   {
    "duration": 4,
    "start_time": "2024-04-09T09:03:24.835Z"
   },
   {
    "duration": 18,
    "start_time": "2024-04-09T09:03:27.243Z"
   },
   {
    "duration": 2441,
    "start_time": "2024-04-09T09:05:05.431Z"
   },
   {
    "duration": 28,
    "start_time": "2024-04-09T09:05:07.874Z"
   },
   {
    "duration": 4,
    "start_time": "2024-04-09T09:05:07.904Z"
   },
   {
    "duration": 6,
    "start_time": "2024-04-09T09:05:07.910Z"
   },
   {
    "duration": 229,
    "start_time": "2024-04-09T09:05:07.918Z"
   },
   {
    "duration": 3,
    "start_time": "2024-04-09T09:05:08.149Z"
   },
   {
    "duration": 10,
    "start_time": "2024-04-09T09:05:08.153Z"
   },
   {
    "duration": 22,
    "start_time": "2024-04-09T09:05:08.164Z"
   },
   {
    "duration": 886,
    "start_time": "2024-04-09T09:05:08.188Z"
   },
   {
    "duration": 9,
    "start_time": "2024-04-09T09:05:09.076Z"
   },
   {
    "duration": 3,
    "start_time": "2024-04-09T09:05:09.087Z"
   },
   {
    "duration": 23,
    "start_time": "2024-04-09T09:05:09.092Z"
   },
   {
    "duration": 4,
    "start_time": "2024-04-09T09:05:09.117Z"
   },
   {
    "duration": 46,
    "start_time": "2024-04-09T09:05:09.122Z"
   },
   {
    "duration": 5,
    "start_time": "2024-04-09T09:05:10.103Z"
   },
   {
    "duration": 2066,
    "start_time": "2024-04-09T09:05:11.144Z"
   },
   {
    "duration": 73,
    "start_time": "2024-04-09T09:05:13.212Z"
   },
   {
    "duration": 3,
    "start_time": "2024-04-09T09:05:14.126Z"
   },
   {
    "duration": 4,
    "start_time": "2024-04-09T09:05:15.087Z"
   },
   {
    "duration": 2457,
    "start_time": "2024-04-09T09:09:42.449Z"
   },
   {
    "duration": 36,
    "start_time": "2024-04-09T09:09:44.908Z"
   },
   {
    "duration": 4,
    "start_time": "2024-04-09T09:09:44.946Z"
   },
   {
    "duration": 8,
    "start_time": "2024-04-09T09:09:44.951Z"
   },
   {
    "duration": 154,
    "start_time": "2024-04-09T09:09:44.960Z"
   },
   {
    "duration": 3,
    "start_time": "2024-04-09T09:09:45.116Z"
   },
   {
    "duration": 92,
    "start_time": "2024-04-09T09:09:45.120Z"
   },
   {
    "duration": 34,
    "start_time": "2024-04-09T09:09:45.214Z"
   },
   {
    "duration": 925,
    "start_time": "2024-04-09T09:09:45.249Z"
   },
   {
    "duration": 8,
    "start_time": "2024-04-09T09:09:46.176Z"
   },
   {
    "duration": 11,
    "start_time": "2024-04-09T09:09:46.186Z"
   },
   {
    "duration": 13,
    "start_time": "2024-04-09T09:09:46.199Z"
   },
   {
    "duration": 7,
    "start_time": "2024-04-09T09:09:46.213Z"
   },
   {
    "duration": 43,
    "start_time": "2024-04-09T09:09:46.222Z"
   },
   {
    "duration": 5,
    "start_time": "2024-04-09T09:09:46.267Z"
   },
   {
    "duration": 2217,
    "start_time": "2024-04-09T09:09:46.274Z"
   },
   {
    "duration": 20,
    "start_time": "2024-04-09T09:09:48.494Z"
   },
   {
    "duration": 17,
    "start_time": "2024-04-09T09:09:48.516Z"
   },
   {
    "duration": 10,
    "start_time": "2024-04-09T09:09:48.534Z"
   },
   {
    "duration": 449,
    "start_time": "2024-04-09T09:09:49.617Z"
   },
   {
    "duration": 966,
    "start_time": "2024-04-09T09:09:50.314Z"
   },
   {
    "duration": 4,
    "start_time": "2024-04-09T09:10:17.578Z"
   },
   {
    "duration": 6039,
    "start_time": "2024-04-09T09:10:17.779Z"
   },
   {
    "duration": 2508,
    "start_time": "2024-04-09T09:26:34.299Z"
   },
   {
    "duration": 30,
    "start_time": "2024-04-09T09:26:36.809Z"
   },
   {
    "duration": 4,
    "start_time": "2024-04-09T09:26:36.842Z"
   },
   {
    "duration": 2,
    "start_time": "2024-04-09T09:26:36.848Z"
   },
   {
    "duration": 133,
    "start_time": "2024-04-09T09:26:36.852Z"
   },
   {
    "duration": 2,
    "start_time": "2024-04-09T09:26:36.987Z"
   },
   {
    "duration": 6,
    "start_time": "2024-04-09T09:26:36.991Z"
   },
   {
    "duration": 14,
    "start_time": "2024-04-09T09:26:36.998Z"
   },
   {
    "duration": 1269,
    "start_time": "2024-04-09T09:26:37.014Z"
   },
   {
    "duration": 8,
    "start_time": "2024-04-09T09:26:38.285Z"
   },
   {
    "duration": 3,
    "start_time": "2024-04-09T09:26:38.294Z"
   },
   {
    "duration": 18,
    "start_time": "2024-04-09T09:26:38.298Z"
   },
   {
    "duration": 12,
    "start_time": "2024-04-09T09:26:38.318Z"
   },
   {
    "duration": 37,
    "start_time": "2024-04-09T09:26:38.331Z"
   },
   {
    "duration": 8,
    "start_time": "2024-04-09T09:26:38.370Z"
   },
   {
    "duration": 11,
    "start_time": "2024-04-09T09:26:38.379Z"
   },
   {
    "duration": 3,
    "start_time": "2024-04-09T09:26:38.747Z"
   },
   {
    "duration": 4,
    "start_time": "2024-04-09T09:26:38.970Z"
   },
   {
    "duration": 6078,
    "start_time": "2024-04-09T09:26:41.714Z"
   },
   {
    "duration": 2272,
    "start_time": "2024-04-09T09:26:50.131Z"
   },
   {
    "duration": 785,
    "start_time": "2024-04-09T09:27:02.834Z"
   },
   {
    "duration": 4,
    "start_time": "2024-04-09T09:27:20.364Z"
   },
   {
    "duration": 13,
    "start_time": "2024-04-09T09:27:57.404Z"
   },
   {
    "duration": 5963,
    "start_time": "2024-04-09T09:28:10.981Z"
   },
   {
    "duration": 2532,
    "start_time": "2024-04-09T09:28:28.536Z"
   },
   {
    "duration": 28,
    "start_time": "2024-04-09T09:28:31.070Z"
   },
   {
    "duration": 23,
    "start_time": "2024-04-09T09:28:31.099Z"
   },
   {
    "duration": 45,
    "start_time": "2024-04-09T09:28:31.124Z"
   },
   {
    "duration": 177,
    "start_time": "2024-04-09T09:28:31.171Z"
   },
   {
    "duration": 2,
    "start_time": "2024-04-09T09:28:31.350Z"
   },
   {
    "duration": 39,
    "start_time": "2024-04-09T09:28:31.354Z"
   },
   {
    "duration": 46,
    "start_time": "2024-04-09T09:28:31.394Z"
   },
   {
    "duration": 2359,
    "start_time": "2024-04-09T09:28:31.441Z"
   },
   {
    "duration": 9,
    "start_time": "2024-04-09T09:28:33.803Z"
   },
   {
    "duration": 7,
    "start_time": "2024-04-09T09:28:33.813Z"
   },
   {
    "duration": 11,
    "start_time": "2024-04-09T09:28:33.821Z"
   },
   {
    "duration": 28,
    "start_time": "2024-04-09T09:28:33.834Z"
   },
   {
    "duration": 31,
    "start_time": "2024-04-09T09:28:33.864Z"
   },
   {
    "duration": 6,
    "start_time": "2024-04-09T09:28:33.897Z"
   },
   {
    "duration": 20,
    "start_time": "2024-04-09T09:28:33.905Z"
   },
   {
    "duration": 3,
    "start_time": "2024-04-09T09:28:34.695Z"
   },
   {
    "duration": 3,
    "start_time": "2024-04-09T09:28:34.958Z"
   },
   {
    "duration": 5996,
    "start_time": "2024-04-09T09:28:36.758Z"
   },
   {
    "duration": 2078,
    "start_time": "2024-04-09T09:28:42.755Z"
   },
   {
    "duration": 775,
    "start_time": "2024-04-09T09:28:44.834Z"
   },
   {
    "duration": 6,
    "start_time": "2024-04-09T09:28:50.935Z"
   },
   {
    "duration": 10,
    "start_time": "2024-04-09T09:29:02.903Z"
   },
   {
    "duration": 8,
    "start_time": "2024-04-09T09:31:05.913Z"
   },
   {
    "duration": 9,
    "start_time": "2024-04-09T09:31:09.730Z"
   },
   {
    "duration": 137470,
    "start_time": "2024-04-09T09:32:40.819Z"
   },
   {
    "duration": 8,
    "start_time": "2024-04-09T09:35:00.621Z"
   },
   {
    "duration": 2,
    "start_time": "2024-04-09T09:35:18.246Z"
   },
   {
    "duration": 10110,
    "start_time": "2024-04-09T09:38:15.258Z"
   },
   {
    "duration": 3,
    "start_time": "2024-04-09T09:38:48.113Z"
   },
   {
    "duration": 3,
    "start_time": "2024-04-09T09:39:01.553Z"
   },
   {
    "duration": 17,
    "start_time": "2024-04-09T09:39:09.858Z"
   },
   {
    "duration": 2594,
    "start_time": "2024-04-09T09:39:26.659Z"
   },
   {
    "duration": 29,
    "start_time": "2024-04-09T09:39:29.255Z"
   },
   {
    "duration": 4,
    "start_time": "2024-04-09T09:39:29.286Z"
   },
   {
    "duration": 9,
    "start_time": "2024-04-09T09:39:29.292Z"
   },
   {
    "duration": 18,
    "start_time": "2024-04-09T09:39:29.303Z"
   },
   {
    "duration": 10,
    "start_time": "2024-04-09T09:39:29.323Z"
   },
   {
    "duration": 5,
    "start_time": "2024-04-09T09:39:29.334Z"
   },
   {
    "duration": 4,
    "start_time": "2024-04-09T09:39:29.341Z"
   },
   {
    "duration": 2331,
    "start_time": "2024-04-09T09:39:29.347Z"
   },
   {
    "duration": 12,
    "start_time": "2024-04-09T09:39:31.680Z"
   },
   {
    "duration": 88,
    "start_time": "2024-04-09T09:39:31.693Z"
   },
   {
    "duration": 35,
    "start_time": "2024-04-09T09:39:31.783Z"
   },
   {
    "duration": 15,
    "start_time": "2024-04-09T09:39:31.819Z"
   },
   {
    "duration": 58,
    "start_time": "2024-04-09T09:39:31.836Z"
   },
   {
    "duration": 7,
    "start_time": "2024-04-09T09:39:31.896Z"
   },
   {
    "duration": 18,
    "start_time": "2024-04-09T09:39:31.904Z"
   },
   {
    "duration": 25,
    "start_time": "2024-04-09T09:39:31.923Z"
   },
   {
    "duration": 20,
    "start_time": "2024-04-09T09:39:31.950Z"
   },
   {
    "duration": 5930,
    "start_time": "2024-04-09T09:39:32.049Z"
   },
   {
    "duration": 2179,
    "start_time": "2024-04-09T09:39:37.981Z"
   },
   {
    "duration": 866,
    "start_time": "2024-04-09T09:39:40.164Z"
   },
   {
    "duration": 6,
    "start_time": "2024-04-09T09:39:41.034Z"
   },
   {
    "duration": 25,
    "start_time": "2024-04-09T09:39:41.041Z"
   },
   {
    "duration": 226,
    "start_time": "2024-04-09T09:39:41.067Z"
   },
   {
    "duration": 9422,
    "start_time": "2024-04-09T09:39:41.295Z"
   },
   {
    "duration": 4,
    "start_time": "2024-04-09T09:39:50.719Z"
   },
   {
    "duration": 5,
    "start_time": "2024-04-09T09:41:07.204Z"
   },
   {
    "duration": 9505,
    "start_time": "2024-04-09T09:41:08.379Z"
   },
   {
    "duration": 3,
    "start_time": "2024-04-09T09:41:17.886Z"
   },
   {
    "duration": 8,
    "start_time": "2024-04-09T09:41:17.891Z"
   },
   {
    "duration": 9208,
    "start_time": "2024-04-09T09:43:16.023Z"
   },
   {
    "duration": 4,
    "start_time": "2024-04-09T09:43:25.233Z"
   },
   {
    "duration": 3,
    "start_time": "2024-04-09T09:44:51.792Z"
   },
   {
    "duration": 9422,
    "start_time": "2024-04-09T09:44:59.119Z"
   },
   {
    "duration": 4,
    "start_time": "2024-04-09T09:45:10.111Z"
   },
   {
    "duration": 4,
    "start_time": "2024-04-09T09:46:41.225Z"
   },
   {
    "duration": 166,
    "start_time": "2024-04-09T09:47:27.954Z"
   },
   {
    "duration": 45,
    "start_time": "2024-04-09T09:50:12.582Z"
   },
   {
    "duration": 2409,
    "start_time": "2024-04-09T09:50:19.088Z"
   },
   {
    "duration": 30,
    "start_time": "2024-04-09T09:50:21.499Z"
   },
   {
    "duration": 4,
    "start_time": "2024-04-09T09:50:21.531Z"
   },
   {
    "duration": 10,
    "start_time": "2024-04-09T09:50:21.537Z"
   },
   {
    "duration": 4,
    "start_time": "2024-04-09T09:50:21.548Z"
   },
   {
    "duration": 8,
    "start_time": "2024-04-09T09:50:21.553Z"
   },
   {
    "duration": 3,
    "start_time": "2024-04-09T09:50:21.563Z"
   },
   {
    "duration": 8,
    "start_time": "2024-04-09T09:50:21.568Z"
   },
   {
    "duration": 2353,
    "start_time": "2024-04-09T09:50:21.577Z"
   },
   {
    "duration": 13,
    "start_time": "2024-04-09T09:50:23.932Z"
   },
   {
    "duration": 15,
    "start_time": "2024-04-09T09:50:23.947Z"
   },
   {
    "duration": 10,
    "start_time": "2024-04-09T09:50:23.964Z"
   },
   {
    "duration": 10,
    "start_time": "2024-04-09T09:50:23.975Z"
   },
   {
    "duration": 39,
    "start_time": "2024-04-09T09:50:23.986Z"
   },
   {
    "duration": 6,
    "start_time": "2024-04-09T09:50:24.027Z"
   },
   {
    "duration": 10,
    "start_time": "2024-04-09T09:50:24.035Z"
   },
   {
    "duration": 3,
    "start_time": "2024-04-09T09:50:24.046Z"
   },
   {
    "duration": 19,
    "start_time": "2024-04-09T09:50:24.051Z"
   },
   {
    "duration": 5963,
    "start_time": "2024-04-09T09:50:24.072Z"
   },
   {
    "duration": 2263,
    "start_time": "2024-04-09T09:50:30.036Z"
   },
   {
    "duration": 834,
    "start_time": "2024-04-09T09:50:32.300Z"
   },
   {
    "duration": 5,
    "start_time": "2024-04-09T09:50:33.136Z"
   },
   {
    "duration": 149,
    "start_time": "2024-04-09T09:50:33.142Z"
   },
   {
    "duration": 3,
    "start_time": "2024-04-09T09:51:58.126Z"
   },
   {
    "duration": 119,
    "start_time": "2024-04-09T10:01:59.377Z"
   },
   {
    "duration": 12,
    "start_time": "2024-04-09T10:02:17.145Z"
   },
   {
    "duration": 10,
    "start_time": "2024-04-09T10:02:26.843Z"
   },
   {
    "duration": 52,
    "start_time": "2024-04-09T10:02:34.808Z"
   },
   {
    "duration": 3,
    "start_time": "2024-04-09T10:03:08.466Z"
   },
   {
    "duration": 4,
    "start_time": "2024-04-09T10:03:39.561Z"
   },
   {
    "duration": 3,
    "start_time": "2024-04-09T10:07:32.813Z"
   },
   {
    "duration": 5088,
    "start_time": "2024-04-09T10:07:35.063Z"
   },
   {
    "duration": 1639,
    "start_time": "2024-04-09T10:08:13.406Z"
   },
   {
    "duration": 3,
    "start_time": "2024-04-09T10:08:33.447Z"
   },
   {
    "duration": 4,
    "start_time": "2024-04-09T10:11:20.961Z"
   },
   {
    "duration": 4,
    "start_time": "2024-04-09T10:20:10.113Z"
   },
   {
    "duration": 42574,
    "start_time": "2024-04-09T10:20:48.700Z"
   },
   {
    "duration": 0,
    "start_time": "2024-04-09T10:24:43.884Z"
   },
   {
    "duration": 92,
    "start_time": "2024-04-09T10:25:45.921Z"
   },
   {
    "duration": 67,
    "start_time": "2024-04-09T10:25:54.817Z"
   },
   {
    "duration": 38,
    "start_time": "2024-04-09T10:26:00.296Z"
   },
   {
    "duration": 36,
    "start_time": "2024-04-09T10:26:13.313Z"
   },
   {
    "duration": 11,
    "start_time": "2024-04-09T10:26:58.865Z"
   },
   {
    "duration": 2295,
    "start_time": "2024-04-09T10:27:42.021Z"
   },
   {
    "duration": 0,
    "start_time": "2024-04-09T10:27:44.317Z"
   },
   {
    "duration": 41697,
    "start_time": "2024-04-09T10:27:45.972Z"
   },
   {
    "duration": 140,
    "start_time": "2024-04-09T10:28:27.671Z"
   },
   {
    "duration": 3,
    "start_time": "2024-04-09T10:28:27.813Z"
   },
   {
    "duration": 15,
    "start_time": "2024-04-09T10:35:54.126Z"
   },
   {
    "duration": 4,
    "start_time": "2024-04-09T10:36:23.964Z"
   },
   {
    "duration": 14,
    "start_time": "2024-04-09T10:36:28.162Z"
   },
   {
    "duration": 4,
    "start_time": "2024-04-09T10:36:46.952Z"
   },
   {
    "duration": 14,
    "start_time": "2024-04-09T10:36:49.924Z"
   },
   {
    "duration": 4,
    "start_time": "2024-04-09T10:37:04.699Z"
   },
   {
    "duration": 17,
    "start_time": "2024-04-09T10:37:08.117Z"
   },
   {
    "duration": 12,
    "start_time": "2024-04-09T10:37:39.885Z"
   },
   {
    "duration": 4,
    "start_time": "2024-04-09T10:37:48.308Z"
   },
   {
    "duration": 5,
    "start_time": "2024-04-09T10:38:20.197Z"
   },
   {
    "duration": 6,
    "start_time": "2024-04-09T10:38:22.765Z"
   },
   {
    "duration": 10,
    "start_time": "2024-04-09T10:38:30.981Z"
   },
   {
    "duration": 4,
    "start_time": "2024-04-09T10:39:03.254Z"
   },
   {
    "duration": 6,
    "start_time": "2024-04-09T10:39:05.934Z"
   },
   {
    "duration": 11,
    "start_time": "2024-04-09T10:39:06.510Z"
   },
   {
    "duration": 3,
    "start_time": "2024-04-09T10:39:12.910Z"
   },
   {
    "duration": 15,
    "start_time": "2024-04-09T10:39:26.551Z"
   },
   {
    "duration": 12,
    "start_time": "2024-04-09T10:41:41.905Z"
   },
   {
    "duration": 3,
    "start_time": "2024-04-09T10:41:48.745Z"
   },
   {
    "duration": 2,
    "start_time": "2024-04-09T10:44:05.820Z"
   },
   {
    "duration": 21851,
    "start_time": "2024-04-09T10:44:06.515Z"
   },
   {
    "duration": 24,
    "start_time": "2024-04-09T10:49:50.571Z"
   },
   {
    "duration": 3,
    "start_time": "2024-04-09T10:50:54.905Z"
   },
   {
    "duration": 22227,
    "start_time": "2024-04-09T10:50:56.610Z"
   },
   {
    "duration": 38,
    "start_time": "2024-04-09T10:51:18.839Z"
   },
   {
    "duration": 6,
    "start_time": "2024-04-09T10:51:44.563Z"
   },
   {
    "duration": 3,
    "start_time": "2024-04-09T10:51:45.299Z"
   },
   {
    "duration": 42468,
    "start_time": "2024-04-09T10:51:45.683Z"
   },
   {
    "duration": 27,
    "start_time": "2024-04-09T10:52:28.153Z"
   },
   {
    "duration": 13,
    "start_time": "2024-04-09T10:53:33.789Z"
   },
   {
    "duration": 22,
    "start_time": "2024-04-09T10:53:41.684Z"
   },
   {
    "duration": 6,
    "start_time": "2024-04-09T10:57:12.052Z"
   },
   {
    "duration": 2,
    "start_time": "2024-04-09T10:57:12.929Z"
   },
   {
    "duration": 57528,
    "start_time": "2024-04-09T10:57:14.903Z"
   },
   {
    "duration": 36,
    "start_time": "2024-04-09T10:58:12.433Z"
   },
   {
    "duration": 5,
    "start_time": "2024-04-09T11:03:51.718Z"
   },
   {
    "duration": 3,
    "start_time": "2024-04-09T11:03:52.560Z"
   },
   {
    "duration": 53425,
    "start_time": "2024-04-09T11:03:53.471Z"
   },
   {
    "duration": 22,
    "start_time": "2024-04-09T11:04:46.898Z"
   },
   {
    "duration": 3,
    "start_time": "2024-04-09T11:05:11.825Z"
   },
   {
    "duration": 41867,
    "start_time": "2024-04-09T11:05:16.776Z"
   },
   {
    "duration": 0,
    "start_time": "2024-04-09T11:05:58.645Z"
   },
   {
    "duration": 0,
    "start_time": "2024-04-09T11:05:58.647Z"
   },
   {
    "duration": 3,
    "start_time": "2024-04-09T11:05:59.712Z"
   },
   {
    "duration": 54233,
    "start_time": "2024-04-09T11:05:59.915Z"
   },
   {
    "duration": 28,
    "start_time": "2024-04-09T11:06:54.150Z"
   },
   {
    "duration": 3,
    "start_time": "2024-04-09T11:08:42.143Z"
   },
   {
    "duration": 14,
    "start_time": "2024-04-09T11:08:43.500Z"
   },
   {
    "duration": 10,
    "start_time": "2024-04-09T11:08:44.424Z"
   },
   {
    "duration": 16,
    "start_time": "2024-04-09T11:08:59.403Z"
   },
   {
    "duration": 3,
    "start_time": "2024-04-09T11:09:06.060Z"
   },
   {
    "duration": 50959,
    "start_time": "2024-04-09T11:09:06.259Z"
   },
   {
    "duration": 11,
    "start_time": "2024-04-09T11:09:57.219Z"
   },
   {
    "duration": 11,
    "start_time": "2024-04-09T11:10:53.655Z"
   },
   {
    "duration": 33196,
    "start_time": "2024-04-09T11:10:54.054Z"
   },
   {
    "duration": 0,
    "start_time": "2024-04-09T11:11:27.252Z"
   },
   {
    "duration": 3,
    "start_time": "2024-04-09T11:11:28.823Z"
   },
   {
    "duration": 50818,
    "start_time": "2024-04-09T11:13:44.163Z"
   },
   {
    "duration": 31,
    "start_time": "2024-04-09T11:14:34.983Z"
   },
   {
    "duration": 4,
    "start_time": "2024-04-09T11:15:59.766Z"
   },
   {
    "duration": 41,
    "start_time": "2024-04-09T11:16:24.300Z"
   },
   {
    "duration": 4,
    "start_time": "2024-04-09T11:17:15.437Z"
   },
   {
    "duration": 5,
    "start_time": "2024-04-09T11:17:29.708Z"
   },
   {
    "duration": 27,
    "start_time": "2024-04-09T11:17:35.310Z"
   },
   {
    "duration": 13,
    "start_time": "2024-04-09T11:18:37.447Z"
   },
   {
    "duration": 22,
    "start_time": "2024-04-09T11:18:43.287Z"
   },
   {
    "duration": 23,
    "start_time": "2024-04-09T11:18:52.080Z"
   },
   {
    "duration": 5,
    "start_time": "2024-04-09T11:19:11.639Z"
   },
   {
    "duration": 623,
    "start_time": "2024-04-09T11:19:55.016Z"
   },
   {
    "duration": 3,
    "start_time": "2024-04-09T11:21:27.578Z"
   },
   {
    "duration": 3,
    "start_time": "2024-04-09T11:21:43.522Z"
   },
   {
    "duration": 2450,
    "start_time": "2024-04-09T11:22:04.247Z"
   },
   {
    "duration": 32,
    "start_time": "2024-04-09T11:22:06.699Z"
   },
   {
    "duration": 5,
    "start_time": "2024-04-09T11:22:06.733Z"
   },
   {
    "duration": 3,
    "start_time": "2024-04-09T11:22:06.740Z"
   },
   {
    "duration": 10,
    "start_time": "2024-04-09T11:22:06.745Z"
   },
   {
    "duration": 5,
    "start_time": "2024-04-09T11:22:06.756Z"
   },
   {
    "duration": 4,
    "start_time": "2024-04-09T11:22:06.762Z"
   },
   {
    "duration": 4,
    "start_time": "2024-04-09T11:22:06.768Z"
   },
   {
    "duration": 2360,
    "start_time": "2024-04-09T11:22:06.773Z"
   },
   {
    "duration": 14,
    "start_time": "2024-04-09T11:22:09.135Z"
   },
   {
    "duration": 3,
    "start_time": "2024-04-09T11:22:09.150Z"
   },
   {
    "duration": 24,
    "start_time": "2024-04-09T11:22:09.154Z"
   },
   {
    "duration": 5,
    "start_time": "2024-04-09T11:22:09.179Z"
   },
   {
    "duration": 36,
    "start_time": "2024-04-09T11:22:09.185Z"
   },
   {
    "duration": 4,
    "start_time": "2024-04-09T11:22:09.223Z"
   },
   {
    "duration": 9,
    "start_time": "2024-04-09T11:22:09.228Z"
   },
   {
    "duration": 14,
    "start_time": "2024-04-09T11:22:09.238Z"
   },
   {
    "duration": 13,
    "start_time": "2024-04-09T11:22:09.253Z"
   },
   {
    "duration": 5972,
    "start_time": "2024-04-09T11:22:09.268Z"
   },
   {
    "duration": 2660,
    "start_time": "2024-04-09T11:22:15.243Z"
   },
   {
    "duration": 854,
    "start_time": "2024-04-09T11:22:17.905Z"
   },
   {
    "duration": 4,
    "start_time": "2024-04-09T11:22:18.762Z"
   },
   {
    "duration": 149,
    "start_time": "2024-04-09T11:22:18.768Z"
   },
   {
    "duration": 3,
    "start_time": "2024-04-09T11:22:18.919Z"
   },
   {
    "duration": 59,
    "start_time": "2024-04-09T11:22:18.924Z"
   },
   {
    "duration": 4,
    "start_time": "2024-04-09T11:22:18.985Z"
   },
   {
    "duration": 5,
    "start_time": "2024-04-09T11:22:18.991Z"
   },
   {
    "duration": 3,
    "start_time": "2024-04-09T11:22:18.999Z"
   },
   {
    "duration": 5141,
    "start_time": "2024-04-09T11:22:19.004Z"
   },
   {
    "duration": 1589,
    "start_time": "2024-04-09T11:22:24.147Z"
   },
   {
    "duration": 3,
    "start_time": "2024-04-09T11:22:25.741Z"
   },
   {
    "duration": 16,
    "start_time": "2024-04-09T11:22:25.745Z"
   },
   {
    "duration": 40010,
    "start_time": "2024-04-09T11:22:25.763Z"
   },
   {
    "duration": 151,
    "start_time": "2024-04-09T11:23:05.775Z"
   },
   {
    "duration": 4,
    "start_time": "2024-04-09T11:23:05.928Z"
   },
   {
    "duration": 7,
    "start_time": "2024-04-09T11:23:05.934Z"
   },
   {
    "duration": 13,
    "start_time": "2024-04-09T11:23:05.943Z"
   },
   {
    "duration": 52109,
    "start_time": "2024-04-09T11:23:05.965Z"
   },
   {
    "duration": 5,
    "start_time": "2024-04-09T11:23:58.076Z"
   },
   {
    "duration": 11,
    "start_time": "2024-04-09T11:23:58.082Z"
   },
   {
    "duration": 7,
    "start_time": "2024-04-09T11:23:58.094Z"
   },
   {
    "duration": 146566,
    "start_time": "2024-04-09T11:23:58.104Z"
   },
   {
    "duration": 0,
    "start_time": "2024-04-09T11:26:24.671Z"
   },
   {
    "duration": 3,
    "start_time": "2024-04-09T11:26:37.222Z"
   },
   {
    "duration": 3,
    "start_time": "2024-04-09T11:26:37.445Z"
   },
   {
    "duration": 16,
    "start_time": "2024-04-09T11:26:37.686Z"
   },
   {
    "duration": 5,
    "start_time": "2024-04-09T11:26:57.781Z"
   },
   {
    "duration": 3,
    "start_time": "2024-04-09T11:26:57.982Z"
   },
   {
    "duration": 2398,
    "start_time": "2024-04-09T11:27:13.992Z"
   },
   {
    "duration": 30,
    "start_time": "2024-04-09T11:27:16.392Z"
   },
   {
    "duration": 5,
    "start_time": "2024-04-09T11:27:16.424Z"
   },
   {
    "duration": 5,
    "start_time": "2024-04-09T11:27:16.431Z"
   },
   {
    "duration": 8,
    "start_time": "2024-04-09T11:27:16.438Z"
   },
   {
    "duration": 6,
    "start_time": "2024-04-09T11:27:16.447Z"
   },
   {
    "duration": 11,
    "start_time": "2024-04-09T11:27:16.455Z"
   },
   {
    "duration": 7,
    "start_time": "2024-04-09T11:27:16.467Z"
   },
   {
    "duration": 2353,
    "start_time": "2024-04-09T11:27:16.476Z"
   },
   {
    "duration": 13,
    "start_time": "2024-04-09T11:27:18.832Z"
   },
   {
    "duration": 7,
    "start_time": "2024-04-09T11:27:18.847Z"
   },
   {
    "duration": 15,
    "start_time": "2024-04-09T11:27:18.856Z"
   },
   {
    "duration": 14,
    "start_time": "2024-04-09T11:27:18.873Z"
   },
   {
    "duration": 42,
    "start_time": "2024-04-09T11:27:18.888Z"
   },
   {
    "duration": 6,
    "start_time": "2024-04-09T11:27:18.933Z"
   },
   {
    "duration": 24,
    "start_time": "2024-04-09T11:27:18.942Z"
   },
   {
    "duration": 4,
    "start_time": "2024-04-09T11:27:18.968Z"
   },
   {
    "duration": 4,
    "start_time": "2024-04-09T11:27:18.975Z"
   },
   {
    "duration": 6170,
    "start_time": "2024-04-09T11:27:18.982Z"
   },
   {
    "duration": 2211,
    "start_time": "2024-04-09T11:27:25.154Z"
   },
   {
    "duration": 67,
    "start_time": "2024-04-09T11:27:42.992Z"
   },
   {
    "duration": 4997,
    "start_time": "2024-04-09T11:27:48.479Z"
   },
   {
    "duration": 31,
    "start_time": "2024-04-09T11:27:53.479Z"
   },
   {
    "duration": 5,
    "start_time": "2024-04-09T11:27:53.512Z"
   },
   {
    "duration": 2,
    "start_time": "2024-04-09T11:27:53.520Z"
   },
   {
    "duration": 7,
    "start_time": "2024-04-09T11:27:53.524Z"
   },
   {
    "duration": 12,
    "start_time": "2024-04-09T11:27:53.532Z"
   },
   {
    "duration": 7,
    "start_time": "2024-04-09T11:27:53.546Z"
   },
   {
    "duration": 18,
    "start_time": "2024-04-09T11:27:53.554Z"
   },
   {
    "duration": 2373,
    "start_time": "2024-04-09T11:27:53.575Z"
   },
   {
    "duration": 13,
    "start_time": "2024-04-09T11:27:55.950Z"
   },
   {
    "duration": 15,
    "start_time": "2024-04-09T11:27:55.964Z"
   },
   {
    "duration": 20,
    "start_time": "2024-04-09T11:27:55.981Z"
   },
   {
    "duration": 17,
    "start_time": "2024-04-09T11:27:56.003Z"
   },
   {
    "duration": 33,
    "start_time": "2024-04-09T11:27:56.022Z"
   },
   {
    "duration": 6,
    "start_time": "2024-04-09T11:27:56.056Z"
   },
   {
    "duration": 13,
    "start_time": "2024-04-09T11:27:56.064Z"
   },
   {
    "duration": 4,
    "start_time": "2024-04-09T11:27:56.079Z"
   },
   {
    "duration": 5,
    "start_time": "2024-04-09T11:27:56.084Z"
   },
   {
    "duration": 6114,
    "start_time": "2024-04-09T11:27:56.091Z"
   },
   {
    "duration": 2181,
    "start_time": "2024-04-09T11:28:02.207Z"
   },
   {
    "duration": 2280,
    "start_time": "2024-04-09T11:28:36.789Z"
   },
   {
    "duration": 31,
    "start_time": "2024-04-09T11:28:39.070Z"
   },
   {
    "duration": 4,
    "start_time": "2024-04-09T11:28:40.837Z"
   },
   {
    "duration": 2,
    "start_time": "2024-04-09T11:28:41.037Z"
   },
   {
    "duration": 3,
    "start_time": "2024-04-09T11:28:41.196Z"
   },
   {
    "duration": 3,
    "start_time": "2024-04-09T11:28:41.380Z"
   },
   {
    "duration": 2,
    "start_time": "2024-04-09T11:28:41.558Z"
   },
   {
    "duration": 3,
    "start_time": "2024-04-09T11:28:41.741Z"
   },
   {
    "duration": 2282,
    "start_time": "2024-04-09T11:28:42.278Z"
   },
   {
    "duration": 19,
    "start_time": "2024-04-09T11:28:44.562Z"
   },
   {
    "duration": 17,
    "start_time": "2024-04-09T11:28:44.583Z"
   },
   {
    "duration": 10,
    "start_time": "2024-04-09T11:28:44.601Z"
   },
   {
    "duration": 5,
    "start_time": "2024-04-09T11:28:44.612Z"
   },
   {
    "duration": 37,
    "start_time": "2024-04-09T11:28:44.618Z"
   },
   {
    "duration": 4,
    "start_time": "2024-04-09T11:28:44.656Z"
   },
   {
    "duration": 9,
    "start_time": "2024-04-09T11:28:45.717Z"
   },
   {
    "duration": 3,
    "start_time": "2024-04-09T11:28:46.502Z"
   },
   {
    "duration": 3,
    "start_time": "2024-04-09T11:28:46.741Z"
   },
   {
    "duration": 6106,
    "start_time": "2024-04-09T11:28:46.981Z"
   },
   {
    "duration": 2133,
    "start_time": "2024-04-09T11:28:53.089Z"
   },
   {
    "duration": 2362,
    "start_time": "2024-04-09T11:30:51.888Z"
   },
   {
    "duration": 32,
    "start_time": "2024-04-09T11:30:54.252Z"
   },
   {
    "duration": 4,
    "start_time": "2024-04-09T11:30:54.286Z"
   },
   {
    "duration": 15,
    "start_time": "2024-04-09T11:30:54.291Z"
   },
   {
    "duration": 5,
    "start_time": "2024-04-09T11:30:54.309Z"
   },
   {
    "duration": 2,
    "start_time": "2024-04-09T11:30:55.927Z"
   },
   {
    "duration": 3,
    "start_time": "2024-04-09T11:30:56.312Z"
   },
   {
    "duration": 2,
    "start_time": "2024-04-09T11:30:56.631Z"
   },
   {
    "duration": 2356,
    "start_time": "2024-04-09T11:30:57.704Z"
   },
   {
    "duration": 13,
    "start_time": "2024-04-09T11:31:00.063Z"
   },
   {
    "duration": 3,
    "start_time": "2024-04-09T11:31:01.661Z"
   },
   {
    "duration": 9,
    "start_time": "2024-04-09T11:31:01.926Z"
   },
   {
    "duration": 3,
    "start_time": "2024-04-09T11:31:02.287Z"
   },
   {
    "duration": 38,
    "start_time": "2024-04-09T11:31:02.648Z"
   },
   {
    "duration": 4,
    "start_time": "2024-04-09T11:31:03.392Z"
   },
   {
    "duration": 9,
    "start_time": "2024-04-09T11:31:07.247Z"
   },
   {
    "duration": 4,
    "start_time": "2024-04-09T11:31:08.321Z"
   },
   {
    "duration": 3,
    "start_time": "2024-04-09T11:31:08.704Z"
   },
   {
    "duration": 6089,
    "start_time": "2024-04-09T11:31:09.143Z"
   },
   {
    "duration": 2293,
    "start_time": "2024-04-09T11:31:15.234Z"
   },
   {
    "duration": 47,
    "start_time": "2024-04-09T11:32:52.769Z"
   },
   {
    "duration": 2429,
    "start_time": "2024-04-09T11:33:02.033Z"
   },
   {
    "duration": 28,
    "start_time": "2024-04-09T11:33:04.464Z"
   },
   {
    "duration": 4,
    "start_time": "2024-04-09T11:33:04.493Z"
   },
   {
    "duration": 3,
    "start_time": "2024-04-09T11:33:04.499Z"
   },
   {
    "duration": 3,
    "start_time": "2024-04-09T11:33:04.503Z"
   },
   {
    "duration": 5,
    "start_time": "2024-04-09T11:33:04.507Z"
   },
   {
    "duration": 7,
    "start_time": "2024-04-09T11:33:04.514Z"
   },
   {
    "duration": 9,
    "start_time": "2024-04-09T11:33:04.522Z"
   },
   {
    "duration": 2334,
    "start_time": "2024-04-09T11:33:04.762Z"
   },
   {
    "duration": 13,
    "start_time": "2024-04-09T11:33:07.098Z"
   },
   {
    "duration": 7,
    "start_time": "2024-04-09T11:33:07.112Z"
   },
   {
    "duration": 13,
    "start_time": "2024-04-09T11:33:07.120Z"
   },
   {
    "duration": 4,
    "start_time": "2024-04-09T11:33:07.136Z"
   },
   {
    "duration": 51,
    "start_time": "2024-04-09T11:33:07.142Z"
   },
   {
    "duration": 6,
    "start_time": "2024-04-09T11:33:07.195Z"
   },
   {
    "duration": 12,
    "start_time": "2024-04-09T11:33:10.731Z"
   },
   {
    "duration": 3,
    "start_time": "2024-04-09T11:33:12.993Z"
   },
   {
    "duration": 3,
    "start_time": "2024-04-09T11:33:13.193Z"
   },
   {
    "duration": 6133,
    "start_time": "2024-04-09T11:33:13.376Z"
   },
   {
    "duration": 2295,
    "start_time": "2024-04-09T11:34:19.724Z"
   },
   {
    "duration": 29,
    "start_time": "2024-04-09T11:34:22.021Z"
   },
   {
    "duration": 4,
    "start_time": "2024-04-09T11:34:22.051Z"
   },
   {
    "duration": 22,
    "start_time": "2024-04-09T11:34:22.057Z"
   },
   {
    "duration": 20,
    "start_time": "2024-04-09T11:34:22.081Z"
   },
   {
    "duration": 12,
    "start_time": "2024-04-09T11:34:22.103Z"
   },
   {
    "duration": 9,
    "start_time": "2024-04-09T11:34:22.117Z"
   },
   {
    "duration": 4,
    "start_time": "2024-04-09T11:34:22.128Z"
   },
   {
    "duration": 2311,
    "start_time": "2024-04-09T11:34:22.134Z"
   },
   {
    "duration": 12,
    "start_time": "2024-04-09T11:34:24.448Z"
   },
   {
    "duration": 7,
    "start_time": "2024-04-09T11:34:24.461Z"
   },
   {
    "duration": 10,
    "start_time": "2024-04-09T11:34:24.469Z"
   },
   {
    "duration": 9,
    "start_time": "2024-04-09T11:34:24.481Z"
   },
   {
    "duration": 31,
    "start_time": "2024-04-09T11:34:24.492Z"
   },
   {
    "duration": 4,
    "start_time": "2024-04-09T11:34:24.524Z"
   },
   {
    "duration": 9,
    "start_time": "2024-04-09T11:34:24.530Z"
   },
   {
    "duration": 25,
    "start_time": "2024-04-09T11:34:24.540Z"
   },
   {
    "duration": 2,
    "start_time": "2024-04-09T11:34:24.567Z"
   },
   {
    "duration": 6121,
    "start_time": "2024-04-09T11:34:24.571Z"
   },
   {
    "duration": 5246,
    "start_time": "2024-04-09T11:34:44.059Z"
   },
   {
    "duration": 2441,
    "start_time": "2024-04-09T11:36:05.002Z"
   },
   {
    "duration": 35,
    "start_time": "2024-04-09T11:36:07.445Z"
   },
   {
    "duration": 5,
    "start_time": "2024-04-09T11:36:07.481Z"
   },
   {
    "duration": 12,
    "start_time": "2024-04-09T11:36:07.487Z"
   },
   {
    "duration": 6,
    "start_time": "2024-04-09T11:36:07.501Z"
   },
   {
    "duration": 13,
    "start_time": "2024-04-09T11:36:07.508Z"
   },
   {
    "duration": 8,
    "start_time": "2024-04-09T11:36:07.523Z"
   },
   {
    "duration": 4,
    "start_time": "2024-04-09T11:36:07.533Z"
   },
   {
    "duration": 2368,
    "start_time": "2024-04-09T11:36:07.538Z"
   },
   {
    "duration": 13,
    "start_time": "2024-04-09T11:36:09.908Z"
   },
   {
    "duration": 3,
    "start_time": "2024-04-09T11:36:09.923Z"
   },
   {
    "duration": 10,
    "start_time": "2024-04-09T11:36:09.927Z"
   },
   {
    "duration": 4,
    "start_time": "2024-04-09T11:36:09.939Z"
   },
   {
    "duration": 40,
    "start_time": "2024-04-09T11:36:09.945Z"
   },
   {
    "duration": 5,
    "start_time": "2024-04-09T11:36:09.986Z"
   },
   {
    "duration": 15,
    "start_time": "2024-04-09T11:36:09.992Z"
   },
   {
    "duration": 5,
    "start_time": "2024-04-09T11:36:10.008Z"
   },
   {
    "duration": 4,
    "start_time": "2024-04-09T11:36:10.015Z"
   },
   {
    "duration": 5963,
    "start_time": "2024-04-09T11:36:10.021Z"
   },
   {
    "duration": 2204,
    "start_time": "2024-04-09T11:36:15.986Z"
   },
   {
    "duration": 2349,
    "start_time": "2024-04-09T11:48:05.978Z"
   },
   {
    "duration": 28,
    "start_time": "2024-04-09T11:48:08.329Z"
   },
   {
    "duration": 4,
    "start_time": "2024-04-09T11:48:08.359Z"
   },
   {
    "duration": 2,
    "start_time": "2024-04-09T11:48:08.366Z"
   },
   {
    "duration": 6,
    "start_time": "2024-04-09T11:48:08.369Z"
   },
   {
    "duration": 11,
    "start_time": "2024-04-09T11:48:08.376Z"
   },
   {
    "duration": 19,
    "start_time": "2024-04-09T11:48:08.389Z"
   },
   {
    "duration": 3,
    "start_time": "2024-04-09T11:48:10.232Z"
   },
   {
    "duration": 2338,
    "start_time": "2024-04-09T11:48:10.953Z"
   },
   {
    "duration": 15,
    "start_time": "2024-04-09T11:48:13.293Z"
   },
   {
    "duration": 25,
    "start_time": "2024-04-09T11:48:13.309Z"
   },
   {
    "duration": 14,
    "start_time": "2024-04-09T11:48:13.336Z"
   },
   {
    "duration": 11,
    "start_time": "2024-04-09T11:48:13.351Z"
   },
   {
    "duration": 32,
    "start_time": "2024-04-09T11:48:13.364Z"
   },
   {
    "duration": 5,
    "start_time": "2024-04-09T11:48:15.626Z"
   },
   {
    "duration": 9,
    "start_time": "2024-04-09T11:48:16.305Z"
   },
   {
    "duration": 3,
    "start_time": "2024-04-09T11:48:18.137Z"
   },
   {
    "duration": 3,
    "start_time": "2024-04-09T11:48:18.554Z"
   },
   {
    "duration": 6198,
    "start_time": "2024-04-09T11:48:18.777Z"
   },
   {
    "duration": 2338,
    "start_time": "2024-04-09T11:48:26.242Z"
   },
   {
    "duration": 50,
    "start_time": "2024-04-09T11:48:37.379Z"
   },
   {
    "duration": 2518,
    "start_time": "2024-04-09T11:49:51.492Z"
   },
   {
    "duration": 30,
    "start_time": "2024-04-09T11:49:54.012Z"
   },
   {
    "duration": 4,
    "start_time": "2024-04-09T11:49:54.044Z"
   },
   {
    "duration": 25,
    "start_time": "2024-04-09T11:49:54.050Z"
   },
   {
    "duration": 19,
    "start_time": "2024-04-09T11:49:54.077Z"
   },
   {
    "duration": 15,
    "start_time": "2024-04-09T11:49:54.097Z"
   },
   {
    "duration": 8,
    "start_time": "2024-04-09T11:49:54.113Z"
   },
   {
    "duration": 8,
    "start_time": "2024-04-09T11:49:54.123Z"
   },
   {
    "duration": 2323,
    "start_time": "2024-04-09T11:49:54.132Z"
   },
   {
    "duration": 13,
    "start_time": "2024-04-09T11:49:56.456Z"
   },
   {
    "duration": 2,
    "start_time": "2024-04-09T11:49:56.470Z"
   },
   {
    "duration": 10,
    "start_time": "2024-04-09T11:49:56.474Z"
   },
   {
    "duration": 8,
    "start_time": "2024-04-09T11:49:56.486Z"
   },
   {
    "duration": 33,
    "start_time": "2024-04-09T11:49:56.497Z"
   },
   {
    "duration": 20,
    "start_time": "2024-04-09T11:49:56.531Z"
   },
   {
    "duration": 19,
    "start_time": "2024-04-09T11:49:56.552Z"
   },
   {
    "duration": 7,
    "start_time": "2024-04-09T11:49:56.572Z"
   },
   {
    "duration": 7,
    "start_time": "2024-04-09T11:49:56.580Z"
   },
   {
    "duration": 6154,
    "start_time": "2024-04-09T11:49:56.588Z"
   },
   {
    "duration": 2189,
    "start_time": "2024-04-09T11:50:02.744Z"
   },
   {
    "duration": 2307,
    "start_time": "2024-04-09T11:50:46.319Z"
   },
   {
    "duration": 28,
    "start_time": "2024-04-09T11:50:48.628Z"
   },
   {
    "duration": 5,
    "start_time": "2024-04-09T11:50:48.657Z"
   },
   {
    "duration": 3,
    "start_time": "2024-04-09T11:50:48.663Z"
   },
   {
    "duration": 4,
    "start_time": "2024-04-09T11:50:48.668Z"
   },
   {
    "duration": 4,
    "start_time": "2024-04-09T11:50:48.673Z"
   },
   {
    "duration": 4,
    "start_time": "2024-04-09T11:50:48.679Z"
   },
   {
    "duration": 6,
    "start_time": "2024-04-09T11:50:48.685Z"
   },
   {
    "duration": 2328,
    "start_time": "2024-04-09T11:50:48.692Z"
   },
   {
    "duration": 13,
    "start_time": "2024-04-09T11:50:51.021Z"
   },
   {
    "duration": 34,
    "start_time": "2024-04-09T11:50:51.035Z"
   },
   {
    "duration": 22,
    "start_time": "2024-04-09T11:50:51.071Z"
   },
   {
    "duration": 15,
    "start_time": "2024-04-09T11:50:51.094Z"
   },
   {
    "duration": 32,
    "start_time": "2024-04-09T11:50:51.111Z"
   },
   {
    "duration": 5,
    "start_time": "2024-04-09T11:50:51.144Z"
   },
   {
    "duration": 10,
    "start_time": "2024-04-09T11:51:05.998Z"
   },
   {
    "duration": 9,
    "start_time": "2024-04-09T11:51:18.271Z"
   },
   {
    "duration": 3,
    "start_time": "2024-04-09T11:51:37.568Z"
   },
   {
    "duration": 3,
    "start_time": "2024-04-09T11:51:39.055Z"
   },
   {
    "duration": 6046,
    "start_time": "2024-04-09T11:51:41.520Z"
   },
   {
    "duration": 2224,
    "start_time": "2024-04-09T11:51:57.589Z"
   },
   {
    "duration": 2320,
    "start_time": "2024-04-09T11:59:20.559Z"
   },
   {
    "duration": 27,
    "start_time": "2024-04-09T11:59:22.882Z"
   },
   {
    "duration": 4,
    "start_time": "2024-04-09T11:59:22.911Z"
   },
   {
    "duration": 3,
    "start_time": "2024-04-09T11:59:22.916Z"
   },
   {
    "duration": 5,
    "start_time": "2024-04-09T11:59:22.920Z"
   },
   {
    "duration": 12,
    "start_time": "2024-04-09T11:59:22.926Z"
   },
   {
    "duration": 14,
    "start_time": "2024-04-09T11:59:22.939Z"
   },
   {
    "duration": 16,
    "start_time": "2024-04-09T11:59:22.954Z"
   },
   {
    "duration": 2312,
    "start_time": "2024-04-09T11:59:22.971Z"
   },
   {
    "duration": 12,
    "start_time": "2024-04-09T11:59:25.286Z"
   },
   {
    "duration": 8,
    "start_time": "2024-04-09T11:59:25.299Z"
   },
   {
    "duration": 10,
    "start_time": "2024-04-09T11:59:25.308Z"
   },
   {
    "duration": 4,
    "start_time": "2024-04-09T11:59:25.320Z"
   },
   {
    "duration": 32,
    "start_time": "2024-04-09T11:59:25.325Z"
   },
   {
    "duration": 4,
    "start_time": "2024-04-09T11:59:25.364Z"
   },
   {
    "duration": 8,
    "start_time": "2024-04-09T11:59:25.370Z"
   },
   {
    "duration": 3,
    "start_time": "2024-04-09T11:59:25.379Z"
   },
   {
    "duration": 4,
    "start_time": "2024-04-09T11:59:25.384Z"
   },
   {
    "duration": 5978,
    "start_time": "2024-04-09T11:59:25.390Z"
   },
   {
    "duration": 2401,
    "start_time": "2024-04-09T16:53:43.008Z"
   },
   {
    "duration": 30,
    "start_time": "2024-04-09T16:53:45.411Z"
   },
   {
    "duration": 5,
    "start_time": "2024-04-09T16:53:45.443Z"
   },
   {
    "duration": 6,
    "start_time": "2024-04-09T16:53:45.450Z"
   },
   {
    "duration": 8,
    "start_time": "2024-04-09T16:53:45.458Z"
   },
   {
    "duration": 16,
    "start_time": "2024-04-09T16:53:45.467Z"
   },
   {
    "duration": 25,
    "start_time": "2024-04-09T16:53:45.484Z"
   },
   {
    "duration": 6,
    "start_time": "2024-04-09T16:53:45.511Z"
   },
   {
    "duration": 2408,
    "start_time": "2024-04-09T16:53:45.518Z"
   },
   {
    "duration": 12,
    "start_time": "2024-04-09T16:53:47.928Z"
   },
   {
    "duration": 4,
    "start_time": "2024-04-09T16:53:47.942Z"
   },
   {
    "duration": 14,
    "start_time": "2024-04-09T16:53:47.947Z"
   },
   {
    "duration": 7,
    "start_time": "2024-04-09T16:53:47.963Z"
   },
   {
    "duration": 32,
    "start_time": "2024-04-09T16:53:47.973Z"
   },
   {
    "duration": 4,
    "start_time": "2024-04-09T16:53:48.018Z"
   },
   {
    "duration": 9,
    "start_time": "2024-04-09T16:53:48.023Z"
   },
   {
    "duration": 8,
    "start_time": "2024-04-09T16:53:48.033Z"
   },
   {
    "duration": 9,
    "start_time": "2024-04-09T16:53:48.043Z"
   },
   {
    "duration": 6221,
    "start_time": "2024-04-09T16:53:48.054Z"
   },
   {
    "duration": 2428,
    "start_time": "2024-04-09T16:55:29.225Z"
   },
   {
    "duration": 40,
    "start_time": "2024-04-09T16:55:31.655Z"
   },
   {
    "duration": 6,
    "start_time": "2024-04-09T16:55:31.696Z"
   },
   {
    "duration": 36,
    "start_time": "2024-04-09T16:55:31.704Z"
   },
   {
    "duration": 51,
    "start_time": "2024-04-09T16:55:31.741Z"
   },
   {
    "duration": 59,
    "start_time": "2024-04-09T16:55:31.794Z"
   },
   {
    "duration": 16,
    "start_time": "2024-04-09T16:55:31.855Z"
   },
   {
    "duration": 44,
    "start_time": "2024-04-09T16:55:31.873Z"
   },
   {
    "duration": 2369,
    "start_time": "2024-04-09T16:55:31.918Z"
   },
   {
    "duration": 13,
    "start_time": "2024-04-09T16:55:34.289Z"
   },
   {
    "duration": 10,
    "start_time": "2024-04-09T16:55:34.303Z"
   },
   {
    "duration": 14,
    "start_time": "2024-04-09T16:55:34.314Z"
   },
   {
    "duration": 12,
    "start_time": "2024-04-09T16:55:34.330Z"
   },
   {
    "duration": 31,
    "start_time": "2024-04-09T16:55:34.343Z"
   },
   {
    "duration": 5,
    "start_time": "2024-04-09T16:55:34.375Z"
   },
   {
    "duration": 13,
    "start_time": "2024-04-09T16:55:34.381Z"
   },
   {
    "duration": 4,
    "start_time": "2024-04-09T16:55:34.776Z"
   },
   {
    "duration": 4,
    "start_time": "2024-04-09T16:55:35.216Z"
   },
   {
    "duration": 6093,
    "start_time": "2024-04-09T16:55:35.435Z"
   },
   {
    "duration": 2331,
    "start_time": "2024-04-09T16:56:35.113Z"
   },
   {
    "duration": 28,
    "start_time": "2024-04-09T16:56:37.445Z"
   },
   {
    "duration": 6,
    "start_time": "2024-04-09T16:56:37.479Z"
   },
   {
    "duration": 7,
    "start_time": "2024-04-09T16:56:37.487Z"
   },
   {
    "duration": 10,
    "start_time": "2024-04-09T16:56:37.497Z"
   },
   {
    "duration": 6,
    "start_time": "2024-04-09T16:56:37.508Z"
   },
   {
    "duration": 3,
    "start_time": "2024-04-09T16:56:37.516Z"
   },
   {
    "duration": 8,
    "start_time": "2024-04-09T16:56:37.520Z"
   },
   {
    "duration": 2332,
    "start_time": "2024-04-09T16:56:37.529Z"
   },
   {
    "duration": 13,
    "start_time": "2024-04-09T16:56:39.863Z"
   },
   {
    "duration": 4,
    "start_time": "2024-04-09T16:56:39.877Z"
   },
   {
    "duration": 9,
    "start_time": "2024-04-09T16:56:39.883Z"
   },
   {
    "duration": 3,
    "start_time": "2024-04-09T16:56:39.894Z"
   },
   {
    "duration": 42,
    "start_time": "2024-04-09T16:56:39.899Z"
   },
   {
    "duration": 5,
    "start_time": "2024-04-09T16:56:39.943Z"
   },
   {
    "duration": 14,
    "start_time": "2024-04-09T16:56:39.950Z"
   },
   {
    "duration": 4,
    "start_time": "2024-04-09T16:56:39.965Z"
   },
   {
    "duration": 8,
    "start_time": "2024-04-09T16:56:39.971Z"
   },
   {
    "duration": 6023,
    "start_time": "2024-04-09T16:56:39.981Z"
   },
   {
    "duration": 2043,
    "start_time": "2024-04-09T16:57:06.480Z"
   },
   {
    "duration": 720,
    "start_time": "2024-04-09T16:57:10.252Z"
   },
   {
    "duration": 5,
    "start_time": "2024-04-09T16:57:12.475Z"
   },
   {
    "duration": 14,
    "start_time": "2024-04-09T16:57:13.619Z"
   },
   {
    "duration": 162,
    "start_time": "2024-04-09T16:57:18.614Z"
   },
   {
    "duration": 3,
    "start_time": "2024-04-09T16:57:34.154Z"
   },
   {
    "duration": 46,
    "start_time": "2024-04-09T16:57:34.617Z"
   },
   {
    "duration": 3,
    "start_time": "2024-04-09T16:57:35.021Z"
   },
   {
    "duration": 3,
    "start_time": "2024-04-09T16:57:35.452Z"
   },
   {
    "duration": 2,
    "start_time": "2024-04-09T16:57:36.294Z"
   },
   {
    "duration": 5164,
    "start_time": "2024-04-09T16:57:36.654Z"
   },
   {
    "duration": 1575,
    "start_time": "2024-04-09T16:57:41.819Z"
   },
   {
    "duration": 3,
    "start_time": "2024-04-09T16:57:43.396Z"
   },
   {
    "duration": 3,
    "start_time": "2024-04-09T16:57:45.173Z"
   },
   {
    "duration": 39765,
    "start_time": "2024-04-09T16:57:46.358Z"
   },
   {
    "duration": 132,
    "start_time": "2024-04-09T16:58:26.125Z"
   },
   {
    "duration": 3,
    "start_time": "2024-04-09T16:58:26.258Z"
   },
   {
    "duration": 5,
    "start_time": "2024-04-09T16:58:29.254Z"
   },
   {
    "duration": 3,
    "start_time": "2024-04-09T16:58:30.338Z"
   },
   {
    "duration": 51221,
    "start_time": "2024-04-09T16:58:32.336Z"
   },
   {
    "duration": 4,
    "start_time": "2024-04-09T16:59:23.559Z"
   },
   {
    "duration": 3,
    "start_time": "2024-04-09T16:59:36.430Z"
   },
   {
    "duration": 3,
    "start_time": "2024-04-09T16:59:36.780Z"
   },
   {
    "duration": 463969,
    "start_time": "2024-04-09T16:59:37.470Z"
   },
   {
    "duration": 4,
    "start_time": "2024-04-09T17:07:21.441Z"
   },
   {
    "duration": 9,
    "start_time": "2024-04-09T17:16:45.635Z"
   },
   {
    "duration": 546,
    "start_time": "2024-04-09T17:16:50.640Z"
   },
   {
    "duration": 112,
    "start_time": "2024-04-09T17:16:58.662Z"
   },
   {
    "duration": 6,
    "start_time": "2024-04-09T17:17:02.736Z"
   },
   {
    "duration": 159,
    "start_time": "2024-04-09T17:17:13.959Z"
   },
   {
    "duration": 125,
    "start_time": "2024-04-09T17:17:17.071Z"
   },
   {
    "duration": 312,
    "start_time": "2024-04-09T17:18:56.225Z"
   },
   {
    "duration": 11,
    "start_time": "2024-04-09T17:19:41.748Z"
   },
   {
    "duration": 3,
    "start_time": "2024-04-09T17:20:00.626Z"
   },
   {
    "duration": 256,
    "start_time": "2024-04-09T17:20:07.122Z"
   },
   {
    "duration": 150,
    "start_time": "2024-04-09T17:20:58.715Z"
   },
   {
    "duration": 163,
    "start_time": "2024-04-09T17:21:11.044Z"
   },
   {
    "duration": 178,
    "start_time": "2024-04-09T17:21:26.412Z"
   },
   {
    "duration": 180,
    "start_time": "2024-04-09T17:21:30.300Z"
   },
   {
    "duration": 167,
    "start_time": "2024-04-09T17:22:22.981Z"
   },
   {
    "duration": 62,
    "start_time": "2024-04-09T17:22:40.652Z"
   },
   {
    "duration": 151,
    "start_time": "2024-04-09T17:22:44.125Z"
   },
   {
    "duration": 286,
    "start_time": "2024-04-09T17:23:08.606Z"
   },
   {
    "duration": 156,
    "start_time": "2024-04-09T17:23:45.630Z"
   },
   {
    "duration": 138,
    "start_time": "2024-04-09T17:23:52.991Z"
   },
   {
    "duration": 48,
    "start_time": "2024-04-09T17:24:02.399Z"
   },
   {
    "duration": 134,
    "start_time": "2024-04-09T17:24:09.871Z"
   },
   {
    "duration": 14,
    "start_time": "2024-04-09T17:24:17.433Z"
   },
   {
    "duration": 153,
    "start_time": "2024-04-09T17:24:20.767Z"
   },
   {
    "duration": 139,
    "start_time": "2024-04-09T17:24:32.327Z"
   },
   {
    "duration": 162,
    "start_time": "2024-04-09T17:25:16.110Z"
   },
   {
    "duration": 132,
    "start_time": "2024-04-09T17:25:25.344Z"
   },
   {
    "duration": 161,
    "start_time": "2024-04-09T17:25:29.350Z"
   },
   {
    "duration": 2449,
    "start_time": "2024-04-09T17:28:07.284Z"
   },
   {
    "duration": 27,
    "start_time": "2024-04-09T17:28:09.735Z"
   },
   {
    "duration": 9,
    "start_time": "2024-04-09T17:28:09.767Z"
   },
   {
    "duration": 181,
    "start_time": "2024-04-09T17:28:09.777Z"
   },
   {
    "duration": 3,
    "start_time": "2024-04-09T17:28:09.960Z"
   },
   {
    "duration": 5,
    "start_time": "2024-04-09T17:28:09.964Z"
   },
   {
    "duration": 4,
    "start_time": "2024-04-09T17:28:09.971Z"
   },
   {
    "duration": 4,
    "start_time": "2024-04-09T17:28:09.976Z"
   },
   {
    "duration": 4,
    "start_time": "2024-04-09T17:28:09.981Z"
   },
   {
    "duration": 839,
    "start_time": "2024-04-09T17:28:09.987Z"
   },
   {
    "duration": 12,
    "start_time": "2024-04-09T17:28:10.827Z"
   },
   {
    "duration": 3,
    "start_time": "2024-04-09T17:28:10.843Z"
   },
   {
    "duration": 11,
    "start_time": "2024-04-09T17:28:10.847Z"
   },
   {
    "duration": 6,
    "start_time": "2024-04-09T17:28:10.860Z"
   },
   {
    "duration": 56,
    "start_time": "2024-04-09T17:28:10.867Z"
   },
   {
    "duration": 4,
    "start_time": "2024-04-09T17:28:11.274Z"
   },
   {
    "duration": 148,
    "start_time": "2024-04-09T17:28:11.658Z"
   },
   {
    "duration": 13,
    "start_time": "2024-04-09T17:29:01.619Z"
   },
   {
    "duration": 4,
    "start_time": "2024-04-09T17:29:04.956Z"
   },
   {
    "duration": 3,
    "start_time": "2024-04-09T17:29:05.498Z"
   },
   {
    "duration": 6317,
    "start_time": "2024-04-09T17:29:10.308Z"
   },
   {
    "duration": 178,
    "start_time": "2024-04-09T17:29:41.740Z"
   },
   {
    "duration": 12,
    "start_time": "2024-04-09T17:29:44.716Z"
   },
   {
    "duration": 6,
    "start_time": "2024-04-09T17:29:56.933Z"
   },
   {
    "duration": 0,
    "start_time": "2024-04-09T17:30:13.046Z"
   },
   {
    "duration": 529801,
    "start_time": "2024-04-09T17:30:15.926Z"
   },
   {
    "duration": 0,
    "start_time": "2024-04-09T17:39:05.730Z"
   },
   {
    "duration": 14,
    "start_time": "2024-04-09T17:39:06.766Z"
   },
   {
    "duration": 6,
    "start_time": "2024-04-09T17:39:13.094Z"
   },
   {
    "duration": 8,
    "start_time": "2024-04-09T17:39:19.054Z"
   },
   {
    "duration": 8,
    "start_time": "2024-04-09T17:40:20.292Z"
   },
   {
    "duration": 10,
    "start_time": "2024-04-09T17:40:25.334Z"
   },
   {
    "duration": 9,
    "start_time": "2024-04-09T17:40:42.199Z"
   },
   {
    "duration": 14,
    "start_time": "2024-04-09T17:40:48.169Z"
   },
   {
    "duration": 66,
    "start_time": "2024-04-09T17:40:54.080Z"
   },
   {
    "duration": 10,
    "start_time": "2024-04-09T17:40:57.350Z"
   },
   {
    "duration": 11,
    "start_time": "2024-04-09T17:41:09.792Z"
   },
   {
    "duration": 157,
    "start_time": "2024-04-09T17:41:24.863Z"
   },
   {
    "duration": 125,
    "start_time": "2024-04-09T17:41:43.633Z"
   },
   {
    "duration": 210,
    "start_time": "2024-04-09T17:42:12.617Z"
   },
   {
    "duration": 314,
    "start_time": "2024-04-09T17:43:02.274Z"
   },
   {
    "duration": 24,
    "start_time": "2024-04-09T17:45:55.028Z"
   },
   {
    "duration": 21,
    "start_time": "2024-04-09T17:48:51.295Z"
   },
   {
    "duration": 15579,
    "start_time": "2024-04-09T17:49:24.752Z"
   },
   {
    "duration": 2357,
    "start_time": "2024-04-09T17:50:26.470Z"
   },
   {
    "duration": 30,
    "start_time": "2024-04-09T17:50:28.829Z"
   },
   {
    "duration": 4,
    "start_time": "2024-04-09T17:50:28.861Z"
   },
   {
    "duration": 219,
    "start_time": "2024-04-09T17:50:28.867Z"
   },
   {
    "duration": 3,
    "start_time": "2024-04-09T17:50:29.088Z"
   },
   {
    "duration": 4,
    "start_time": "2024-04-09T17:50:29.092Z"
   },
   {
    "duration": 21,
    "start_time": "2024-04-09T17:50:29.097Z"
   },
   {
    "duration": 7,
    "start_time": "2024-04-09T17:50:29.119Z"
   },
   {
    "duration": 3,
    "start_time": "2024-04-09T17:50:29.128Z"
   },
   {
    "duration": 2442,
    "start_time": "2024-04-09T17:50:29.132Z"
   },
   {
    "duration": 10,
    "start_time": "2024-04-09T17:50:31.576Z"
   },
   {
    "duration": 33,
    "start_time": "2024-04-09T17:50:31.587Z"
   },
   {
    "duration": 26,
    "start_time": "2024-04-09T17:50:31.622Z"
   },
   {
    "duration": 28,
    "start_time": "2024-04-09T17:50:31.651Z"
   },
   {
    "duration": 56,
    "start_time": "2024-04-09T17:50:31.681Z"
   },
   {
    "duration": 9,
    "start_time": "2024-04-09T17:50:31.739Z"
   },
   {
    "duration": 39,
    "start_time": "2024-04-09T17:50:31.750Z"
   },
   {
    "duration": 166,
    "start_time": "2024-04-09T17:50:31.791Z"
   },
   {
    "duration": 11,
    "start_time": "2024-04-09T17:50:31.959Z"
   },
   {
    "duration": 37,
    "start_time": "2024-04-09T17:50:31.972Z"
   },
   {
    "duration": 16,
    "start_time": "2024-04-09T17:50:32.011Z"
   },
   {
    "duration": 6472,
    "start_time": "2024-04-09T17:50:32.029Z"
   },
   {
    "duration": 7,
    "start_time": "2024-04-09T17:50:38.503Z"
   },
   {
    "duration": 174,
    "start_time": "2024-04-09T17:51:32.152Z"
   },
   {
    "duration": 254,
    "start_time": "2024-04-09T17:52:18.168Z"
   },
   {
    "duration": 231,
    "start_time": "2024-04-09T17:52:31.771Z"
   },
   {
    "duration": 283,
    "start_time": "2024-04-09T17:54:10.930Z"
   },
   {
    "duration": 12,
    "start_time": "2024-04-09T17:55:02.955Z"
   },
   {
    "duration": 56,
    "start_time": "2024-04-09T17:55:43.763Z"
   },
   {
    "duration": 2385,
    "start_time": "2024-04-09T17:55:49.220Z"
   },
   {
    "duration": 46,
    "start_time": "2024-04-09T17:55:51.608Z"
   },
   {
    "duration": 5,
    "start_time": "2024-04-09T17:55:51.655Z"
   },
   {
    "duration": 233,
    "start_time": "2024-04-09T17:55:51.661Z"
   },
   {
    "duration": 2,
    "start_time": "2024-04-09T17:55:51.896Z"
   },
   {
    "duration": 6,
    "start_time": "2024-04-09T17:55:51.899Z"
   },
   {
    "duration": 10,
    "start_time": "2024-04-09T17:55:51.907Z"
   },
   {
    "duration": 8,
    "start_time": "2024-04-09T17:55:51.919Z"
   },
   {
    "duration": 10,
    "start_time": "2024-04-09T17:55:51.929Z"
   },
   {
    "duration": 2402,
    "start_time": "2024-04-09T17:55:51.942Z"
   },
   {
    "duration": 11,
    "start_time": "2024-04-09T17:55:54.345Z"
   },
   {
    "duration": 22,
    "start_time": "2024-04-09T17:55:54.357Z"
   },
   {
    "duration": 10,
    "start_time": "2024-04-09T17:55:54.381Z"
   },
   {
    "duration": 6,
    "start_time": "2024-04-09T17:55:54.394Z"
   },
   {
    "duration": 32,
    "start_time": "2024-04-09T17:55:54.401Z"
   },
   {
    "duration": 4,
    "start_time": "2024-04-09T17:55:54.434Z"
   },
   {
    "duration": 9,
    "start_time": "2024-04-09T17:55:54.440Z"
   },
   {
    "duration": 180,
    "start_time": "2024-04-09T17:55:54.451Z"
   },
   {
    "duration": 9,
    "start_time": "2024-04-09T17:55:54.633Z"
   },
   {
    "duration": 4,
    "start_time": "2024-04-09T17:55:54.643Z"
   },
   {
    "duration": 12,
    "start_time": "2024-04-09T17:55:54.648Z"
   },
   {
    "duration": 6120,
    "start_time": "2024-04-09T17:55:54.661Z"
   },
   {
    "duration": 7,
    "start_time": "2024-04-09T17:56:00.783Z"
   },
   {
    "duration": 29,
    "start_time": "2024-04-09T18:02:23.346Z"
   },
   {
    "duration": 2113,
    "start_time": "2024-04-09T18:03:59.220Z"
   },
   {
    "duration": 799,
    "start_time": "2024-04-09T18:04:47.845Z"
   },
   {
    "duration": 2436,
    "start_time": "2024-04-09T18:05:40.040Z"
   },
   {
    "duration": 41,
    "start_time": "2024-04-09T18:05:42.478Z"
   },
   {
    "duration": 6,
    "start_time": "2024-04-09T18:05:42.521Z"
   },
   {
    "duration": 237,
    "start_time": "2024-04-09T18:05:42.529Z"
   },
   {
    "duration": 3,
    "start_time": "2024-04-09T18:05:42.769Z"
   },
   {
    "duration": 14,
    "start_time": "2024-04-09T18:05:42.774Z"
   },
   {
    "duration": 5,
    "start_time": "2024-04-09T18:05:42.790Z"
   },
   {
    "duration": 6,
    "start_time": "2024-04-09T18:05:42.797Z"
   },
   {
    "duration": 9,
    "start_time": "2024-04-09T18:05:42.804Z"
   },
   {
    "duration": 2401,
    "start_time": "2024-04-09T18:05:42.817Z"
   },
   {
    "duration": 10,
    "start_time": "2024-04-09T18:05:45.220Z"
   },
   {
    "duration": 29,
    "start_time": "2024-04-09T18:05:45.232Z"
   },
   {
    "duration": 38,
    "start_time": "2024-04-09T18:05:45.263Z"
   },
   {
    "duration": 90,
    "start_time": "2024-04-09T18:05:45.305Z"
   },
   {
    "duration": 47,
    "start_time": "2024-04-09T18:05:45.397Z"
   },
   {
    "duration": 7,
    "start_time": "2024-04-09T18:05:45.446Z"
   },
   {
    "duration": 59,
    "start_time": "2024-04-09T18:05:45.455Z"
   },
   {
    "duration": 172,
    "start_time": "2024-04-09T18:05:45.516Z"
   },
   {
    "duration": 17,
    "start_time": "2024-04-09T18:05:45.690Z"
   },
   {
    "duration": 16,
    "start_time": "2024-04-09T18:05:45.709Z"
   },
   {
    "duration": 14,
    "start_time": "2024-04-09T18:05:45.727Z"
   },
   {
    "duration": 6318,
    "start_time": "2024-04-09T18:05:45.743Z"
   },
   {
    "duration": 9,
    "start_time": "2024-04-09T18:05:52.063Z"
   },
   {
    "duration": 2118,
    "start_time": "2024-04-09T18:05:52.074Z"
   },
   {
    "duration": 808,
    "start_time": "2024-04-09T18:05:54.194Z"
   },
   {
    "duration": 4,
    "start_time": "2024-04-09T18:06:28.040Z"
   },
   {
    "duration": 135,
    "start_time": "2024-04-09T18:07:11.281Z"
   },
   {
    "duration": 3,
    "start_time": "2024-04-09T18:07:20.546Z"
   },
   {
    "duration": 8,
    "start_time": "2024-04-09T18:08:22.954Z"
   },
   {
    "duration": 3,
    "start_time": "2024-04-09T18:08:23.851Z"
   },
   {
    "duration": 2389,
    "start_time": "2024-04-09T18:08:31.187Z"
   },
   {
    "duration": 32,
    "start_time": "2024-04-09T18:08:33.578Z"
   },
   {
    "duration": 6,
    "start_time": "2024-04-09T18:08:33.612Z"
   },
   {
    "duration": 224,
    "start_time": "2024-04-09T18:08:33.620Z"
   },
   {
    "duration": 3,
    "start_time": "2024-04-09T18:08:33.846Z"
   },
   {
    "duration": 8,
    "start_time": "2024-04-09T18:08:33.850Z"
   },
   {
    "duration": 8,
    "start_time": "2024-04-09T18:08:33.860Z"
   },
   {
    "duration": 7,
    "start_time": "2024-04-09T18:08:33.869Z"
   },
   {
    "duration": 6,
    "start_time": "2024-04-09T18:08:33.878Z"
   },
   {
    "duration": 2412,
    "start_time": "2024-04-09T18:08:33.887Z"
   },
   {
    "duration": 9,
    "start_time": "2024-04-09T18:08:36.301Z"
   },
   {
    "duration": 14,
    "start_time": "2024-04-09T18:08:36.311Z"
   },
   {
    "duration": 9,
    "start_time": "2024-04-09T18:08:36.327Z"
   },
   {
    "duration": 4,
    "start_time": "2024-04-09T18:08:36.338Z"
   },
   {
    "duration": 32,
    "start_time": "2024-04-09T18:08:36.343Z"
   },
   {
    "duration": 20,
    "start_time": "2024-04-09T18:08:36.377Z"
   },
   {
    "duration": 10,
    "start_time": "2024-04-09T18:08:36.398Z"
   },
   {
    "duration": 153,
    "start_time": "2024-04-09T18:08:36.410Z"
   },
   {
    "duration": 12,
    "start_time": "2024-04-09T18:08:36.565Z"
   },
   {
    "duration": 7,
    "start_time": "2024-04-09T18:08:36.579Z"
   },
   {
    "duration": 15,
    "start_time": "2024-04-09T18:08:36.588Z"
   },
   {
    "duration": 6125,
    "start_time": "2024-04-09T18:08:36.605Z"
   },
   {
    "duration": 7,
    "start_time": "2024-04-09T18:08:42.731Z"
   },
   {
    "duration": 2088,
    "start_time": "2024-04-09T18:08:42.740Z"
   },
   {
    "duration": 2228,
    "start_time": "2024-04-09T18:08:48.853Z"
   },
   {
    "duration": 31,
    "start_time": "2024-04-09T18:08:51.083Z"
   },
   {
    "duration": 5,
    "start_time": "2024-04-09T18:08:51.116Z"
   },
   {
    "duration": 227,
    "start_time": "2024-04-09T18:08:51.123Z"
   },
   {
    "duration": 2,
    "start_time": "2024-04-09T18:08:51.352Z"
   },
   {
    "duration": 5,
    "start_time": "2024-04-09T18:08:51.356Z"
   },
   {
    "duration": 9,
    "start_time": "2024-04-09T18:08:51.363Z"
   },
   {
    "duration": 13,
    "start_time": "2024-04-09T18:08:51.373Z"
   },
   {
    "duration": 21,
    "start_time": "2024-04-09T18:08:51.387Z"
   },
   {
    "duration": 908,
    "start_time": "2024-04-09T18:08:51.409Z"
   },
   {
    "duration": 11,
    "start_time": "2024-04-09T18:08:52.319Z"
   },
   {
    "duration": 3,
    "start_time": "2024-04-09T18:08:52.332Z"
   },
   {
    "duration": 17,
    "start_time": "2024-04-09T18:08:52.336Z"
   },
   {
    "duration": 4,
    "start_time": "2024-04-09T18:08:52.356Z"
   },
   {
    "duration": 61,
    "start_time": "2024-04-09T18:08:52.362Z"
   },
   {
    "duration": 5,
    "start_time": "2024-04-09T18:08:52.425Z"
   },
   {
    "duration": 19,
    "start_time": "2024-04-09T18:08:52.432Z"
   },
   {
    "duration": 171,
    "start_time": "2024-04-09T18:08:52.453Z"
   },
   {
    "duration": 9,
    "start_time": "2024-04-09T18:08:52.626Z"
   },
   {
    "duration": 6,
    "start_time": "2024-04-09T18:08:52.636Z"
   },
   {
    "duration": 3,
    "start_time": "2024-04-09T18:08:52.643Z"
   },
   {
    "duration": 6066,
    "start_time": "2024-04-09T18:08:52.648Z"
   },
   {
    "duration": 8,
    "start_time": "2024-04-09T18:08:58.715Z"
   },
   {
    "duration": 2135,
    "start_time": "2024-04-09T18:09:07.652Z"
   },
   {
    "duration": 800,
    "start_time": "2024-04-09T18:09:09.789Z"
   },
   {
    "duration": 3,
    "start_time": "2024-04-09T18:09:10.591Z"
   },
   {
    "duration": 165,
    "start_time": "2024-04-09T18:09:53.988Z"
   },
   {
    "duration": 11,
    "start_time": "2024-04-09T18:11:03.559Z"
   },
   {
    "duration": 2237,
    "start_time": "2024-04-09T18:11:15.901Z"
   },
   {
    "duration": 236,
    "start_time": "2024-04-09T18:11:29.638Z"
   },
   {
    "duration": 2258,
    "start_time": "2024-04-09T18:11:31.606Z"
   },
   {
    "duration": 77,
    "start_time": "2024-04-09T18:11:34.766Z"
   },
   {
    "duration": 12,
    "start_time": "2024-04-09T18:11:37.717Z"
   },
   {
    "duration": 19,
    "start_time": "2024-04-09T18:12:13.359Z"
   },
   {
    "duration": 14,
    "start_time": "2024-04-09T18:12:18.686Z"
   },
   {
    "duration": 6,
    "start_time": "2024-04-09T18:12:28.927Z"
   },
   {
    "duration": 1112,
    "start_time": "2024-04-09T18:13:40.482Z"
   },
   {
    "duration": 49,
    "start_time": "2024-04-09T18:14:35.719Z"
   },
   {
    "duration": 2306,
    "start_time": "2024-04-09T18:14:39.848Z"
   },
   {
    "duration": 27,
    "start_time": "2024-04-09T18:14:42.156Z"
   },
   {
    "duration": 4,
    "start_time": "2024-04-09T18:14:42.184Z"
   },
   {
    "duration": 206,
    "start_time": "2024-04-09T18:14:42.190Z"
   },
   {
    "duration": 2,
    "start_time": "2024-04-09T18:14:42.398Z"
   },
   {
    "duration": 4,
    "start_time": "2024-04-09T18:14:42.402Z"
   },
   {
    "duration": 4,
    "start_time": "2024-04-09T18:14:42.407Z"
   },
   {
    "duration": 2,
    "start_time": "2024-04-09T18:14:42.418Z"
   },
   {
    "duration": 3,
    "start_time": "2024-04-09T18:14:42.422Z"
   },
   {
    "duration": 8,
    "start_time": "2024-04-09T18:14:42.427Z"
   },
   {
    "duration": 2342,
    "start_time": "2024-04-09T18:14:42.436Z"
   },
   {
    "duration": 11,
    "start_time": "2024-04-09T18:14:44.780Z"
   },
   {
    "duration": 7,
    "start_time": "2024-04-09T18:14:44.792Z"
   },
   {
    "duration": 16,
    "start_time": "2024-04-09T18:14:44.801Z"
   },
   {
    "duration": 5,
    "start_time": "2024-04-09T18:14:44.818Z"
   },
   {
    "duration": 42,
    "start_time": "2024-04-09T18:14:44.825Z"
   },
   {
    "duration": 9,
    "start_time": "2024-04-09T18:14:44.869Z"
   },
   {
    "duration": 13,
    "start_time": "2024-04-09T18:14:44.880Z"
   },
   {
    "duration": 185,
    "start_time": "2024-04-09T18:14:44.895Z"
   },
   {
    "duration": 9,
    "start_time": "2024-04-09T18:14:45.081Z"
   },
   {
    "duration": 17,
    "start_time": "2024-04-09T18:14:45.091Z"
   },
   {
    "duration": 25,
    "start_time": "2024-04-09T18:14:45.109Z"
   },
   {
    "duration": 4,
    "start_time": "2024-04-09T18:18:01.505Z"
   },
   {
    "duration": 369,
    "start_time": "2024-04-09T18:18:53.587Z"
   },
   {
    "duration": 2,
    "start_time": "2024-04-09T18:19:34.077Z"
   },
   {
    "duration": 225,
    "start_time": "2024-04-09T18:19:34.556Z"
   },
   {
    "duration": 4,
    "start_time": "2024-04-09T18:19:35.652Z"
   },
   {
    "duration": 250,
    "start_time": "2024-04-09T18:19:38.460Z"
   },
   {
    "duration": 3,
    "start_time": "2024-04-09T18:19:52.541Z"
   },
   {
    "duration": 77251,
    "start_time": "2024-04-09T18:19:53.796Z"
   },
   {
    "duration": 7,
    "start_time": "2024-04-09T18:21:37.509Z"
   },
   {
    "duration": 3,
    "start_time": "2024-04-09T18:21:56.149Z"
   },
   {
    "duration": 62,
    "start_time": "2024-04-09T18:21:57.253Z"
   },
   {
    "duration": 4,
    "start_time": "2024-04-09T18:22:00.981Z"
   },
   {
    "duration": 4,
    "start_time": "2024-04-09T18:22:04.725Z"
   },
   {
    "duration": 4,
    "start_time": "2024-04-09T18:22:08.021Z"
   },
   {
    "duration": 3769,
    "start_time": "2024-04-09T18:22:08.957Z"
   },
   {
    "duration": 15,
    "start_time": "2024-04-09T18:23:11.495Z"
   },
   {
    "duration": 3778,
    "start_time": "2024-04-09T18:23:12.135Z"
   },
   {
    "duration": 3649,
    "start_time": "2024-04-09T18:23:22.687Z"
   },
   {
    "duration": 1210,
    "start_time": "2024-04-09T18:23:31.095Z"
   },
   {
    "duration": 4,
    "start_time": "2024-04-09T18:23:33.655Z"
   },
   {
    "duration": 3,
    "start_time": "2024-04-09T18:23:50.815Z"
   },
   {
    "duration": 47020,
    "start_time": "2024-04-09T18:23:53.799Z"
   },
   {
    "duration": 145,
    "start_time": "2024-04-09T18:24:40.823Z"
   },
   {
    "duration": 3,
    "start_time": "2024-04-09T18:24:40.970Z"
   },
   {
    "duration": 5,
    "start_time": "2024-04-09T18:25:49.529Z"
   },
   {
    "duration": 3,
    "start_time": "2024-04-09T18:25:53.393Z"
   },
   {
    "duration": 50512,
    "start_time": "2024-04-09T18:25:55.064Z"
   },
   {
    "duration": 4,
    "start_time": "2024-04-09T18:28:30.235Z"
   },
   {
    "duration": 3,
    "start_time": "2024-04-09T18:28:31.634Z"
   },
   {
    "duration": 460156,
    "start_time": "2024-04-09T18:28:33.115Z"
   },
   {
    "duration": 2,
    "start_time": "2024-04-09T18:36:36.308Z"
   },
   {
    "duration": 4,
    "start_time": "2024-04-09T18:37:05.244Z"
   },
   {
    "duration": 1239,
    "start_time": "2024-04-09T18:37:28.922Z"
   },
   {
    "duration": 3273,
    "start_time": "2024-04-09T18:38:29.958Z"
   },
   {
    "duration": 3174,
    "start_time": "2024-04-09T18:39:00.557Z"
   },
   {
    "duration": 5,
    "start_time": "2024-04-09T18:39:26.150Z"
   },
   {
    "duration": 3160,
    "start_time": "2024-04-09T18:39:35.711Z"
   },
   {
    "duration": 1890,
    "start_time": "2024-04-09T18:39:47.470Z"
   },
   {
    "duration": 45,
    "start_time": "2024-04-09T18:40:05.326Z"
   },
   {
    "duration": 3,
    "start_time": "2024-04-09T18:40:05.846Z"
   },
   {
    "duration": 1599,
    "start_time": "2024-04-09T18:49:59.960Z"
   },
   {
    "duration": 5972,
    "start_time": "2024-04-09T18:50:08.081Z"
   },
   {
    "duration": 11,
    "start_time": "2024-04-09T18:50:37.287Z"
   },
   {
    "duration": 2494,
    "start_time": "2024-04-09T18:51:11.698Z"
   },
   {
    "duration": 28,
    "start_time": "2024-04-09T18:51:14.194Z"
   },
   {
    "duration": 4,
    "start_time": "2024-04-09T18:51:14.223Z"
   },
   {
    "duration": 294,
    "start_time": "2024-04-09T18:51:14.228Z"
   },
   {
    "duration": 2,
    "start_time": "2024-04-09T18:51:14.524Z"
   },
   {
    "duration": 7,
    "start_time": "2024-04-09T18:51:14.528Z"
   },
   {
    "duration": 23,
    "start_time": "2024-04-09T18:51:14.537Z"
   },
   {
    "duration": 6,
    "start_time": "2024-04-09T18:51:14.562Z"
   },
   {
    "duration": 13,
    "start_time": "2024-04-09T18:51:14.569Z"
   },
   {
    "duration": 27,
    "start_time": "2024-04-09T18:51:14.583Z"
   },
   {
    "duration": 2384,
    "start_time": "2024-04-09T18:51:14.612Z"
   },
   {
    "duration": 11,
    "start_time": "2024-04-09T18:51:16.998Z"
   },
   {
    "duration": 14,
    "start_time": "2024-04-09T18:51:17.011Z"
   },
   {
    "duration": 26,
    "start_time": "2024-04-09T18:51:17.028Z"
   },
   {
    "duration": 30,
    "start_time": "2024-04-09T18:51:17.056Z"
   },
   {
    "duration": 45,
    "start_time": "2024-04-09T18:51:17.087Z"
   },
   {
    "duration": 5,
    "start_time": "2024-04-09T18:51:17.134Z"
   },
   {
    "duration": 12,
    "start_time": "2024-04-09T18:51:17.140Z"
   },
   {
    "duration": 174,
    "start_time": "2024-04-09T18:51:17.153Z"
   },
   {
    "duration": 9,
    "start_time": "2024-04-09T18:51:17.329Z"
   },
   {
    "duration": 7,
    "start_time": "2024-04-09T18:51:17.340Z"
   },
   {
    "duration": 238,
    "start_time": "2024-04-09T18:51:17.348Z"
   },
   {
    "duration": 3,
    "start_time": "2024-04-09T18:51:17.588Z"
   },
   {
    "duration": 79059,
    "start_time": "2024-04-09T18:51:17.593Z"
   },
   {
    "duration": 7,
    "start_time": "2024-04-09T18:52:36.654Z"
   },
   {
    "duration": 11,
    "start_time": "2024-04-09T18:52:36.663Z"
   },
   {
    "duration": 67,
    "start_time": "2024-04-09T18:52:36.675Z"
   },
   {
    "duration": 3,
    "start_time": "2024-04-09T18:52:36.743Z"
   },
   {
    "duration": 5,
    "start_time": "2024-04-09T18:52:36.748Z"
   },
   {
    "duration": 3,
    "start_time": "2024-04-09T18:52:50.699Z"
   },
   {
    "duration": 1550,
    "start_time": "2024-04-09T18:52:51.657Z"
   },
   {
    "duration": 5544,
    "start_time": "2024-04-09T18:52:54.059Z"
   },
   {
    "duration": 522,
    "start_time": "2024-04-09T18:53:00.508Z"
   },
   {
    "duration": 1758,
    "start_time": "2024-04-09T18:53:02.948Z"
   },
   {
    "duration": 4,
    "start_time": "2024-04-09T18:53:05.465Z"
   },
   {
    "duration": 3,
    "start_time": "2024-04-09T18:53:08.404Z"
   },
   {
    "duration": 46240,
    "start_time": "2024-04-09T18:53:09.980Z"
   },
   {
    "duration": 44,
    "start_time": "2024-04-09T18:56:24.230Z"
   },
   {
    "duration": 3,
    "start_time": "2024-04-09T18:56:25.334Z"
   },
   {
    "duration": 5,
    "start_time": "2024-04-09T18:56:27.311Z"
   },
   {
    "duration": 3,
    "start_time": "2024-04-09T18:56:28.991Z"
   },
   {
    "duration": 51406,
    "start_time": "2024-04-09T18:56:30.255Z"
   },
   {
    "duration": 7,
    "start_time": "2024-04-09T18:57:21.664Z"
   },
   {
    "duration": 1354,
    "start_time": "2024-04-09T18:58:23.360Z"
   },
   {
    "duration": 1977,
    "start_time": "2024-04-09T18:58:24.718Z"
   },
   {
    "duration": 3,
    "start_time": "2024-04-09T18:58:26.697Z"
   },
   {
    "duration": 17,
    "start_time": "2024-04-09T18:58:26.701Z"
   },
   {
    "duration": 470565,
    "start_time": "2024-04-09T18:58:26.720Z"
   },
   {
    "duration": 4,
    "start_time": "2024-04-09T19:06:17.287Z"
   },
   {
    "duration": 19,
    "start_time": "2024-04-09T19:07:59.746Z"
   },
   {
    "duration": 2364,
    "start_time": "2024-04-10T07:54:49.575Z"
   },
   {
    "duration": 27,
    "start_time": "2024-04-10T07:54:51.940Z"
   },
   {
    "duration": 4,
    "start_time": "2024-04-10T07:54:53.897Z"
   },
   {
    "duration": 452,
    "start_time": "2024-04-10T07:54:54.339Z"
   },
   {
    "duration": 3,
    "start_time": "2024-04-10T07:54:54.793Z"
   },
   {
    "duration": 22,
    "start_time": "2024-04-10T07:54:54.797Z"
   },
   {
    "duration": 2,
    "start_time": "2024-04-10T07:54:54.857Z"
   },
   {
    "duration": 3,
    "start_time": "2024-04-10T07:54:55.035Z"
   },
   {
    "duration": 2,
    "start_time": "2024-04-10T07:54:55.178Z"
   },
   {
    "duration": 3,
    "start_time": "2024-04-10T07:54:55.354Z"
   },
   {
    "duration": 3073,
    "start_time": "2024-04-10T07:55:04.370Z"
   },
   {
    "duration": 10,
    "start_time": "2024-04-10T07:55:07.445Z"
   },
   {
    "duration": 3,
    "start_time": "2024-04-10T07:55:07.457Z"
   },
   {
    "duration": 11,
    "start_time": "2024-04-10T07:55:07.461Z"
   },
   {
    "duration": 4,
    "start_time": "2024-04-10T07:55:08.674Z"
   },
   {
    "duration": 23,
    "start_time": "2024-04-10T07:55:08.899Z"
   },
   {
    "duration": 4,
    "start_time": "2024-04-10T07:55:09.676Z"
   },
   {
    "duration": 10,
    "start_time": "2024-04-10T07:55:10.436Z"
   },
   {
    "duration": 143,
    "start_time": "2024-04-10T07:55:10.938Z"
   },
   {
    "duration": 8,
    "start_time": "2024-04-10T07:55:12.636Z"
   },
   {
    "duration": 2,
    "start_time": "2024-04-10T07:55:13.395Z"
   },
   {
    "duration": 226,
    "start_time": "2024-04-10T07:55:13.612Z"
   },
   {
    "duration": 4,
    "start_time": "2024-04-10T07:55:13.839Z"
   },
   {
    "duration": 70669,
    "start_time": "2024-04-10T07:55:14.052Z"
   },
   {
    "duration": 7,
    "start_time": "2024-04-10T07:56:24.722Z"
   },
   {
    "duration": 5,
    "start_time": "2024-04-10T07:56:24.730Z"
   },
   {
    "duration": 68,
    "start_time": "2024-04-10T07:56:24.737Z"
   },
   {
    "duration": 3,
    "start_time": "2024-04-10T07:56:24.806Z"
   },
   {
    "duration": 7,
    "start_time": "2024-04-10T07:56:24.811Z"
   },
   {
    "duration": 10,
    "start_time": "2024-04-10T07:56:24.819Z"
   },
   {
    "duration": 1540,
    "start_time": "2024-04-10T07:56:24.830Z"
   },
   {
    "duration": 4690,
    "start_time": "2024-04-10T07:56:26.371Z"
   },
   {
    "duration": 527,
    "start_time": "2024-04-10T07:56:31.062Z"
   },
   {
    "duration": 1593,
    "start_time": "2024-04-10T07:56:31.591Z"
   },
   {
    "duration": 3,
    "start_time": "2024-04-10T07:56:33.186Z"
   },
   {
    "duration": 25,
    "start_time": "2024-04-10T07:56:33.190Z"
   },
   {
    "duration": 38678,
    "start_time": "2024-04-10T07:56:33.217Z"
   },
   {
    "duration": 128,
    "start_time": "2024-04-10T07:57:11.985Z"
   },
   {
    "duration": 4,
    "start_time": "2024-04-10T07:57:12.114Z"
   },
   {
    "duration": 6,
    "start_time": "2024-04-10T07:57:12.120Z"
   },
   {
    "duration": 10,
    "start_time": "2024-04-10T07:57:12.128Z"
   },
   {
    "duration": 50546,
    "start_time": "2024-04-10T07:57:12.139Z"
   },
   {
    "duration": 8,
    "start_time": "2024-04-10T07:58:02.686Z"
   },
   {
    "duration": 1490,
    "start_time": "2024-04-10T07:58:02.695Z"
   },
   {
    "duration": 1818,
    "start_time": "2024-04-10T07:58:04.186Z"
   },
   {
    "duration": 3,
    "start_time": "2024-04-10T07:58:06.006Z"
   },
   {
    "duration": 25,
    "start_time": "2024-04-10T07:58:06.010Z"
   },
   {
    "duration": 378529,
    "start_time": "2024-04-10T07:58:06.036Z"
   },
   {
    "duration": 4,
    "start_time": "2024-04-10T08:04:24.567Z"
   },
   {
    "duration": 55,
    "start_time": "2024-04-10T08:04:24.572Z"
   },
   {
    "duration": 169,
    "start_time": "2024-04-10T12:07:37.240Z"
   },
   {
    "duration": 2403,
    "start_time": "2024-04-10T12:07:57.784Z"
   },
   {
    "duration": 28,
    "start_time": "2024-04-10T12:08:00.189Z"
   },
   {
    "duration": 27,
    "start_time": "2024-04-10T12:08:00.219Z"
   },
   {
    "duration": 281,
    "start_time": "2024-04-10T12:08:00.248Z"
   },
   {
    "duration": 2,
    "start_time": "2024-04-10T12:08:00.531Z"
   },
   {
    "duration": 33,
    "start_time": "2024-04-10T12:08:00.535Z"
   },
   {
    "duration": 35,
    "start_time": "2024-04-10T12:08:00.569Z"
   },
   {
    "duration": 39,
    "start_time": "2024-04-10T12:08:00.606Z"
   },
   {
    "duration": 33,
    "start_time": "2024-04-10T12:08:00.647Z"
   },
   {
    "duration": 24,
    "start_time": "2024-04-10T12:08:00.683Z"
   },
   {
    "duration": 3098,
    "start_time": "2024-04-10T12:08:00.709Z"
   },
   {
    "duration": 10,
    "start_time": "2024-04-10T12:08:03.808Z"
   },
   {
    "duration": 10,
    "start_time": "2024-04-10T12:08:03.819Z"
   },
   {
    "duration": 15,
    "start_time": "2024-04-10T12:08:03.830Z"
   },
   {
    "duration": 6,
    "start_time": "2024-04-10T12:08:03.846Z"
   },
   {
    "duration": 28,
    "start_time": "2024-04-10T12:08:03.854Z"
   },
   {
    "duration": 16,
    "start_time": "2024-04-10T12:08:03.883Z"
   },
   {
    "duration": 11,
    "start_time": "2024-04-10T12:08:03.900Z"
   },
   {
    "duration": 142,
    "start_time": "2024-04-10T12:08:03.912Z"
   },
   {
    "duration": 9,
    "start_time": "2024-04-10T12:08:04.055Z"
   },
   {
    "duration": 4,
    "start_time": "2024-04-10T12:08:04.065Z"
   },
   {
    "duration": 154,
    "start_time": "2024-04-10T12:08:04.071Z"
   },
   {
    "duration": 4,
    "start_time": "2024-04-10T12:08:04.226Z"
   },
   {
    "duration": 68493,
    "start_time": "2024-04-10T12:08:04.231Z"
   },
   {
    "duration": 8,
    "start_time": "2024-04-10T12:09:12.726Z"
   },
   {
    "duration": 183,
    "start_time": "2024-04-10T12:15:44.303Z"
   },
   {
    "duration": 10,
    "start_time": "2024-04-10T12:16:08.130Z"
   },
   {
    "duration": 11,
    "start_time": "2024-04-10T12:17:10.444Z"
   },
   {
    "duration": 3,
    "start_time": "2024-04-10T12:17:14.539Z"
   },
   {
    "duration": 6,
    "start_time": "2024-04-10T12:19:16.798Z"
   },
   {
    "duration": 12,
    "start_time": "2024-04-10T12:19:18.333Z"
   },
   {
    "duration": 2450,
    "start_time": "2024-04-10T12:19:41.934Z"
   },
   {
    "duration": 27,
    "start_time": "2024-04-10T12:19:44.386Z"
   },
   {
    "duration": 4,
    "start_time": "2024-04-10T12:19:44.415Z"
   },
   {
    "duration": 251,
    "start_time": "2024-04-10T12:19:44.420Z"
   },
   {
    "duration": 5,
    "start_time": "2024-04-10T12:19:44.674Z"
   },
   {
    "duration": 34,
    "start_time": "2024-04-10T12:19:44.681Z"
   },
   {
    "duration": 12,
    "start_time": "2024-04-10T12:19:44.716Z"
   },
   {
    "duration": 4,
    "start_time": "2024-04-10T12:19:44.729Z"
   },
   {
    "duration": 14,
    "start_time": "2024-04-10T12:19:44.734Z"
   },
   {
    "duration": 13,
    "start_time": "2024-04-10T12:19:44.750Z"
   },
   {
    "duration": 12,
    "start_time": "2024-04-10T12:19:44.764Z"
   },
   {
    "duration": 19,
    "start_time": "2024-04-10T12:19:44.778Z"
   },
   {
    "duration": 808,
    "start_time": "2024-04-10T12:19:44.798Z"
   },
   {
    "duration": 9,
    "start_time": "2024-04-10T12:19:45.609Z"
   },
   {
    "duration": 33,
    "start_time": "2024-04-10T12:19:45.620Z"
   },
   {
    "duration": 29,
    "start_time": "2024-04-10T12:19:45.655Z"
   },
   {
    "duration": 27,
    "start_time": "2024-04-10T12:19:45.685Z"
   },
   {
    "duration": 43,
    "start_time": "2024-04-10T12:19:45.714Z"
   },
   {
    "duration": 18,
    "start_time": "2024-04-10T12:19:45.759Z"
   },
   {
    "duration": 22,
    "start_time": "2024-04-10T12:19:45.779Z"
   },
   {
    "duration": 155,
    "start_time": "2024-04-10T12:19:45.803Z"
   },
   {
    "duration": 8,
    "start_time": "2024-04-10T12:19:45.960Z"
   },
   {
    "duration": 30,
    "start_time": "2024-04-10T12:19:45.970Z"
   },
   {
    "duration": 163,
    "start_time": "2024-04-10T12:19:46.001Z"
   },
   {
    "duration": 4,
    "start_time": "2024-04-10T12:19:46.166Z"
   },
   {
    "duration": 72360,
    "start_time": "2024-04-10T12:19:46.172Z"
   },
   {
    "duration": 7,
    "start_time": "2024-04-10T12:20:58.534Z"
   },
   {
    "duration": 1221,
    "start_time": "2024-04-10T12:20:58.543Z"
   },
   {
    "duration": 3,
    "start_time": "2024-04-10T12:20:59.765Z"
   },
   {
    "duration": 69,
    "start_time": "2024-04-10T12:20:59.769Z"
   },
   {
    "duration": 3,
    "start_time": "2024-04-10T12:20:59.840Z"
   },
   {
    "duration": 6,
    "start_time": "2024-04-10T12:20:59.845Z"
   },
   {
    "duration": 9,
    "start_time": "2024-04-10T12:20:59.853Z"
   },
   {
    "duration": 1638,
    "start_time": "2024-04-10T12:20:59.864Z"
   },
   {
    "duration": 5259,
    "start_time": "2024-04-10T12:21:01.503Z"
   },
   {
    "duration": 549,
    "start_time": "2024-04-10T12:21:06.763Z"
   },
   {
    "duration": 1618,
    "start_time": "2024-04-10T12:21:07.314Z"
   },
   {
    "duration": 2,
    "start_time": "2024-04-10T12:21:08.934Z"
   },
   {
    "duration": 29,
    "start_time": "2024-04-10T12:21:08.938Z"
   },
   {
    "duration": 41628,
    "start_time": "2024-04-10T12:21:08.968Z"
   },
   {
    "duration": 134,
    "start_time": "2024-04-10T12:21:50.689Z"
   },
   {
    "duration": 3,
    "start_time": "2024-04-10T12:21:50.824Z"
   },
   {
    "duration": 10,
    "start_time": "2024-04-10T12:21:50.829Z"
   },
   {
    "duration": 23,
    "start_time": "2024-04-10T12:21:50.840Z"
   },
   {
    "duration": 53736,
    "start_time": "2024-04-10T12:21:50.865Z"
   },
   {
    "duration": 7,
    "start_time": "2024-04-10T12:22:44.602Z"
   },
   {
    "duration": 1419,
    "start_time": "2024-04-10T12:22:44.611Z"
   },
   {
    "duration": 1829,
    "start_time": "2024-04-10T12:22:46.031Z"
   },
   {
    "duration": 3,
    "start_time": "2024-04-10T12:22:47.861Z"
   },
   {
    "duration": 23,
    "start_time": "2024-04-10T12:22:47.866Z"
   },
   {
    "duration": 410783,
    "start_time": "2024-04-10T12:22:47.890Z"
   },
   {
    "duration": 4,
    "start_time": "2024-04-10T12:29:38.675Z"
   },
   {
    "duration": 23,
    "start_time": "2024-04-10T12:29:38.689Z"
   },
   {
    "duration": 4,
    "start_time": "2024-04-10T12:29:38.715Z"
   },
   {
    "duration": 3,
    "start_time": "2024-04-10T12:30:55.760Z"
   },
   {
    "duration": 406533,
    "start_time": "2024-04-10T12:30:57.431Z"
   },
   {
    "duration": 55,
    "start_time": "2024-04-10T12:38:23.263Z"
   },
   {
    "duration": 2535,
    "start_time": "2024-04-10T12:38:33.621Z"
   },
   {
    "duration": 36,
    "start_time": "2024-04-10T12:38:36.158Z"
   },
   {
    "duration": 10,
    "start_time": "2024-04-10T12:38:36.196Z"
   },
   {
    "duration": 315,
    "start_time": "2024-04-10T12:38:36.207Z"
   },
   {
    "duration": 3,
    "start_time": "2024-04-10T12:38:36.523Z"
   },
   {
    "duration": 22,
    "start_time": "2024-04-10T12:38:36.527Z"
   },
   {
    "duration": 9,
    "start_time": "2024-04-10T12:38:36.551Z"
   },
   {
    "duration": 33,
    "start_time": "2024-04-10T12:38:36.562Z"
   },
   {
    "duration": 6,
    "start_time": "2024-04-10T12:38:36.596Z"
   },
   {
    "duration": 6,
    "start_time": "2024-04-10T12:38:36.603Z"
   },
   {
    "duration": 10,
    "start_time": "2024-04-10T12:38:36.613Z"
   },
   {
    "duration": 5,
    "start_time": "2024-04-10T12:38:36.625Z"
   },
   {
    "duration": 3265,
    "start_time": "2024-04-10T12:38:36.632Z"
   },
   {
    "duration": 14,
    "start_time": "2024-04-10T12:38:39.899Z"
   },
   {
    "duration": 8,
    "start_time": "2024-04-10T12:38:39.915Z"
   },
   {
    "duration": 14,
    "start_time": "2024-04-10T12:38:39.924Z"
   },
   {
    "duration": 10,
    "start_time": "2024-04-10T12:38:39.939Z"
   },
   {
    "duration": 24,
    "start_time": "2024-04-10T12:38:39.950Z"
   },
   {
    "duration": 5,
    "start_time": "2024-04-10T12:38:39.975Z"
   },
   {
    "duration": 38,
    "start_time": "2024-04-10T12:38:39.981Z"
   },
   {
    "duration": 158,
    "start_time": "2024-04-10T12:38:40.021Z"
   },
   {
    "duration": 11,
    "start_time": "2024-04-10T12:38:40.190Z"
   },
   {
    "duration": 18,
    "start_time": "2024-04-10T12:38:40.202Z"
   },
   {
    "duration": 147,
    "start_time": "2024-04-10T12:38:40.222Z"
   },
   {
    "duration": 4,
    "start_time": "2024-04-10T12:38:40.370Z"
   },
   {
    "duration": 76192,
    "start_time": "2024-04-10T12:38:40.375Z"
   },
   {
    "duration": 7,
    "start_time": "2024-04-10T12:39:56.569Z"
   },
   {
    "duration": 7,
    "start_time": "2024-04-10T12:53:02.973Z"
   },
   {
    "duration": 1025,
    "start_time": "2024-04-10T12:53:04.430Z"
   },
   {
    "duration": 15,
    "start_time": "2024-04-10T12:53:06.590Z"
   },
   {
    "duration": 12,
    "start_time": "2024-04-10T12:53:50.597Z"
   },
   {
    "duration": 3,
    "start_time": "2024-04-10T12:54:18.789Z"
   },
   {
    "duration": 164,
    "start_time": "2024-04-10T12:54:19.101Z"
   },
   {
    "duration": 4,
    "start_time": "2024-04-10T12:54:20.806Z"
   },
   {
    "duration": 4,
    "start_time": "2024-04-10T12:54:22.022Z"
   },
   {
    "duration": 2,
    "start_time": "2024-04-10T12:54:23.438Z"
   },
   {
    "duration": 1559,
    "start_time": "2024-04-10T12:54:23.757Z"
   },
   {
    "duration": 5206,
    "start_time": "2024-04-10T12:54:27.070Z"
   },
   {
    "duration": 548,
    "start_time": "2024-04-10T12:54:32.278Z"
   },
   {
    "duration": 1616,
    "start_time": "2024-04-10T12:54:32.827Z"
   },
   {
    "duration": 3,
    "start_time": "2024-04-10T12:54:34.445Z"
   },
   {
    "duration": 3,
    "start_time": "2024-04-10T12:54:45.783Z"
   },
   {
    "duration": 39485,
    "start_time": "2024-04-10T12:54:48.823Z"
   },
   {
    "duration": 44,
    "start_time": "2024-04-10T12:55:28.385Z"
   },
   {
    "duration": 3,
    "start_time": "2024-04-10T12:55:28.431Z"
   },
   {
    "duration": 3,
    "start_time": "2024-04-10T12:55:52.392Z"
   },
   {
    "duration": 2,
    "start_time": "2024-04-10T12:55:54.631Z"
   },
   {
    "duration": 2662,
    "start_time": "2024-04-11T07:05:51.494Z"
   },
   {
    "duration": 33,
    "start_time": "2024-04-11T07:05:54.158Z"
   },
   {
    "duration": 5,
    "start_time": "2024-04-11T07:05:54.192Z"
   },
   {
    "duration": 513,
    "start_time": "2024-04-11T07:05:54.199Z"
   },
   {
    "duration": 3,
    "start_time": "2024-04-11T07:05:54.713Z"
   },
   {
    "duration": 27,
    "start_time": "2024-04-11T07:05:54.718Z"
   },
   {
    "duration": 19,
    "start_time": "2024-04-11T07:05:54.746Z"
   },
   {
    "duration": 3,
    "start_time": "2024-04-11T07:05:54.766Z"
   },
   {
    "duration": 10,
    "start_time": "2024-04-11T07:05:54.771Z"
   },
   {
    "duration": 3,
    "start_time": "2024-04-11T07:05:54.783Z"
   },
   {
    "duration": 9,
    "start_time": "2024-04-11T07:05:54.787Z"
   },
   {
    "duration": 12,
    "start_time": "2024-04-11T07:05:54.797Z"
   },
   {
    "duration": 2,
    "start_time": "2024-04-11T07:06:04.055Z"
   },
   {
    "duration": 3439,
    "start_time": "2024-04-11T07:06:09.669Z"
   },
   {
    "duration": 12,
    "start_time": "2024-04-11T07:06:13.110Z"
   },
   {
    "duration": 13,
    "start_time": "2024-04-11T07:06:13.123Z"
   },
   {
    "duration": 16,
    "start_time": "2024-04-11T07:06:13.138Z"
   },
   {
    "duration": 19,
    "start_time": "2024-04-11T07:06:13.156Z"
   },
   {
    "duration": 38,
    "start_time": "2024-04-11T07:06:13.177Z"
   },
   {
    "duration": 12,
    "start_time": "2024-04-11T07:06:13.217Z"
   },
   {
    "duration": 15,
    "start_time": "2024-04-11T07:06:13.231Z"
   },
   {
    "duration": 178,
    "start_time": "2024-04-11T07:06:13.248Z"
   },
   {
    "duration": 9,
    "start_time": "2024-04-11T07:06:13.428Z"
   },
   {
    "duration": 3,
    "start_time": "2024-04-11T07:06:14.503Z"
   },
   {
    "duration": 155,
    "start_time": "2024-04-11T07:06:14.943Z"
   },
   {
    "duration": 4,
    "start_time": "2024-04-11T07:06:18.519Z"
   },
   {
    "duration": 82857,
    "start_time": "2024-04-11T07:06:19.015Z"
   },
   {
    "duration": 7,
    "start_time": "2024-04-11T07:07:41.874Z"
   },
   {
    "duration": 19,
    "start_time": "2024-04-11T07:07:41.883Z"
   },
   {
    "duration": 4,
    "start_time": "2024-04-11T07:07:41.904Z"
   },
   {
    "duration": 80,
    "start_time": "2024-04-11T07:07:41.910Z"
   },
   {
    "duration": 4,
    "start_time": "2024-04-11T07:07:41.991Z"
   },
   {
    "duration": 8,
    "start_time": "2024-04-11T07:07:41.997Z"
   },
   {
    "duration": 11,
    "start_time": "2024-04-11T07:07:42.007Z"
   },
   {
    "duration": 1831,
    "start_time": "2024-04-11T07:07:42.020Z"
   },
   {
    "duration": 6215,
    "start_time": "2024-04-11T07:07:43.857Z"
   },
   {
    "duration": 599,
    "start_time": "2024-04-11T07:07:50.073Z"
   },
   {
    "duration": 1986,
    "start_time": "2024-04-11T07:07:50.674Z"
   },
   {
    "duration": 3,
    "start_time": "2024-04-11T07:07:52.662Z"
   },
   {
    "duration": 9,
    "start_time": "2024-04-11T07:07:52.667Z"
   },
   {
    "duration": 44979,
    "start_time": "2024-04-11T07:07:52.678Z"
   },
   {
    "duration": 139,
    "start_time": "2024-04-11T07:08:37.661Z"
   },
   {
    "duration": 54,
    "start_time": "2024-04-11T07:08:37.802Z"
   },
   {
    "duration": 19,
    "start_time": "2024-04-11T07:08:37.858Z"
   },
   {
    "duration": 4,
    "start_time": "2024-04-11T07:08:37.879Z"
   },
   {
    "duration": 198,
    "start_time": "2024-04-11T07:16:39.072Z"
   },
   {
    "duration": 15,
    "start_time": "2024-04-11T07:16:53.862Z"
   },
   {
    "duration": 286,
    "start_time": "2024-04-11T07:17:05.775Z"
   },
   {
    "duration": 16,
    "start_time": "2024-04-11T07:17:43.343Z"
   },
   {
    "duration": 512,
    "start_time": "2024-04-11T07:17:43.879Z"
   },
   {
    "duration": 503,
    "start_time": "2024-04-11T07:17:55.967Z"
   },
   {
    "duration": 7,
    "start_time": "2024-04-11T07:19:58.359Z"
   },
   {
    "duration": 125,
    "start_time": "2024-04-11T07:20:42.224Z"
   },
   {
    "duration": 4,
    "start_time": "2024-04-11T07:21:42.063Z"
   },
   {
    "duration": 113,
    "start_time": "2024-04-11T07:22:00.655Z"
   },
   {
    "duration": 91,
    "start_time": "2024-04-11T07:22:34.727Z"
   },
   {
    "duration": 134,
    "start_time": "2024-04-11T07:22:43.558Z"
   },
   {
    "duration": 116,
    "start_time": "2024-04-11T07:24:57.608Z"
   },
   {
    "duration": 147,
    "start_time": "2024-04-11T07:43:48.851Z"
   },
   {
    "duration": 141,
    "start_time": "2024-04-11T07:43:59.452Z"
   },
   {
    "duration": 142,
    "start_time": "2024-04-11T07:44:02.291Z"
   },
   {
    "duration": 155,
    "start_time": "2024-04-11T07:44:19.298Z"
   },
   {
    "duration": 9,
    "start_time": "2024-04-11T07:45:10.163Z"
   },
   {
    "duration": 2,
    "start_time": "2024-04-11T07:45:22.357Z"
   },
   {
    "duration": 4,
    "start_time": "2024-04-11T07:45:37.703Z"
   },
   {
    "duration": 4,
    "start_time": "2024-04-11T07:46:29.405Z"
   },
   {
    "duration": 80660,
    "start_time": "2024-04-11T07:46:31.541Z"
   },
   {
    "duration": 7,
    "start_time": "2024-04-11T07:47:52.203Z"
   },
   {
    "duration": 42,
    "start_time": "2024-04-11T07:47:52.212Z"
   },
   {
    "duration": 4,
    "start_time": "2024-04-11T07:50:01.276Z"
   },
   {
    "duration": 52,
    "start_time": "2024-04-11T07:52:19.967Z"
   },
   {
    "duration": 2660,
    "start_time": "2024-04-11T07:52:29.385Z"
   },
   {
    "duration": 31,
    "start_time": "2024-04-11T07:52:32.047Z"
   },
   {
    "duration": 59,
    "start_time": "2024-04-11T07:52:32.079Z"
   },
   {
    "duration": 406,
    "start_time": "2024-04-11T07:52:32.140Z"
   },
   {
    "duration": 3,
    "start_time": "2024-04-11T07:52:32.547Z"
   },
   {
    "duration": 53,
    "start_time": "2024-04-11T07:52:32.556Z"
   },
   {
    "duration": 25,
    "start_time": "2024-04-11T07:52:32.610Z"
   },
   {
    "duration": 5,
    "start_time": "2024-04-11T07:52:32.637Z"
   },
   {
    "duration": 44,
    "start_time": "2024-04-11T07:52:32.643Z"
   },
   {
    "duration": 13,
    "start_time": "2024-04-11T07:52:32.691Z"
   },
   {
    "duration": 7,
    "start_time": "2024-04-11T07:52:32.706Z"
   },
   {
    "duration": 13,
    "start_time": "2024-04-11T07:52:32.715Z"
   },
   {
    "duration": 3481,
    "start_time": "2024-04-11T07:52:32.730Z"
   },
   {
    "duration": 10,
    "start_time": "2024-04-11T07:52:36.213Z"
   },
   {
    "duration": 8,
    "start_time": "2024-04-11T07:52:36.224Z"
   },
   {
    "duration": 12,
    "start_time": "2024-04-11T07:52:36.233Z"
   },
   {
    "duration": 9,
    "start_time": "2024-04-11T07:52:36.247Z"
   },
   {
    "duration": 32,
    "start_time": "2024-04-11T07:52:36.258Z"
   },
   {
    "duration": 10,
    "start_time": "2024-04-11T07:52:36.292Z"
   },
   {
    "duration": 12,
    "start_time": "2024-04-11T07:52:36.303Z"
   },
   {
    "duration": 177,
    "start_time": "2024-04-11T07:52:36.317Z"
   },
   {
    "duration": 10,
    "start_time": "2024-04-11T07:52:36.496Z"
   },
   {
    "duration": 10,
    "start_time": "2024-04-11T07:52:36.508Z"
   },
   {
    "duration": 241,
    "start_time": "2024-04-11T07:52:36.519Z"
   },
   {
    "duration": 7,
    "start_time": "2024-04-11T07:52:36.762Z"
   },
   {
    "duration": 81922,
    "start_time": "2024-04-11T07:52:36.770Z"
   },
   {
    "duration": 7,
    "start_time": "2024-04-11T07:53:58.694Z"
   },
   {
    "duration": 31,
    "start_time": "2024-04-11T07:53:58.704Z"
   },
   {
    "duration": 4950,
    "start_time": "2024-04-11T07:54:38.066Z"
   },
   {
    "duration": 22,
    "start_time": "2024-04-11T07:54:58.685Z"
   },
   {
    "duration": 4,
    "start_time": "2024-04-11T07:55:51.260Z"
   },
   {
    "duration": 64,
    "start_time": "2024-04-11T07:55:51.717Z"
   },
   {
    "duration": 4,
    "start_time": "2024-04-11T07:55:52.142Z"
   },
   {
    "duration": 4,
    "start_time": "2024-04-11T07:55:52.716Z"
   },
   {
    "duration": 2,
    "start_time": "2024-04-11T07:56:26.262Z"
   },
   {
    "duration": 189,
    "start_time": "2024-04-11T07:56:27.758Z"
   },
   {
    "duration": 3,
    "start_time": "2024-04-11T07:56:45.974Z"
   },
   {
    "duration": 51,
    "start_time": "2024-04-11T07:58:34.682Z"
   },
   {
    "duration": 2552,
    "start_time": "2024-04-11T07:58:41.169Z"
   },
   {
    "duration": 29,
    "start_time": "2024-04-11T07:58:43.723Z"
   },
   {
    "duration": 4,
    "start_time": "2024-04-11T07:58:43.754Z"
   },
   {
    "duration": 336,
    "start_time": "2024-04-11T07:58:43.759Z"
   },
   {
    "duration": 2,
    "start_time": "2024-04-11T07:58:44.097Z"
   },
   {
    "duration": 33,
    "start_time": "2024-04-11T07:58:44.101Z"
   },
   {
    "duration": 11,
    "start_time": "2024-04-11T07:58:44.136Z"
   },
   {
    "duration": 15,
    "start_time": "2024-04-11T07:58:44.148Z"
   },
   {
    "duration": 38,
    "start_time": "2024-04-11T07:58:44.164Z"
   },
   {
    "duration": 30,
    "start_time": "2024-04-11T07:58:44.203Z"
   },
   {
    "duration": 36,
    "start_time": "2024-04-11T07:58:44.234Z"
   },
   {
    "duration": 21,
    "start_time": "2024-04-11T07:58:44.272Z"
   },
   {
    "duration": 3446,
    "start_time": "2024-04-11T07:58:44.295Z"
   },
   {
    "duration": 11,
    "start_time": "2024-04-11T07:58:47.745Z"
   },
   {
    "duration": 3,
    "start_time": "2024-04-11T07:58:47.758Z"
   },
   {
    "duration": 10,
    "start_time": "2024-04-11T07:58:47.763Z"
   },
   {
    "duration": 9,
    "start_time": "2024-04-11T07:58:47.775Z"
   },
   {
    "duration": 32,
    "start_time": "2024-04-11T07:58:47.785Z"
   },
   {
    "duration": 8,
    "start_time": "2024-04-11T07:58:47.819Z"
   },
   {
    "duration": 35,
    "start_time": "2024-04-11T07:58:47.829Z"
   },
   {
    "duration": 170,
    "start_time": "2024-04-11T07:58:47.865Z"
   },
   {
    "duration": 19,
    "start_time": "2024-04-11T07:58:48.037Z"
   },
   {
    "duration": 2,
    "start_time": "2024-04-11T07:58:48.058Z"
   },
   {
    "duration": 245,
    "start_time": "2024-04-11T07:58:48.062Z"
   },
   {
    "duration": 12,
    "start_time": "2024-04-11T07:58:48.310Z"
   },
   {
    "duration": 80781,
    "start_time": "2024-04-11T07:58:48.323Z"
   },
   {
    "duration": 7,
    "start_time": "2024-04-11T08:00:09.105Z"
   },
   {
    "duration": 42,
    "start_time": "2024-04-11T08:00:09.114Z"
   },
   {
    "duration": 13,
    "start_time": "2024-04-11T08:01:11.154Z"
   },
   {
    "duration": 2,
    "start_time": "2024-04-11T08:01:15.754Z"
   },
   {
    "duration": 5558,
    "start_time": "2024-04-11T08:01:42.641Z"
   },
   {
    "duration": 3,
    "start_time": "2024-04-11T08:02:31.627Z"
   },
   {
    "duration": 81,
    "start_time": "2024-04-11T08:02:35.362Z"
   },
   {
    "duration": 3,
    "start_time": "2024-04-11T08:02:36.378Z"
   },
   {
    "duration": 4,
    "start_time": "2024-04-11T08:02:41.155Z"
   },
   {
    "duration": 3,
    "start_time": "2024-04-11T08:03:34.179Z"
   },
   {
    "duration": 185,
    "start_time": "2024-04-11T08:07:08.601Z"
   },
   {
    "duration": 16,
    "start_time": "2024-04-11T08:07:08.957Z"
   },
   {
    "duration": 47931,
    "start_time": "2024-04-11T08:07:24.528Z"
   },
   {
    "duration": 103,
    "start_time": "2024-04-11T08:08:12.460Z"
   },
   {
    "duration": 3,
    "start_time": "2024-04-11T08:08:12.565Z"
   },
   {
    "duration": 9,
    "start_time": "2024-04-11T08:08:12.570Z"
   },
   {
    "duration": 8,
    "start_time": "2024-04-11T08:08:12.580Z"
   },
   {
    "duration": 66,
    "start_time": "2024-04-11T08:08:12.590Z"
   },
   {
    "duration": 3,
    "start_time": "2024-04-11T08:08:22.504Z"
   },
   {
    "duration": 3,
    "start_time": "2024-04-11T08:08:59.912Z"
   },
   {
    "duration": 3,
    "start_time": "2024-04-11T08:09:32.290Z"
   },
   {
    "duration": 37,
    "start_time": "2024-04-11T08:09:44.065Z"
   },
   {
    "duration": 3,
    "start_time": "2024-04-11T08:10:21.603Z"
   },
   {
    "duration": 3,
    "start_time": "2024-04-11T08:10:21.923Z"
   },
   {
    "duration": 3,
    "start_time": "2024-04-11T08:10:22.218Z"
   },
   {
    "duration": 36,
    "start_time": "2024-04-11T08:10:23.459Z"
   },
   {
    "duration": 4,
    "start_time": "2024-04-11T08:10:57.634Z"
   },
   {
    "duration": 2,
    "start_time": "2024-04-11T08:11:29.882Z"
   },
   {
    "duration": 3,
    "start_time": "2024-04-11T08:12:21.372Z"
   },
   {
    "duration": 3,
    "start_time": "2024-04-11T08:12:21.804Z"
   },
   {
    "duration": 2625,
    "start_time": "2024-04-11T08:14:38.156Z"
   },
   {
    "duration": 33,
    "start_time": "2024-04-11T08:14:40.782Z"
   },
   {
    "duration": 6,
    "start_time": "2024-04-11T08:14:40.817Z"
   },
   {
    "duration": 336,
    "start_time": "2024-04-11T08:14:40.825Z"
   },
   {
    "duration": 3,
    "start_time": "2024-04-11T08:14:41.166Z"
   },
   {
    "duration": 23,
    "start_time": "2024-04-11T08:14:41.171Z"
   },
   {
    "duration": 14,
    "start_time": "2024-04-11T08:14:41.196Z"
   },
   {
    "duration": 2,
    "start_time": "2024-04-11T08:14:41.212Z"
   },
   {
    "duration": 10,
    "start_time": "2024-04-11T08:14:41.216Z"
   },
   {
    "duration": 28,
    "start_time": "2024-04-11T08:14:41.228Z"
   },
   {
    "duration": 5,
    "start_time": "2024-04-11T08:14:41.258Z"
   },
   {
    "duration": 3,
    "start_time": "2024-04-11T08:14:41.267Z"
   },
   {
    "duration": 921,
    "start_time": "2024-04-11T08:14:41.271Z"
   },
   {
    "duration": 10,
    "start_time": "2024-04-11T08:14:42.194Z"
   },
   {
    "duration": 3,
    "start_time": "2024-04-11T08:14:42.206Z"
   },
   {
    "duration": 31,
    "start_time": "2024-04-11T08:14:42.211Z"
   },
   {
    "duration": 8,
    "start_time": "2024-04-11T08:14:42.244Z"
   },
   {
    "duration": 32,
    "start_time": "2024-04-11T08:14:42.254Z"
   },
   {
    "duration": 8,
    "start_time": "2024-04-11T08:14:42.288Z"
   },
   {
    "duration": 12,
    "start_time": "2024-04-11T08:14:42.298Z"
   },
   {
    "duration": 196,
    "start_time": "2024-04-11T08:14:42.311Z"
   },
   {
    "duration": 8,
    "start_time": "2024-04-11T08:14:42.509Z"
   },
   {
    "duration": 2,
    "start_time": "2024-04-11T08:14:42.519Z"
   },
   {
    "duration": 261,
    "start_time": "2024-04-11T08:14:42.523Z"
   },
   {
    "duration": 7,
    "start_time": "2024-04-11T08:14:42.786Z"
   },
   {
    "duration": 81241,
    "start_time": "2024-04-11T08:14:42.794Z"
   },
   {
    "duration": 7,
    "start_time": "2024-04-11T08:16:04.037Z"
   },
   {
    "duration": 100,
    "start_time": "2024-04-11T08:16:04.046Z"
   },
   {
    "duration": 2,
    "start_time": "2024-04-11T08:16:04.148Z"
   },
   {
    "duration": 5240,
    "start_time": "2024-04-11T08:16:04.152Z"
   },
   {
    "duration": 2,
    "start_time": "2024-04-11T08:16:09.395Z"
   },
   {
    "duration": 96,
    "start_time": "2024-04-11T08:16:09.400Z"
   },
   {
    "duration": 4,
    "start_time": "2024-04-11T08:16:09.497Z"
   },
   {
    "duration": 5,
    "start_time": "2024-04-11T08:16:09.503Z"
   },
   {
    "duration": 191,
    "start_time": "2024-04-11T08:16:20.352Z"
   },
   {
    "duration": 12,
    "start_time": "2024-04-11T08:16:38.967Z"
   },
   {
    "duration": 3,
    "start_time": "2024-04-11T08:17:45.321Z"
   },
   {
    "duration": 3,
    "start_time": "2024-04-11T08:18:01.658Z"
   },
   {
    "duration": 47619,
    "start_time": "2024-04-11T08:18:21.640Z"
   },
   {
    "duration": 139,
    "start_time": "2024-04-11T08:19:09.262Z"
   },
   {
    "duration": 3,
    "start_time": "2024-04-11T08:19:09.403Z"
   },
   {
    "duration": 11,
    "start_time": "2024-04-11T08:19:09.407Z"
   },
   {
    "duration": 4,
    "start_time": "2024-04-11T08:19:09.419Z"
   },
   {
    "duration": 5,
    "start_time": "2024-04-11T08:19:09.424Z"
   },
   {
    "duration": 2712,
    "start_time": "2024-04-11T08:34:59.647Z"
   },
   {
    "duration": 31,
    "start_time": "2024-04-11T08:35:02.360Z"
   },
   {
    "duration": 101,
    "start_time": "2024-04-11T08:35:02.393Z"
   },
   {
    "duration": 389,
    "start_time": "2024-04-11T08:35:02.496Z"
   },
   {
    "duration": 2,
    "start_time": "2024-04-11T08:35:02.887Z"
   },
   {
    "duration": 158,
    "start_time": "2024-04-11T08:35:02.891Z"
   },
   {
    "duration": 37,
    "start_time": "2024-04-11T08:35:03.051Z"
   },
   {
    "duration": 40,
    "start_time": "2024-04-11T08:35:03.090Z"
   },
   {
    "duration": 26,
    "start_time": "2024-04-11T08:35:03.132Z"
   },
   {
    "duration": 14,
    "start_time": "2024-04-11T08:35:03.160Z"
   },
   {
    "duration": 19,
    "start_time": "2024-04-11T08:35:03.175Z"
   },
   {
    "duration": 27,
    "start_time": "2024-04-11T08:35:03.196Z"
   },
   {
    "duration": 970,
    "start_time": "2024-04-11T08:35:03.228Z"
   },
   {
    "duration": 12,
    "start_time": "2024-04-11T08:35:04.199Z"
   },
   {
    "duration": 4,
    "start_time": "2024-04-11T08:35:04.213Z"
   },
   {
    "duration": 13,
    "start_time": "2024-04-11T08:35:04.218Z"
   },
   {
    "duration": 8,
    "start_time": "2024-04-11T08:35:04.232Z"
   },
   {
    "duration": 33,
    "start_time": "2024-04-11T08:35:04.256Z"
   },
   {
    "duration": 5,
    "start_time": "2024-04-11T08:35:04.291Z"
   },
   {
    "duration": 13,
    "start_time": "2024-04-11T08:35:04.298Z"
   },
   {
    "duration": 203,
    "start_time": "2024-04-11T08:35:04.313Z"
   },
   {
    "duration": 9,
    "start_time": "2024-04-11T08:35:04.519Z"
   },
   {
    "duration": 5,
    "start_time": "2024-04-11T08:35:04.529Z"
   },
   {
    "duration": 344,
    "start_time": "2024-04-11T08:35:04.535Z"
   },
   {
    "duration": 6,
    "start_time": "2024-04-11T08:35:04.881Z"
   },
   {
    "duration": 82622,
    "start_time": "2024-04-11T08:35:04.889Z"
   },
   {
    "duration": 7,
    "start_time": "2024-04-11T08:36:27.513Z"
   },
   {
    "duration": 44,
    "start_time": "2024-04-11T08:36:27.522Z"
   },
   {
    "duration": 3,
    "start_time": "2024-04-11T08:36:27.568Z"
   },
   {
    "duration": 5554,
    "start_time": "2024-04-11T08:36:27.573Z"
   },
   {
    "duration": 3,
    "start_time": "2024-04-11T08:36:33.129Z"
   },
   {
    "duration": 103,
    "start_time": "2024-04-11T08:36:33.133Z"
   },
   {
    "duration": 4,
    "start_time": "2024-04-11T08:36:33.238Z"
   },
   {
    "duration": 12,
    "start_time": "2024-04-11T08:36:33.244Z"
   },
   {
    "duration": 4,
    "start_time": "2024-04-11T08:36:33.258Z"
   },
   {
    "duration": 50709,
    "start_time": "2024-04-11T08:36:33.264Z"
   },
   {
    "duration": 131,
    "start_time": "2024-04-11T08:37:23.976Z"
   },
   {
    "duration": 4,
    "start_time": "2024-04-11T08:37:24.109Z"
   },
   {
    "duration": 11,
    "start_time": "2024-04-11T08:37:24.114Z"
   },
   {
    "duration": 7,
    "start_time": "2024-04-11T08:37:24.128Z"
   },
   {
    "duration": 19,
    "start_time": "2024-04-11T08:37:24.137Z"
   },
   {
    "duration": 3467887,
    "start_time": "2024-04-11T08:37:38.041Z"
   },
   {
    "duration": 183,
    "start_time": "2024-04-11T09:35:25.930Z"
   },
   {
    "duration": 5,
    "start_time": "2024-04-11T09:37:29.591Z"
   },
   {
    "duration": 15,
    "start_time": "2024-04-11T09:39:17.529Z"
   },
   {
    "duration": 42,
    "start_time": "2024-04-11T09:39:37.932Z"
   },
   {
    "duration": 42,
    "start_time": "2024-04-11T09:39:57.105Z"
   },
   {
    "duration": 4,
    "start_time": "2024-04-11T09:41:51.387Z"
   },
   {
    "duration": 3,
    "start_time": "2024-04-11T09:43:28.693Z"
   },
   {
    "duration": 2548,
    "start_time": "2024-04-11T10:33:06.870Z"
   },
   {
    "duration": 31,
    "start_time": "2024-04-11T10:33:09.420Z"
   },
   {
    "duration": 6,
    "start_time": "2024-04-11T10:33:09.453Z"
   },
   {
    "duration": 340,
    "start_time": "2024-04-11T10:33:09.462Z"
   },
   {
    "duration": 3,
    "start_time": "2024-04-11T10:33:09.803Z"
   },
   {
    "duration": 43,
    "start_time": "2024-04-11T10:33:09.807Z"
   },
   {
    "duration": 10,
    "start_time": "2024-04-11T10:33:09.852Z"
   },
   {
    "duration": 2,
    "start_time": "2024-04-11T10:33:09.864Z"
   },
   {
    "duration": 20,
    "start_time": "2024-04-11T10:33:09.868Z"
   },
   {
    "duration": 7,
    "start_time": "2024-04-11T10:33:09.890Z"
   },
   {
    "duration": 12,
    "start_time": "2024-04-11T10:33:09.899Z"
   },
   {
    "duration": 6,
    "start_time": "2024-04-11T10:33:09.912Z"
   },
   {
    "duration": 917,
    "start_time": "2024-04-11T10:33:09.921Z"
   },
   {
    "duration": 10,
    "start_time": "2024-04-11T10:33:10.839Z"
   },
   {
    "duration": 3,
    "start_time": "2024-04-11T10:33:10.855Z"
   },
   {
    "duration": 11,
    "start_time": "2024-04-11T10:33:10.859Z"
   },
   {
    "duration": 7,
    "start_time": "2024-04-11T10:33:10.871Z"
   },
   {
    "duration": 33,
    "start_time": "2024-04-11T10:33:10.879Z"
   },
   {
    "duration": 4,
    "start_time": "2024-04-11T10:33:10.914Z"
   },
   {
    "duration": 36,
    "start_time": "2024-04-11T10:33:10.920Z"
   },
   {
    "duration": 158,
    "start_time": "2024-04-11T10:33:10.958Z"
   },
   {
    "duration": 10,
    "start_time": "2024-04-11T10:33:11.117Z"
   },
   {
    "duration": 2,
    "start_time": "2024-04-11T10:33:11.129Z"
   },
   {
    "duration": 2603,
    "start_time": "2024-04-11T10:48:59.779Z"
   },
   {
    "duration": 32,
    "start_time": "2024-04-11T10:49:02.384Z"
   },
   {
    "duration": 11,
    "start_time": "2024-04-11T10:49:02.417Z"
   },
   {
    "duration": 368,
    "start_time": "2024-04-11T10:49:02.429Z"
   },
   {
    "duration": 3,
    "start_time": "2024-04-11T10:49:02.798Z"
   },
   {
    "duration": 61,
    "start_time": "2024-04-11T10:49:02.802Z"
   },
   {
    "duration": 22,
    "start_time": "2024-04-11T10:49:02.864Z"
   },
   {
    "duration": 32,
    "start_time": "2024-04-11T10:49:02.887Z"
   },
   {
    "duration": 46,
    "start_time": "2024-04-11T10:49:02.920Z"
   },
   {
    "duration": 65,
    "start_time": "2024-04-11T10:49:02.969Z"
   },
   {
    "duration": 12,
    "start_time": "2024-04-11T10:49:03.036Z"
   },
   {
    "duration": 57,
    "start_time": "2024-04-11T10:49:03.050Z"
   },
   {
    "duration": 962,
    "start_time": "2024-04-11T10:49:03.108Z"
   },
   {
    "duration": 11,
    "start_time": "2024-04-11T10:49:04.072Z"
   },
   {
    "duration": 2,
    "start_time": "2024-04-11T10:49:04.085Z"
   },
   {
    "duration": 13,
    "start_time": "2024-04-11T10:49:04.089Z"
   },
   {
    "duration": 12,
    "start_time": "2024-04-11T10:49:04.104Z"
   },
   {
    "duration": 44,
    "start_time": "2024-04-11T10:49:04.118Z"
   },
   {
    "duration": 5,
    "start_time": "2024-04-11T10:49:04.164Z"
   },
   {
    "duration": 12,
    "start_time": "2024-04-11T10:49:04.170Z"
   },
   {
    "duration": 187,
    "start_time": "2024-04-11T10:49:04.183Z"
   },
   {
    "duration": 10,
    "start_time": "2024-04-11T10:49:04.372Z"
   },
   {
    "duration": 9,
    "start_time": "2024-04-11T10:49:04.384Z"
   },
   {
    "duration": 248,
    "start_time": "2024-04-11T10:49:04.395Z"
   },
   {
    "duration": 7,
    "start_time": "2024-04-11T10:49:04.644Z"
   },
   {
    "duration": 81058,
    "start_time": "2024-04-11T10:49:04.652Z"
   },
   {
    "duration": 8,
    "start_time": "2024-04-11T10:50:25.712Z"
   },
   {
    "duration": 42,
    "start_time": "2024-04-11T10:50:25.724Z"
   },
   {
    "duration": 2,
    "start_time": "2024-04-11T10:50:25.768Z"
   },
   {
    "duration": 5364,
    "start_time": "2024-04-11T10:50:25.772Z"
   },
   {
    "duration": 3,
    "start_time": "2024-04-11T10:50:31.137Z"
   },
   {
    "duration": 147,
    "start_time": "2024-04-11T10:50:31.141Z"
   },
   {
    "duration": 132,
    "start_time": "2024-04-11T10:50:31.290Z"
   },
   {
    "duration": 109,
    "start_time": "2024-04-11T10:50:31.423Z"
   },
   {
    "duration": 61,
    "start_time": "2024-04-11T10:50:31.534Z"
   },
   {
    "duration": 47860,
    "start_time": "2024-04-11T10:50:31.597Z"
   },
   {
    "duration": 203,
    "start_time": "2024-04-11T10:51:19.459Z"
   },
   {
    "duration": 0,
    "start_time": "2024-04-11T10:51:19.663Z"
   },
   {
    "duration": 0,
    "start_time": "2024-04-11T10:51:19.665Z"
   },
   {
    "duration": 0,
    "start_time": "2024-04-11T10:51:19.666Z"
   },
   {
    "duration": 0,
    "start_time": "2024-04-11T10:51:19.667Z"
   },
   {
    "duration": 0,
    "start_time": "2024-04-11T10:51:19.668Z"
   },
   {
    "duration": 0,
    "start_time": "2024-04-11T10:51:19.669Z"
   },
   {
    "duration": 0,
    "start_time": "2024-04-11T10:51:19.670Z"
   },
   {
    "duration": 0,
    "start_time": "2024-04-11T10:51:19.671Z"
   },
   {
    "duration": 0,
    "start_time": "2024-04-11T10:51:19.672Z"
   },
   {
    "duration": 0,
    "start_time": "2024-04-11T10:51:19.673Z"
   },
   {
    "duration": 0,
    "start_time": "2024-04-11T10:51:19.674Z"
   },
   {
    "duration": 0,
    "start_time": "2024-04-11T10:51:19.674Z"
   },
   {
    "duration": 0,
    "start_time": "2024-04-11T10:51:19.676Z"
   },
   {
    "duration": 0,
    "start_time": "2024-04-11T10:51:19.677Z"
   },
   {
    "duration": 0,
    "start_time": "2024-04-11T10:51:19.678Z"
   },
   {
    "duration": 0,
    "start_time": "2024-04-11T10:51:19.679Z"
   },
   {
    "duration": 0,
    "start_time": "2024-04-11T10:51:19.680Z"
   },
   {
    "duration": 0,
    "start_time": "2024-04-11T10:51:19.681Z"
   },
   {
    "duration": 0,
    "start_time": "2024-04-11T10:51:19.681Z"
   },
   {
    "duration": 0,
    "start_time": "2024-04-11T10:51:19.682Z"
   },
   {
    "duration": 0,
    "start_time": "2024-04-11T10:51:19.683Z"
   },
   {
    "duration": 12,
    "start_time": "2024-04-11T10:55:48.402Z"
   },
   {
    "duration": 52,
    "start_time": "2024-04-11T10:55:57.085Z"
   },
   {
    "duration": 3,
    "start_time": "2024-04-11T10:56:02.368Z"
   },
   {
    "duration": 55,
    "start_time": "2024-04-11T10:56:02.373Z"
   },
   {
    "duration": 28,
    "start_time": "2024-04-11T10:56:02.430Z"
   },
   {
    "duration": 3216813,
    "start_time": "2024-04-11T10:56:02.460Z"
   },
   {
    "duration": 4,
    "start_time": "2024-04-11T11:49:39.274Z"
   },
   {
    "duration": 64,
    "start_time": "2024-04-11T11:49:39.279Z"
   },
   {
    "duration": 3,
    "start_time": "2024-04-11T11:49:39.345Z"
   },
   {
    "duration": 7,
    "start_time": "2024-04-11T11:49:39.349Z"
   },
   {
    "duration": 5,
    "start_time": "2024-04-11T11:49:39.357Z"
   },
   {
    "duration": 38,
    "start_time": "2024-04-11T11:49:39.364Z"
   },
   {
    "duration": 0,
    "start_time": "2024-04-11T11:49:39.404Z"
   },
   {
    "duration": 0,
    "start_time": "2024-04-11T11:49:39.405Z"
   },
   {
    "duration": 0,
    "start_time": "2024-04-11T11:49:39.406Z"
   },
   {
    "duration": 0,
    "start_time": "2024-04-11T11:49:39.407Z"
   },
   {
    "duration": 0,
    "start_time": "2024-04-11T11:49:39.408Z"
   },
   {
    "duration": 0,
    "start_time": "2024-04-11T11:49:39.409Z"
   },
   {
    "duration": 0,
    "start_time": "2024-04-11T11:49:39.411Z"
   },
   {
    "duration": 0,
    "start_time": "2024-04-11T11:49:39.412Z"
   },
   {
    "duration": 0,
    "start_time": "2024-04-11T11:49:39.413Z"
   },
   {
    "duration": 0,
    "start_time": "2024-04-11T11:49:39.413Z"
   },
   {
    "duration": 0,
    "start_time": "2024-04-11T11:49:39.415Z"
   },
   {
    "duration": 2,
    "start_time": "2024-04-11T11:50:17.322Z"
   },
   {
    "duration": 3,
    "start_time": "2024-04-11T11:50:18.241Z"
   },
   {
    "duration": 85815,
    "start_time": "2024-04-11T11:50:19.152Z"
   },
   {
    "duration": 3,
    "start_time": "2024-04-11T11:51:44.969Z"
   },
   {
    "duration": 1853,
    "start_time": "2024-04-11T11:51:44.973Z"
   },
   {
    "duration": 2,
    "start_time": "2024-04-11T11:51:46.828Z"
   },
   {
    "duration": 18,
    "start_time": "2024-04-11T11:51:46.832Z"
   },
   {
    "duration": 23,
    "start_time": "2024-04-11T11:51:46.852Z"
   },
   {
    "duration": 3664214,
    "start_time": "2024-04-11T11:51:46.877Z"
   },
   {
    "duration": 0,
    "start_time": "2024-04-11T12:52:51.093Z"
   },
   {
    "duration": 0,
    "start_time": "2024-04-11T12:52:51.095Z"
   },
   {
    "duration": 0,
    "start_time": "2024-04-11T12:52:51.096Z"
   },
   {
    "duration": 0,
    "start_time": "2024-04-11T12:52:51.097Z"
   },
   {
    "duration": 0,
    "start_time": "2024-04-11T12:52:51.099Z"
   },
   {
    "duration": 3,
    "start_time": "2024-04-11T12:53:19.519Z"
   },
   {
    "duration": 2,
    "start_time": "2024-04-11T12:53:20.254Z"
   },
   {
    "duration": 0,
    "start_time": "2024-04-11T12:54:58.008Z"
   },
   {
    "duration": 0,
    "start_time": "2024-04-11T12:54:58.009Z"
   },
   {
    "duration": 0,
    "start_time": "2024-04-11T12:54:58.011Z"
   },
   {
    "duration": 0,
    "start_time": "2024-04-11T12:54:58.012Z"
   },
   {
    "duration": 0,
    "start_time": "2024-04-11T12:54:58.013Z"
   },
   {
    "duration": 0,
    "start_time": "2024-04-11T12:54:58.014Z"
   },
   {
    "duration": 0,
    "start_time": "2024-04-11T12:54:58.015Z"
   },
   {
    "duration": 0,
    "start_time": "2024-04-11T12:54:58.016Z"
   },
   {
    "duration": 0,
    "start_time": "2024-04-11T12:54:58.017Z"
   },
   {
    "duration": 3,
    "start_time": "2024-04-11T12:55:00.302Z"
   },
   {
    "duration": 3,
    "start_time": "2024-04-11T12:55:01.223Z"
   },
   {
    "duration": 3,
    "start_time": "2024-04-11T12:55:02.103Z"
   },
   {
    "duration": 676515,
    "start_time": "2024-04-11T12:55:03.872Z"
   },
   {
    "duration": 0,
    "start_time": "2024-04-11T13:06:20.389Z"
   },
   {
    "duration": 0,
    "start_time": "2024-04-11T13:06:20.390Z"
   },
   {
    "duration": 3,
    "start_time": "2024-04-11T13:06:27.547Z"
   },
   {
    "duration": 5,
    "start_time": "2024-04-11T13:06:28.026Z"
   },
   {
    "duration": 3,
    "start_time": "2024-04-11T13:06:28.809Z"
   },
   {
    "duration": 2860280,
    "start_time": "2024-04-11T13:06:29.316Z"
   },
   {
    "duration": 0,
    "start_time": "2024-04-11T13:54:09.598Z"
   },
   {
    "duration": 0,
    "start_time": "2024-04-11T13:54:09.599Z"
   },
   {
    "duration": 0,
    "start_time": "2024-04-11T13:54:09.600Z"
   },
   {
    "duration": 0,
    "start_time": "2024-04-11T13:54:09.602Z"
   },
   {
    "duration": 0,
    "start_time": "2024-04-11T13:54:09.603Z"
   },
   {
    "duration": 3,
    "start_time": "2024-04-11T13:54:49.786Z"
   },
   {
    "duration": 3,
    "start_time": "2024-04-11T13:54:50.265Z"
   },
   {
    "duration": 3,
    "start_time": "2024-04-11T13:54:54.698Z"
   },
   {
    "duration": 611327,
    "start_time": "2024-04-11T13:54:56.179Z"
   },
   {
    "duration": 0,
    "start_time": "2024-04-11T14:05:07.508Z"
   },
   {
    "duration": 0,
    "start_time": "2024-04-11T14:05:07.509Z"
   },
   {
    "duration": 0,
    "start_time": "2024-04-11T14:05:07.510Z"
   },
   {
    "duration": 0,
    "start_time": "2024-04-11T14:05:07.511Z"
   },
   {
    "duration": 0,
    "start_time": "2024-04-11T14:05:07.512Z"
   },
   {
    "duration": 11,
    "start_time": "2024-04-11T14:05:12.069Z"
   },
   {
    "duration": 12,
    "start_time": "2024-04-11T14:05:12.828Z"
   },
   {
    "duration": 13,
    "start_time": "2024-04-11T14:05:18.613Z"
   },
   {
    "duration": 9,
    "start_time": "2024-04-11T14:05:49.100Z"
   },
   {
    "duration": 233,
    "start_time": "2024-04-11T14:05:54.388Z"
   },
   {
    "duration": 22,
    "start_time": "2024-04-11T14:07:01.775Z"
   },
   {
    "duration": 2623,
    "start_time": "2024-04-11T14:08:20.840Z"
   },
   {
    "duration": 31,
    "start_time": "2024-04-11T14:08:23.465Z"
   },
   {
    "duration": 4,
    "start_time": "2024-04-11T14:08:23.498Z"
   },
   {
    "duration": 339,
    "start_time": "2024-04-11T14:08:23.503Z"
   },
   {
    "duration": 2,
    "start_time": "2024-04-11T14:08:23.845Z"
   },
   {
    "duration": 26,
    "start_time": "2024-04-11T14:08:23.848Z"
   },
   {
    "duration": 10,
    "start_time": "2024-04-11T14:08:23.876Z"
   },
   {
    "duration": 22,
    "start_time": "2024-04-11T14:08:23.888Z"
   },
   {
    "duration": 9,
    "start_time": "2024-04-11T14:08:23.911Z"
   },
   {
    "duration": 7,
    "start_time": "2024-04-11T14:08:23.921Z"
   },
   {
    "duration": 15,
    "start_time": "2024-04-11T14:08:23.930Z"
   },
   {
    "duration": 12,
    "start_time": "2024-04-11T14:08:23.947Z"
   },
   {
    "duration": 953,
    "start_time": "2024-04-11T14:08:23.960Z"
   },
   {
    "duration": 14,
    "start_time": "2024-04-11T14:08:24.916Z"
   },
   {
    "duration": 15,
    "start_time": "2024-04-11T14:08:24.932Z"
   },
   {
    "duration": 30,
    "start_time": "2024-04-11T14:08:24.949Z"
   },
   {
    "duration": 21,
    "start_time": "2024-04-11T14:08:24.981Z"
   },
   {
    "duration": 45,
    "start_time": "2024-04-11T14:08:25.004Z"
   },
   {
    "duration": 35,
    "start_time": "2024-04-11T14:08:25.051Z"
   },
   {
    "duration": 26,
    "start_time": "2024-04-11T14:08:25.088Z"
   },
   {
    "duration": 173,
    "start_time": "2024-04-11T14:08:25.116Z"
   },
   {
    "duration": 9,
    "start_time": "2024-04-11T14:08:25.291Z"
   },
   {
    "duration": 11,
    "start_time": "2024-04-11T14:08:25.301Z"
   },
   {
    "duration": 331,
    "start_time": "2024-04-11T14:08:25.313Z"
   },
   {
    "duration": 7,
    "start_time": "2024-04-11T14:08:25.645Z"
   },
   {
    "duration": 81124,
    "start_time": "2024-04-11T14:08:25.655Z"
   },
   {
    "duration": 7,
    "start_time": "2024-04-11T14:09:46.781Z"
   },
   {
    "duration": 70,
    "start_time": "2024-04-11T14:09:46.790Z"
   },
   {
    "duration": 11,
    "start_time": "2024-04-11T14:09:46.862Z"
   },
   {
    "duration": 5346,
    "start_time": "2024-04-11T14:09:46.874Z"
   },
   {
    "duration": 3,
    "start_time": "2024-04-11T14:09:52.221Z"
   },
   {
    "duration": 88,
    "start_time": "2024-04-11T14:09:52.225Z"
   },
   {
    "duration": 3,
    "start_time": "2024-04-11T14:09:52.315Z"
   },
   {
    "duration": 13,
    "start_time": "2024-04-11T14:09:52.319Z"
   },
   {
    "duration": 3,
    "start_time": "2024-04-11T14:09:52.333Z"
   },
   {
    "duration": 47521,
    "start_time": "2024-04-11T14:09:52.338Z"
   },
   {
    "duration": 52,
    "start_time": "2024-04-11T14:10:39.860Z"
   },
   {
    "duration": 3,
    "start_time": "2024-04-11T14:10:39.913Z"
   },
   {
    "duration": 5,
    "start_time": "2024-04-11T14:10:39.917Z"
   },
   {
    "duration": 5,
    "start_time": "2024-04-11T14:10:39.923Z"
   },
   {
    "duration": 3681972,
    "start_time": "2024-04-11T14:10:39.932Z"
   },
   {
    "duration": 3,
    "start_time": "2024-04-11T15:12:01.906Z"
   },
   {
    "duration": 107,
    "start_time": "2024-04-11T15:12:01.910Z"
   },
   {
    "duration": 34,
    "start_time": "2024-04-11T15:12:02.019Z"
   },
   {
    "duration": 93,
    "start_time": "2024-04-11T15:12:02.055Z"
   },
   {
    "duration": 150,
    "start_time": "2024-04-11T15:12:02.150Z"
   },
   {
    "duration": 87580,
    "start_time": "2024-04-11T15:12:02.302Z"
   },
   {
    "duration": 3,
    "start_time": "2024-04-11T15:13:29.883Z"
   },
   {
    "duration": 1900,
    "start_time": "2024-04-11T15:13:29.888Z"
   },
   {
    "duration": 9,
    "start_time": "2024-04-11T15:13:31.790Z"
   },
   {
    "duration": 162,
    "start_time": "2024-04-11T15:13:31.800Z"
   },
   {
    "duration": 21,
    "start_time": "2024-04-11T15:13:31.963Z"
   },
   {
    "duration": 40,
    "start_time": "2024-04-12T04:23:37.943Z"
   },
   {
    "duration": 5,
    "start_time": "2024-04-12T04:25:04.078Z"
   },
   {
    "duration": 2221,
    "start_time": "2024-04-12T04:25:08.062Z"
   },
   {
    "duration": 30,
    "start_time": "2024-04-12T04:25:10.285Z"
   },
   {
    "duration": 4,
    "start_time": "2024-04-12T04:25:10.317Z"
   },
   {
    "duration": 513,
    "start_time": "2024-04-12T04:25:10.322Z"
   },
   {
    "duration": 2,
    "start_time": "2024-04-12T04:25:10.837Z"
   },
   {
    "duration": 36,
    "start_time": "2024-04-12T04:25:10.841Z"
   },
   {
    "duration": 9,
    "start_time": "2024-04-12T04:25:10.878Z"
   },
   {
    "duration": 7,
    "start_time": "2024-04-12T04:25:10.888Z"
   },
   {
    "duration": 25,
    "start_time": "2024-04-12T04:25:10.896Z"
   },
   {
    "duration": 8,
    "start_time": "2024-04-12T04:25:10.924Z"
   },
   {
    "duration": 22,
    "start_time": "2024-04-12T04:25:10.934Z"
   },
   {
    "duration": 7,
    "start_time": "2024-04-12T04:25:10.958Z"
   },
   {
    "duration": 152,
    "start_time": "2024-04-12T04:25:13.168Z"
   },
   {
    "duration": 5117,
    "start_time": "2024-04-12T04:25:58.166Z"
   },
   {
    "duration": 62,
    "start_time": "2024-04-12T04:26:15.376Z"
   },
   {
    "duration": 3272,
    "start_time": "2024-04-12T04:26:42.751Z"
   },
   {
    "duration": 3448,
    "start_time": "2024-04-12T04:27:10.400Z"
   },
   {
    "duration": 5002,
    "start_time": "2024-04-12T04:27:13.849Z"
   },
   {
    "duration": 2352,
    "start_time": "2024-04-12T04:27:29.041Z"
   },
   {
    "duration": 35,
    "start_time": "2024-04-12T04:27:31.395Z"
   },
   {
    "duration": 23,
    "start_time": "2024-04-12T04:27:31.432Z"
   },
   {
    "duration": 390,
    "start_time": "2024-04-12T04:27:31.456Z"
   },
   {
    "duration": 6,
    "start_time": "2024-04-12T04:27:31.847Z"
   },
   {
    "duration": 54,
    "start_time": "2024-04-12T04:27:31.854Z"
   },
   {
    "duration": 24,
    "start_time": "2024-04-12T04:27:31.909Z"
   },
   {
    "duration": 12,
    "start_time": "2024-04-12T04:27:31.935Z"
   },
   {
    "duration": 18,
    "start_time": "2024-04-12T04:27:31.948Z"
   },
   {
    "duration": 30,
    "start_time": "2024-04-12T04:27:31.967Z"
   },
   {
    "duration": 28,
    "start_time": "2024-04-12T04:27:31.998Z"
   },
   {
    "duration": 49,
    "start_time": "2024-04-12T04:27:32.028Z"
   },
   {
    "duration": 2748,
    "start_time": "2024-04-12T04:27:32.078Z"
   },
   {
    "duration": 15,
    "start_time": "2024-04-12T04:27:34.828Z"
   },
   {
    "duration": 2670,
    "start_time": "2024-04-12T04:27:34.844Z"
   },
   {
    "duration": 2585,
    "start_time": "2024-04-12T04:27:37.517Z"
   },
   {
    "duration": 3679,
    "start_time": "2024-04-12T04:27:40.105Z"
   },
   {
    "duration": 2277,
    "start_time": "2024-04-12T04:27:46.416Z"
   },
   {
    "duration": 114,
    "start_time": "2024-04-12T04:27:48.694Z"
   },
   {
    "duration": 11,
    "start_time": "2024-04-12T04:27:48.810Z"
   },
   {
    "duration": 12,
    "start_time": "2024-04-12T04:27:48.823Z"
   },
   {
    "duration": 4,
    "start_time": "2024-04-12T04:27:48.836Z"
   },
   {
    "duration": 28,
    "start_time": "2024-04-12T04:27:48.842Z"
   },
   {
    "duration": 5,
    "start_time": "2024-04-12T04:27:48.871Z"
   },
   {
    "duration": 9,
    "start_time": "2024-04-12T04:27:48.877Z"
   },
   {
    "duration": 142,
    "start_time": "2024-04-12T04:27:48.903Z"
   },
   {
    "duration": 7,
    "start_time": "2024-04-12T04:27:50.782Z"
   },
   {
    "duration": 2,
    "start_time": "2024-04-12T04:27:51.359Z"
   },
   {
    "duration": 125,
    "start_time": "2024-04-12T04:27:51.559Z"
   },
   {
    "duration": 3,
    "start_time": "2024-04-12T04:27:51.743Z"
   },
   {
    "duration": 25,
    "start_time": "2024-04-12T04:30:00.442Z"
   },
   {
    "duration": 2,
    "start_time": "2024-04-12T04:32:18.364Z"
   },
   {
    "duration": 3,
    "start_time": "2024-04-12T04:32:18.622Z"
   },
   {
    "duration": 4,
    "start_time": "2024-04-12T04:32:18.939Z"
   },
   {
    "duration": 3,
    "start_time": "2024-04-12T04:35:16.992Z"
   },
   {
    "duration": 4716,
    "start_time": "2024-04-12T04:35:27.575Z"
   },
   {
    "duration": 4,
    "start_time": "2024-04-12T04:36:37.211Z"
   },
   {
    "duration": 3,
    "start_time": "2024-04-12T04:40:00.381Z"
   },
   {
    "duration": 380,
    "start_time": "2024-04-12T04:40:13.932Z"
   },
   {
    "duration": 281,
    "start_time": "2024-04-12T04:40:40.669Z"
   },
   {
    "duration": 16,
    "start_time": "2024-04-12T04:40:45.685Z"
   },
   {
    "duration": 4,
    "start_time": "2024-04-12T04:40:50.037Z"
   },
   {
    "duration": 310,
    "start_time": "2024-04-12T04:40:55.926Z"
   },
   {
    "duration": 4,
    "start_time": "2024-04-12T04:41:13.183Z"
   },
   {
    "duration": 4,
    "start_time": "2024-04-12T04:41:13.462Z"
   },
   {
    "duration": 2,
    "start_time": "2024-04-12T04:41:13.798Z"
   },
   {
    "duration": 3,
    "start_time": "2024-04-12T04:41:14.142Z"
   },
   {
    "duration": 5,
    "start_time": "2024-04-12T04:41:33.943Z"
   },
   {
    "duration": 4,
    "start_time": "2024-04-12T04:41:42.486Z"
   },
   {
    "duration": 203,
    "start_time": "2024-04-12T04:41:42.702Z"
   },
   {
    "duration": 4,
    "start_time": "2024-04-12T04:41:47.902Z"
   },
   {
    "duration": 189,
    "start_time": "2024-04-12T04:41:48.625Z"
   },
   {
    "duration": 2471,
    "start_time": "2024-04-12T04:42:47.806Z"
   },
   {
    "duration": 6,
    "start_time": "2024-04-12T04:42:52.169Z"
   },
   {
    "duration": 263,
    "start_time": "2024-04-12T04:42:57.990Z"
   },
   {
    "duration": 2240,
    "start_time": "2024-04-12T04:43:08.254Z"
   },
   {
    "duration": 24,
    "start_time": "2024-04-12T04:43:10.495Z"
   },
   {
    "duration": 4,
    "start_time": "2024-04-12T04:43:10.520Z"
   },
   {
    "duration": 261,
    "start_time": "2024-04-12T04:43:10.525Z"
   },
   {
    "duration": 5,
    "start_time": "2024-04-12T04:43:10.787Z"
   },
   {
    "duration": 36,
    "start_time": "2024-04-12T04:43:10.793Z"
   },
   {
    "duration": 8,
    "start_time": "2024-04-12T04:43:10.830Z"
   },
   {
    "duration": 3,
    "start_time": "2024-04-12T04:43:10.839Z"
   },
   {
    "duration": 2388,
    "start_time": "2024-04-12T04:43:10.843Z"
   },
   {
    "duration": 225,
    "start_time": "2024-04-12T04:43:13.235Z"
   },
   {
    "duration": 3,
    "start_time": "2024-04-12T04:43:13.462Z"
   },
   {
    "duration": 8,
    "start_time": "2024-04-12T04:43:13.466Z"
   },
   {
    "duration": 14,
    "start_time": "2024-04-12T04:43:13.476Z"
   },
   {
    "duration": 2432,
    "start_time": "2024-04-12T04:43:13.491Z"
   },
   {
    "duration": 114,
    "start_time": "2024-04-12T04:43:15.925Z"
   },
   {
    "duration": 2436,
    "start_time": "2024-04-12T04:43:16.040Z"
   },
   {
    "duration": 2456,
    "start_time": "2024-04-12T04:43:18.478Z"
   },
   {
    "duration": 3298,
    "start_time": "2024-04-12T04:43:20.937Z"
   },
   {
    "duration": 9,
    "start_time": "2024-04-12T04:43:24.237Z"
   },
   {
    "duration": 755,
    "start_time": "2024-04-12T04:43:24.248Z"
   },
   {
    "duration": 9,
    "start_time": "2024-04-12T04:43:25.005Z"
   },
   {
    "duration": 19,
    "start_time": "2024-04-12T04:43:25.016Z"
   },
   {
    "duration": 59,
    "start_time": "2024-04-12T04:43:25.037Z"
   },
   {
    "duration": 19,
    "start_time": "2024-04-12T04:43:25.098Z"
   },
   {
    "duration": 54,
    "start_time": "2024-04-12T04:43:25.118Z"
   },
   {
    "duration": 7,
    "start_time": "2024-04-12T04:43:25.174Z"
   },
   {
    "duration": 15,
    "start_time": "2024-04-12T04:43:25.182Z"
   },
   {
    "duration": 130,
    "start_time": "2024-04-12T04:43:25.200Z"
   },
   {
    "duration": 9,
    "start_time": "2024-04-12T04:43:25.331Z"
   },
   {
    "duration": 4,
    "start_time": "2024-04-12T04:43:25.341Z"
   },
   {
    "duration": 4327,
    "start_time": "2024-04-12T04:43:25.346Z"
   },
   {
    "duration": 3,
    "start_time": "2024-04-12T04:43:29.674Z"
   },
   {
    "duration": 22,
    "start_time": "2024-04-12T04:43:29.678Z"
   },
   {
    "duration": 8,
    "start_time": "2024-04-12T04:43:29.701Z"
   },
   {
    "duration": 6,
    "start_time": "2024-04-12T04:43:29.710Z"
   },
   {
    "duration": 3,
    "start_time": "2024-04-12T04:43:43.195Z"
   },
   {
    "duration": 420419,
    "start_time": "2024-04-12T04:43:50.364Z"
   },
   {
    "duration": 0,
    "start_time": "2024-04-12T04:50:50.784Z"
   },
   {
    "duration": 0,
    "start_time": "2024-04-12T04:50:50.786Z"
   },
   {
    "duration": 41,
    "start_time": "2024-04-12T04:50:57.658Z"
   },
   {
    "duration": 2154,
    "start_time": "2024-04-12T04:51:05.162Z"
   },
   {
    "duration": 3,
    "start_time": "2024-04-12T04:51:07.318Z"
   },
   {
    "duration": 28,
    "start_time": "2024-04-12T04:51:11.899Z"
   },
   {
    "duration": 5,
    "start_time": "2024-04-12T04:51:12.210Z"
   },
   {
    "duration": 273,
    "start_time": "2024-04-12T04:51:12.523Z"
   },
   {
    "duration": 18,
    "start_time": "2024-04-12T04:51:12.797Z"
   },
   {
    "duration": 17,
    "start_time": "2024-04-12T04:51:12.964Z"
   },
   {
    "duration": 11,
    "start_time": "2024-04-12T04:51:13.203Z"
   },
   {
    "duration": 2,
    "start_time": "2024-04-12T04:51:14.844Z"
   },
   {
    "duration": 2550,
    "start_time": "2024-04-12T04:51:15.179Z"
   },
   {
    "duration": 156,
    "start_time": "2024-04-12T04:51:17.731Z"
   },
   {
    "duration": 2,
    "start_time": "2024-04-12T04:51:17.889Z"
   },
   {
    "duration": 5,
    "start_time": "2024-04-12T04:51:17.893Z"
   },
   {
    "duration": 4,
    "start_time": "2024-04-12T04:51:17.899Z"
   },
   {
    "duration": 5,
    "start_time": "2024-04-12T04:51:17.904Z"
   },
   {
    "duration": 2516,
    "start_time": "2024-04-12T04:51:17.910Z"
   },
   {
    "duration": 116,
    "start_time": "2024-04-12T04:51:20.428Z"
   },
   {
    "duration": 2602,
    "start_time": "2024-04-12T04:51:20.545Z"
   },
   {
    "duration": 2470,
    "start_time": "2024-04-12T04:51:23.150Z"
   },
   {
    "duration": 3330,
    "start_time": "2024-04-12T04:51:25.622Z"
   },
   {
    "duration": 10,
    "start_time": "2024-04-12T04:51:28.954Z"
   },
   {
    "duration": 831,
    "start_time": "2024-04-12T04:51:28.966Z"
   },
   {
    "duration": 9,
    "start_time": "2024-04-12T04:51:59.712Z"
   },
   {
    "duration": 2,
    "start_time": "2024-04-12T04:51:59.884Z"
   },
   {
    "duration": 7,
    "start_time": "2024-04-12T04:52:00.484Z"
   },
   {
    "duration": 3,
    "start_time": "2024-04-12T04:52:00.788Z"
   },
   {
    "duration": 24,
    "start_time": "2024-04-12T04:52:01.111Z"
   },
   {
    "duration": 4,
    "start_time": "2024-04-12T04:52:01.540Z"
   },
   {
    "duration": 10,
    "start_time": "2024-04-12T04:52:02.179Z"
   },
   {
    "duration": 125,
    "start_time": "2024-04-12T04:52:02.684Z"
   },
   {
    "duration": 9,
    "start_time": "2024-04-12T04:52:05.380Z"
   },
   {
    "duration": 3,
    "start_time": "2024-04-12T04:52:07.460Z"
   },
   {
    "duration": 4575,
    "start_time": "2024-04-12T04:52:11.075Z"
   },
   {
    "duration": 3,
    "start_time": "2024-04-12T04:52:15.652Z"
   },
   {
    "duration": 28,
    "start_time": "2024-04-12T04:52:15.657Z"
   },
   {
    "duration": 30,
    "start_time": "2024-04-12T04:52:15.687Z"
   },
   {
    "duration": 13,
    "start_time": "2024-04-12T04:52:15.718Z"
   },
   {
    "duration": 649062,
    "start_time": "2024-04-12T04:52:36.620Z"
   },
   {
    "duration": 0,
    "start_time": "2024-04-12T05:03:25.684Z"
   },
   {
    "duration": 685838,
    "start_time": "2024-04-12T05:03:37.917Z"
   },
   {
    "duration": 50,
    "start_time": "2024-04-12T05:16:17.795Z"
   },
   {
    "duration": 7,
    "start_time": "2024-04-12T05:18:03.531Z"
   },
   {
    "duration": 2252,
    "start_time": "2024-04-12T05:21:31.115Z"
   },
   {
    "duration": 3,
    "start_time": "2024-04-12T05:21:33.368Z"
   },
   {
    "duration": 27,
    "start_time": "2024-04-12T05:21:33.372Z"
   },
   {
    "duration": 5,
    "start_time": "2024-04-12T05:21:33.400Z"
   },
   {
    "duration": 313,
    "start_time": "2024-04-12T05:21:33.408Z"
   },
   {
    "duration": 9,
    "start_time": "2024-04-12T05:21:33.723Z"
   },
   {
    "duration": 51,
    "start_time": "2024-04-12T05:21:33.734Z"
   },
   {
    "duration": 8,
    "start_time": "2024-04-12T05:21:33.787Z"
   },
   {
    "duration": 2,
    "start_time": "2024-04-12T05:21:33.797Z"
   },
   {
    "duration": 2643,
    "start_time": "2024-04-12T05:21:33.800Z"
   },
   {
    "duration": 153,
    "start_time": "2024-04-12T05:21:36.445Z"
   },
   {
    "duration": 2,
    "start_time": "2024-04-12T05:21:36.599Z"
   },
   {
    "duration": 6,
    "start_time": "2024-04-12T05:21:36.602Z"
   },
   {
    "duration": 6,
    "start_time": "2024-04-12T05:21:36.611Z"
   },
   {
    "duration": 6,
    "start_time": "2024-04-12T05:21:36.618Z"
   },
   {
    "duration": 2614,
    "start_time": "2024-04-12T05:21:36.626Z"
   },
   {
    "duration": 120,
    "start_time": "2024-04-12T05:21:39.242Z"
   },
   {
    "duration": 2592,
    "start_time": "2024-04-12T05:21:39.363Z"
   },
   {
    "duration": 2541,
    "start_time": "2024-04-12T05:21:41.957Z"
   },
   {
    "duration": 3685,
    "start_time": "2024-04-12T05:21:44.500Z"
   },
   {
    "duration": 10,
    "start_time": "2024-04-12T05:21:48.187Z"
   },
   {
    "duration": 858,
    "start_time": "2024-04-12T05:21:48.198Z"
   },
   {
    "duration": 10,
    "start_time": "2024-04-12T05:21:49.057Z"
   },
   {
    "duration": 10,
    "start_time": "2024-04-12T05:21:49.068Z"
   },
   {
    "duration": 10,
    "start_time": "2024-04-12T05:21:49.079Z"
   },
   {
    "duration": 17,
    "start_time": "2024-04-12T05:21:49.090Z"
   },
   {
    "duration": 39,
    "start_time": "2024-04-12T05:21:49.109Z"
   },
   {
    "duration": 5,
    "start_time": "2024-04-12T05:21:49.150Z"
   },
   {
    "duration": 10,
    "start_time": "2024-04-12T05:21:49.157Z"
   },
   {
    "duration": 185,
    "start_time": "2024-04-12T05:21:49.168Z"
   },
   {
    "duration": 8,
    "start_time": "2024-04-12T05:21:49.354Z"
   },
   {
    "duration": 2,
    "start_time": "2024-04-12T05:21:49.363Z"
   },
   {
    "duration": 5221,
    "start_time": "2024-04-12T05:21:49.367Z"
   },
   {
    "duration": 3,
    "start_time": "2024-04-12T05:21:54.589Z"
   },
   {
    "duration": 30,
    "start_time": "2024-04-12T05:21:54.594Z"
   },
   {
    "duration": 2,
    "start_time": "2024-04-12T05:21:54.626Z"
   },
   {
    "duration": 8,
    "start_time": "2024-04-12T05:21:54.630Z"
   },
   {
    "duration": 702259,
    "start_time": "2024-04-12T05:21:54.639Z"
   },
   {
    "duration": 10,
    "start_time": "2024-04-12T05:33:36.904Z"
   },
   {
    "duration": 23,
    "start_time": "2024-04-12T05:33:36.915Z"
   },
   {
    "duration": 2,
    "start_time": "2024-04-12T05:33:36.943Z"
   },
   {
    "duration": 216,
    "start_time": "2024-04-12T05:33:36.946Z"
   },
   {
    "duration": 0,
    "start_time": "2024-04-12T05:33:37.171Z"
   },
   {
    "duration": 0,
    "start_time": "2024-04-12T05:33:37.173Z"
   },
   {
    "duration": 0,
    "start_time": "2024-04-12T05:33:37.174Z"
   },
   {
    "duration": 0,
    "start_time": "2024-04-12T05:33:37.176Z"
   },
   {
    "duration": 0,
    "start_time": "2024-04-12T05:33:37.177Z"
   },
   {
    "duration": 0,
    "start_time": "2024-04-12T05:33:37.178Z"
   },
   {
    "duration": 0,
    "start_time": "2024-04-12T05:33:37.178Z"
   },
   {
    "duration": 0,
    "start_time": "2024-04-12T05:33:37.179Z"
   },
   {
    "duration": 0,
    "start_time": "2024-04-12T05:33:37.181Z"
   },
   {
    "duration": 0,
    "start_time": "2024-04-12T05:33:37.182Z"
   },
   {
    "duration": 0,
    "start_time": "2024-04-12T05:33:37.183Z"
   },
   {
    "duration": 0,
    "start_time": "2024-04-12T05:33:37.184Z"
   },
   {
    "duration": 0,
    "start_time": "2024-04-12T05:33:37.185Z"
   },
   {
    "duration": 0,
    "start_time": "2024-04-12T05:33:37.202Z"
   },
   {
    "duration": 0,
    "start_time": "2024-04-12T05:33:37.203Z"
   },
   {
    "duration": 0,
    "start_time": "2024-04-12T05:33:37.204Z"
   },
   {
    "duration": 0,
    "start_time": "2024-04-12T05:33:37.205Z"
   },
   {
    "duration": 0,
    "start_time": "2024-04-12T05:33:37.206Z"
   },
   {
    "duration": 0,
    "start_time": "2024-04-12T05:33:37.207Z"
   },
   {
    "duration": 0,
    "start_time": "2024-04-12T05:33:37.208Z"
   },
   {
    "duration": 0,
    "start_time": "2024-04-12T05:33:37.209Z"
   },
   {
    "duration": 0,
    "start_time": "2024-04-12T05:33:37.210Z"
   },
   {
    "duration": 0,
    "start_time": "2024-04-12T05:33:37.211Z"
   },
   {
    "duration": 0,
    "start_time": "2024-04-12T05:33:37.212Z"
   },
   {
    "duration": 0,
    "start_time": "2024-04-12T05:33:37.212Z"
   },
   {
    "duration": 0,
    "start_time": "2024-04-12T05:33:37.213Z"
   },
   {
    "duration": 0,
    "start_time": "2024-04-12T05:33:37.213Z"
   },
   {
    "duration": 0,
    "start_time": "2024-04-12T05:33:37.214Z"
   },
   {
    "duration": 0,
    "start_time": "2024-04-12T05:33:37.215Z"
   },
   {
    "duration": 0,
    "start_time": "2024-04-12T05:33:37.215Z"
   },
   {
    "duration": 0,
    "start_time": "2024-04-12T05:33:37.216Z"
   },
   {
    "duration": 0,
    "start_time": "2024-04-12T05:33:37.216Z"
   },
   {
    "duration": 4,
    "start_time": "2024-04-12T06:01:07.520Z"
   },
   {
    "duration": 13,
    "start_time": "2024-04-12T06:01:20.086Z"
   },
   {
    "duration": 24,
    "start_time": "2024-04-12T06:02:15.958Z"
   },
   {
    "duration": 97,
    "start_time": "2024-04-12T06:02:23.575Z"
   },
   {
    "duration": 2,
    "start_time": "2024-04-12T06:02:29.667Z"
   },
   {
    "duration": 10,
    "start_time": "2024-04-12T06:02:29.672Z"
   },
   {
    "duration": 4,
    "start_time": "2024-04-12T06:02:29.683Z"
   },
   {
    "duration": 5,
    "start_time": "2024-04-12T06:02:29.688Z"
   },
   {
    "duration": 46,
    "start_time": "2024-04-12T06:02:29.694Z"
   },
   {
    "duration": 11,
    "start_time": "2024-04-12T06:02:29.742Z"
   },
   {
    "duration": 37,
    "start_time": "2024-04-12T06:02:29.754Z"
   },
   {
    "duration": 30,
    "start_time": "2024-04-12T06:02:29.793Z"
   },
   {
    "duration": 25,
    "start_time": "2024-04-12T06:02:29.824Z"
   },
   {
    "duration": 2834,
    "start_time": "2024-04-12T06:02:29.850Z"
   },
   {
    "duration": 4,
    "start_time": "2024-04-12T06:02:32.686Z"
   },
   {
    "duration": 28,
    "start_time": "2024-04-12T06:02:32.691Z"
   },
   {
    "duration": 16,
    "start_time": "2024-04-12T06:02:32.720Z"
   },
   {
    "duration": 4,
    "start_time": "2024-04-12T06:02:32.737Z"
   },
   {
    "duration": 24,
    "start_time": "2024-04-12T06:02:32.744Z"
   },
   {
    "duration": 385,
    "start_time": "2024-04-12T06:02:32.770Z"
   },
   {
    "duration": 0,
    "start_time": "2024-04-12T06:02:33.158Z"
   },
   {
    "duration": 0,
    "start_time": "2024-04-12T06:02:33.160Z"
   },
   {
    "duration": 0,
    "start_time": "2024-04-12T06:02:33.161Z"
   },
   {
    "duration": 0,
    "start_time": "2024-04-12T06:02:33.163Z"
   },
   {
    "duration": 0,
    "start_time": "2024-04-12T06:02:33.164Z"
   },
   {
    "duration": 0,
    "start_time": "2024-04-12T06:02:33.211Z"
   },
   {
    "duration": 0,
    "start_time": "2024-04-12T06:02:33.212Z"
   },
   {
    "duration": 0,
    "start_time": "2024-04-12T06:02:33.214Z"
   },
   {
    "duration": 0,
    "start_time": "2024-04-12T06:02:33.214Z"
   },
   {
    "duration": 0,
    "start_time": "2024-04-12T06:02:33.221Z"
   },
   {
    "duration": 0,
    "start_time": "2024-04-12T06:02:33.222Z"
   },
   {
    "duration": 0,
    "start_time": "2024-04-12T06:02:33.223Z"
   },
   {
    "duration": 0,
    "start_time": "2024-04-12T06:02:33.224Z"
   },
   {
    "duration": 0,
    "start_time": "2024-04-12T06:02:33.225Z"
   },
   {
    "duration": 0,
    "start_time": "2024-04-12T06:02:33.226Z"
   },
   {
    "duration": 0,
    "start_time": "2024-04-12T06:02:33.236Z"
   },
   {
    "duration": 0,
    "start_time": "2024-04-12T06:02:33.236Z"
   },
   {
    "duration": 0,
    "start_time": "2024-04-12T06:02:33.238Z"
   },
   {
    "duration": 0,
    "start_time": "2024-04-12T06:02:33.239Z"
   },
   {
    "duration": 0,
    "start_time": "2024-04-12T06:02:33.240Z"
   },
   {
    "duration": 0,
    "start_time": "2024-04-12T06:02:33.241Z"
   },
   {
    "duration": 0,
    "start_time": "2024-04-12T06:02:33.242Z"
   },
   {
    "duration": 0,
    "start_time": "2024-04-12T06:02:33.245Z"
   },
   {
    "duration": 0,
    "start_time": "2024-04-12T06:02:33.247Z"
   },
   {
    "duration": 0,
    "start_time": "2024-04-12T06:02:33.248Z"
   },
   {
    "duration": 0,
    "start_time": "2024-04-12T06:02:33.249Z"
   },
   {
    "duration": 2553,
    "start_time": "2024-04-12T06:02:47.995Z"
   },
   {
    "duration": 2,
    "start_time": "2024-04-12T06:02:50.550Z"
   },
   {
    "duration": 40,
    "start_time": "2024-04-12T06:02:50.555Z"
   },
   {
    "duration": 30,
    "start_time": "2024-04-12T06:02:50.597Z"
   },
   {
    "duration": 306,
    "start_time": "2024-04-12T06:02:50.639Z"
   },
   {
    "duration": 5,
    "start_time": "2024-04-12T06:02:50.946Z"
   },
   {
    "duration": 22,
    "start_time": "2024-04-12T06:02:50.952Z"
   },
   {
    "duration": 7,
    "start_time": "2024-04-12T06:02:50.975Z"
   },
   {
    "duration": 16,
    "start_time": "2024-04-12T06:02:50.983Z"
   },
   {
    "duration": 2680,
    "start_time": "2024-04-12T06:02:51.000Z"
   },
   {
    "duration": 303,
    "start_time": "2024-04-12T06:02:53.682Z"
   },
   {
    "duration": 2,
    "start_time": "2024-04-12T06:02:53.986Z"
   },
   {
    "duration": 9,
    "start_time": "2024-04-12T06:02:53.990Z"
   },
   {
    "duration": 39,
    "start_time": "2024-04-12T06:02:54.000Z"
   },
   {
    "duration": 11,
    "start_time": "2024-04-12T06:02:54.041Z"
   },
   {
    "duration": 2590,
    "start_time": "2024-04-12T06:02:54.053Z"
   },
   {
    "duration": 124,
    "start_time": "2024-04-12T06:02:56.645Z"
   },
   {
    "duration": 2670,
    "start_time": "2024-04-12T06:02:56.770Z"
   },
   {
    "duration": 2741,
    "start_time": "2024-04-12T06:02:59.442Z"
   },
   {
    "duration": 3644,
    "start_time": "2024-04-12T06:03:02.186Z"
   },
   {
    "duration": 21,
    "start_time": "2024-04-12T06:03:05.832Z"
   },
   {
    "duration": 903,
    "start_time": "2024-04-12T06:03:05.855Z"
   },
   {
    "duration": 8,
    "start_time": "2024-04-12T06:03:06.760Z"
   },
   {
    "duration": 3,
    "start_time": "2024-04-12T06:03:06.769Z"
   },
   {
    "duration": 21,
    "start_time": "2024-04-12T06:03:06.773Z"
   },
   {
    "duration": 4,
    "start_time": "2024-04-12T06:03:06.795Z"
   },
   {
    "duration": 40,
    "start_time": "2024-04-12T06:03:06.811Z"
   },
   {
    "duration": 3,
    "start_time": "2024-04-12T06:03:06.853Z"
   },
   {
    "duration": 10,
    "start_time": "2024-04-12T06:03:06.857Z"
   },
   {
    "duration": 129,
    "start_time": "2024-04-12T06:03:06.868Z"
   },
   {
    "duration": 21,
    "start_time": "2024-04-12T06:03:07.009Z"
   },
   {
    "duration": 4,
    "start_time": "2024-04-12T06:03:07.031Z"
   },
   {
    "duration": 5541,
    "start_time": "2024-04-12T06:03:07.037Z"
   },
   {
    "duration": 3,
    "start_time": "2024-04-12T06:03:12.579Z"
   },
   {
    "duration": 10,
    "start_time": "2024-04-12T06:03:12.583Z"
   },
   {
    "duration": 42,
    "start_time": "2024-04-12T06:03:12.594Z"
   },
   {
    "duration": 13,
    "start_time": "2024-04-12T06:03:12.638Z"
   },
   {
    "duration": 728472,
    "start_time": "2024-04-12T06:03:12.652Z"
   },
   {
    "duration": 9,
    "start_time": "2024-04-12T06:15:21.135Z"
   },
   {
    "duration": 34,
    "start_time": "2024-04-12T06:15:21.148Z"
   },
   {
    "duration": 9,
    "start_time": "2024-04-12T06:15:21.183Z"
   },
   {
    "duration": 96,
    "start_time": "2024-04-12T06:15:21.194Z"
   },
   {
    "duration": 4,
    "start_time": "2024-04-12T06:15:21.292Z"
   },
   {
    "duration": 46,
    "start_time": "2024-04-12T06:15:21.297Z"
   },
   {
    "duration": 18,
    "start_time": "2024-04-12T06:15:21.344Z"
   },
   {
    "duration": 5004,
    "start_time": "2024-04-12T06:15:21.364Z"
   },
   {
    "duration": 3,
    "start_time": "2024-04-12T06:15:26.369Z"
   },
   {
    "duration": 26,
    "start_time": "2024-04-12T06:15:26.374Z"
   },
   {
    "duration": 47434,
    "start_time": "2024-04-12T06:15:26.401Z"
   },
   {
    "duration": 149870,
    "start_time": "2024-04-12T06:16:13.841Z"
   },
   {
    "duration": 7,
    "start_time": "2024-04-12T06:18:43.712Z"
   },
   {
    "duration": 22,
    "start_time": "2024-04-12T06:18:43.730Z"
   },
   {
    "duration": 11,
    "start_time": "2024-04-12T06:18:43.755Z"
   },
   {
    "duration": 2464086,
    "start_time": "2024-04-12T06:18:43.768Z"
   },
   {
    "duration": 3,
    "start_time": "2024-04-12T06:59:47.855Z"
   },
   {
    "duration": 84823,
    "start_time": "2024-04-12T06:59:47.859Z"
   },
   {
    "duration": 2,
    "start_time": "2024-04-12T07:01:12.683Z"
   },
   {
    "duration": 17,
    "start_time": "2024-04-12T07:01:12.687Z"
   },
   {
    "duration": 12,
    "start_time": "2024-04-12T07:01:12.711Z"
   },
   {
    "duration": 61331,
    "start_time": "2024-04-12T07:01:12.725Z"
   },
   {
    "duration": 3,
    "start_time": "2024-04-12T07:02:14.057Z"
   },
   {
    "duration": 4110,
    "start_time": "2024-04-12T07:02:14.061Z"
   },
   {
    "duration": 63,
    "start_time": "2024-04-12T07:02:18.172Z"
   },
   {
    "duration": 0,
    "start_time": "2024-04-12T07:02:18.236Z"
   },
   {
    "duration": 0,
    "start_time": "2024-04-12T07:02:18.237Z"
   },
   {
    "duration": 0,
    "start_time": "2024-04-12T07:02:18.238Z"
   },
   {
    "duration": 0,
    "start_time": "2024-04-12T07:02:18.239Z"
   },
   {
    "duration": 0,
    "start_time": "2024-04-12T07:02:18.239Z"
   },
   {
    "duration": 0,
    "start_time": "2024-04-12T07:02:18.240Z"
   },
   {
    "duration": 0,
    "start_time": "2024-04-12T07:02:18.241Z"
   },
   {
    "duration": 0,
    "start_time": "2024-04-12T07:02:18.242Z"
   },
   {
    "duration": 0,
    "start_time": "2024-04-12T07:02:18.243Z"
   },
   {
    "duration": 0,
    "start_time": "2024-04-12T07:02:18.244Z"
   },
   {
    "duration": 0,
    "start_time": "2024-04-12T07:02:18.245Z"
   },
   {
    "duration": 3,
    "start_time": "2024-04-12T07:02:58.496Z"
   },
   {
    "duration": 63,
    "start_time": "2024-04-12T07:02:58.500Z"
   },
   {
    "duration": 59,
    "start_time": "2024-04-12T07:02:58.565Z"
   },
   {
    "duration": 0,
    "start_time": "2024-04-12T07:02:58.626Z"
   },
   {
    "duration": 0,
    "start_time": "2024-04-12T07:02:58.627Z"
   },
   {
    "duration": 0,
    "start_time": "2024-04-12T07:02:58.628Z"
   },
   {
    "duration": 0,
    "start_time": "2024-04-12T07:02:58.629Z"
   },
   {
    "duration": 0,
    "start_time": "2024-04-12T07:02:58.630Z"
   },
   {
    "duration": 0,
    "start_time": "2024-04-12T07:02:58.631Z"
   },
   {
    "duration": 0,
    "start_time": "2024-04-12T07:02:58.632Z"
   },
   {
    "duration": 0,
    "start_time": "2024-04-12T07:02:58.632Z"
   },
   {
    "duration": 3,
    "start_time": "2024-04-12T07:03:11.352Z"
   },
   {
    "duration": 3026133,
    "start_time": "2024-04-12T07:03:11.356Z"
   },
   {
    "duration": 3,
    "start_time": "2024-04-12T07:53:37.490Z"
   },
   {
    "duration": 138065,
    "start_time": "2024-04-12T07:53:37.494Z"
   },
   {
    "duration": 55,
    "start_time": "2024-04-12T07:55:55.560Z"
   },
   {
    "duration": 1500,
    "start_time": "2024-04-12T07:55:55.623Z"
   },
   {
    "duration": 92,
    "start_time": "2024-04-12T07:55:57.125Z"
   },
   {
    "duration": 0,
    "start_time": "2024-04-12T07:55:57.219Z"
   },
   {
    "duration": 16,
    "start_time": "2024-04-12T07:56:36.728Z"
   },
   {
    "duration": 192,
    "start_time": "2024-04-12T07:56:41.177Z"
   },
   {
    "duration": 49,
    "start_time": "2024-04-12T07:57:04.994Z"
   },
   {
    "duration": 1616,
    "start_time": "2024-04-12T07:57:08.621Z"
   },
   {
    "duration": 19,
    "start_time": "2024-04-12T07:57:15.521Z"
   },
   {
    "duration": 16,
    "start_time": "2024-04-12T07:57:16.337Z"
   },
   {
    "duration": 1361,
    "start_time": "2024-04-12T07:57:38.755Z"
   },
   {
    "duration": 1448,
    "start_time": "2024-04-12T07:57:55.771Z"
   },
   {
    "duration": 20,
    "start_time": "2024-04-12T07:57:57.221Z"
   },
   {
    "duration": 6,
    "start_time": "2024-04-12T07:58:06.020Z"
   },
   {
    "duration": 14,
    "start_time": "2024-04-12T07:58:57.885Z"
   },
   {
    "duration": 14,
    "start_time": "2024-04-12T07:59:21.677Z"
   },
   {
    "duration": 14,
    "start_time": "2024-04-12T07:59:52.325Z"
   },
   {
    "duration": 236,
    "start_time": "2024-04-12T08:04:29.844Z"
   }
  ],
  "kernelspec": {
   "display_name": "Python 3 (ipykernel)",
   "language": "python",
   "name": "python3"
  },
  "language_info": {
   "codemirror_mode": {
    "name": "ipython",
    "version": 3
   },
   "file_extension": ".py",
   "mimetype": "text/x-python",
   "name": "python",
   "nbconvert_exporter": "python",
   "pygments_lexer": "ipython3",
   "version": "3.11.5"
  },
  "toc": {
   "base_numbering": 1,
   "nav_menu": {},
   "number_sections": true,
   "sideBar": true,
   "skip_h1_title": true,
   "title_cell": "Содержание",
   "title_sidebar": "Contents",
   "toc_cell": true,
   "toc_position": {
    "height": "calc(100% - 180px)",
    "left": "10px",
    "top": "150px",
    "width": "302.388px"
   },
   "toc_section_display": true,
   "toc_window_display": true
  }
 },
 "nbformat": 4,
 "nbformat_minor": 2
}
